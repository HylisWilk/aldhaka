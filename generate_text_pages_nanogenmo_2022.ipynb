{
  "nbformat": 4,
  "nbformat_minor": 0,
  "metadata": {
    "colab": {
      "provenance": []
    },
    "kernelspec": {
      "name": "python3",
      "display_name": "Python 3"
    },
    "language_info": {
      "name": "python"
    }
  },
  "cells": [
    {
      "cell_type": "code",
      "execution_count": null,
      "metadata": {
        "id": "PhIlbz5F-PfJ"
      },
      "outputs": [],
      "source": [
        "from PIL import Image, ImageDraw, ImageFont\n",
        "import textwrap\n",
        "import numpy as np\n",
        "from tqdm import tqdm"
      ]
    },
    {
      "cell_type": "code",
      "source": [],
      "metadata": {
        "id": "QT9CC1IUfI4V"
      },
      "execution_count": null,
      "outputs": []
    },
    {
      "cell_type": "code",
      "source": [
        "font = ImageFont.truetype(\"Aldhaka.ttf\", size=35)"
      ],
      "metadata": {
        "id": "NhK-cPtu-Vh8"
      },
      "execution_count": null,
      "outputs": []
    },
    {
      "cell_type": "code",
      "source": [
        "with open('prompts.txt', encoding='utf-8') as promptfile:\n",
        "  prompts = promptfile.readlines()"
      ],
      "metadata": {
        "id": "LxgGalSCWqQ5"
      },
      "execution_count": null,
      "outputs": []
    },
    {
      "cell_type": "code",
      "source": [],
      "metadata": {
        "id": "G8pT5hWbdKzY"
      },
      "execution_count": null,
      "outputs": []
    },
    {
      "cell_type": "code",
      "source": [
        "prompt_splitter = 'Pierre François Turpin. Context: '\n",
        "negative_prompt = '''\" --negative_prompt \"writing, signature, text, cropping, trypophobia\"\\n'''\n",
        "\n",
        "for j,prompt in tqdm(enumerate(prompts)):\n",
        "  width = 320\n",
        "  height = 512\n",
        "  message = prompt.split(prompt_splitter)[1].replace(negative_prompt,'').lower()\n",
        "  img = Image.new('RGB', (width, height), color='white')\n",
        "  v_counter = 0\n",
        "  h_counter = 0\n",
        "  curr_h = 0\n",
        "  curr_v = 0\n",
        "\n",
        "  imgDraw = ImageDraw.Draw(img)\n",
        "  for i,char in enumerate(message):\n",
        "    sizes = font.getmask(char).getbbox()\n",
        "    if char in 'abcdefghijklmnopqrstuvxwyz0123456789':\n",
        "\n",
        "      imgDraw.text((curr_h,25+curr_v),char, font=font, fill=(0, 0, 0))\n",
        "      curr_h += sizes[2]/1.3\n",
        "      h_counter += 1\n",
        "      v_counter += 1\n",
        "      if h_counter%16==0 and h_counter!=0:\n",
        "        curr_h = 0\n",
        "        curr_v += 26\n",
        "  img.save(f'images/page{j}.png')"
      ],
      "metadata": {
        "colab": {
          "base_uri": "https://localhost:8080/"
        },
        "id": "drz3qIWwC_-s",
        "outputId": "100abac2-960f-47c6-eeba-0feb68bbf5a9"
      },
      "execution_count": null,
      "outputs": [
        {
          "output_type": "stream",
          "name": "stderr",
          "text": [
            "625it [00:34, 18.04it/s]\n"
          ]
        }
      ]
    },
    {
      "cell_type": "code",
      "source": [],
      "metadata": {
        "id": "FET-cusLd9TR"
      },
      "execution_count": null,
      "outputs": []
    }
  ]
}