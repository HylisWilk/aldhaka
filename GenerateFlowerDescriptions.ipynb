{
  "nbformat": 4,
  "nbformat_minor": 0,
  "metadata": {
    "colab": {
      "provenance": []
    },
    "kernelspec": {
      "name": "python3",
      "display_name": "Python 3"
    },
    "language_info": {
      "name": "python"
    },
    "accelerator": "GPU",
    "gpuClass": "standard",
    "widgets": {
      "application/vnd.jupyter.widget-state+json": {
        "1af24981e1234551bd2ef9f85167417e": {
          "model_module": "@jupyter-widgets/controls",
          "model_name": "HBoxModel",
          "model_module_version": "1.5.0",
          "state": {
            "_dom_classes": [],
            "_model_module": "@jupyter-widgets/controls",
            "_model_module_version": "1.5.0",
            "_model_name": "HBoxModel",
            "_view_count": null,
            "_view_module": "@jupyter-widgets/controls",
            "_view_module_version": "1.5.0",
            "_view_name": "HBoxView",
            "box_style": "",
            "children": [
              "IPY_MODEL_f39129100c464816a8b0004ee4efa57a",
              "IPY_MODEL_1f36d6926941458bb14e4a09f288a300",
              "IPY_MODEL_7defee851ef840b89a457cb6b67111a3"
            ],
            "layout": "IPY_MODEL_b5c7259993194f43ac0fc59383db51fd"
          }
        },
        "f39129100c464816a8b0004ee4efa57a": {
          "model_module": "@jupyter-widgets/controls",
          "model_name": "HTMLModel",
          "model_module_version": "1.5.0",
          "state": {
            "_dom_classes": [],
            "_model_module": "@jupyter-widgets/controls",
            "_model_module_version": "1.5.0",
            "_model_name": "HTMLModel",
            "_view_count": null,
            "_view_module": "@jupyter-widgets/controls",
            "_view_module_version": "1.5.0",
            "_view_name": "HTMLView",
            "description": "",
            "description_tooltip": null,
            "layout": "IPY_MODEL_c6485c5fbb4145e5bf315c77f5a72997",
            "placeholder": "​",
            "style": "IPY_MODEL_05bd2742e4994ddf8bf5fd6106a92a91",
            "value": "Downloading: 100%"
          }
        },
        "1f36d6926941458bb14e4a09f288a300": {
          "model_module": "@jupyter-widgets/controls",
          "model_name": "FloatProgressModel",
          "model_module_version": "1.5.0",
          "state": {
            "_dom_classes": [],
            "_model_module": "@jupyter-widgets/controls",
            "_model_module_version": "1.5.0",
            "_model_name": "FloatProgressModel",
            "_view_count": null,
            "_view_module": "@jupyter-widgets/controls",
            "_view_module_version": "1.5.0",
            "_view_name": "ProgressView",
            "bar_style": "success",
            "description": "",
            "description_tooltip": null,
            "layout": "IPY_MODEL_9dcb32ef684c4ab18c2dd760a0076c67",
            "max": 685,
            "min": 0,
            "orientation": "horizontal",
            "style": "IPY_MODEL_aecd41de97ad456f91e955a5e0614bf3",
            "value": 685
          }
        },
        "7defee851ef840b89a457cb6b67111a3": {
          "model_module": "@jupyter-widgets/controls",
          "model_name": "HTMLModel",
          "model_module_version": "1.5.0",
          "state": {
            "_dom_classes": [],
            "_model_module": "@jupyter-widgets/controls",
            "_model_module_version": "1.5.0",
            "_model_name": "HTMLModel",
            "_view_count": null,
            "_view_module": "@jupyter-widgets/controls",
            "_view_module_version": "1.5.0",
            "_view_name": "HTMLView",
            "description": "",
            "description_tooltip": null,
            "layout": "IPY_MODEL_e12ddc48c5f24edfab1d8c5ff0e742fd",
            "placeholder": "​",
            "style": "IPY_MODEL_b2479a9103b6490ba40622da7e4fba10",
            "value": " 685/685 [00:00&lt;00:00, 19.9kB/s]"
          }
        },
        "b5c7259993194f43ac0fc59383db51fd": {
          "model_module": "@jupyter-widgets/base",
          "model_name": "LayoutModel",
          "model_module_version": "1.2.0",
          "state": {
            "_model_module": "@jupyter-widgets/base",
            "_model_module_version": "1.2.0",
            "_model_name": "LayoutModel",
            "_view_count": null,
            "_view_module": "@jupyter-widgets/base",
            "_view_module_version": "1.2.0",
            "_view_name": "LayoutView",
            "align_content": null,
            "align_items": null,
            "align_self": null,
            "border": null,
            "bottom": null,
            "display": null,
            "flex": null,
            "flex_flow": null,
            "grid_area": null,
            "grid_auto_columns": null,
            "grid_auto_flow": null,
            "grid_auto_rows": null,
            "grid_column": null,
            "grid_gap": null,
            "grid_row": null,
            "grid_template_areas": null,
            "grid_template_columns": null,
            "grid_template_rows": null,
            "height": null,
            "justify_content": null,
            "justify_items": null,
            "left": null,
            "margin": null,
            "max_height": null,
            "max_width": null,
            "min_height": null,
            "min_width": null,
            "object_fit": null,
            "object_position": null,
            "order": null,
            "overflow": null,
            "overflow_x": null,
            "overflow_y": null,
            "padding": null,
            "right": null,
            "top": null,
            "visibility": null,
            "width": null
          }
        },
        "c6485c5fbb4145e5bf315c77f5a72997": {
          "model_module": "@jupyter-widgets/base",
          "model_name": "LayoutModel",
          "model_module_version": "1.2.0",
          "state": {
            "_model_module": "@jupyter-widgets/base",
            "_model_module_version": "1.2.0",
            "_model_name": "LayoutModel",
            "_view_count": null,
            "_view_module": "@jupyter-widgets/base",
            "_view_module_version": "1.2.0",
            "_view_name": "LayoutView",
            "align_content": null,
            "align_items": null,
            "align_self": null,
            "border": null,
            "bottom": null,
            "display": null,
            "flex": null,
            "flex_flow": null,
            "grid_area": null,
            "grid_auto_columns": null,
            "grid_auto_flow": null,
            "grid_auto_rows": null,
            "grid_column": null,
            "grid_gap": null,
            "grid_row": null,
            "grid_template_areas": null,
            "grid_template_columns": null,
            "grid_template_rows": null,
            "height": null,
            "justify_content": null,
            "justify_items": null,
            "left": null,
            "margin": null,
            "max_height": null,
            "max_width": null,
            "min_height": null,
            "min_width": null,
            "object_fit": null,
            "object_position": null,
            "order": null,
            "overflow": null,
            "overflow_x": null,
            "overflow_y": null,
            "padding": null,
            "right": null,
            "top": null,
            "visibility": null,
            "width": null
          }
        },
        "05bd2742e4994ddf8bf5fd6106a92a91": {
          "model_module": "@jupyter-widgets/controls",
          "model_name": "DescriptionStyleModel",
          "model_module_version": "1.5.0",
          "state": {
            "_model_module": "@jupyter-widgets/controls",
            "_model_module_version": "1.5.0",
            "_model_name": "DescriptionStyleModel",
            "_view_count": null,
            "_view_module": "@jupyter-widgets/base",
            "_view_module_version": "1.2.0",
            "_view_name": "StyleView",
            "description_width": ""
          }
        },
        "9dcb32ef684c4ab18c2dd760a0076c67": {
          "model_module": "@jupyter-widgets/base",
          "model_name": "LayoutModel",
          "model_module_version": "1.2.0",
          "state": {
            "_model_module": "@jupyter-widgets/base",
            "_model_module_version": "1.2.0",
            "_model_name": "LayoutModel",
            "_view_count": null,
            "_view_module": "@jupyter-widgets/base",
            "_view_module_version": "1.2.0",
            "_view_name": "LayoutView",
            "align_content": null,
            "align_items": null,
            "align_self": null,
            "border": null,
            "bottom": null,
            "display": null,
            "flex": null,
            "flex_flow": null,
            "grid_area": null,
            "grid_auto_columns": null,
            "grid_auto_flow": null,
            "grid_auto_rows": null,
            "grid_column": null,
            "grid_gap": null,
            "grid_row": null,
            "grid_template_areas": null,
            "grid_template_columns": null,
            "grid_template_rows": null,
            "height": null,
            "justify_content": null,
            "justify_items": null,
            "left": null,
            "margin": null,
            "max_height": null,
            "max_width": null,
            "min_height": null,
            "min_width": null,
            "object_fit": null,
            "object_position": null,
            "order": null,
            "overflow": null,
            "overflow_x": null,
            "overflow_y": null,
            "padding": null,
            "right": null,
            "top": null,
            "visibility": null,
            "width": null
          }
        },
        "aecd41de97ad456f91e955a5e0614bf3": {
          "model_module": "@jupyter-widgets/controls",
          "model_name": "ProgressStyleModel",
          "model_module_version": "1.5.0",
          "state": {
            "_model_module": "@jupyter-widgets/controls",
            "_model_module_version": "1.5.0",
            "_model_name": "ProgressStyleModel",
            "_view_count": null,
            "_view_module": "@jupyter-widgets/base",
            "_view_module_version": "1.2.0",
            "_view_name": "StyleView",
            "bar_color": null,
            "description_width": ""
          }
        },
        "e12ddc48c5f24edfab1d8c5ff0e742fd": {
          "model_module": "@jupyter-widgets/base",
          "model_name": "LayoutModel",
          "model_module_version": "1.2.0",
          "state": {
            "_model_module": "@jupyter-widgets/base",
            "_model_module_version": "1.2.0",
            "_model_name": "LayoutModel",
            "_view_count": null,
            "_view_module": "@jupyter-widgets/base",
            "_view_module_version": "1.2.0",
            "_view_name": "LayoutView",
            "align_content": null,
            "align_items": null,
            "align_self": null,
            "border": null,
            "bottom": null,
            "display": null,
            "flex": null,
            "flex_flow": null,
            "grid_area": null,
            "grid_auto_columns": null,
            "grid_auto_flow": null,
            "grid_auto_rows": null,
            "grid_column": null,
            "grid_gap": null,
            "grid_row": null,
            "grid_template_areas": null,
            "grid_template_columns": null,
            "grid_template_rows": null,
            "height": null,
            "justify_content": null,
            "justify_items": null,
            "left": null,
            "margin": null,
            "max_height": null,
            "max_width": null,
            "min_height": null,
            "min_width": null,
            "object_fit": null,
            "object_position": null,
            "order": null,
            "overflow": null,
            "overflow_x": null,
            "overflow_y": null,
            "padding": null,
            "right": null,
            "top": null,
            "visibility": null,
            "width": null
          }
        },
        "b2479a9103b6490ba40622da7e4fba10": {
          "model_module": "@jupyter-widgets/controls",
          "model_name": "DescriptionStyleModel",
          "model_module_version": "1.5.0",
          "state": {
            "_model_module": "@jupyter-widgets/controls",
            "_model_module_version": "1.5.0",
            "_model_name": "DescriptionStyleModel",
            "_view_count": null,
            "_view_module": "@jupyter-widgets/base",
            "_view_module_version": "1.2.0",
            "_view_name": "StyleView",
            "description_width": ""
          }
        },
        "8ecc1db4c1c447a38db29749459bdb35": {
          "model_module": "@jupyter-widgets/controls",
          "model_name": "HBoxModel",
          "model_module_version": "1.5.0",
          "state": {
            "_dom_classes": [],
            "_model_module": "@jupyter-widgets/controls",
            "_model_module_version": "1.5.0",
            "_model_name": "HBoxModel",
            "_view_count": null,
            "_view_module": "@jupyter-widgets/controls",
            "_view_module_version": "1.5.0",
            "_view_name": "HBoxView",
            "box_style": "",
            "children": [
              "IPY_MODEL_fd33faa8418144d5aca60e995d79a734",
              "IPY_MODEL_c9fcf1181e4b40c8aa5729ed42657417",
              "IPY_MODEL_b434656492c746e89cb2006ffae1dd45"
            ],
            "layout": "IPY_MODEL_a9e452cfdde44ceda4b9f7beb66ad18d"
          }
        },
        "fd33faa8418144d5aca60e995d79a734": {
          "model_module": "@jupyter-widgets/controls",
          "model_name": "HTMLModel",
          "model_module_version": "1.5.0",
          "state": {
            "_dom_classes": [],
            "_model_module": "@jupyter-widgets/controls",
            "_model_module_version": "1.5.0",
            "_model_name": "HTMLModel",
            "_view_count": null,
            "_view_module": "@jupyter-widgets/controls",
            "_view_module_version": "1.5.0",
            "_view_name": "HTMLView",
            "description": "",
            "description_tooltip": null,
            "layout": "IPY_MODEL_494c902c6b344c65b3c16939767de69f",
            "placeholder": "​",
            "style": "IPY_MODEL_47e251b3d70e4a4e8333a248faf39523",
            "value": "Downloading: 100%"
          }
        },
        "c9fcf1181e4b40c8aa5729ed42657417": {
          "model_module": "@jupyter-widgets/controls",
          "model_name": "FloatProgressModel",
          "model_module_version": "1.5.0",
          "state": {
            "_dom_classes": [],
            "_model_module": "@jupyter-widgets/controls",
            "_model_module_version": "1.5.0",
            "_model_name": "FloatProgressModel",
            "_view_count": null,
            "_view_module": "@jupyter-widgets/controls",
            "_view_module_version": "1.5.0",
            "_view_name": "ProgressView",
            "bar_style": "success",
            "description": "",
            "description_tooltip": null,
            "layout": "IPY_MODEL_a55c1628ff184b8889c17ffce1e0453a",
            "max": 653,
            "min": 0,
            "orientation": "horizontal",
            "style": "IPY_MODEL_a3ac276ffc6243c6bef916c6bd488807",
            "value": 653
          }
        },
        "b434656492c746e89cb2006ffae1dd45": {
          "model_module": "@jupyter-widgets/controls",
          "model_name": "HTMLModel",
          "model_module_version": "1.5.0",
          "state": {
            "_dom_classes": [],
            "_model_module": "@jupyter-widgets/controls",
            "_model_module_version": "1.5.0",
            "_model_name": "HTMLModel",
            "_view_count": null,
            "_view_module": "@jupyter-widgets/controls",
            "_view_module_version": "1.5.0",
            "_view_name": "HTMLView",
            "description": "",
            "description_tooltip": null,
            "layout": "IPY_MODEL_c442ae7b3f9245e895d69677aadb5fe6",
            "placeholder": "​",
            "style": "IPY_MODEL_6aa6fb2890d24b4ea3266d1c824348db",
            "value": " 653/653 [00:00&lt;00:00, 7.98kB/s]"
          }
        },
        "a9e452cfdde44ceda4b9f7beb66ad18d": {
          "model_module": "@jupyter-widgets/base",
          "model_name": "LayoutModel",
          "model_module_version": "1.2.0",
          "state": {
            "_model_module": "@jupyter-widgets/base",
            "_model_module_version": "1.2.0",
            "_model_name": "LayoutModel",
            "_view_count": null,
            "_view_module": "@jupyter-widgets/base",
            "_view_module_version": "1.2.0",
            "_view_name": "LayoutView",
            "align_content": null,
            "align_items": null,
            "align_self": null,
            "border": null,
            "bottom": null,
            "display": null,
            "flex": null,
            "flex_flow": null,
            "grid_area": null,
            "grid_auto_columns": null,
            "grid_auto_flow": null,
            "grid_auto_rows": null,
            "grid_column": null,
            "grid_gap": null,
            "grid_row": null,
            "grid_template_areas": null,
            "grid_template_columns": null,
            "grid_template_rows": null,
            "height": null,
            "justify_content": null,
            "justify_items": null,
            "left": null,
            "margin": null,
            "max_height": null,
            "max_width": null,
            "min_height": null,
            "min_width": null,
            "object_fit": null,
            "object_position": null,
            "order": null,
            "overflow": null,
            "overflow_x": null,
            "overflow_y": null,
            "padding": null,
            "right": null,
            "top": null,
            "visibility": null,
            "width": null
          }
        },
        "494c902c6b344c65b3c16939767de69f": {
          "model_module": "@jupyter-widgets/base",
          "model_name": "LayoutModel",
          "model_module_version": "1.2.0",
          "state": {
            "_model_module": "@jupyter-widgets/base",
            "_model_module_version": "1.2.0",
            "_model_name": "LayoutModel",
            "_view_count": null,
            "_view_module": "@jupyter-widgets/base",
            "_view_module_version": "1.2.0",
            "_view_name": "LayoutView",
            "align_content": null,
            "align_items": null,
            "align_self": null,
            "border": null,
            "bottom": null,
            "display": null,
            "flex": null,
            "flex_flow": null,
            "grid_area": null,
            "grid_auto_columns": null,
            "grid_auto_flow": null,
            "grid_auto_rows": null,
            "grid_column": null,
            "grid_gap": null,
            "grid_row": null,
            "grid_template_areas": null,
            "grid_template_columns": null,
            "grid_template_rows": null,
            "height": null,
            "justify_content": null,
            "justify_items": null,
            "left": null,
            "margin": null,
            "max_height": null,
            "max_width": null,
            "min_height": null,
            "min_width": null,
            "object_fit": null,
            "object_position": null,
            "order": null,
            "overflow": null,
            "overflow_x": null,
            "overflow_y": null,
            "padding": null,
            "right": null,
            "top": null,
            "visibility": null,
            "width": null
          }
        },
        "47e251b3d70e4a4e8333a248faf39523": {
          "model_module": "@jupyter-widgets/controls",
          "model_name": "DescriptionStyleModel",
          "model_module_version": "1.5.0",
          "state": {
            "_model_module": "@jupyter-widgets/controls",
            "_model_module_version": "1.5.0",
            "_model_name": "DescriptionStyleModel",
            "_view_count": null,
            "_view_module": "@jupyter-widgets/base",
            "_view_module_version": "1.2.0",
            "_view_name": "StyleView",
            "description_width": ""
          }
        },
        "a55c1628ff184b8889c17ffce1e0453a": {
          "model_module": "@jupyter-widgets/base",
          "model_name": "LayoutModel",
          "model_module_version": "1.2.0",
          "state": {
            "_model_module": "@jupyter-widgets/base",
            "_model_module_version": "1.2.0",
            "_model_name": "LayoutModel",
            "_view_count": null,
            "_view_module": "@jupyter-widgets/base",
            "_view_module_version": "1.2.0",
            "_view_name": "LayoutView",
            "align_content": null,
            "align_items": null,
            "align_self": null,
            "border": null,
            "bottom": null,
            "display": null,
            "flex": null,
            "flex_flow": null,
            "grid_area": null,
            "grid_auto_columns": null,
            "grid_auto_flow": null,
            "grid_auto_rows": null,
            "grid_column": null,
            "grid_gap": null,
            "grid_row": null,
            "grid_template_areas": null,
            "grid_template_columns": null,
            "grid_template_rows": null,
            "height": null,
            "justify_content": null,
            "justify_items": null,
            "left": null,
            "margin": null,
            "max_height": null,
            "max_width": null,
            "min_height": null,
            "min_width": null,
            "object_fit": null,
            "object_position": null,
            "order": null,
            "overflow": null,
            "overflow_x": null,
            "overflow_y": null,
            "padding": null,
            "right": null,
            "top": null,
            "visibility": null,
            "width": null
          }
        },
        "a3ac276ffc6243c6bef916c6bd488807": {
          "model_module": "@jupyter-widgets/controls",
          "model_name": "ProgressStyleModel",
          "model_module_version": "1.5.0",
          "state": {
            "_model_module": "@jupyter-widgets/controls",
            "_model_module_version": "1.5.0",
            "_model_name": "ProgressStyleModel",
            "_view_count": null,
            "_view_module": "@jupyter-widgets/base",
            "_view_module_version": "1.2.0",
            "_view_name": "StyleView",
            "bar_color": null,
            "description_width": ""
          }
        },
        "c442ae7b3f9245e895d69677aadb5fe6": {
          "model_module": "@jupyter-widgets/base",
          "model_name": "LayoutModel",
          "model_module_version": "1.2.0",
          "state": {
            "_model_module": "@jupyter-widgets/base",
            "_model_module_version": "1.2.0",
            "_model_name": "LayoutModel",
            "_view_count": null,
            "_view_module": "@jupyter-widgets/base",
            "_view_module_version": "1.2.0",
            "_view_name": "LayoutView",
            "align_content": null,
            "align_items": null,
            "align_self": null,
            "border": null,
            "bottom": null,
            "display": null,
            "flex": null,
            "flex_flow": null,
            "grid_area": null,
            "grid_auto_columns": null,
            "grid_auto_flow": null,
            "grid_auto_rows": null,
            "grid_column": null,
            "grid_gap": null,
            "grid_row": null,
            "grid_template_areas": null,
            "grid_template_columns": null,
            "grid_template_rows": null,
            "height": null,
            "justify_content": null,
            "justify_items": null,
            "left": null,
            "margin": null,
            "max_height": null,
            "max_width": null,
            "min_height": null,
            "min_width": null,
            "object_fit": null,
            "object_position": null,
            "order": null,
            "overflow": null,
            "overflow_x": null,
            "overflow_y": null,
            "padding": null,
            "right": null,
            "top": null,
            "visibility": null,
            "width": null
          }
        },
        "6aa6fb2890d24b4ea3266d1c824348db": {
          "model_module": "@jupyter-widgets/controls",
          "model_name": "DescriptionStyleModel",
          "model_module_version": "1.5.0",
          "state": {
            "_model_module": "@jupyter-widgets/controls",
            "_model_module_version": "1.5.0",
            "_model_name": "DescriptionStyleModel",
            "_view_count": null,
            "_view_module": "@jupyter-widgets/base",
            "_view_module_version": "1.2.0",
            "_view_name": "StyleView",
            "description_width": ""
          }
        },
        "218460e32f3640b69f9cd1a9b363a461": {
          "model_module": "@jupyter-widgets/controls",
          "model_name": "HBoxModel",
          "model_module_version": "1.5.0",
          "state": {
            "_dom_classes": [],
            "_model_module": "@jupyter-widgets/controls",
            "_model_module_version": "1.5.0",
            "_model_name": "HBoxModel",
            "_view_count": null,
            "_view_module": "@jupyter-widgets/controls",
            "_view_module_version": "1.5.0",
            "_view_name": "HBoxView",
            "box_style": "",
            "children": [
              "IPY_MODEL_118fd164a3fa477a948ed4c564b15f65",
              "IPY_MODEL_6d5375b35dc641558c1c2157e55bd5ea",
              "IPY_MODEL_805848f77faa4b1cba0cfe821dff36af"
            ],
            "layout": "IPY_MODEL_cd97c53cd7a74411824d14a05baa5574"
          }
        },
        "118fd164a3fa477a948ed4c564b15f65": {
          "model_module": "@jupyter-widgets/controls",
          "model_name": "HTMLModel",
          "model_module_version": "1.5.0",
          "state": {
            "_dom_classes": [],
            "_model_module": "@jupyter-widgets/controls",
            "_model_module_version": "1.5.0",
            "_model_name": "HTMLModel",
            "_view_count": null,
            "_view_module": "@jupyter-widgets/controls",
            "_view_module_version": "1.5.0",
            "_view_name": "HTMLView",
            "description": "",
            "description_tooltip": null,
            "layout": "IPY_MODEL_bfa608137a84400189eb2ee78d612152",
            "placeholder": "​",
            "style": "IPY_MODEL_00cf90946136484b8cde47913339b2bb",
            "value": "Downloading: 100%"
          }
        },
        "6d5375b35dc641558c1c2157e55bd5ea": {
          "model_module": "@jupyter-widgets/controls",
          "model_name": "FloatProgressModel",
          "model_module_version": "1.5.0",
          "state": {
            "_dom_classes": [],
            "_model_module": "@jupyter-widgets/controls",
            "_model_module_version": "1.5.0",
            "_model_name": "FloatProgressModel",
            "_view_count": null,
            "_view_module": "@jupyter-widgets/controls",
            "_view_module_version": "1.5.0",
            "_view_name": "ProgressView",
            "bar_style": "success",
            "description": "",
            "description_tooltip": null,
            "layout": "IPY_MODEL_62d3b0013a4447b68f772e135f37d684",
            "max": 898822,
            "min": 0,
            "orientation": "horizontal",
            "style": "IPY_MODEL_3d2e00ec19564b818934aee21db36dde",
            "value": 898822
          }
        },
        "805848f77faa4b1cba0cfe821dff36af": {
          "model_module": "@jupyter-widgets/controls",
          "model_name": "HTMLModel",
          "model_module_version": "1.5.0",
          "state": {
            "_dom_classes": [],
            "_model_module": "@jupyter-widgets/controls",
            "_model_module_version": "1.5.0",
            "_model_name": "HTMLModel",
            "_view_count": null,
            "_view_module": "@jupyter-widgets/controls",
            "_view_module_version": "1.5.0",
            "_view_name": "HTMLView",
            "description": "",
            "description_tooltip": null,
            "layout": "IPY_MODEL_efb02eb6e56b470885afb87446efa7bb",
            "placeholder": "​",
            "style": "IPY_MODEL_44268e05e1954370b7ca607fbdb05872",
            "value": " 899k/899k [00:01&lt;00:00, 967kB/s]"
          }
        },
        "cd97c53cd7a74411824d14a05baa5574": {
          "model_module": "@jupyter-widgets/base",
          "model_name": "LayoutModel",
          "model_module_version": "1.2.0",
          "state": {
            "_model_module": "@jupyter-widgets/base",
            "_model_module_version": "1.2.0",
            "_model_name": "LayoutModel",
            "_view_count": null,
            "_view_module": "@jupyter-widgets/base",
            "_view_module_version": "1.2.0",
            "_view_name": "LayoutView",
            "align_content": null,
            "align_items": null,
            "align_self": null,
            "border": null,
            "bottom": null,
            "display": null,
            "flex": null,
            "flex_flow": null,
            "grid_area": null,
            "grid_auto_columns": null,
            "grid_auto_flow": null,
            "grid_auto_rows": null,
            "grid_column": null,
            "grid_gap": null,
            "grid_row": null,
            "grid_template_areas": null,
            "grid_template_columns": null,
            "grid_template_rows": null,
            "height": null,
            "justify_content": null,
            "justify_items": null,
            "left": null,
            "margin": null,
            "max_height": null,
            "max_width": null,
            "min_height": null,
            "min_width": null,
            "object_fit": null,
            "object_position": null,
            "order": null,
            "overflow": null,
            "overflow_x": null,
            "overflow_y": null,
            "padding": null,
            "right": null,
            "top": null,
            "visibility": null,
            "width": null
          }
        },
        "bfa608137a84400189eb2ee78d612152": {
          "model_module": "@jupyter-widgets/base",
          "model_name": "LayoutModel",
          "model_module_version": "1.2.0",
          "state": {
            "_model_module": "@jupyter-widgets/base",
            "_model_module_version": "1.2.0",
            "_model_name": "LayoutModel",
            "_view_count": null,
            "_view_module": "@jupyter-widgets/base",
            "_view_module_version": "1.2.0",
            "_view_name": "LayoutView",
            "align_content": null,
            "align_items": null,
            "align_self": null,
            "border": null,
            "bottom": null,
            "display": null,
            "flex": null,
            "flex_flow": null,
            "grid_area": null,
            "grid_auto_columns": null,
            "grid_auto_flow": null,
            "grid_auto_rows": null,
            "grid_column": null,
            "grid_gap": null,
            "grid_row": null,
            "grid_template_areas": null,
            "grid_template_columns": null,
            "grid_template_rows": null,
            "height": null,
            "justify_content": null,
            "justify_items": null,
            "left": null,
            "margin": null,
            "max_height": null,
            "max_width": null,
            "min_height": null,
            "min_width": null,
            "object_fit": null,
            "object_position": null,
            "order": null,
            "overflow": null,
            "overflow_x": null,
            "overflow_y": null,
            "padding": null,
            "right": null,
            "top": null,
            "visibility": null,
            "width": null
          }
        },
        "00cf90946136484b8cde47913339b2bb": {
          "model_module": "@jupyter-widgets/controls",
          "model_name": "DescriptionStyleModel",
          "model_module_version": "1.5.0",
          "state": {
            "_model_module": "@jupyter-widgets/controls",
            "_model_module_version": "1.5.0",
            "_model_name": "DescriptionStyleModel",
            "_view_count": null,
            "_view_module": "@jupyter-widgets/base",
            "_view_module_version": "1.2.0",
            "_view_name": "StyleView",
            "description_width": ""
          }
        },
        "62d3b0013a4447b68f772e135f37d684": {
          "model_module": "@jupyter-widgets/base",
          "model_name": "LayoutModel",
          "model_module_version": "1.2.0",
          "state": {
            "_model_module": "@jupyter-widgets/base",
            "_model_module_version": "1.2.0",
            "_model_name": "LayoutModel",
            "_view_count": null,
            "_view_module": "@jupyter-widgets/base",
            "_view_module_version": "1.2.0",
            "_view_name": "LayoutView",
            "align_content": null,
            "align_items": null,
            "align_self": null,
            "border": null,
            "bottom": null,
            "display": null,
            "flex": null,
            "flex_flow": null,
            "grid_area": null,
            "grid_auto_columns": null,
            "grid_auto_flow": null,
            "grid_auto_rows": null,
            "grid_column": null,
            "grid_gap": null,
            "grid_row": null,
            "grid_template_areas": null,
            "grid_template_columns": null,
            "grid_template_rows": null,
            "height": null,
            "justify_content": null,
            "justify_items": null,
            "left": null,
            "margin": null,
            "max_height": null,
            "max_width": null,
            "min_height": null,
            "min_width": null,
            "object_fit": null,
            "object_position": null,
            "order": null,
            "overflow": null,
            "overflow_x": null,
            "overflow_y": null,
            "padding": null,
            "right": null,
            "top": null,
            "visibility": null,
            "width": null
          }
        },
        "3d2e00ec19564b818934aee21db36dde": {
          "model_module": "@jupyter-widgets/controls",
          "model_name": "ProgressStyleModel",
          "model_module_version": "1.5.0",
          "state": {
            "_model_module": "@jupyter-widgets/controls",
            "_model_module_version": "1.5.0",
            "_model_name": "ProgressStyleModel",
            "_view_count": null,
            "_view_module": "@jupyter-widgets/base",
            "_view_module_version": "1.2.0",
            "_view_name": "StyleView",
            "bar_color": null,
            "description_width": ""
          }
        },
        "efb02eb6e56b470885afb87446efa7bb": {
          "model_module": "@jupyter-widgets/base",
          "model_name": "LayoutModel",
          "model_module_version": "1.2.0",
          "state": {
            "_model_module": "@jupyter-widgets/base",
            "_model_module_version": "1.2.0",
            "_model_name": "LayoutModel",
            "_view_count": null,
            "_view_module": "@jupyter-widgets/base",
            "_view_module_version": "1.2.0",
            "_view_name": "LayoutView",
            "align_content": null,
            "align_items": null,
            "align_self": null,
            "border": null,
            "bottom": null,
            "display": null,
            "flex": null,
            "flex_flow": null,
            "grid_area": null,
            "grid_auto_columns": null,
            "grid_auto_flow": null,
            "grid_auto_rows": null,
            "grid_column": null,
            "grid_gap": null,
            "grid_row": null,
            "grid_template_areas": null,
            "grid_template_columns": null,
            "grid_template_rows": null,
            "height": null,
            "justify_content": null,
            "justify_items": null,
            "left": null,
            "margin": null,
            "max_height": null,
            "max_width": null,
            "min_height": null,
            "min_width": null,
            "object_fit": null,
            "object_position": null,
            "order": null,
            "overflow": null,
            "overflow_x": null,
            "overflow_y": null,
            "padding": null,
            "right": null,
            "top": null,
            "visibility": null,
            "width": null
          }
        },
        "44268e05e1954370b7ca607fbdb05872": {
          "model_module": "@jupyter-widgets/controls",
          "model_name": "DescriptionStyleModel",
          "model_module_version": "1.5.0",
          "state": {
            "_model_module": "@jupyter-widgets/controls",
            "_model_module_version": "1.5.0",
            "_model_name": "DescriptionStyleModel",
            "_view_count": null,
            "_view_module": "@jupyter-widgets/base",
            "_view_module_version": "1.2.0",
            "_view_name": "StyleView",
            "description_width": ""
          }
        },
        "8429cb5079354a2b98b1827859238e96": {
          "model_module": "@jupyter-widgets/controls",
          "model_name": "HBoxModel",
          "model_module_version": "1.5.0",
          "state": {
            "_dom_classes": [],
            "_model_module": "@jupyter-widgets/controls",
            "_model_module_version": "1.5.0",
            "_model_name": "HBoxModel",
            "_view_count": null,
            "_view_module": "@jupyter-widgets/controls",
            "_view_module_version": "1.5.0",
            "_view_name": "HBoxView",
            "box_style": "",
            "children": [
              "IPY_MODEL_69af404edc544ed79b604483d0f04d1c",
              "IPY_MODEL_08e32c645b524ca69a397352b0d00c74",
              "IPY_MODEL_4ac759554b39456780b12ea21145c91f"
            ],
            "layout": "IPY_MODEL_d11273e3c2bf4162b0e0debedbe5b530"
          }
        },
        "69af404edc544ed79b604483d0f04d1c": {
          "model_module": "@jupyter-widgets/controls",
          "model_name": "HTMLModel",
          "model_module_version": "1.5.0",
          "state": {
            "_dom_classes": [],
            "_model_module": "@jupyter-widgets/controls",
            "_model_module_version": "1.5.0",
            "_model_name": "HTMLModel",
            "_view_count": null,
            "_view_module": "@jupyter-widgets/controls",
            "_view_module_version": "1.5.0",
            "_view_name": "HTMLView",
            "description": "",
            "description_tooltip": null,
            "layout": "IPY_MODEL_944715a89587421e99f664b372077382",
            "placeholder": "​",
            "style": "IPY_MODEL_2a9fe4e4772b4f329b66e9664f408cf8",
            "value": "Downloading: 100%"
          }
        },
        "08e32c645b524ca69a397352b0d00c74": {
          "model_module": "@jupyter-widgets/controls",
          "model_name": "FloatProgressModel",
          "model_module_version": "1.5.0",
          "state": {
            "_dom_classes": [],
            "_model_module": "@jupyter-widgets/controls",
            "_model_module_version": "1.5.0",
            "_model_name": "FloatProgressModel",
            "_view_count": null,
            "_view_module": "@jupyter-widgets/controls",
            "_view_module_version": "1.5.0",
            "_view_name": "ProgressView",
            "bar_style": "success",
            "description": "",
            "description_tooltip": null,
            "layout": "IPY_MODEL_61261932720d4006a46e5fe1b465e8b3",
            "max": 456318,
            "min": 0,
            "orientation": "horizontal",
            "style": "IPY_MODEL_e8b1376adfd34dbcab0497e48b8faefa",
            "value": 456318
          }
        },
        "4ac759554b39456780b12ea21145c91f": {
          "model_module": "@jupyter-widgets/controls",
          "model_name": "HTMLModel",
          "model_module_version": "1.5.0",
          "state": {
            "_dom_classes": [],
            "_model_module": "@jupyter-widgets/controls",
            "_model_module_version": "1.5.0",
            "_model_name": "HTMLModel",
            "_view_count": null,
            "_view_module": "@jupyter-widgets/controls",
            "_view_module_version": "1.5.0",
            "_view_name": "HTMLView",
            "description": "",
            "description_tooltip": null,
            "layout": "IPY_MODEL_60d96bb6117a4d6c90f262156aa6debe",
            "placeholder": "​",
            "style": "IPY_MODEL_712ea3eed98647b4b635756a3fdae52b",
            "value": " 456k/456k [00:01&lt;00:00, 372kB/s]"
          }
        },
        "d11273e3c2bf4162b0e0debedbe5b530": {
          "model_module": "@jupyter-widgets/base",
          "model_name": "LayoutModel",
          "model_module_version": "1.2.0",
          "state": {
            "_model_module": "@jupyter-widgets/base",
            "_model_module_version": "1.2.0",
            "_model_name": "LayoutModel",
            "_view_count": null,
            "_view_module": "@jupyter-widgets/base",
            "_view_module_version": "1.2.0",
            "_view_name": "LayoutView",
            "align_content": null,
            "align_items": null,
            "align_self": null,
            "border": null,
            "bottom": null,
            "display": null,
            "flex": null,
            "flex_flow": null,
            "grid_area": null,
            "grid_auto_columns": null,
            "grid_auto_flow": null,
            "grid_auto_rows": null,
            "grid_column": null,
            "grid_gap": null,
            "grid_row": null,
            "grid_template_areas": null,
            "grid_template_columns": null,
            "grid_template_rows": null,
            "height": null,
            "justify_content": null,
            "justify_items": null,
            "left": null,
            "margin": null,
            "max_height": null,
            "max_width": null,
            "min_height": null,
            "min_width": null,
            "object_fit": null,
            "object_position": null,
            "order": null,
            "overflow": null,
            "overflow_x": null,
            "overflow_y": null,
            "padding": null,
            "right": null,
            "top": null,
            "visibility": null,
            "width": null
          }
        },
        "944715a89587421e99f664b372077382": {
          "model_module": "@jupyter-widgets/base",
          "model_name": "LayoutModel",
          "model_module_version": "1.2.0",
          "state": {
            "_model_module": "@jupyter-widgets/base",
            "_model_module_version": "1.2.0",
            "_model_name": "LayoutModel",
            "_view_count": null,
            "_view_module": "@jupyter-widgets/base",
            "_view_module_version": "1.2.0",
            "_view_name": "LayoutView",
            "align_content": null,
            "align_items": null,
            "align_self": null,
            "border": null,
            "bottom": null,
            "display": null,
            "flex": null,
            "flex_flow": null,
            "grid_area": null,
            "grid_auto_columns": null,
            "grid_auto_flow": null,
            "grid_auto_rows": null,
            "grid_column": null,
            "grid_gap": null,
            "grid_row": null,
            "grid_template_areas": null,
            "grid_template_columns": null,
            "grid_template_rows": null,
            "height": null,
            "justify_content": null,
            "justify_items": null,
            "left": null,
            "margin": null,
            "max_height": null,
            "max_width": null,
            "min_height": null,
            "min_width": null,
            "object_fit": null,
            "object_position": null,
            "order": null,
            "overflow": null,
            "overflow_x": null,
            "overflow_y": null,
            "padding": null,
            "right": null,
            "top": null,
            "visibility": null,
            "width": null
          }
        },
        "2a9fe4e4772b4f329b66e9664f408cf8": {
          "model_module": "@jupyter-widgets/controls",
          "model_name": "DescriptionStyleModel",
          "model_module_version": "1.5.0",
          "state": {
            "_model_module": "@jupyter-widgets/controls",
            "_model_module_version": "1.5.0",
            "_model_name": "DescriptionStyleModel",
            "_view_count": null,
            "_view_module": "@jupyter-widgets/base",
            "_view_module_version": "1.2.0",
            "_view_name": "StyleView",
            "description_width": ""
          }
        },
        "61261932720d4006a46e5fe1b465e8b3": {
          "model_module": "@jupyter-widgets/base",
          "model_name": "LayoutModel",
          "model_module_version": "1.2.0",
          "state": {
            "_model_module": "@jupyter-widgets/base",
            "_model_module_version": "1.2.0",
            "_model_name": "LayoutModel",
            "_view_count": null,
            "_view_module": "@jupyter-widgets/base",
            "_view_module_version": "1.2.0",
            "_view_name": "LayoutView",
            "align_content": null,
            "align_items": null,
            "align_self": null,
            "border": null,
            "bottom": null,
            "display": null,
            "flex": null,
            "flex_flow": null,
            "grid_area": null,
            "grid_auto_columns": null,
            "grid_auto_flow": null,
            "grid_auto_rows": null,
            "grid_column": null,
            "grid_gap": null,
            "grid_row": null,
            "grid_template_areas": null,
            "grid_template_columns": null,
            "grid_template_rows": null,
            "height": null,
            "justify_content": null,
            "justify_items": null,
            "left": null,
            "margin": null,
            "max_height": null,
            "max_width": null,
            "min_height": null,
            "min_width": null,
            "object_fit": null,
            "object_position": null,
            "order": null,
            "overflow": null,
            "overflow_x": null,
            "overflow_y": null,
            "padding": null,
            "right": null,
            "top": null,
            "visibility": null,
            "width": null
          }
        },
        "e8b1376adfd34dbcab0497e48b8faefa": {
          "model_module": "@jupyter-widgets/controls",
          "model_name": "ProgressStyleModel",
          "model_module_version": "1.5.0",
          "state": {
            "_model_module": "@jupyter-widgets/controls",
            "_model_module_version": "1.5.0",
            "_model_name": "ProgressStyleModel",
            "_view_count": null,
            "_view_module": "@jupyter-widgets/base",
            "_view_module_version": "1.2.0",
            "_view_name": "StyleView",
            "bar_color": null,
            "description_width": ""
          }
        },
        "60d96bb6117a4d6c90f262156aa6debe": {
          "model_module": "@jupyter-widgets/base",
          "model_name": "LayoutModel",
          "model_module_version": "1.2.0",
          "state": {
            "_model_module": "@jupyter-widgets/base",
            "_model_module_version": "1.2.0",
            "_model_name": "LayoutModel",
            "_view_count": null,
            "_view_module": "@jupyter-widgets/base",
            "_view_module_version": "1.2.0",
            "_view_name": "LayoutView",
            "align_content": null,
            "align_items": null,
            "align_self": null,
            "border": null,
            "bottom": null,
            "display": null,
            "flex": null,
            "flex_flow": null,
            "grid_area": null,
            "grid_auto_columns": null,
            "grid_auto_flow": null,
            "grid_auto_rows": null,
            "grid_column": null,
            "grid_gap": null,
            "grid_row": null,
            "grid_template_areas": null,
            "grid_template_columns": null,
            "grid_template_rows": null,
            "height": null,
            "justify_content": null,
            "justify_items": null,
            "left": null,
            "margin": null,
            "max_height": null,
            "max_width": null,
            "min_height": null,
            "min_width": null,
            "object_fit": null,
            "object_position": null,
            "order": null,
            "overflow": null,
            "overflow_x": null,
            "overflow_y": null,
            "padding": null,
            "right": null,
            "top": null,
            "visibility": null,
            "width": null
          }
        },
        "712ea3eed98647b4b635756a3fdae52b": {
          "model_module": "@jupyter-widgets/controls",
          "model_name": "DescriptionStyleModel",
          "model_module_version": "1.5.0",
          "state": {
            "_model_module": "@jupyter-widgets/controls",
            "_model_module_version": "1.5.0",
            "_model_name": "DescriptionStyleModel",
            "_view_count": null,
            "_view_module": "@jupyter-widgets/base",
            "_view_module_version": "1.2.0",
            "_view_name": "StyleView",
            "description_width": ""
          }
        },
        "f1efa0e7bb2e4e118a5d34f14269b806": {
          "model_module": "@jupyter-widgets/controls",
          "model_name": "HBoxModel",
          "model_module_version": "1.5.0",
          "state": {
            "_dom_classes": [],
            "_model_module": "@jupyter-widgets/controls",
            "_model_module_version": "1.5.0",
            "_model_name": "HBoxModel",
            "_view_count": null,
            "_view_module": "@jupyter-widgets/controls",
            "_view_module_version": "1.5.0",
            "_view_name": "HBoxView",
            "box_style": "",
            "children": [
              "IPY_MODEL_fbe3114edf01480883bba53498ee188c",
              "IPY_MODEL_e22bac5901ef4f2d96aadb39c19cbe39",
              "IPY_MODEL_1ca545a038b147239f15415b66852c96"
            ],
            "layout": "IPY_MODEL_81c3b3f2f6ce401997a4b57520694921"
          }
        },
        "fbe3114edf01480883bba53498ee188c": {
          "model_module": "@jupyter-widgets/controls",
          "model_name": "HTMLModel",
          "model_module_version": "1.5.0",
          "state": {
            "_dom_classes": [],
            "_model_module": "@jupyter-widgets/controls",
            "_model_module_version": "1.5.0",
            "_model_name": "HTMLModel",
            "_view_count": null,
            "_view_module": "@jupyter-widgets/controls",
            "_view_module_version": "1.5.0",
            "_view_name": "HTMLView",
            "description": "",
            "description_tooltip": null,
            "layout": "IPY_MODEL_ccf95dfdac254da597f649e7b03e4416",
            "placeholder": "​",
            "style": "IPY_MODEL_654b2f31131947fb8547d46147f660b3",
            "value": "Downloading: 100%"
          }
        },
        "e22bac5901ef4f2d96aadb39c19cbe39": {
          "model_module": "@jupyter-widgets/controls",
          "model_name": "FloatProgressModel",
          "model_module_version": "1.5.0",
          "state": {
            "_dom_classes": [],
            "_model_module": "@jupyter-widgets/controls",
            "_model_module_version": "1.5.0",
            "_model_name": "FloatProgressModel",
            "_view_count": null,
            "_view_module": "@jupyter-widgets/controls",
            "_view_module_version": "1.5.0",
            "_view_name": "ProgressView",
            "bar_style": "success",
            "description": "",
            "description_tooltip": null,
            "layout": "IPY_MODEL_4111fafb125e4822a3b81e7a17c01603",
            "max": 441,
            "min": 0,
            "orientation": "horizontal",
            "style": "IPY_MODEL_fa0b06e8e71945be92a92c1000e9fc2a",
            "value": 441
          }
        },
        "1ca545a038b147239f15415b66852c96": {
          "model_module": "@jupyter-widgets/controls",
          "model_name": "HTMLModel",
          "model_module_version": "1.5.0",
          "state": {
            "_dom_classes": [],
            "_model_module": "@jupyter-widgets/controls",
            "_model_module_version": "1.5.0",
            "_model_name": "HTMLModel",
            "_view_count": null,
            "_view_module": "@jupyter-widgets/controls",
            "_view_module_version": "1.5.0",
            "_view_name": "HTMLView",
            "description": "",
            "description_tooltip": null,
            "layout": "IPY_MODEL_506b066bbbb442378eda7c4ee82edd13",
            "placeholder": "​",
            "style": "IPY_MODEL_8546dc7f2bfc47e29205b78ddce5ca31",
            "value": " 441/441 [00:00&lt;00:00, 9.51kB/s]"
          }
        },
        "81c3b3f2f6ce401997a4b57520694921": {
          "model_module": "@jupyter-widgets/base",
          "model_name": "LayoutModel",
          "model_module_version": "1.2.0",
          "state": {
            "_model_module": "@jupyter-widgets/base",
            "_model_module_version": "1.2.0",
            "_model_name": "LayoutModel",
            "_view_count": null,
            "_view_module": "@jupyter-widgets/base",
            "_view_module_version": "1.2.0",
            "_view_name": "LayoutView",
            "align_content": null,
            "align_items": null,
            "align_self": null,
            "border": null,
            "bottom": null,
            "display": null,
            "flex": null,
            "flex_flow": null,
            "grid_area": null,
            "grid_auto_columns": null,
            "grid_auto_flow": null,
            "grid_auto_rows": null,
            "grid_column": null,
            "grid_gap": null,
            "grid_row": null,
            "grid_template_areas": null,
            "grid_template_columns": null,
            "grid_template_rows": null,
            "height": null,
            "justify_content": null,
            "justify_items": null,
            "left": null,
            "margin": null,
            "max_height": null,
            "max_width": null,
            "min_height": null,
            "min_width": null,
            "object_fit": null,
            "object_position": null,
            "order": null,
            "overflow": null,
            "overflow_x": null,
            "overflow_y": null,
            "padding": null,
            "right": null,
            "top": null,
            "visibility": null,
            "width": null
          }
        },
        "ccf95dfdac254da597f649e7b03e4416": {
          "model_module": "@jupyter-widgets/base",
          "model_name": "LayoutModel",
          "model_module_version": "1.2.0",
          "state": {
            "_model_module": "@jupyter-widgets/base",
            "_model_module_version": "1.2.0",
            "_model_name": "LayoutModel",
            "_view_count": null,
            "_view_module": "@jupyter-widgets/base",
            "_view_module_version": "1.2.0",
            "_view_name": "LayoutView",
            "align_content": null,
            "align_items": null,
            "align_self": null,
            "border": null,
            "bottom": null,
            "display": null,
            "flex": null,
            "flex_flow": null,
            "grid_area": null,
            "grid_auto_columns": null,
            "grid_auto_flow": null,
            "grid_auto_rows": null,
            "grid_column": null,
            "grid_gap": null,
            "grid_row": null,
            "grid_template_areas": null,
            "grid_template_columns": null,
            "grid_template_rows": null,
            "height": null,
            "justify_content": null,
            "justify_items": null,
            "left": null,
            "margin": null,
            "max_height": null,
            "max_width": null,
            "min_height": null,
            "min_width": null,
            "object_fit": null,
            "object_position": null,
            "order": null,
            "overflow": null,
            "overflow_x": null,
            "overflow_y": null,
            "padding": null,
            "right": null,
            "top": null,
            "visibility": null,
            "width": null
          }
        },
        "654b2f31131947fb8547d46147f660b3": {
          "model_module": "@jupyter-widgets/controls",
          "model_name": "DescriptionStyleModel",
          "model_module_version": "1.5.0",
          "state": {
            "_model_module": "@jupyter-widgets/controls",
            "_model_module_version": "1.5.0",
            "_model_name": "DescriptionStyleModel",
            "_view_count": null,
            "_view_module": "@jupyter-widgets/base",
            "_view_module_version": "1.2.0",
            "_view_name": "StyleView",
            "description_width": ""
          }
        },
        "4111fafb125e4822a3b81e7a17c01603": {
          "model_module": "@jupyter-widgets/base",
          "model_name": "LayoutModel",
          "model_module_version": "1.2.0",
          "state": {
            "_model_module": "@jupyter-widgets/base",
            "_model_module_version": "1.2.0",
            "_model_name": "LayoutModel",
            "_view_count": null,
            "_view_module": "@jupyter-widgets/base",
            "_view_module_version": "1.2.0",
            "_view_name": "LayoutView",
            "align_content": null,
            "align_items": null,
            "align_self": null,
            "border": null,
            "bottom": null,
            "display": null,
            "flex": null,
            "flex_flow": null,
            "grid_area": null,
            "grid_auto_columns": null,
            "grid_auto_flow": null,
            "grid_auto_rows": null,
            "grid_column": null,
            "grid_gap": null,
            "grid_row": null,
            "grid_template_areas": null,
            "grid_template_columns": null,
            "grid_template_rows": null,
            "height": null,
            "justify_content": null,
            "justify_items": null,
            "left": null,
            "margin": null,
            "max_height": null,
            "max_width": null,
            "min_height": null,
            "min_width": null,
            "object_fit": null,
            "object_position": null,
            "order": null,
            "overflow": null,
            "overflow_x": null,
            "overflow_y": null,
            "padding": null,
            "right": null,
            "top": null,
            "visibility": null,
            "width": null
          }
        },
        "fa0b06e8e71945be92a92c1000e9fc2a": {
          "model_module": "@jupyter-widgets/controls",
          "model_name": "ProgressStyleModel",
          "model_module_version": "1.5.0",
          "state": {
            "_model_module": "@jupyter-widgets/controls",
            "_model_module_version": "1.5.0",
            "_model_name": "ProgressStyleModel",
            "_view_count": null,
            "_view_module": "@jupyter-widgets/base",
            "_view_module_version": "1.2.0",
            "_view_name": "StyleView",
            "bar_color": null,
            "description_width": ""
          }
        },
        "506b066bbbb442378eda7c4ee82edd13": {
          "model_module": "@jupyter-widgets/base",
          "model_name": "LayoutModel",
          "model_module_version": "1.2.0",
          "state": {
            "_model_module": "@jupyter-widgets/base",
            "_model_module_version": "1.2.0",
            "_model_name": "LayoutModel",
            "_view_count": null,
            "_view_module": "@jupyter-widgets/base",
            "_view_module_version": "1.2.0",
            "_view_name": "LayoutView",
            "align_content": null,
            "align_items": null,
            "align_self": null,
            "border": null,
            "bottom": null,
            "display": null,
            "flex": null,
            "flex_flow": null,
            "grid_area": null,
            "grid_auto_columns": null,
            "grid_auto_flow": null,
            "grid_auto_rows": null,
            "grid_column": null,
            "grid_gap": null,
            "grid_row": null,
            "grid_template_areas": null,
            "grid_template_columns": null,
            "grid_template_rows": null,
            "height": null,
            "justify_content": null,
            "justify_items": null,
            "left": null,
            "margin": null,
            "max_height": null,
            "max_width": null,
            "min_height": null,
            "min_width": null,
            "object_fit": null,
            "object_position": null,
            "order": null,
            "overflow": null,
            "overflow_x": null,
            "overflow_y": null,
            "padding": null,
            "right": null,
            "top": null,
            "visibility": null,
            "width": null
          }
        },
        "8546dc7f2bfc47e29205b78ddce5ca31": {
          "model_module": "@jupyter-widgets/controls",
          "model_name": "DescriptionStyleModel",
          "model_module_version": "1.5.0",
          "state": {
            "_model_module": "@jupyter-widgets/controls",
            "_model_module_version": "1.5.0",
            "_model_name": "DescriptionStyleModel",
            "_view_count": null,
            "_view_module": "@jupyter-widgets/base",
            "_view_module_version": "1.2.0",
            "_view_name": "StyleView",
            "description_width": ""
          }
        },
        "fd0bd3d79f7149d292608e15d9c5c747": {
          "model_module": "@jupyter-widgets/controls",
          "model_name": "HBoxModel",
          "model_module_version": "1.5.0",
          "state": {
            "_dom_classes": [],
            "_model_module": "@jupyter-widgets/controls",
            "_model_module_version": "1.5.0",
            "_model_name": "HBoxModel",
            "_view_count": null,
            "_view_module": "@jupyter-widgets/controls",
            "_view_module_version": "1.5.0",
            "_view_name": "HBoxView",
            "box_style": "",
            "children": [
              "IPY_MODEL_8e948923dfac4fd98803e3ef3ebc1606",
              "IPY_MODEL_832e2f4ab48e4fc2a4a86dbb156d97f1",
              "IPY_MODEL_b2c7b522064345beb3b0d9dd1d7d779b"
            ],
            "layout": "IPY_MODEL_dd827b85d7cf4fd1b55944bbfa6a3522"
          }
        },
        "8e948923dfac4fd98803e3ef3ebc1606": {
          "model_module": "@jupyter-widgets/controls",
          "model_name": "HTMLModel",
          "model_module_version": "1.5.0",
          "state": {
            "_dom_classes": [],
            "_model_module": "@jupyter-widgets/controls",
            "_model_module_version": "1.5.0",
            "_model_name": "HTMLModel",
            "_view_count": null,
            "_view_module": "@jupyter-widgets/controls",
            "_view_module_version": "1.5.0",
            "_view_name": "HTMLView",
            "description": "",
            "description_tooltip": null,
            "layout": "IPY_MODEL_82d6c5fd80ea467c93cdf063c6169885",
            "placeholder": "​",
            "style": "IPY_MODEL_cc30af00be114d8dbcc55a29c6a4fda7",
            "value": "Downloading: 100%"
          }
        },
        "832e2f4ab48e4fc2a4a86dbb156d97f1": {
          "model_module": "@jupyter-widgets/controls",
          "model_name": "FloatProgressModel",
          "model_module_version": "1.5.0",
          "state": {
            "_dom_classes": [],
            "_model_module": "@jupyter-widgets/controls",
            "_model_module_version": "1.5.0",
            "_model_name": "FloatProgressModel",
            "_view_count": null,
            "_view_module": "@jupyter-widgets/controls",
            "_view_module_version": "1.5.0",
            "_view_name": "ProgressView",
            "bar_style": "success",
            "description": "",
            "description_tooltip": null,
            "layout": "IPY_MODEL_3976540d89204b7898550c639edc8c42",
            "max": 2631639353,
            "min": 0,
            "orientation": "horizontal",
            "style": "IPY_MODEL_f500f19ab77b42f1a9d8e7719bb33a5c",
            "value": 2631639353
          }
        },
        "b2c7b522064345beb3b0d9dd1d7d779b": {
          "model_module": "@jupyter-widgets/controls",
          "model_name": "HTMLModel",
          "model_module_version": "1.5.0",
          "state": {
            "_dom_classes": [],
            "_model_module": "@jupyter-widgets/controls",
            "_model_module_version": "1.5.0",
            "_model_name": "HTMLModel",
            "_view_count": null,
            "_view_module": "@jupyter-widgets/controls",
            "_view_module_version": "1.5.0",
            "_view_name": "HTMLView",
            "description": "",
            "description_tooltip": null,
            "layout": "IPY_MODEL_8f1393c237f64f68852ebab7453da0a0",
            "placeholder": "​",
            "style": "IPY_MODEL_651db18256204ae79a6d787970cc0443",
            "value": " 2.63G/2.63G [00:49&lt;00:00, 41.1MB/s]"
          }
        },
        "dd827b85d7cf4fd1b55944bbfa6a3522": {
          "model_module": "@jupyter-widgets/base",
          "model_name": "LayoutModel",
          "model_module_version": "1.2.0",
          "state": {
            "_model_module": "@jupyter-widgets/base",
            "_model_module_version": "1.2.0",
            "_model_name": "LayoutModel",
            "_view_count": null,
            "_view_module": "@jupyter-widgets/base",
            "_view_module_version": "1.2.0",
            "_view_name": "LayoutView",
            "align_content": null,
            "align_items": null,
            "align_self": null,
            "border": null,
            "bottom": null,
            "display": null,
            "flex": null,
            "flex_flow": null,
            "grid_area": null,
            "grid_auto_columns": null,
            "grid_auto_flow": null,
            "grid_auto_rows": null,
            "grid_column": null,
            "grid_gap": null,
            "grid_row": null,
            "grid_template_areas": null,
            "grid_template_columns": null,
            "grid_template_rows": null,
            "height": null,
            "justify_content": null,
            "justify_items": null,
            "left": null,
            "margin": null,
            "max_height": null,
            "max_width": null,
            "min_height": null,
            "min_width": null,
            "object_fit": null,
            "object_position": null,
            "order": null,
            "overflow": null,
            "overflow_x": null,
            "overflow_y": null,
            "padding": null,
            "right": null,
            "top": null,
            "visibility": null,
            "width": null
          }
        },
        "82d6c5fd80ea467c93cdf063c6169885": {
          "model_module": "@jupyter-widgets/base",
          "model_name": "LayoutModel",
          "model_module_version": "1.2.0",
          "state": {
            "_model_module": "@jupyter-widgets/base",
            "_model_module_version": "1.2.0",
            "_model_name": "LayoutModel",
            "_view_count": null,
            "_view_module": "@jupyter-widgets/base",
            "_view_module_version": "1.2.0",
            "_view_name": "LayoutView",
            "align_content": null,
            "align_items": null,
            "align_self": null,
            "border": null,
            "bottom": null,
            "display": null,
            "flex": null,
            "flex_flow": null,
            "grid_area": null,
            "grid_auto_columns": null,
            "grid_auto_flow": null,
            "grid_auto_rows": null,
            "grid_column": null,
            "grid_gap": null,
            "grid_row": null,
            "grid_template_areas": null,
            "grid_template_columns": null,
            "grid_template_rows": null,
            "height": null,
            "justify_content": null,
            "justify_items": null,
            "left": null,
            "margin": null,
            "max_height": null,
            "max_width": null,
            "min_height": null,
            "min_width": null,
            "object_fit": null,
            "object_position": null,
            "order": null,
            "overflow": null,
            "overflow_x": null,
            "overflow_y": null,
            "padding": null,
            "right": null,
            "top": null,
            "visibility": null,
            "width": null
          }
        },
        "cc30af00be114d8dbcc55a29c6a4fda7": {
          "model_module": "@jupyter-widgets/controls",
          "model_name": "DescriptionStyleModel",
          "model_module_version": "1.5.0",
          "state": {
            "_model_module": "@jupyter-widgets/controls",
            "_model_module_version": "1.5.0",
            "_model_name": "DescriptionStyleModel",
            "_view_count": null,
            "_view_module": "@jupyter-widgets/base",
            "_view_module_version": "1.2.0",
            "_view_name": "StyleView",
            "description_width": ""
          }
        },
        "3976540d89204b7898550c639edc8c42": {
          "model_module": "@jupyter-widgets/base",
          "model_name": "LayoutModel",
          "model_module_version": "1.2.0",
          "state": {
            "_model_module": "@jupyter-widgets/base",
            "_model_module_version": "1.2.0",
            "_model_name": "LayoutModel",
            "_view_count": null,
            "_view_module": "@jupyter-widgets/base",
            "_view_module_version": "1.2.0",
            "_view_name": "LayoutView",
            "align_content": null,
            "align_items": null,
            "align_self": null,
            "border": null,
            "bottom": null,
            "display": null,
            "flex": null,
            "flex_flow": null,
            "grid_area": null,
            "grid_auto_columns": null,
            "grid_auto_flow": null,
            "grid_auto_rows": null,
            "grid_column": null,
            "grid_gap": null,
            "grid_row": null,
            "grid_template_areas": null,
            "grid_template_columns": null,
            "grid_template_rows": null,
            "height": null,
            "justify_content": null,
            "justify_items": null,
            "left": null,
            "margin": null,
            "max_height": null,
            "max_width": null,
            "min_height": null,
            "min_width": null,
            "object_fit": null,
            "object_position": null,
            "order": null,
            "overflow": null,
            "overflow_x": null,
            "overflow_y": null,
            "padding": null,
            "right": null,
            "top": null,
            "visibility": null,
            "width": null
          }
        },
        "f500f19ab77b42f1a9d8e7719bb33a5c": {
          "model_module": "@jupyter-widgets/controls",
          "model_name": "ProgressStyleModel",
          "model_module_version": "1.5.0",
          "state": {
            "_model_module": "@jupyter-widgets/controls",
            "_model_module_version": "1.5.0",
            "_model_name": "ProgressStyleModel",
            "_view_count": null,
            "_view_module": "@jupyter-widgets/base",
            "_view_module_version": "1.2.0",
            "_view_name": "StyleView",
            "bar_color": null,
            "description_width": ""
          }
        },
        "8f1393c237f64f68852ebab7453da0a0": {
          "model_module": "@jupyter-widgets/base",
          "model_name": "LayoutModel",
          "model_module_version": "1.2.0",
          "state": {
            "_model_module": "@jupyter-widgets/base",
            "_model_module_version": "1.2.0",
            "_model_name": "LayoutModel",
            "_view_count": null,
            "_view_module": "@jupyter-widgets/base",
            "_view_module_version": "1.2.0",
            "_view_name": "LayoutView",
            "align_content": null,
            "align_items": null,
            "align_self": null,
            "border": null,
            "bottom": null,
            "display": null,
            "flex": null,
            "flex_flow": null,
            "grid_area": null,
            "grid_auto_columns": null,
            "grid_auto_flow": null,
            "grid_auto_rows": null,
            "grid_column": null,
            "grid_gap": null,
            "grid_row": null,
            "grid_template_areas": null,
            "grid_template_columns": null,
            "grid_template_rows": null,
            "height": null,
            "justify_content": null,
            "justify_items": null,
            "left": null,
            "margin": null,
            "max_height": null,
            "max_width": null,
            "min_height": null,
            "min_width": null,
            "object_fit": null,
            "object_position": null,
            "order": null,
            "overflow": null,
            "overflow_x": null,
            "overflow_y": null,
            "padding": null,
            "right": null,
            "top": null,
            "visibility": null,
            "width": null
          }
        },
        "651db18256204ae79a6d787970cc0443": {
          "model_module": "@jupyter-widgets/controls",
          "model_name": "DescriptionStyleModel",
          "model_module_version": "1.5.0",
          "state": {
            "_model_module": "@jupyter-widgets/controls",
            "_model_module_version": "1.5.0",
            "_model_name": "DescriptionStyleModel",
            "_view_count": null,
            "_view_module": "@jupyter-widgets/base",
            "_view_module_version": "1.2.0",
            "_view_name": "StyleView",
            "description_width": ""
          }
        }
      }
    }
  },
  "cells": [
    {
      "cell_type": "code",
      "source": [
        "!pip install transformers\n",
        "!pip install accelerate"
      ],
      "metadata": {
        "colab": {
          "base_uri": "https://localhost:8080/"
        },
        "id": "a6ImEkIogULK",
        "outputId": "641a78fd-7ad1-4069-aefa-b47dfa189bc7"
      },
      "execution_count": null,
      "outputs": [
        {
          "output_type": "stream",
          "name": "stdout",
          "text": [
            "Looking in indexes: https://pypi.org/simple, https://us-python.pkg.dev/colab-wheels/public/simple/\n",
            "Collecting transformers\n",
            "  Downloading transformers-4.24.0-py3-none-any.whl (5.5 MB)\n",
            "\u001b[K     |████████████████████████████████| 5.5 MB 40.5 MB/s \n",
            "\u001b[?25hRequirement already satisfied: requests in /usr/local/lib/python3.7/dist-packages (from transformers) (2.23.0)\n",
            "Collecting tokenizers!=0.11.3,<0.14,>=0.11.1\n",
            "  Downloading tokenizers-0.13.2-cp37-cp37m-manylinux_2_17_x86_64.manylinux2014_x86_64.whl (7.6 MB)\n",
            "\u001b[K     |████████████████████████████████| 7.6 MB 45.6 MB/s \n",
            "\u001b[?25hRequirement already satisfied: filelock in /usr/local/lib/python3.7/dist-packages (from transformers) (3.8.0)\n",
            "Requirement already satisfied: importlib-metadata in /usr/local/lib/python3.7/dist-packages (from transformers) (4.13.0)\n",
            "Requirement already satisfied: numpy>=1.17 in /usr/local/lib/python3.7/dist-packages (from transformers) (1.21.6)\n",
            "Requirement already satisfied: regex!=2019.12.17 in /usr/local/lib/python3.7/dist-packages (from transformers) (2022.6.2)\n",
            "Requirement already satisfied: pyyaml>=5.1 in /usr/local/lib/python3.7/dist-packages (from transformers) (6.0)\n",
            "Requirement already satisfied: tqdm>=4.27 in /usr/local/lib/python3.7/dist-packages (from transformers) (4.64.1)\n",
            "Requirement already satisfied: packaging>=20.0 in /usr/local/lib/python3.7/dist-packages (from transformers) (21.3)\n",
            "Collecting huggingface-hub<1.0,>=0.10.0\n",
            "  Downloading huggingface_hub-0.11.0-py3-none-any.whl (182 kB)\n",
            "\u001b[K     |████████████████████████████████| 182 kB 71.3 MB/s \n",
            "\u001b[?25hRequirement already satisfied: typing-extensions>=3.7.4.3 in /usr/local/lib/python3.7/dist-packages (from huggingface-hub<1.0,>=0.10.0->transformers) (4.1.1)\n",
            "Requirement already satisfied: pyparsing!=3.0.5,>=2.0.2 in /usr/local/lib/python3.7/dist-packages (from packaging>=20.0->transformers) (3.0.9)\n",
            "Requirement already satisfied: zipp>=0.5 in /usr/local/lib/python3.7/dist-packages (from importlib-metadata->transformers) (3.10.0)\n",
            "Requirement already satisfied: chardet<4,>=3.0.2 in /usr/local/lib/python3.7/dist-packages (from requests->transformers) (3.0.4)\n",
            "Requirement already satisfied: urllib3!=1.25.0,!=1.25.1,<1.26,>=1.21.1 in /usr/local/lib/python3.7/dist-packages (from requests->transformers) (1.24.3)\n",
            "Requirement already satisfied: certifi>=2017.4.17 in /usr/local/lib/python3.7/dist-packages (from requests->transformers) (2022.9.24)\n",
            "Requirement already satisfied: idna<3,>=2.5 in /usr/local/lib/python3.7/dist-packages (from requests->transformers) (2.10)\n",
            "Installing collected packages: tokenizers, huggingface-hub, transformers\n",
            "Successfully installed huggingface-hub-0.11.0 tokenizers-0.13.2 transformers-4.24.0\n",
            "Looking in indexes: https://pypi.org/simple, https://us-python.pkg.dev/colab-wheels/public/simple/\n",
            "Collecting accelerate\n",
            "  Downloading accelerate-0.14.0-py3-none-any.whl (175 kB)\n",
            "\u001b[K     |████████████████████████████████| 175 kB 12.9 MB/s \n",
            "\u001b[?25hRequirement already satisfied: numpy>=1.17 in /usr/local/lib/python3.7/dist-packages (from accelerate) (1.21.6)\n",
            "Requirement already satisfied: psutil in /usr/local/lib/python3.7/dist-packages (from accelerate) (5.4.8)\n",
            "Requirement already satisfied: torch>=1.4.0 in /usr/local/lib/python3.7/dist-packages (from accelerate) (1.12.1+cu113)\n",
            "Requirement already satisfied: pyyaml in /usr/local/lib/python3.7/dist-packages (from accelerate) (6.0)\n",
            "Requirement already satisfied: packaging>=20.0 in /usr/local/lib/python3.7/dist-packages (from accelerate) (21.3)\n",
            "Requirement already satisfied: pyparsing!=3.0.5,>=2.0.2 in /usr/local/lib/python3.7/dist-packages (from packaging>=20.0->accelerate) (3.0.9)\n",
            "Requirement already satisfied: typing-extensions in /usr/local/lib/python3.7/dist-packages (from torch>=1.4.0->accelerate) (4.1.1)\n",
            "Installing collected packages: accelerate\n",
            "Successfully installed accelerate-0.14.0\n"
          ]
        }
      ]
    },
    {
      "cell_type": "code",
      "execution_count": null,
      "metadata": {
        "id": "8w1MJ486fzAi",
        "colab": {
          "base_uri": "https://localhost:8080/",
          "height": 209,
          "referenced_widgets": [
            "1af24981e1234551bd2ef9f85167417e",
            "f39129100c464816a8b0004ee4efa57a",
            "1f36d6926941458bb14e4a09f288a300",
            "7defee851ef840b89a457cb6b67111a3",
            "b5c7259993194f43ac0fc59383db51fd",
            "c6485c5fbb4145e5bf315c77f5a72997",
            "05bd2742e4994ddf8bf5fd6106a92a91",
            "9dcb32ef684c4ab18c2dd760a0076c67",
            "aecd41de97ad456f91e955a5e0614bf3",
            "e12ddc48c5f24edfab1d8c5ff0e742fd",
            "b2479a9103b6490ba40622da7e4fba10",
            "8ecc1db4c1c447a38db29749459bdb35",
            "fd33faa8418144d5aca60e995d79a734",
            "c9fcf1181e4b40c8aa5729ed42657417",
            "b434656492c746e89cb2006ffae1dd45",
            "a9e452cfdde44ceda4b9f7beb66ad18d",
            "494c902c6b344c65b3c16939767de69f",
            "47e251b3d70e4a4e8333a248faf39523",
            "a55c1628ff184b8889c17ffce1e0453a",
            "a3ac276ffc6243c6bef916c6bd488807",
            "c442ae7b3f9245e895d69677aadb5fe6",
            "6aa6fb2890d24b4ea3266d1c824348db",
            "218460e32f3640b69f9cd1a9b363a461",
            "118fd164a3fa477a948ed4c564b15f65",
            "6d5375b35dc641558c1c2157e55bd5ea",
            "805848f77faa4b1cba0cfe821dff36af",
            "cd97c53cd7a74411824d14a05baa5574",
            "bfa608137a84400189eb2ee78d612152",
            "00cf90946136484b8cde47913339b2bb",
            "62d3b0013a4447b68f772e135f37d684",
            "3d2e00ec19564b818934aee21db36dde",
            "efb02eb6e56b470885afb87446efa7bb",
            "44268e05e1954370b7ca607fbdb05872",
            "8429cb5079354a2b98b1827859238e96",
            "69af404edc544ed79b604483d0f04d1c",
            "08e32c645b524ca69a397352b0d00c74",
            "4ac759554b39456780b12ea21145c91f",
            "d11273e3c2bf4162b0e0debedbe5b530",
            "944715a89587421e99f664b372077382",
            "2a9fe4e4772b4f329b66e9664f408cf8",
            "61261932720d4006a46e5fe1b465e8b3",
            "e8b1376adfd34dbcab0497e48b8faefa",
            "60d96bb6117a4d6c90f262156aa6debe",
            "712ea3eed98647b4b635756a3fdae52b",
            "f1efa0e7bb2e4e118a5d34f14269b806",
            "fbe3114edf01480883bba53498ee188c",
            "e22bac5901ef4f2d96aadb39c19cbe39",
            "1ca545a038b147239f15415b66852c96",
            "81c3b3f2f6ce401997a4b57520694921",
            "ccf95dfdac254da597f649e7b03e4416",
            "654b2f31131947fb8547d46147f660b3",
            "4111fafb125e4822a3b81e7a17c01603",
            "fa0b06e8e71945be92a92c1000e9fc2a",
            "506b066bbbb442378eda7c4ee82edd13",
            "8546dc7f2bfc47e29205b78ddce5ca31",
            "fd0bd3d79f7149d292608e15d9c5c747",
            "8e948923dfac4fd98803e3ef3ebc1606",
            "832e2f4ab48e4fc2a4a86dbb156d97f1",
            "b2c7b522064345beb3b0d9dd1d7d779b",
            "dd827b85d7cf4fd1b55944bbfa6a3522",
            "82d6c5fd80ea467c93cdf063c6169885",
            "cc30af00be114d8dbcc55a29c6a4fda7",
            "3976540d89204b7898550c639edc8c42",
            "f500f19ab77b42f1a9d8e7719bb33a5c",
            "8f1393c237f64f68852ebab7453da0a0",
            "651db18256204ae79a6d787970cc0443"
          ]
        },
        "outputId": "e38c82f7-f528-43ea-a004-0f72234d39f8"
      },
      "outputs": [
        {
          "output_type": "display_data",
          "data": {
            "text/plain": [
              "Downloading:   0%|          | 0.00/685 [00:00<?, ?B/s]"
            ],
            "application/vnd.jupyter.widget-view+json": {
              "version_major": 2,
              "version_minor": 0,
              "model_id": "1af24981e1234551bd2ef9f85167417e"
            }
          },
          "metadata": {}
        },
        {
          "output_type": "display_data",
          "data": {
            "text/plain": [
              "Downloading:   0%|          | 0.00/653 [00:00<?, ?B/s]"
            ],
            "application/vnd.jupyter.widget-view+json": {
              "version_major": 2,
              "version_minor": 0,
              "model_id": "8ecc1db4c1c447a38db29749459bdb35"
            }
          },
          "metadata": {}
        },
        {
          "output_type": "display_data",
          "data": {
            "text/plain": [
              "Downloading:   0%|          | 0.00/899k [00:00<?, ?B/s]"
            ],
            "application/vnd.jupyter.widget-view+json": {
              "version_major": 2,
              "version_minor": 0,
              "model_id": "218460e32f3640b69f9cd1a9b363a461"
            }
          },
          "metadata": {}
        },
        {
          "output_type": "display_data",
          "data": {
            "text/plain": [
              "Downloading:   0%|          | 0.00/456k [00:00<?, ?B/s]"
            ],
            "application/vnd.jupyter.widget-view+json": {
              "version_major": 2,
              "version_minor": 0,
              "model_id": "8429cb5079354a2b98b1827859238e96"
            }
          },
          "metadata": {}
        },
        {
          "output_type": "display_data",
          "data": {
            "text/plain": [
              "Downloading:   0%|          | 0.00/441 [00:00<?, ?B/s]"
            ],
            "application/vnd.jupyter.widget-view+json": {
              "version_major": 2,
              "version_minor": 0,
              "model_id": "f1efa0e7bb2e4e118a5d34f14269b806"
            }
          },
          "metadata": {}
        },
        {
          "output_type": "display_data",
          "data": {
            "text/plain": [
              "Downloading:   0%|          | 0.00/2.63G [00:00<?, ?B/s]"
            ],
            "application/vnd.jupyter.widget-view+json": {
              "version_major": 2,
              "version_minor": 0,
              "model_id": "fd0bd3d79f7149d292608e15d9c5c747"
            }
          },
          "metadata": {}
        }
      ],
      "source": [
        "import torch\n",
        "from transformers import GPTJForCausalLM, AutoTokenizer, OPTForCausalLM\n",
        "from transformers import set_seed\n",
        "import itertools\n",
        "\n",
        "device = torch.device(\"cuda\" if torch.cuda.is_available() else \"cpu\")\n",
        "\n",
        "model_name = \"facebook/opt-1.3b\"\n",
        "\n",
        "tokenizer = AutoTokenizer.from_pretrained(model_name)\n",
        "model = OPTForCausalLM.from_pretrained(model_name)\n",
        "\n",
        "model = model.to(device)"
      ]
    },
    {
      "cell_type": "code",
      "source": [
        "genus = ['Nelumba',\n",
        "         'Magnolia',\n",
        "         'Strelitzia',\n",
        "         'Plumeria',\n",
        "         'Passiflora',\n",
        "         'Heliconia',\n",
        "         'Helianthus',\n",
        "         'Alstroemeria',\n",
        "         'Convallaria',\n",
        "         'Crocus',\n",
        "         'Cattleya',\n",
        "         'Calendula',\n",
        "         'Dahlia',\n",
        "         'Delphinium'\n",
        "         'Iris',\n",
        "         'Jasminum',\n",
        "         'Malva',\n",
        "         'Gardenia',\n",
        "         'Petunia',\n",
        "         'Lilium',\n",
        "         'Lobelia',\n",
        "         'Lamprocapnos',\n",
        "         'Hydrangea',\n",
        "         'Guzmania',\n",
        "         'Leontopodium',\n",
        "         'Luzuriaga'\n",
        "         ]\n",
        "\n",
        "\n",
        "adjectives = ['Rubra',\n",
        "              'Caerulea',\n",
        "              'Viridis',\n",
        "              'Viridiflora',\n",
        "              'Alba',\n",
        "              'Rosea',\n",
        "              'Aurea',\n",
        "              'Japonica',\n",
        "              'Amazonensis',\n",
        "              'Italicum',\n",
        "              'Americana',\n",
        "              'Sinensis',\n",
        "              'Germanica',\n",
        "              'Amakusaensis',\n",
        "              'Anatoliensis',\n",
        "              'Andalusiensis',\n",
        "              'Asturiensis',\n",
        "              'Bengalensis',\n",
        "              'Canariensis',\n",
        "              'Pulcherrima',\n",
        "              'Atrox',\n",
        "              'Diamondi',\n",
        "              'Purpurata',\n",
        "              'Terrificus',\n",
        "              'Darwinii'\n",
        "]"
      ],
      "metadata": {
        "id": "mZ-E1b5T3bHb"
      },
      "execution_count": null,
      "outputs": []
    },
    {
      "cell_type": "code",
      "source": [
        "all_descriptions = dict({})\n",
        "from tqdm import tqdm"
      ],
      "metadata": {
        "id": "cYOaLAW44WAT"
      },
      "execution_count": null,
      "outputs": []
    },
    {
      "cell_type": "code",
      "source": [
        "for gen,adjective in tqdm(itertools.product(genus,adjectives)):\n",
        "  set_seed(1234)\n",
        "  name = f'{gen} {adjective}'\n",
        "  print(name)\n",
        "\n",
        "  prompt = f'Summarized description of the characteristics of the newly found flower species {name}. (Field guide of Botany, Hylis et al. 2022):'\n",
        "  input_ids = tokenizer(prompt, return_tensors=\"pt\").input_ids.to(device)\n",
        "\n",
        "  generated_ids = model.generate(input_ids, \n",
        "                                temperature=3.0, \n",
        "                                max_length=100,\n",
        "                                repetition_penalty = 1.5,\n",
        "                                top_p = 1,\n",
        "                                do_sample = True,\n",
        "                                )                               \n",
        "  generated_text = tokenizer.decode(generated_ids[0])\n",
        "\n",
        "  print(f'-'*100)\n",
        "  print(generated_text+'\\n')\n",
        "  print(f'-'*100)\n",
        "  all_descriptions[name] = generated_text"
      ],
      "metadata": {
        "colab": {
          "base_uri": "https://localhost:8080/"
        },
        "id": "0qTbb85zgGEZ",
        "outputId": "3018e385-0baa-4706-db79-84dd15c3d3e6"
      },
      "execution_count": null,
      "outputs": [
        {
          "output_type": "stream",
          "name": "stderr",
          "text": [
            "\r0it [00:00, ?it/s]"
          ]
        },
        {
          "output_type": "stream",
          "name": "stdout",
          "text": [
            "Nelumba Rubra\n"
          ]
        },
        {
          "output_type": "stream",
          "name": "stderr",
          "text": [
            "\r1it [00:04,  4.32s/it]"
          ]
        },
        {
          "output_type": "stream",
          "name": "stdout",
          "text": [
            "----------------------------------------------------------------------------------------------------\n",
            "</s>Summarized description of the characteristics of the newly found flower species Nelumba Rubra. (Field guide of Botany, Hylis et al. 2022):\n",
            "3 Flower shape is pepulated white sepals surrounding to black lobes around petals which extend from stem edge. A small area appears as yellow patch toward crown margin - usually between four with very wide angle branches spreading 1‚15 cm over 6¼cm plant body that produces about 12-29 bloom\n",
            "\n",
            "----------------------------------------------------------------------------------------------------\n",
            "Nelumba Caerulea\n"
          ]
        },
        {
          "output_type": "stream",
          "name": "stderr",
          "text": [
            "\r2it [00:06,  2.83s/it]"
          ]
        },
        {
          "output_type": "stream",
          "name": "stdout",
          "text": [
            "----------------------------------------------------------------------------------------------------\n",
            "</s>Summarized description of the characteristics of the newly found flower species Nelumba Caerulea. (Field guide of Botany, Hylis et al. 2022):\n",
            "3 Flower shape is asymmepistillate and polysipessumish petals with small staining spots. A series five large purple coloration veins running down each leaf from stem to top surface have been revealed; 2 linear aphyte markings 3-16 mm long (small) yellow\n",
            "\n",
            "----------------------------------------------------------------------------------------------------\n",
            "Nelumba Viridis\n"
          ]
        },
        {
          "output_type": "stream",
          "name": "stderr",
          "text": [
            "\r3it [00:07,  2.26s/it]"
          ]
        },
        {
          "output_type": "stream",
          "name": "stdout",
          "text": [
            "----------------------------------------------------------------------------------------------------\n",
            "</s>Summarized description of the characteristics of the newly found flower species Nelumba Viridis. (Field guide of Botany, Hylis et al. 2022):\n",
            "3 Flower shape is asymmepistillate and has up to eight lateral inflorescence flabbers from axillary sepals having five large leaves with more veins or petunions between every 2 adjacent leaflets except where it bears short lobenoses 4 Leaf margin smooth along border 5 Lobes bibimbubrous\n",
            "\n",
            "----------------------------------------------------------------------------------------------------\n",
            "Nelumba Viridiflora\n"
          ]
        },
        {
          "output_type": "stream",
          "name": "stderr",
          "text": [
            "\r4it [00:09,  2.12s/it]"
          ]
        },
        {
          "output_type": "stream",
          "name": "stdout",
          "text": [
            "----------------------------------------------------------------------------------------------------\n",
            "</s>Summarized description of the characteristics of the newly found flower species Nelumba Viridiflora. (Field guide of Botany, Hylis et al. 2022):\n",
            "3 Flower shape is pepulated white sepals surrounding with blosomes to a pink central ring from stem edge. Fruit 1¼–�1” d diameter x 15mm long, yellowy sweet on opening then creamish-purple tine along fruit body giving away as an\n",
            "\n",
            "----------------------------------------------------------------------------------------------------\n",
            "Nelumba Alba\n"
          ]
        },
        {
          "output_type": "stream",
          "name": "stderr",
          "text": [
            "\r5it [00:11,  2.10s/it]"
          ]
        },
        {
          "output_type": "stream",
          "name": "stdout",
          "text": [
            "----------------------------------------------------------------------------------------------------\n",
            "</s>Summarized description of the characteristics of the newly found flower species Nelumba Alba. (Field guide of Botany, Hylis et al. 2022):\n",
            "3 Flower shape is pepulated white sepals surrounding to black lobes around petals which extend from stem more than at 1¼cm across... This variety differs somewhat when examined by examining specimens upwind [l1 2 3 n1 4 6 t4 10] in terms if light colors of each different\n",
            "\n",
            "----------------------------------------------------------------------------------------------------\n",
            "Nelumba Rosea\n"
          ]
        },
        {
          "output_type": "stream",
          "name": "stderr",
          "text": [
            "\r6it [00:14,  2.27s/it]"
          ]
        },
        {
          "output_type": "stream",
          "name": "stdout",
          "text": [
            "----------------------------------------------------------------------------------------------------\n",
            "</s>Summarized description of the characteristics of the newly found flower species Nelumba Rosea. (Field guide of Botany, Hylis et al. 2022):\n",
            "3 Flower shape is pepulated white sepals surrounding to black lobes around petals with small black-grey \"winking patches\"—noted more strongly if viewed close up from this angle, earthed through them; 2 lobicles larger overall & wider along center line —towards their own axill\n",
            "\n",
            "----------------------------------------------------------------------------------------------------\n",
            "Nelumba Aurea\n"
          ]
        },
        {
          "output_type": "stream",
          "name": "stderr",
          "text": [
            "\r7it [00:16,  2.13s/it]"
          ]
        },
        {
          "output_type": "stream",
          "name": "stdout",
          "text": [
            "----------------------------------------------------------------------------------------------------\n",
            "</s>Summarized description of the characteristics of the newly found flower species Nelumba Aurea. (Field guide of Botany, Hylis et al. 2022):\n",
            "3 Flower shape is asymmepistillate and has up to eight lateral inflorescence flabbers from axillary sepals having five large leaves with more telsome than leaf leaflets on 2 adjacent arms but less margin; stache not attached over centre stalk-reproductious apodes bower 3; 1\n",
            "\n",
            "----------------------------------------------------------------------------------------------------\n",
            "Nelumba Japonica\n"
          ]
        },
        {
          "output_type": "stream",
          "name": "stderr",
          "text": [
            "\r8it [00:17,  2.03s/it]"
          ]
        },
        {
          "output_type": "stream",
          "name": "stdout",
          "text": [
            "----------------------------------------------------------------------------------------------------\n",
            "</s>Summarized description of the characteristics of the newly found flower species Nelumba Japonica. (Field guide of Botany, Hylis et al. 2022):\n",
            "3 Flower shape is pepulated white sepals surrounding to black lobes around petals with small black-grey anwils which cover their coloration more or less up till this end 2 White yellow starfish on each strophe not larger 4 6 Green rostrochordae (small ray segments covering\n",
            "\n",
            "----------------------------------------------------------------------------------------------------\n",
            "Nelumba Amazonensis\n"
          ]
        },
        {
          "output_type": "stream",
          "name": "stderr",
          "text": [
            "\r9it [00:19,  2.04s/it]"
          ]
        },
        {
          "output_type": "stream",
          "name": "stdout",
          "text": [
            "----------------------------------------------------------------------------------------------------\n",
            "</s>Summarized description of the characteristics of the newly found flower species Nelumba Amazonensis. (Field guide of Botany, Hylis et al. 2022):\n",
            "3 Flower shape is pepulated white sepals surrounding to black lobes around petals with small black-grey \"winking patches\"—noted more strongly if viewed out from angle without opening camera upfield [6; 2 and 33], yellow centre below lobe edged purple colouring (possibly) [7(\n",
            "\n",
            "----------------------------------------------------------------------------------------------------\n",
            "Nelumba Italicum\n"
          ]
        },
        {
          "output_type": "stream",
          "name": "stderr",
          "text": [
            "\r10it [00:22,  2.13s/it]"
          ]
        },
        {
          "output_type": "stream",
          "name": "stdout",
          "text": [
            "----------------------------------------------------------------------------------------------------\n",
            "</s>Summarized description of the characteristics of the newly found flower species Nelumba Italicum. (Field guide of Botany, Hylis et al. 2022):\n",
            "3 Flower shape is pepulated white sepals surrounding to black lobes around petals which extend from stem edge. A small area appears as yellow patch toward crown margin - usually between four with very wide angle branches spreading 1‚15 cm over 6¼cm plant body that produces about 12-29 bloom\n",
            "\n",
            "----------------------------------------------------------------------------------------------------\n",
            "Nelumba Americana\n"
          ]
        },
        {
          "output_type": "stream",
          "name": "stderr",
          "text": [
            "\r11it [00:24,  2.14s/it]"
          ]
        },
        {
          "output_type": "stream",
          "name": "stdout",
          "text": [
            "----------------------------------------------------------------------------------------------------\n",
            "</s>Summarized description of the characteristics of the newly found flower species Nelumba Americana. (Field guide of Botany, Hylis et al. 2022):\n",
            "3 Flower shape is asymmepistillate and has up to eight lateral inflorescence flabbers from axillary sepals having five large leaves with more telsome than leaf leaflets on 2 adjacent arms but less margin; stache not attached over centre stalk-reproductious apodes bower 3; 1\n",
            "\n",
            "----------------------------------------------------------------------------------------------------\n",
            "Nelumba Sinensis\n"
          ]
        },
        {
          "output_type": "stream",
          "name": "stderr",
          "text": [
            "\r12it [00:26,  2.06s/it]"
          ]
        },
        {
          "output_type": "stream",
          "name": "stdout",
          "text": [
            "----------------------------------------------------------------------------------------------------\n",
            "</s>Summarized description of the characteristics of the newly found flower species Nelumba Sinensis. (Field guide of Botany, Hylis et al. 2022):\n",
            "3 Flower shape is pepulated white sepals surrounding to black lobes around petals which extend from stem edge. A small area appears as yellow patch toward crown margin - usually between four with very wide angle branches spreading 1‚15 cm over 6¼cm plant body that produces about 12-29 bloom\n",
            "\n",
            "----------------------------------------------------------------------------------------------------\n",
            "Nelumba Germanica\n"
          ]
        },
        {
          "output_type": "stream",
          "name": "stderr",
          "text": [
            "\r13it [00:27,  1.91s/it]"
          ]
        },
        {
          "output_type": "stream",
          "name": "stdout",
          "text": [
            "----------------------------------------------------------------------------------------------------\n",
            "</s>Summarized description of the characteristics of the newly found flower species Nelumba Germanica. (Field guide of Botany, Hylis et al. 2022):\n",
            "3 Flower shape is asymmepistillate and has up to eight lateral inflorescence flabbers from axillary sepals having five large leaves with more veins or petunions between every 2 adjacent leaflets except where it bears long lobenlets 4 Leaf margin smooth along first 5 apothacians 3 Dummy\n",
            "\n",
            "----------------------------------------------------------------------------------------------------\n",
            "Nelumba Amakusaensis\n"
          ]
        },
        {
          "output_type": "stream",
          "name": "stderr",
          "text": [
            "\r14it [00:29,  1.80s/it]"
          ]
        },
        {
          "output_type": "stream",
          "name": "stdout",
          "text": [
            "----------------------------------------------------------------------------------------------------\n",
            "</s>Summarized description of the characteristics of the newly found flower species Nelumba Amakusaensis. (Field guide of Botany, Hylis et al. 2022):\n",
            "3 Flower shape is pepulated white sepals surrounding with blosomes to a pink central nucleus from stem edge. Fruit flesh smooth and transparent skin ragged or finely lined when hard by 2–8 green spots on each end separated between these 4 centers 3 Dappled 5 Pairs (16-\n",
            "\n",
            "----------------------------------------------------------------------------------------------------\n",
            "Nelumba Anatoliensis\n"
          ]
        },
        {
          "output_type": "stream",
          "name": "stderr",
          "text": [
            "\r15it [00:30,  1.72s/it]"
          ]
        },
        {
          "output_type": "stream",
          "name": "stdout",
          "text": [
            "----------------------------------------------------------------------------------------------------\n",
            "</s>Summarized description of the characteristics of the newly found flower species Nelumba Anatoliensis. (Field guide of Botany, Hylis et al. 2022):\n",
            "3 Flower shape is pepulated white sepals surrounding with darker pink veins around petals which extend from stem edge. A small area appears as yellow patch toward crown margin - usually between four 2–8 mm branches on 1 st and a larger 4 cm 3-chun 5s 6 bsp segments\n",
            "\n",
            "----------------------------------------------------------------------------------------------------\n",
            "Nelumba Andalusiensis\n"
          ]
        },
        {
          "output_type": "stream",
          "name": "stderr",
          "text": [
            "\r16it [00:32,  1.66s/it]"
          ]
        },
        {
          "output_type": "stream",
          "name": "stdout",
          "text": [
            "----------------------------------------------------------------------------------------------------\n",
            "</s>Summarized description of the characteristics of the newly found flower species Nelumba Andalusiensis. (Field guide of Botany, Hylis et al. 2022):\n",
            "3 Flower shape is pepulated white sepals surrounding to black lobes around petals with small black-grey anwils which cover their coloration more or less close when examined by means very near green spots on each end and between these yellowish eyes along its border 5 Spare parts - 3\n",
            "\n",
            "----------------------------------------------------------------------------------------------------\n",
            "Nelumba Asturiensis\n"
          ]
        },
        {
          "output_type": "stream",
          "name": "stderr",
          "text": [
            "\r17it [00:34,  1.63s/it]"
          ]
        },
        {
          "output_type": "stream",
          "name": "stdout",
          "text": [
            "----------------------------------------------------------------------------------------------------\n",
            "</s>Summarized description of the characteristics of the newly found flower species Nelumba Asturiensis. (Field guide of Botany, Hylis et al. 2022):\n",
            "3 Flower shape is pepulated white sepals surrounding with blosomes to a pink central nucleus from stem edge. Fruit 1¼–�1” d diameter x 15mm long, yellowy sweet skin; 2 3 or larger yellowish tanged hairs running down each cell bower of fruit\n",
            "\n",
            "----------------------------------------------------------------------------------------------------\n",
            "Nelumba Bengalensis\n"
          ]
        },
        {
          "output_type": "stream",
          "name": "stderr",
          "text": [
            "\r18it [00:35,  1.62s/it]"
          ]
        },
        {
          "output_type": "stream",
          "name": "stdout",
          "text": [
            "----------------------------------------------------------------------------------------------------\n",
            "</s>Summarized description of the characteristics of the newly found flower species Nelumba Bengalensis. (Field guide of Botany, Hylis et al. 2022):\n",
            "3 Flower shape is pepulated white sepals surrounding to black lobes around petals which extend from stem edge. A small area appears as yellow patch toward crown margin - usually between four with very wide angle branches spreading; 2 3 pairs stomatal position along center row 5 ovules (16-7).\n",
            "\n",
            "----------------------------------------------------------------------------------------------------\n",
            "Nelumba Canariensis\n"
          ]
        },
        {
          "output_type": "stream",
          "name": "stderr",
          "text": [
            "\r19it [00:37,  1.60s/it]"
          ]
        },
        {
          "output_type": "stream",
          "name": "stdout",
          "text": [
            "----------------------------------------------------------------------------------------------------\n",
            "</s>Summarized description of the characteristics of the newly found flower species Nelumba Canariensis. (Field guide of Botany, Hylis et al. 2022):\n",
            "3 Flower shape is pepulated white sepals surrounding to darker pink or fusciparentaline staining mixed between purple flowers which cover their coloration more or less poorly when examined by means close up due to it; 2 It blooms over 6 days after its flowering in dry soils (no significant cold\n",
            "\n",
            "----------------------------------------------------------------------------------------------------\n",
            "Nelumba Pulcherrima\n"
          ]
        },
        {
          "output_type": "stream",
          "name": "stderr",
          "text": [
            "\r20it [00:38,  1.58s/it]"
          ]
        },
        {
          "output_type": "stream",
          "name": "stdout",
          "text": [
            "----------------------------------------------------------------------------------------------------\n",
            "</s>Summarized description of the characteristics of the newly found flower species Nelumba Pulcherrima. (Field guide of Botany, Hylis et al. 2022):\n",
            "3 Flower shape is pepulated white sepals surrounding with darker pink veins around petals which extend from stem edge. A small area appears as yellow patch toward crown margin - usually between four 2–8 mm branches on 1 st and a larger 4 cm 3-chun 5s 6 bsp segments\n",
            "\n",
            "----------------------------------------------------------------------------------------------------\n",
            "Nelumba Atrox\n"
          ]
        },
        {
          "output_type": "stream",
          "name": "stderr",
          "text": [
            "\r21it [00:40,  1.58s/it]"
          ]
        },
        {
          "output_type": "stream",
          "name": "stdout",
          "text": [
            "----------------------------------------------------------------------------------------------------\n",
            "</s>Summarized description of the characteristics of the newly found flower species Nelumba Atrox. (Field guide of Botany, Hylis et al. 2022):\n",
            "3 Flower shape is asymmepistillate and has up to eight lateral inflorescence flabbers from axillary sepals having five large leaves with more veins or petunions between every 2 adjacent leaflets except where it bears long loben stomapes 3 Dappered apical cuprospacing with 10\n",
            "\n",
            "----------------------------------------------------------------------------------------------------\n",
            "Nelumba Diamondi\n"
          ]
        },
        {
          "output_type": "stream",
          "name": "stderr",
          "text": [
            "\r22it [00:41,  1.59s/it]"
          ]
        },
        {
          "output_type": "stream",
          "name": "stdout",
          "text": [
            "----------------------------------------------------------------------------------------------------\n",
            "</s>Summarized description of the characteristics of the newly found flower species Nelumba Diamondi. (Field guide of Botany, Hylis et al. 2022):\n",
            "3 Flower shape is pepulated white sepals surrounding to black lobes around petals with small black-grey \"winking patches\"—noted more strongly if viewed close up from this angle, earthed through them; 2 lobicles larger overall & wider along center line —towards their own axill\n",
            "\n",
            "----------------------------------------------------------------------------------------------------\n",
            "Nelumba Purpurata\n"
          ]
        },
        {
          "output_type": "stream",
          "name": "stderr",
          "text": [
            "\r23it [00:43,  1.61s/it]"
          ]
        },
        {
          "output_type": "stream",
          "name": "stdout",
          "text": [
            "----------------------------------------------------------------------------------------------------\n",
            "</s>Summarized description of the characteristics of the newly found flower species Nelumba Purpurata. (Field guide of Botany, Hylis et al. 2022):\n",
            "3 Flower shape is asymmepistichate and polyptyphidophyseous but sometimes also rhimpetracholate or petioated with irregular veins or linear streaks when long axis branches over all four branches [1 2 | nou·r][[nun máfē désu\n",
            "\n",
            "----------------------------------------------------------------------------------------------------\n",
            "Nelumba Terrificus\n"
          ]
        },
        {
          "output_type": "stream",
          "name": "stderr",
          "text": [
            "\r24it [00:45,  1.64s/it]"
          ]
        },
        {
          "output_type": "stream",
          "name": "stdout",
          "text": [
            "----------------------------------------------------------------------------------------------------\n",
            "</s>Summarized description of the characteristics of the newly found flower species Nelumba Terrificus. (Field guide of Botany, Hylis et al. 2022):\n",
            "3 Flower shape is pepulated white sepals surrounding to black lobes around petals which extend from stem edge. A small area appears as yellow patch toward crown margin - usually between four with green in middle five on each end and a larger yellow centre 3 Dappled light spots 6 Topper of colour\n",
            "\n",
            "----------------------------------------------------------------------------------------------------\n",
            "Nelumba Darwinii\n"
          ]
        },
        {
          "output_type": "stream",
          "name": "stderr",
          "text": [
            "\r25it [00:46,  1.62s/it]"
          ]
        },
        {
          "output_type": "stream",
          "name": "stdout",
          "text": [
            "----------------------------------------------------------------------------------------------------\n",
            "</s>Summarized description of the characteristics of the newly found flower species Nelumba Darwinii. (Field guide of Botany, Hylis et al. 2022):\n",
            "3 Flower shape is asymmepistillate and polyptyphosophyllous but sometimes also rhoncusphylly symmetric 5– 7 centimeters elongatoanterix pungendoctoral lobs on 1 2 3 nadiae 6 tectorals with apical margins as umbolas with 10\n",
            "\n",
            "----------------------------------------------------------------------------------------------------\n",
            "Magnolia Rubra\n"
          ]
        },
        {
          "output_type": "stream",
          "name": "stderr",
          "text": [
            "\r26it [00:48,  1.62s/it]"
          ]
        },
        {
          "output_type": "stream",
          "name": "stdout",
          "text": [
            "----------------------------------------------------------------------------------------------------\n",
            "</s>Summarized description of the characteristics of the newly found flower species Magnolia Rubra. (Field guide of Botany, Hylis et al. 2022):\n",
            "3 Flower shape is pepulated white sepals surrounding to black lobes around petals with small black-grey \"winking patches\"—noted more strongly if viewed close up from this angle, earthed through them; 2 lobicles larger overall & wider along center line —towards their own axillate apex\n",
            "\n",
            "----------------------------------------------------------------------------------------------------\n",
            "Magnolia Caerulea\n"
          ]
        },
        {
          "output_type": "stream",
          "name": "stderr",
          "text": [
            "\r27it [00:50,  1.61s/it]"
          ]
        },
        {
          "output_type": "stream",
          "name": "stdout",
          "text": [
            "----------------------------------------------------------------------------------------------------\n",
            "</s>Summarized description of the characteristics of the newly found flower species Magnolia Caerulea. (Field guide of Botany, Hylis et al. 2022):\n",
            "An oval shape is borne in pairs along elongate, axially folded veins around petiotroper and often more. A small round-ellucid capsule bears numerous smaller fruits from early autumn, up to five on each end separated via pores 4 cm² or better away in cross flow so their appearance with no\n",
            "\n",
            "----------------------------------------------------------------------------------------------------\n",
            "Magnolia Viridis\n"
          ]
        },
        {
          "output_type": "stream",
          "name": "stderr",
          "text": [
            "\r28it [00:51,  1.62s/it]"
          ]
        },
        {
          "output_type": "stream",
          "name": "stdout",
          "text": [
            "----------------------------------------------------------------------------------------------------\n",
            "</s>Summarized description of the characteristics of the newly found flower species Magnolia Viridis. (Field guide of Botany, Hylis et al. 2022):\n",
            "3 Flower shape is pepulated white sepals surrounding to black lobes around petals with small black-grey \"winking patches\"—noted more strongly if viewed close up from this angle, earthed through them; 2 lobicles larger overall & wider along center line —towards their own axillate apex\n",
            "\n",
            "----------------------------------------------------------------------------------------------------\n",
            "Magnolia Viridiflora\n"
          ]
        },
        {
          "output_type": "stream",
          "name": "stderr",
          "text": [
            "\r29it [00:53,  1.60s/it]"
          ]
        },
        {
          "output_type": "stream",
          "name": "stdout",
          "text": [
            "----------------------------------------------------------------------------------------------------\n",
            "</s>Summarized description of the characteristics of the newly found flower species Magnolia Viridiflora. (Field guide of Botany, Hylis et al. 2022):\n",
            "An oval shape is borne in pairs along elongate, axially lobated inflorescence filaments for 3-12 months at ground level under summer heat and over night air humidifier from early autumn, reaching 40″ [1 ft 13 ins wide 4 sq metre ] around flowering after full sunshine as fall crops with\n",
            "\n",
            "----------------------------------------------------------------------------------------------------\n",
            "Magnolia Alba\n"
          ]
        },
        {
          "output_type": "stream",
          "name": "stderr",
          "text": [
            "\r30it [00:54,  1.61s/it]"
          ]
        },
        {
          "output_type": "stream",
          "name": "stdout",
          "text": [
            "----------------------------------------------------------------------------------------------------\n",
            "</s>Summarized description of the characteristics of the newly found flower species Magnolia Alba. (Field guide of Botany, Hylis et al. 2022):\n",
            "3 Flower shape is pepulated white sepals surrounding to black lobes around petals with small black-grey \"winking patches\"—noted more strongly if viewed close up from this angle, earthed through them; 2 lobicles larger overall & wider along center line —tow's their own point near each corner\n",
            "\n",
            "----------------------------------------------------------------------------------------------------\n",
            "Magnolia Rosea\n"
          ]
        },
        {
          "output_type": "stream",
          "name": "stderr",
          "text": [
            "\r31it [00:56,  1.62s/it]"
          ]
        },
        {
          "output_type": "stream",
          "name": "stdout",
          "text": [
            "----------------------------------------------------------------------------------------------------\n",
            "</s>Summarized description of the characteristics of the newly found flower species Magnolia Rosea. (Field guide of Botany, Hylis et al. 2022):\n",
            "3 Flower shape is pepulated white sepals surrounding to black pink or fusciparent flowers and often mixed shades purple violet petiole coloration are unique as each leaf from stem with greenish tint up it; 2 3 Medium stomatal position along its axis 5 It produces yellow ray-fuse fruits consisting\n",
            "\n",
            "----------------------------------------------------------------------------------------------------\n",
            "Magnolia Aurea\n"
          ]
        },
        {
          "output_type": "stream",
          "name": "stderr",
          "text": [
            "\r32it [00:58,  1.62s/it]"
          ]
        },
        {
          "output_type": "stream",
          "name": "stdout",
          "text": [
            "----------------------------------------------------------------------------------------------------\n",
            "</s>Summarized description of the characteristics of the newly found flower species Magnolia Aurea. (Field guide of Botany, Hylis et al. 2022):\n",
            "3 Flower shape is pepulated white sepals surrounding to black lobes around petals with small black-grey \"winking patches\"—noted more strongly if viewed close up from this angle, earthed through them; 2 lobicles larger overall & wider along center line —towards their own axillament—\n",
            "\n",
            "----------------------------------------------------------------------------------------------------\n",
            "Magnolia Japonica\n"
          ]
        },
        {
          "output_type": "stream",
          "name": "stderr",
          "text": [
            "\r33it [00:59,  1.62s/it]"
          ]
        },
        {
          "output_type": "stream",
          "name": "stdout",
          "text": [
            "----------------------------------------------------------------------------------------------------\n",
            "</s>Summarized description of the characteristics of the newly found flower species Magnolia Japonica. (Field guide of Botany, Hylis et al. 2022):\n",
            "3 Flower shape is pepulated white sepals surrounding to black lobes around petals with small black-grey \"winking patches\"—noted more strongly if viewed out from angle without opening sunvisor due—lips 2\" wide 1 4 cm diameter mediolunARs (small) 3' 10's\n",
            "\n",
            "----------------------------------------------------------------------------------------------------\n",
            "Magnolia Amazonensis\n"
          ]
        },
        {
          "output_type": "stream",
          "name": "stderr",
          "text": [
            "\r34it [01:01,  1.62s/it]"
          ]
        },
        {
          "output_type": "stream",
          "name": "stdout",
          "text": [
            "----------------------------------------------------------------------------------------------------\n",
            "</s>Summarized description of the characteristics of the newly found flower species Magnolia Amazonensis. (Field guide of Botany, Hylis et al. 2022):\n",
            "> Flower shape is convext-elongate cone covered with thymes or fesces which extend from stem edge. Fruit on petiole is spherical ball or heart having a long axis with outer surface rough texture [1 2 3]. Flowers yellowish tanged stamen that encirclet two axilic glands within\n",
            "\n",
            "----------------------------------------------------------------------------------------------------\n",
            "Magnolia Italicum\n"
          ]
        },
        {
          "output_type": "stream",
          "name": "stderr",
          "text": [
            "\r35it [01:03,  1.63s/it]"
          ]
        },
        {
          "output_type": "stream",
          "name": "stdout",
          "text": [
            "----------------------------------------------------------------------------------------------------\n",
            "</s>Summarized description of the characteristics of the newly found flower species Magnolia Italicum. (Field guide of Botany, Hylis et al. 2022):\n",
            "3 Flower shape is pepulated white sepals surrounding to black lobes around petals with small black-grey anwils which cover their coloration more or less up till this end 2 White yellow starfish on each stache with 1 yellowish tector along with 5 spots 6 Determinates at 30/36\n",
            "\n",
            "----------------------------------------------------------------------------------------------------\n",
            "Magnolia Americana\n"
          ]
        },
        {
          "output_type": "stream",
          "name": "stderr",
          "text": [
            "\r36it [01:04,  1.63s/it]"
          ]
        },
        {
          "output_type": "stream",
          "name": "stdout",
          "text": [
            "----------------------------------------------------------------------------------------------------\n",
            "</s>Summarized description of the characteristics of the newly found flower species Magnolia Americana. (Field guide of Botany, Hylis et al. 2022):\n",
            "3 Flower shape is pepulated white sepals surrounding to black lobes around petals with small black-grey \"winking patches\"—noted more strongly if viewed close up from this angle, earthed through them; 2 lobicles larger overall & wider along center line —tow's their own point near each corner\n",
            "\n",
            "----------------------------------------------------------------------------------------------------\n",
            "Magnolia Sinensis\n"
          ]
        },
        {
          "output_type": "stream",
          "name": "stderr",
          "text": [
            "\r37it [01:06,  1.63s/it]"
          ]
        },
        {
          "output_type": "stream",
          "name": "stdout",
          "text": [
            "----------------------------------------------------------------------------------------------------\n",
            "</s>Summarized description of the characteristics of the newly found flower species Magnolia Sinensis. (Field guide of Botany, Hylis et al. 2022):\n",
            "An everglandic/flower mittened, toecurrent conifold florea producing from axillary rhamphils which cover their upper trunk area or asymmetrcurved segments upwind through them; 2 lobicles per node & 3-16 ray processes depending each time - usually with 10-21\n",
            "\n",
            "----------------------------------------------------------------------------------------------------\n",
            "Magnolia Germanica\n"
          ]
        },
        {
          "output_type": "stream",
          "name": "stderr",
          "text": [
            "\r38it [01:08,  1.63s/it]"
          ]
        },
        {
          "output_type": "stream",
          "name": "stdout",
          "text": [
            "----------------------------------------------------------------------------------------------------\n",
            "</s>Summarized description of the characteristics of the newly found flower species Magnolia Germanica. (Field guide of Botany, Hylis et al. 2022):\n",
            "3 Flower shape is pepulated white sepals surrounding to black lobes around petals with small black-grey \"winking patches\"—noted more strongly if viewed close up from this angle, earthed through them; 2 to 33 stomatal groups along its axis including only 6 (0-7 × 27—\n",
            "\n",
            "----------------------------------------------------------------------------------------------------\n",
            "Magnolia Amakusaensis\n"
          ]
        },
        {
          "output_type": "stream",
          "name": "stderr",
          "text": [
            "\r39it [01:09,  1.62s/it]"
          ]
        },
        {
          "output_type": "stream",
          "name": "stdout",
          "text": [
            "----------------------------------------------------------------------------------------------------\n",
            "</s>Summarized description of the characteristics of the newly found flower species Magnolia Amakusaensis. (Field guide of Botany, Hylis et al. 2022):\n",
            "Ananame is green/dark maullous to blousy dullish cream pink with small black-grey \"winking patches\"—noted more toward margin as than midrib by Dyson Gohmerta; long lobular stomatal spout along first 5 floreaux—note at tips\n",
            "\n",
            "----------------------------------------------------------------------------------------------------\n",
            "Magnolia Anatoliensis\n"
          ]
        },
        {
          "output_type": "stream",
          "name": "stderr",
          "text": [
            "\r40it [01:11,  1.61s/it]"
          ]
        },
        {
          "output_type": "stream",
          "name": "stdout",
          "text": [
            "----------------------------------------------------------------------------------------------------\n",
            "</s>Summarized description of the characteristics of the newly found flower species Magnolia Anatoliensis. (Field guide of Botany, Hylis et al. 2022):\n",
            "3 Flower shape is pepulated white sepals surrounding to black lobes around petals with small black-grey \"winking patches\"—noted more strongly if viewed out from angle without opening sunvisor due—lips 2\" wide 1 4 6 3-16 7 5--20 22--45 35 30\n",
            "\n",
            "----------------------------------------------------------------------------------------------------\n",
            "Magnolia Andalusiensis\n"
          ]
        },
        {
          "output_type": "stream",
          "name": "stderr",
          "text": [
            "\r41it [01:12,  1.60s/it]"
          ]
        },
        {
          "output_type": "stream",
          "name": "stdout",
          "text": [
            "----------------------------------------------------------------------------------------------------\n",
            "</s>Summarized description of the characteristics of the newly found flower species Magnolia Andalusiensis. (Field guide of Botany, Hylis et al. 2022):\n",
            "3 Flower shape is pepulated white sepals surrounding to black lobes around petals with small black-grey \"winking patches\"—noted more strongly if viewed out from angle without opening sunvisor due—lips 2\" wide 1 4 6 3-16 7 5--20 22--45 35 30\n",
            "\n",
            "----------------------------------------------------------------------------------------------------\n",
            "Magnolia Asturiensis\n"
          ]
        },
        {
          "output_type": "stream",
          "name": "stderr",
          "text": [
            "\r42it [01:14,  1.64s/it]"
          ]
        },
        {
          "output_type": "stream",
          "name": "stdout",
          "text": [
            "----------------------------------------------------------------------------------------------------\n",
            "</s>Summarized description of the characteristics of the newly found flower species Magnolia Asturiensis. (Field guide of Botany, Hylis et al. 2022):\n",
            "> Flower shape is pinnulated in early inflorescence with later bloom as part a subform where staining persists well above ground which appears blue coloration over purple petals when examined by means typical yellow chlorotic tissue; long lobular form generally darker violet-white colors while flairs light reddeness at tips rather\n",
            "\n",
            "----------------------------------------------------------------------------------------------------\n",
            "Magnolia Bengalensis\n"
          ]
        },
        {
          "output_type": "stream",
          "name": "stderr",
          "text": [
            "\r43it [01:16,  1.85s/it]"
          ]
        },
        {
          "output_type": "stream",
          "name": "stdout",
          "text": [
            "----------------------------------------------------------------------------------------------------\n",
            "</s>Summarized description of the characteristics of the newly found flower species Magnolia Bengalensis. (Field guide of Botany, Hylis et al. 2022):\n",
            "An indanthoetic flowers-invented, with green lobes around petals is small and narrow leaf. Fruit flesh smooth grey blue color...It bears fragrance when ripe fruits begin yellow brown papyre; then on a perineum begins white hairs with light spots each time - two at tips close to\n",
            "\n",
            "----------------------------------------------------------------------------------------------------\n",
            "Magnolia Canariensis\n"
          ]
        },
        {
          "output_type": "stream",
          "name": "stderr",
          "text": [
            "\r44it [01:18,  1.77s/it]"
          ]
        },
        {
          "output_type": "stream",
          "name": "stdout",
          "text": [
            "----------------------------------------------------------------------------------------------------\n",
            "</s>Summarized description of the characteristics of the newly found flower species Magnolia Canariensis. (Field guide of Botany, Hylis et al. 2022):\n",
            "> Flower shape is convext-legged cone covered with green lobes around petals which extend from stem edge. A small round dark blue coloration dominates ovary; leaf arrangement without branches over whole length [l1 2 3 n1 4 6][[leaf] 5](color b) yellow colour near tip\n",
            "\n",
            "----------------------------------------------------------------------------------------------------\n",
            "Magnolia Pulcherrima\n"
          ]
        },
        {
          "output_type": "stream",
          "name": "stderr",
          "text": [
            "\r45it [01:20,  1.72s/it]"
          ]
        },
        {
          "output_type": "stream",
          "name": "stdout",
          "text": [
            "----------------------------------------------------------------------------------------------------\n",
            "</s>Summarized description of the characteristics of the newly found flower species Magnolia Pulcherrima. (Field guide of Botany, Hylis et al. 2022):\n",
            "An everglandic/flower mittened, toecurrent or fescudoid plant from Pekuwewahteckum Creek area east towards Port Renfell by DPP scientists after five sampling rounds totailing between 22 August 2010 tto 21 September...See More > November 3 2010 using\n",
            "\n",
            "----------------------------------------------------------------------------------------------------\n",
            "Magnolia Atrox\n"
          ]
        },
        {
          "output_type": "stream",
          "name": "stderr",
          "text": [
            "\r46it [01:21,  1.70s/it]"
          ]
        },
        {
          "output_type": "stream",
          "name": "stdout",
          "text": [
            "----------------------------------------------------------------------------------------------------\n",
            "</s>Summarized description of the characteristics of the newly found flower species Magnolia Atrox. (Field guide of Botany, Hylis et al. 2022):\n",
            "3 Flower shape is pepulated white sepals surrounding to black lobes around petals which extend from stem edge. A small area appears as yellow patch toward crown margin - usually between four with very wide angle branches spreading 1 2 on a stomatal stalk along center row 5 ovules (no labelates or o\n",
            "\n",
            "----------------------------------------------------------------------------------------------------\n",
            "Magnolia Diamondi\n"
          ]
        },
        {
          "output_type": "stream",
          "name": "stderr",
          "text": [
            "\r47it [01:23,  1.68s/it]"
          ]
        },
        {
          "output_type": "stream",
          "name": "stdout",
          "text": [
            "----------------------------------------------------------------------------------------------------\n",
            "</s>Summarized description of the characteristics of the newly found flower species Magnolia Diamondi. (Field guide of Botany, Hylis et al. 2022):\n",
            "An oval shape is borne in pairs along elongate, axially lobated inflorescence filaments for 3-12 months at ground level under summer heat and over night air humidifier. In autumn blossoms fade through winter; then on a yearly flowering pattern repeat formation around first light each year as an erect cycletar\n",
            "\n",
            "----------------------------------------------------------------------------------------------------\n",
            "Magnolia Purpurata\n"
          ]
        },
        {
          "output_type": "stream",
          "name": "stderr",
          "text": [
            "\r48it [01:24,  1.66s/it]"
          ]
        },
        {
          "output_type": "stream",
          "name": "stdout",
          "text": [
            "----------------------------------------------------------------------------------------------------\n",
            "</s>Summarized description of the characteristics of the newly found flower species Magnolia Purpurata. (Field guide of Botany, Hylis et al. 2022):\n",
            "3 Flower shape is pepulated white sepals surrounding to black lobes around petals with small black-grey \"winking patches\"—noted more strongly if viewed out from angle without opening sunvisor due—lips 2\" wide 1 4 6 3-16 7 5--20 22--45 35 30 27\n",
            "\n",
            "----------------------------------------------------------------------------------------------------\n",
            "Magnolia Terrificus\n"
          ]
        },
        {
          "output_type": "stream",
          "name": "stderr",
          "text": [
            "\r49it [01:26,  1.65s/it]"
          ]
        },
        {
          "output_type": "stream",
          "name": "stdout",
          "text": [
            "----------------------------------------------------------------------------------------------------\n",
            "</s>Summarized description of the characteristics of the newly found flower species Magnolia Terrificus. (Field guide of Botany, Hylis et al. 2022):\n",
            "An oval shape is borne in pairs along elongate, axially folded veins around petiotroper and often more. A small round-ellucid capsule bears numerous smaller fruits from early autumn overwintery season.[1]The nectarine form features smooth hairs with 5 apollinels [7(9\n",
            "\n",
            "----------------------------------------------------------------------------------------------------\n",
            "Magnolia Darwinii\n"
          ]
        },
        {
          "output_type": "stream",
          "name": "stderr",
          "text": [
            "\r50it [01:28,  1.64s/it]"
          ]
        },
        {
          "output_type": "stream",
          "name": "stdout",
          "text": [
            "----------------------------------------------------------------------------------------------------\n",
            "</s>Summarized description of the characteristics of the newly found flower species Magnolia Darwinii. (Field guide of Botany, Hylis et al. 2022):\n",
            "3 Flower shape is pepulated white sepals surrounding to black lobes around petals with small black-grey \"winking patches\"—noted more strongly if viewed out from angle without opening camera upfield [6; 2 and 33], yellow centre below lobe edged purple colouring (4), 3 narrow oval triangular st\n",
            "\n",
            "----------------------------------------------------------------------------------------------------\n",
            "Strelitzia Rubra\n"
          ]
        },
        {
          "output_type": "stream",
          "name": "stderr",
          "text": [
            "\r51it [01:29,  1.63s/it]"
          ]
        },
        {
          "output_type": "stream",
          "name": "stdout",
          "text": [
            "----------------------------------------------------------------------------------------------------\n",
            "</s>Summarized description of the characteristics of the newly found flower species Strelitzia Rubra. (Field guide of Botany, Hylis et al. 2022):\n",
            "3 Flower shape is pepulated white sepals surrounding to black lobes around petals with small black-grey \"winking patches\"—noted more strongly if viewed close up from this angle, earthed through them; 2 lobicles larger overall & wider along center line —towards their own axill\n",
            "\n",
            "----------------------------------------------------------------------------------------------------\n",
            "Strelitzia Caerulea\n"
          ]
        },
        {
          "output_type": "stream",
          "name": "stderr",
          "text": [
            "\r52it [01:31,  1.61s/it]"
          ]
        },
        {
          "output_type": "stream",
          "name": "stdout",
          "text": [
            "----------------------------------------------------------------------------------------------------\n",
            "</s>Summarized description of the characteristics of the newly found flower species Strelitzia Caerulea. (Field guide of Botany, Hylis et al. 2022):\n",
            "3 Flower shape is asymmepistillate and has up to eight lateral inflorescence flabbers from axillary sepals having five large leaves with more veins or petunions between every 2 adjacent leaflets except where it bears short lobenoses 4 Leaf margin smooth along border 5 Lobes elongified 3\n",
            "\n",
            "----------------------------------------------------------------------------------------------------\n",
            "Strelitzia Viridis\n"
          ]
        },
        {
          "output_type": "stream",
          "name": "stderr",
          "text": [
            "\r53it [01:32,  1.60s/it]"
          ]
        },
        {
          "output_type": "stream",
          "name": "stdout",
          "text": [
            "----------------------------------------------------------------------------------------------------\n",
            "</s>Summarized description of the characteristics of the newly found flower species Strelitzia Viridis. (Field guide of Botany, Hylis et al. 2022):\n",
            "3 Flower shape is asymmepistillate and has up to eight lateral inflorescence flabbers from axillary sepals having five large leaves with more veins or petunions between every 2 adjacent leaflets except where it bears short lobenoses 4 Leaf margin smooth along border 5 Lobes bibimbubrous\n",
            "\n",
            "----------------------------------------------------------------------------------------------------\n",
            "Strelitzia Viridiflora\n"
          ]
        },
        {
          "output_type": "stream",
          "name": "stderr",
          "text": [
            "\r54it [01:34,  1.58s/it]"
          ]
        },
        {
          "output_type": "stream",
          "name": "stdout",
          "text": [
            "----------------------------------------------------------------------------------------------------\n",
            "</s>Summarized description of the characteristics of the newly found flower species Strelitzia Viridiflora. (Field guide of Botany, Hylis et al. 2022):\n",
            "3 Flower shape is pinnulated 3 sepals 6 to 50 lobes 21 petals 1-2 segments 9 anwils 12-22 carpel 12 ovary -14 operod 2 fruits up 14 capsules 30 grams 25% nastane 17 tarriform fruit 5 with white bower\n",
            "\n",
            "----------------------------------------------------------------------------------------------------\n",
            "Strelitzia Alba\n"
          ]
        },
        {
          "output_type": "stream",
          "name": "stderr",
          "text": [
            "\r55it [01:36,  1.58s/it]"
          ]
        },
        {
          "output_type": "stream",
          "name": "stdout",
          "text": [
            "----------------------------------------------------------------------------------------------------\n",
            "</s>Summarized description of the characteristics of the newly found flower species Strelitzia Alba. (Field guide of Botany, Hylis et al. 2022):\n",
            "3 Flower shape is asymmepistillate and has up to eight lateral inflorescence flabbers from axillary sepals having five large leaves with more veins or petunions between every 2 adjacent leaflets except where it bears short lobenoses 4 Leaf margin smooth along border 5 Lobes bibimbubrous\n",
            "\n",
            "----------------------------------------------------------------------------------------------------\n",
            "Strelitzia Rosea\n"
          ]
        },
        {
          "output_type": "stream",
          "name": "stderr",
          "text": [
            "\r56it [01:37,  1.62s/it]"
          ]
        },
        {
          "output_type": "stream",
          "name": "stdout",
          "text": [
            "----------------------------------------------------------------------------------------------------\n",
            "</s>Summarized description of the characteristics of the newly found flower species Strelitzia Rosea. (Field guide of Botany, Hylis et al. 2022):\n",
            "3 Flower shape is pepulated white sepals surrounding to black lobes around petals with small black-grey \"winking patches\"—noted more strongly if viewed close up from this angle, earthed through them; 2 lobicles larger overall & wider along center line —towards their own axill\n",
            "\n",
            "----------------------------------------------------------------------------------------------------\n",
            "Strelitzia Aurea\n"
          ]
        },
        {
          "output_type": "stream",
          "name": "stderr",
          "text": [
            "\r57it [01:39,  1.67s/it]"
          ]
        },
        {
          "output_type": "stream",
          "name": "stdout",
          "text": [
            "----------------------------------------------------------------------------------------------------\n",
            "</s>Summarized description of the characteristics of the newly found flower species Strelitzia Aurea. (Field guide of Botany, Hylis et al. 2022):\n",
            "3 Flower shape is asymmepistillate and has up to eight lateral inflorescence flabbers from axillary sepals having five large leaves with more veins or petunions between every 2 adjacent leaflets except where it bears short lobenoses 4 Leaf margin smooth along border 5 Lobes bibimbubrous\n",
            "\n",
            "----------------------------------------------------------------------------------------------------\n",
            "Strelitzia Japonica\n"
          ]
        },
        {
          "output_type": "stream",
          "name": "stderr",
          "text": [
            "\r58it [01:41,  1.64s/it]"
          ]
        },
        {
          "output_type": "stream",
          "name": "stdout",
          "text": [
            "----------------------------------------------------------------------------------------------------\n",
            "</s>Summarized description of the characteristics of the newly found flower species Strelitzia Japonica. (Field guide of Botany, Hylis et al. 2022):\n",
            "3 Flower shape is pepulated white sepals surrounding to black lobes around petals with small black-grey \"winking patches\"—noted more strongly if viewed close up from this angle, earthed through them; 2 lobicles larger overall & wider along center line —tow's their own point\n",
            "\n",
            "----------------------------------------------------------------------------------------------------\n",
            "Strelitzia Amazonensis\n"
          ]
        },
        {
          "output_type": "stream",
          "name": "stderr",
          "text": [
            "\r59it [01:42,  1.62s/it]"
          ]
        },
        {
          "output_type": "stream",
          "name": "stdout",
          "text": [
            "----------------------------------------------------------------------------------------------------\n",
            "</s>Summarized description of the characteristics of the newly found flower species Strelitzia Amazonensis. (Field guide of Botany, Hylis et al. 2022):\n",
            "3 Flower shape is pinnulated 3 sepals 6 to 50 lobes 21 petals 1 small staining cup. Fruit flesh smooth 5– 7 centimeters thick ovary closed when hard by 2 seeds up 14 capsules 30¼\"H 22·1\". Dioeca in each cell bower of each capsule\n",
            "\n",
            "----------------------------------------------------------------------------------------------------\n",
            "Strelitzia Italicum\n"
          ]
        },
        {
          "output_type": "stream",
          "name": "stderr",
          "text": [
            "\r60it [01:44,  1.62s/it]"
          ]
        },
        {
          "output_type": "stream",
          "name": "stdout",
          "text": [
            "----------------------------------------------------------------------------------------------------\n",
            "</s>Summarized description of the characteristics of the newly found flower species Strelitzia Italicum. (Field guide of Botany, Hylis et al. 2022):\n",
            "3 Flower shape is pepulated white sepals surrounding to black lobes around petals with small black-grey \"winking patches\"—noted more strongly if viewed close up from this angle, earthed through them; 2 lobicles larger overall & wider along center line —towards their own axill\n",
            "\n",
            "----------------------------------------------------------------------------------------------------\n",
            "Strelitzia Americana\n"
          ]
        },
        {
          "output_type": "stream",
          "name": "stderr",
          "text": [
            "\r61it [01:45,  1.61s/it]"
          ]
        },
        {
          "output_type": "stream",
          "name": "stdout",
          "text": [
            "----------------------------------------------------------------------------------------------------\n",
            "</s>Summarized description of the characteristics of the newly found flower species Strelitzia Americana. (Field guide of Botany, Hylis et al. 2022):\n",
            "3 Flower shape is asymmepistillate and polysiphrumish petals with small staining spots. A series five large blue coloration veins running down each leaf from stem to top surface have many bright striplets on edge that make pattern out along center row in cross flow area - 3 sepales\n",
            "\n",
            "----------------------------------------------------------------------------------------------------\n",
            "Strelitzia Sinensis\n"
          ]
        },
        {
          "output_type": "stream",
          "name": "stderr",
          "text": [
            "\r62it [01:47,  1.61s/it]"
          ]
        },
        {
          "output_type": "stream",
          "name": "stdout",
          "text": [
            "----------------------------------------------------------------------------------------------------\n",
            "</s>Summarized description of the characteristics of the newly found flower species Strelitzia Sinensis. (Field guide of Botany, Hylis et al. 2022):\n",
            "3 Flower shape is pepulated white sepals surrounding to black lobes around petals with small black-grey \"winking patches\"—noted more strongly if viewed close up from this angle, earthed through them; 2 lobicles larger overall & wider along center line —towards their own axill\n",
            "\n",
            "----------------------------------------------------------------------------------------------------\n",
            "Strelitzia Germanica\n"
          ]
        },
        {
          "output_type": "stream",
          "name": "stderr",
          "text": [
            "\r63it [01:49,  1.60s/it]"
          ]
        },
        {
          "output_type": "stream",
          "name": "stdout",
          "text": [
            "----------------------------------------------------------------------------------------------------\n",
            "</s>Summarized description of the characteristics of the newly found flower species Strelitzia Germanica. (Field guide of Botany, Hylis et al. 2022):\n",
            "3 Flower shape is asymmepistillate and has up to eight lateral inflorescence flabbers from axillary sepals having five large leaves with more veins or petunions between every 2 adjacent leaflets except where it bears short lobenoses 4 Leaf margin smooth along border 5 Lobes bibimbubrous\n",
            "\n",
            "----------------------------------------------------------------------------------------------------\n",
            "Strelitzia Amakusaensis\n"
          ]
        },
        {
          "output_type": "stream",
          "name": "stderr",
          "text": [
            "\r64it [01:50,  1.59s/it]"
          ]
        },
        {
          "output_type": "stream",
          "name": "stdout",
          "text": [
            "----------------------------------------------------------------------------------------------------\n",
            "</s>Summarized description of the characteristics of the newly found flower species Strelitzia Amakusaensis. (Field guide of Botany, Hylis et al. 2022):\n",
            "3 Flower shape is asymmepistichate and has up to eight lateral inflorescence flabbers from axillary branches above ground which branch higher with more flowers at an additional leaf spot on lowermost stalk side [Strelitzi nouv.) 3 Dappled light spots; bower-\n",
            "\n",
            "----------------------------------------------------------------------------------------------------\n",
            "Strelitzia Anatoliensis\n"
          ]
        },
        {
          "output_type": "stream",
          "name": "stderr",
          "text": [
            "\r65it [01:52,  1.58s/it]"
          ]
        },
        {
          "output_type": "stream",
          "name": "stdout",
          "text": [
            "----------------------------------------------------------------------------------------------------\n",
            "</s>Summarized description of the characteristics of the newly found flower species Strelitzia Anatoliensis. (Field guide of Botany, Hylis et al. 2022):\n",
            "3 Flower shape is asymmepistichate and has up to eight lateral inflorescence flabbers from axillary sepals having five large leaves with more veins or petunions between every 2 adjacent leaflets except where it bears short lobenoses 4 Leaf position along its border 5 Lower two parts show 3\n",
            "\n",
            "----------------------------------------------------------------------------------------------------\n",
            "Strelitzia Andalusiensis\n"
          ]
        },
        {
          "output_type": "stream",
          "name": "stderr",
          "text": [
            "\r66it [01:53,  1.57s/it]"
          ]
        },
        {
          "output_type": "stream",
          "name": "stdout",
          "text": [
            "----------------------------------------------------------------------------------------------------\n",
            "</s>Summarized description of the characteristics of the newly found flower species Strelitzia Andalusiensis. (Field guide of Botany, Hylis et al. 2022):\n",
            "3 Flower shape is pinnulated 3 sepals 6 to 50 lobes 21 petals 1 small staining cup. Fruit flesh smooth 5– 7 centimeters thick ovary closed when hard by 2 seeds up 14 capsules 30¼ — 33 days 4 weeks open after maturity with light spots 16ⁱ-\n",
            "\n",
            "----------------------------------------------------------------------------------------------------\n",
            "Strelitzia Asturiensis\n"
          ]
        },
        {
          "output_type": "stream",
          "name": "stderr",
          "text": [
            "\r67it [01:55,  1.57s/it]"
          ]
        },
        {
          "output_type": "stream",
          "name": "stdout",
          "text": [
            "----------------------------------------------------------------------------------------------------\n",
            "</s>Summarized description of the characteristics of the newly found flower species Strelitzia Asturiensis. (Field guide of Botany, Hylis et al. 2022):\n",
            "> Flower shape is asymmepistichate and varies up front a rather inconsimipulate but slightly flattened cup. A small petiole is short reaching upward asymparatively early with slender stalk having five to 14 long lobicles projecting over all four sides along with 5 apothrodomelian\n",
            "\n",
            "----------------------------------------------------------------------------------------------------\n",
            "Strelitzia Bengalensis\n"
          ]
        },
        {
          "output_type": "stream",
          "name": "stderr",
          "text": [
            "\r68it [01:56,  1.58s/it]"
          ]
        },
        {
          "output_type": "stream",
          "name": "stdout",
          "text": [
            "----------------------------------------------------------------------------------------------------\n",
            "</s>Summarized description of the characteristics of the newly found flower species Strelitzia Bengalensis. (Field guide of Botany, Hylis et al. 2022):\n",
            "3 Flower shape is pepulated white sepals surrounding to black lobes around petals with small black-grey anwils which cover their coloration more or less close when examined by means very near green spots on each end and between these yellowish spittle dots with light spots; also red wattle tips\n",
            "\n",
            "----------------------------------------------------------------------------------------------------\n",
            "Strelitzia Canariensis\n"
          ]
        },
        {
          "output_type": "stream",
          "name": "stderr",
          "text": [
            "\r69it [01:58,  1.58s/it]"
          ]
        },
        {
          "output_type": "stream",
          "name": "stdout",
          "text": [
            "----------------------------------------------------------------------------------------------------\n",
            "</s>Summarized description of the characteristics of the newly found flower species Strelitzia Canariensis. (Field guide of Botany, Hylis et al. 2022):\n",
            "3 Flower shape is asymmepistichate and has up to eight lateral inflorescence filaments per stampling. A small petiole is about 12mm tall having a linear axis with very wide angle branches spreading almost 2\" out beyond flutes 3 Dappled light spots 6 \"wide are at\n",
            "\n",
            "----------------------------------------------------------------------------------------------------\n",
            "Strelitzia Pulcherrima\n"
          ]
        },
        {
          "output_type": "stream",
          "name": "stderr",
          "text": [
            "\r70it [02:00,  1.57s/it]"
          ]
        },
        {
          "output_type": "stream",
          "name": "stdout",
          "text": [
            "----------------------------------------------------------------------------------------------------\n",
            "</s>Summarized description of the characteristics of the newly found flower species Strelitzia Pulcherrima. (Field guide of Botany, Hylis et al. 2022):\n",
            "3 Flower shape is pinnulated 3 sepals 6 to 50 lobes 21 petals 1 small staining cup. Fruit flesh smooth 5– 7 centimeters thick ovary closed when hard by 2 seeds up 14 capsules 30¼\"H 22·1\". Daubert taxon (F) F\n",
            "\n",
            "----------------------------------------------------------------------------------------------------\n",
            "Strelitzia Atrox\n"
          ]
        },
        {
          "output_type": "stream",
          "name": "stderr",
          "text": [
            "\r71it [02:01,  1.58s/it]"
          ]
        },
        {
          "output_type": "stream",
          "name": "stdout",
          "text": [
            "----------------------------------------------------------------------------------------------------\n",
            "</s>Summarized description of the characteristics of the newly found flower species Strelitzia Atrox. (Field guide of Botany, Hylis et al. 2022):\n",
            "3 Flower shape is asymmepistillate and has up to eight lateral inflorescence flabbers from axillary branches above ground which branch higher with more flowers at an additional leaf spot on lowermost stalk side [Streletzki G L.; De Haan A V., ed (2010) Folia Nat\n",
            "\n",
            "----------------------------------------------------------------------------------------------------\n",
            "Strelitzia Diamondi\n"
          ]
        },
        {
          "output_type": "stream",
          "name": "stderr",
          "text": [
            "\r72it [02:03,  1.58s/it]"
          ]
        },
        {
          "output_type": "stream",
          "name": "stdout",
          "text": [
            "----------------------------------------------------------------------------------------------------\n",
            "</s>Summarized description of the characteristics of the newly found flower species Strelitzia Diamondi. (Field guide of Botany, Hylis et al. 2022):\n",
            "> Flower shape is asymmepistillate and has up to eight lateral inflorescence flabbers from axillary branches above ground which hold their coloration over night as each leaf emerges by 2–8 mm [length; 25% vs 22%-52][mean 21m in average 6mm]; 3 sepales\n",
            "\n",
            "----------------------------------------------------------------------------------------------------\n",
            "Strelitzia Purpurata\n"
          ]
        },
        {
          "output_type": "stream",
          "name": "stderr",
          "text": [
            "\r73it [02:04,  1.58s/it]"
          ]
        },
        {
          "output_type": "stream",
          "name": "stdout",
          "text": [
            "----------------------------------------------------------------------------------------------------\n",
            "</s>Summarized description of the characteristics of the newly found flower species Strelitzia Purpurata. (Field guide of Botany, Hylis et al. 2022):\n",
            "3 Flower shape is pinnulated 3 sepals 6 to 50 lobes 21 petals 1-2 segments 9 anweds 12-22 carpets 1 crowning pedion. In 2 varieties no pedale on each end and a stomatal sac along center line 5 flairs (small yellow with\n",
            "\n",
            "----------------------------------------------------------------------------------------------------\n",
            "Strelitzia Terrificus\n"
          ]
        },
        {
          "output_type": "stream",
          "name": "stderr",
          "text": [
            "\r74it [02:06,  1.58s/it]"
          ]
        },
        {
          "output_type": "stream",
          "name": "stdout",
          "text": [
            "----------------------------------------------------------------------------------------------------\n",
            "</s>Summarized description of the characteristics of the newly found flower species Strelitzia Terrificus. (Field guide of Botany, Hylis et al. 2022):\n",
            "3 Flower shape is asymmepistichate and has up to eight lateral inflorescence flabbers from axillary sepals having five large leaves with short veins or petromans. Ingenaceous stalk length = 30; 2 loben stomapes 3-16 mm each (4) 3 paired\n",
            "\n",
            "----------------------------------------------------------------------------------------------------\n",
            "Strelitzia Darwinii\n"
          ]
        },
        {
          "output_type": "stream",
          "name": "stderr",
          "text": [
            "\r75it [02:07,  1.58s/it]"
          ]
        },
        {
          "output_type": "stream",
          "name": "stdout",
          "text": [
            "----------------------------------------------------------------------------------------------------\n",
            "</s>Summarized description of the characteristics of the newly found flower species Strelitzia Darwinii. (Field guide of Botany, Hylis et al. 2022):\n",
            "3 Flower shape is pepulated white sepals surrounding to black lobes around petals with small black-grey \"winking patches\"—noted more strongly if viewed close up from this angle, earthed through them; 2 lobicles larger overall & wider along center line —towards their own axill\n",
            "\n",
            "----------------------------------------------------------------------------------------------------\n",
            "Plumeria Rubra\n"
          ]
        },
        {
          "output_type": "stream",
          "name": "stderr",
          "text": [
            "\r76it [02:09,  1.60s/it]"
          ]
        },
        {
          "output_type": "stream",
          "name": "stdout",
          "text": [
            "----------------------------------------------------------------------------------------------------\n",
            "</s>Summarized description of the characteristics of the newly found flower species Plumeria Rubra. (Field guide of Botany, Hylis et al. 2022):\n",
            "3 Flower shape is pinnulated 3 sepals 6 to 50 lobes 21 petals 1-2 segments 9 anweds 12-22 carpets 1 crown 5 pediume 2 long slender stalk 14 branches 30 short shoots on a pla...view more > [Source](Euklenthus angulicollar\n",
            "\n",
            "----------------------------------------------------------------------------------------------------\n",
            "Plumeria Caerulea\n"
          ]
        },
        {
          "output_type": "stream",
          "name": "stderr",
          "text": [
            "\r77it [02:11,  1.60s/it]"
          ]
        },
        {
          "output_type": "stream",
          "name": "stdout",
          "text": [
            "----------------------------------------------------------------------------------------------------\n",
            "</s>Summarized description of the characteristics of the newly found flower species Plumeria Caerulea. (Field guide of Botany, Hylis et al. 2022):\n",
            "3 Flower shape is pepulated white sepals surrounding to black lobes around petals which extend from stem edge. Fruit 1 round cellated drupey ovary having a long axis with outer surface green huerus without red edges attached over centre 3 smooth stamples each 6mm oval 3 tiny o\n",
            "\n",
            "----------------------------------------------------------------------------------------------------\n",
            "Plumeria Viridis\n"
          ]
        },
        {
          "output_type": "stream",
          "name": "stderr",
          "text": [
            "\r78it [02:12,  1.61s/it]"
          ]
        },
        {
          "output_type": "stream",
          "name": "stdout",
          "text": [
            "----------------------------------------------------------------------------------------------------\n",
            "</s>Summarized description of the characteristics of the newly found flower species Plumeria Viridis. (Field guide of Botany, Hylis et al. 2022):\n",
            "3 Flower shape is pinnulated 3 sepals 6 to 50 lobes 21 petals 1-2 segments 9 anweds 12 flores 7 peridiums 5 pedion berries 2 with green hairs 14 cuprous caral buds with stomatal sac bilaterally with apical structures bower-clover hybrid 15\n",
            "\n",
            "----------------------------------------------------------------------------------------------------\n",
            "Plumeria Viridiflora\n"
          ]
        },
        {
          "output_type": "stream",
          "name": "stderr",
          "text": [
            "\r79it [02:14,  1.60s/it]"
          ]
        },
        {
          "output_type": "stream",
          "name": "stdout",
          "text": [
            "----------------------------------------------------------------------------------------------------\n",
            "</s>Summarized description of the characteristics of the newly found flower species Plumeria Viridiflora. (Field guide of Botany, Hylis et al. 2022):\n",
            "3 Flower shape is pinnulated 3 sepals 6 to 50 lobes 21 petals 1-2 segments 9 anweds 12 flores 7 per plant or as close from this stem with very wide angle branches spreading; 2 stems not staked upright 3-16 flowering in separate cloatss 3 varieties\n",
            "\n",
            "----------------------------------------------------------------------------------------------------\n",
            "Plumeria Alba\n"
          ]
        },
        {
          "output_type": "stream",
          "name": "stderr",
          "text": [
            "\r80it [02:16,  1.61s/it]"
          ]
        },
        {
          "output_type": "stream",
          "name": "stdout",
          "text": [
            "----------------------------------------------------------------------------------------------------\n",
            "</s>Summarized description of the characteristics of the newly found flower species Plumeria Alba. (Field guide of Botany, Hylis et al. 2022):\n",
            "3 Flower shape is pinnulated 3 sepals 6 to 50 lobes 21 petals 1-2 segments 9 anweds 12 flores 7 peridiums 5 pedion berries 2 with green hairs 14 cuprous caral buds with stomatal sac bilaterally with apical structures bower-clover hybrid 15\n",
            "\n",
            "----------------------------------------------------------------------------------------------------\n",
            "Plumeria Rosea\n"
          ]
        },
        {
          "output_type": "stream",
          "name": "stderr",
          "text": [
            "\r81it [02:17,  1.62s/it]"
          ]
        },
        {
          "output_type": "stream",
          "name": "stdout",
          "text": [
            "----------------------------------------------------------------------------------------------------\n",
            "</s>Summarized description of the characteristics of the newly found flower species Plumeria Rosea. (Field guide of Botany, Hylis et al. 2022):\n",
            "3 Flower shape is pepulated white sepals surrounding to black pink or fusciparent flowers and often mixed shades purple on petiole with ragged margin as close leaf attachment by 2 green hairs running through them; long loben stomatal position along center row 5 ovules about equally-wide within each capsule\n",
            "\n",
            "----------------------------------------------------------------------------------------------------\n",
            "Plumeria Aurea\n"
          ]
        },
        {
          "output_type": "stream",
          "name": "stderr",
          "text": [
            "\r82it [02:19,  1.63s/it]"
          ]
        },
        {
          "output_type": "stream",
          "name": "stdout",
          "text": [
            "----------------------------------------------------------------------------------------------------\n",
            "</s>Summarized description of the characteristics of the newly found flower species Plumeria Aurea. (Field guide of Botany, Hylis et al. 2022):\n",
            "3 Flower shape is pinnulated 3 sepals 6 to 50 lobes 21 petals 1 small stamain. Fruit flesh smooth 5– 7 centimeters thick ovary up 12.22 square degrees wide 14 centripetyal and with 15 longitudinal cells 3-chokes 5 apothrodomelian 10 seeds 4\n",
            "\n",
            "----------------------------------------------------------------------------------------------------\n",
            "Plumeria Japonica\n"
          ]
        },
        {
          "output_type": "stream",
          "name": "stderr",
          "text": [
            "\r83it [02:20,  1.63s/it]"
          ]
        },
        {
          "output_type": "stream",
          "name": "stdout",
          "text": [
            "----------------------------------------------------------------------------------------------------\n",
            "</s>Summarized description of the characteristics of the newly found flower species Plumeria Japonica. (Field guide of Botany, Hylis et al. 2022):\n",
            "3 Flower shape is pepulated white sepals surrounding to black pink bell part; 3 inflature staining clear. Fruit flesh smooth and transparent skin ryolomeiform-spur with green hairs underneath them.[1]The nopte form consists three fruits [bryodes (small yellow)] within each\n",
            "\n",
            "----------------------------------------------------------------------------------------------------\n",
            "Plumeria Amazonensis\n"
          ]
        },
        {
          "output_type": "stream",
          "name": "stderr",
          "text": [
            "\r84it [02:22,  1.63s/it]"
          ]
        },
        {
          "output_type": "stream",
          "name": "stdout",
          "text": [
            "----------------------------------------------------------------------------------------------------\n",
            "</s>Summarized description of the characteristics of the newly found flower species Plumeria Amazonensis. (Field guide of Botany, Hylis et al. 2022):\n",
            "3 Flower shape is pepulated white sepals surrounding to black lobes around petals with small black-grey \"winking patches\"—noted more strongly if petunions from this plantlet have green spots on each end and notched yellow markings where purple dots dot in cross formation—no labelates or st\n",
            "\n",
            "----------------------------------------------------------------------------------------------------\n",
            "Plumeria Italicum\n"
          ]
        },
        {
          "output_type": "stream",
          "name": "stderr",
          "text": [
            "\r85it [02:24,  1.63s/it]"
          ]
        },
        {
          "output_type": "stream",
          "name": "stdout",
          "text": [
            "----------------------------------------------------------------------------------------------------\n",
            "</s>Summarized description of the characteristics of the newly found flower species Plumeria Italicum. (Field guide of Botany, Hylis et al. 2022):\n",
            "3 Flower shape is pepulated white sepals surrounding to black lobes around petals with small black-grey \"winking patches\"—noted more strongly if viewed close up from this angle, earthed through them; 2 lobicles larger overall & wider along center line —towards their own axillament—\n",
            "\n",
            "----------------------------------------------------------------------------------------------------\n",
            "Plumeria Americana\n"
          ]
        },
        {
          "output_type": "stream",
          "name": "stderr",
          "text": [
            "\r86it [02:25,  1.63s/it]"
          ]
        },
        {
          "output_type": "stream",
          "name": "stdout",
          "text": [
            "----------------------------------------------------------------------------------------------------\n",
            "</s>Summarized description of the characteristics of the newly found flower species Plumeria Americana. (Field guide of Botany, Hylis et al. 2022):\n",
            "3 Flower shape is pepulated white sepals surrounding to black lobes around petals with small black-grey \"winking patches\"—noted more strongly if viewed close up from this angle, earthed through the ground 2\" out beyond yellowish tine along border 5\", 6—no labelates or similar\n",
            "\n",
            "----------------------------------------------------------------------------------------------------\n",
            "Plumeria Sinensis\n"
          ]
        },
        {
          "output_type": "stream",
          "name": "stderr",
          "text": [
            "\r87it [02:27,  1.64s/it]"
          ]
        },
        {
          "output_type": "stream",
          "name": "stdout",
          "text": [
            "----------------------------------------------------------------------------------------------------\n",
            "</s>Summarized description of the characteristics of the newly found flower species Plumeria Sinensis. (Field guide of Botany, Hylis et al. 2022):\n",
            "3 Flower shape is pinnulated 3 sepals 6 to 50 lobes 21 petals 1 small stamain. Fruit flesh smooth 5– 7 centimeters thick ovary closed when hard by 2 seeds up 14 capsules 30¼\"H 22·1\". Dioeca mactifris - Folia sinissar\n",
            "\n",
            "----------------------------------------------------------------------------------------------------\n",
            "Plumeria Germanica\n"
          ]
        },
        {
          "output_type": "stream",
          "name": "stderr",
          "text": [
            "\r88it [02:29,  1.64s/it]"
          ]
        },
        {
          "output_type": "stream",
          "name": "stdout",
          "text": [
            "----------------------------------------------------------------------------------------------------\n",
            "</s>Summarized description of the characteristics of the newly found flower species Plumeria Germanica. (Field guide of Botany, Hylis et al. 2022):\n",
            "3 Flower shape is pepulated white sepals surrounding to black lobes around petals with small black-grey \"winking patches\"—noted more strongly if viewed close up from this angle, earthed through them; 2 lobicles larger overall & wider along center line —towards their own axillament—\n",
            "\n",
            "----------------------------------------------------------------------------------------------------\n",
            "Plumeria Amakusaensis\n"
          ]
        },
        {
          "output_type": "stream",
          "name": "stderr",
          "text": [
            "\r89it [02:30,  1.63s/it]"
          ]
        },
        {
          "output_type": "stream",
          "name": "stdout",
          "text": [
            "----------------------------------------------------------------------------------------------------\n",
            "</s>Summarized description of the characteristics of the newly found flower species Plumeria Amakusaensis. (Field guide of Botany, Hylis et al. 2022):\n",
            "3 Flower shape is pepulated white sepals surrounding to black lobes around petals with small black-grey anwils which cover their coloration more or less up till this end 2 White yellow starfish on each strophe not larger 4 6 Green rostrochord that encroaves 3 Dummy\n",
            "\n",
            "----------------------------------------------------------------------------------------------------\n",
            "Plumeria Anatoliensis\n"
          ]
        },
        {
          "output_type": "stream",
          "name": "stderr",
          "text": [
            "\r90it [02:32,  1.63s/it]"
          ]
        },
        {
          "output_type": "stream",
          "name": "stdout",
          "text": [
            "----------------------------------------------------------------------------------------------------\n",
            "</s>Summarized description of the characteristics of the newly found flower species Plumeria Anatoliensis. (Field guide of Botany, Hylis et al. 2022):\n",
            "3 Flower shape is pepulated white sepals surrounding to black lobes around petals with small black-grey \"winking patches\"—noted more strongly if viewed close up from this angle, earthed through them; 2 lobicles larger overall & wider along center line —towards their own axill\n",
            "\n",
            "----------------------------------------------------------------------------------------------------\n",
            "Plumeria Andalusiensis\n"
          ]
        },
        {
          "output_type": "stream",
          "name": "stderr",
          "text": [
            "\r91it [02:34,  1.67s/it]"
          ]
        },
        {
          "output_type": "stream",
          "name": "stdout",
          "text": [
            "----------------------------------------------------------------------------------------------------\n",
            "</s>Summarized description of the characteristics of the newly found flower species Plumeria Andalusiensis. (Field guide of Botany, Hylis et al. 2022):\n",
            "3 Flower shape is pinnulated 3 sepals 6 to 50 lobes 21 petals 1-2 segments 9 anweds 12-22 carpel 1 crowning pedion 15 fruits 2 green plume capsules 30 seeds 2 red nastane 17 rostrate hairs with 5 ovules (no yellow at tips\n",
            "\n",
            "----------------------------------------------------------------------------------------------------\n",
            "Plumeria Asturiensis\n"
          ]
        },
        {
          "output_type": "stream",
          "name": "stderr",
          "text": [
            "\r92it [02:35,  1.66s/it]"
          ]
        },
        {
          "output_type": "stream",
          "name": "stdout",
          "text": [
            "----------------------------------------------------------------------------------------------------\n",
            "</s>Summarized description of the characteristics of the newly found flower species Plumeria Asturiensis. (Field guide of Botany, Hylis et al. 2022):\n",
            "3 Flower shape is pepulated white sepals surrounding to black lobes around petals with small black-grey anwils which cover their coloration more or less close when examined by means very near green spots on each end and between these yellowish spittle dots with light spots; also red wattle tips appear\n",
            "\n",
            "----------------------------------------------------------------------------------------------------\n",
            "Plumeria Bengalensis\n"
          ]
        },
        {
          "output_type": "stream",
          "name": "stderr",
          "text": [
            "\r93it [02:37,  1.65s/it]"
          ]
        },
        {
          "output_type": "stream",
          "name": "stdout",
          "text": [
            "----------------------------------------------------------------------------------------------------\n",
            "</s>Summarized description of the characteristics of the newly found flower species Plumeria Bengalensis. (Field guide of Botany, Hylis et al. 2022):\n",
            "3 Flower shape is pepulated white sepals surrounding to black lobes around petals with small black-grey anwils which cover their coloration more or less close when examined by means very near green spots on each end and between these yellowish tine dots that can serve as antenna(s!) It's hard\n",
            "\n",
            "----------------------------------------------------------------------------------------------------\n",
            "Plumeria Canariensis\n"
          ]
        },
        {
          "output_type": "stream",
          "name": "stderr",
          "text": [
            "\r94it [02:39,  1.64s/it]"
          ]
        },
        {
          "output_type": "stream",
          "name": "stdout",
          "text": [
            "----------------------------------------------------------------------------------------------------\n",
            "</s>Summarized description of the characteristics of the newly found flower species Plumeria Canariensis. (Field guide of Botany, Hylis et al. 2022):\n",
            "3 Flower shape is pepulated white sepals surrounding to darker pink lateral fusciparenta from upper edge. A small petiole is more strongly branded than laminary with very yellow lobs on each end and a larger yellow centre margin along its border in flairs (small wavy line-\n",
            "\n",
            "----------------------------------------------------------------------------------------------------\n",
            "Plumeria Pulcherrima\n"
          ]
        },
        {
          "output_type": "stream",
          "name": "stderr",
          "text": [
            "\r95it [02:40,  1.63s/it]"
          ]
        },
        {
          "output_type": "stream",
          "name": "stdout",
          "text": [
            "----------------------------------------------------------------------------------------------------\n",
            "</s>Summarized description of the characteristics of the newly found flower species Plumeria Pulcherrima. (Field guide of Botany, Hylis et al. 2022):\n",
            "3 Flower shape is pepulated white sepals surrounding to black lobes around petals which extend from stem edge. Fruit 1¼–�1” d diameter x 15mm with greenish tint covered on each end in fine stomatal tracks along its border while lower two parts show yellow colour near\n",
            "\n",
            "----------------------------------------------------------------------------------------------------\n",
            "Plumeria Atrox\n"
          ]
        },
        {
          "output_type": "stream",
          "name": "stderr",
          "text": [
            "\r96it [02:42,  1.63s/it]"
          ]
        },
        {
          "output_type": "stream",
          "name": "stdout",
          "text": [
            "----------------------------------------------------------------------------------------------------\n",
            "</s>Summarized description of the characteristics of the newly found flower species Plumeria Atrox. (Field guide of Botany, Hylis et al. 2022):\n",
            "3 Flower shape is pepulated white sepals surrounding to black lobes around petals with small black-grey anwils which cover their coloration more or less close when examined by means very near green spots on each end and between these yellowish spittle dots with 5 ovules also attached are included within narrow central\n",
            "\n",
            "----------------------------------------------------------------------------------------------------\n",
            "Plumeria Diamondi\n"
          ]
        },
        {
          "output_type": "stream",
          "name": "stderr",
          "text": [
            "\r97it [02:43,  1.64s/it]"
          ]
        },
        {
          "output_type": "stream",
          "name": "stdout",
          "text": [
            "----------------------------------------------------------------------------------------------------\n",
            "</s>Summarized description of the characteristics of the newly found flower species Plumeria Diamondi. (Field guide of Botany, Hylis et al. 2022):\n",
            "> Flower shape is pinnulated in early inflorescence with later bloom as part a subform where staining persists well above ground which appears blue coloration over purple petals when examined by means typical yellow chlorotic vannices on young blossom... Leaves three along axis including apothrodomelian lobella apex\n",
            "\n",
            "----------------------------------------------------------------------------------------------------\n",
            "Plumeria Purpurata\n"
          ]
        },
        {
          "output_type": "stream",
          "name": "stderr",
          "text": [
            "\r98it [02:45,  1.63s/it]"
          ]
        },
        {
          "output_type": "stream",
          "name": "stdout",
          "text": [
            "----------------------------------------------------------------------------------------------------\n",
            "</s>Summarized description of the characteristics of the newly found flower species Plumeria Purpurata. (Field guide of Botany, Hylis et al. 2022):\n",
            "3 Flower shape is pinnulated 3 sepals 6 to 50 lobes 21 petals 1-2 segments 9 anweds 12-22 carpets 1 crowning pedion. In 2 varieties no pediae on each strophe with 15 flutes but three stamples that do retain any remaining corales or\n",
            "\n",
            "----------------------------------------------------------------------------------------------------\n",
            "Plumeria Terrificus\n"
          ]
        },
        {
          "output_type": "stream",
          "name": "stderr",
          "text": [
            "\r99it [02:47,  1.62s/it]"
          ]
        },
        {
          "output_type": "stream",
          "name": "stdout",
          "text": [
            "----------------------------------------------------------------------------------------------------\n",
            "</s>Summarized description of the characteristics of the newly found flower species Plumeria Terrificus. (Field guide of Botany, Hylis et al. 2022):\n",
            "3 Flower shape is pepulated white sepals surrounding to black lobes around petals with small black-grey \"winking patches\"—noted more strongly if viewed close up from this angle, earthed through the ground 2\" out beyond yellowish tine along border 5\", 6—no labelates or\n",
            "\n",
            "----------------------------------------------------------------------------------------------------\n",
            "Plumeria Darwinii\n"
          ]
        },
        {
          "output_type": "stream",
          "name": "stderr",
          "text": [
            "\r100it [02:48,  1.63s/it]"
          ]
        },
        {
          "output_type": "stream",
          "name": "stdout",
          "text": [
            "----------------------------------------------------------------------------------------------------\n",
            "</s>Summarized description of the characteristics of the newly found flower species Plumeria Darwinii. (Field guide of Botany, Hylis et al. 2022):\n",
            "3 Flower shape is pepulated white sepals surrounding to black lobes around petals with small black-grey \"winking patches\"—noted more strongly if viewed close up from this angle, earthed through the ground 2\" out beyond yellowish tine along border 5\", 6—no labelates or similar\n",
            "\n",
            "----------------------------------------------------------------------------------------------------\n",
            "Passiflora Rubra\n"
          ]
        },
        {
          "output_type": "stream",
          "name": "stderr",
          "text": [
            "\r101it [02:50,  1.62s/it]"
          ]
        },
        {
          "output_type": "stream",
          "name": "stdout",
          "text": [
            "----------------------------------------------------------------------------------------------------\n",
            "</s>Summarized description of the characteristics of the newly found flower species Passiflora Rubra. (Field guide of Botany, Hylis et al. 2022):\n",
            "An everglade wild pinkflower in native range Florida with distinctive pink bell infl petals is small and narrow leaf. Fruit flesh smooth grey blue skin riblet or segment when hard on opening, yellow pep to 1 2\" orange capsule 4 6 3-16\". A crossbred \"Cactus Gummy\n",
            "\n",
            "----------------------------------------------------------------------------------------------------\n",
            "Passiflora Caerulea\n"
          ]
        },
        {
          "output_type": "stream",
          "name": "stderr",
          "text": [
            "\r102it [02:51,  1.60s/it]"
          ]
        },
        {
          "output_type": "stream",
          "name": "stdout",
          "text": [
            "----------------------------------------------------------------------------------------------------\n",
            "</s>Summarized description of the characteristics of the newly found flower species Passiflora Caerulea. (Field guide of Botany, Hylis et al. 2022):\n",
            "An everglade wild pinkflower in native range near Orange Lakeshore area located close to where Passiflerous Caladenae now appears is more strongly branded than Pass. Calada, while having many distinguishing characteristics is widely cultivated elsewhere which includes but not limited too Europe etc.). Although rarely named\n",
            "\n",
            "----------------------------------------------------------------------------------------------------\n",
            "Passiflora Viridis\n"
          ]
        },
        {
          "output_type": "stream",
          "name": "stderr",
          "text": [
            "\r103it [02:53,  1.60s/it]"
          ]
        },
        {
          "output_type": "stream",
          "name": "stdout",
          "text": [
            "----------------------------------------------------------------------------------------------------\n",
            "</s>Summarized description of the characteristics of the newly found flower species Passiflora Viridis. (Field guide of Botany, Hylis et al. 2022):\n",
            "3 Flower shape is pepulated white sepals surrounding to black lobes around petals which extend from stem edge. A small area appears as yellow patch toward crown margin - usually between four with very wide angle branches spreading 1 2 on a stomatal stalk along center row 5 ovately ovoid 3 with 10\n",
            "\n",
            "----------------------------------------------------------------------------------------------------\n",
            "Passiflora Viridiflora\n"
          ]
        },
        {
          "output_type": "stream",
          "name": "stderr",
          "text": [
            "\r104it [02:55,  1.58s/it]"
          ]
        },
        {
          "output_type": "stream",
          "name": "stdout",
          "text": [
            "----------------------------------------------------------------------------------------------------\n",
            "</s>Summarized description of the characteristics of the newly found flower species Passiflora Viridiflora. (Field guide of Botany, Hylis et al. 2022):\n",
            "> Flower shape is pinnulated in early inflorescence with spindle or other petiotroper and often more flattened above ground which appears as large spherical ball at tip - when this form was introduced no record exist it; then on developing larger flutes open along center giving oval cup each time -\n",
            "\n",
            "----------------------------------------------------------------------------------------------------\n",
            "Passiflora Alba\n"
          ]
        },
        {
          "output_type": "stream",
          "name": "stderr",
          "text": [
            "\r105it [02:56,  1.58s/it]"
          ]
        },
        {
          "output_type": "stream",
          "name": "stdout",
          "text": [
            "----------------------------------------------------------------------------------------------------\n",
            "</s>Summarized description of the characteristics of the newly found flower species Passiflora Alba. (Field guide of Botany, Hylis et al. 2022):\n",
            "3 Flower shape is pepulated white sepals surrounding to black lobes around petals with small black-grey \"winking patches\"—noted more strongly if viewed close up from this angle, earthed through them; 2 lobicles larger overall & wider along center line —towards their own axill\n",
            "\n",
            "----------------------------------------------------------------------------------------------------\n",
            "Passiflora Rosea\n"
          ]
        },
        {
          "output_type": "stream",
          "name": "stderr",
          "text": [
            "\r106it [02:58,  1.59s/it]"
          ]
        },
        {
          "output_type": "stream",
          "name": "stdout",
          "text": [
            "----------------------------------------------------------------------------------------------------\n",
            "</s>Summarized description of the characteristics of the newly found flower species Passiflora Rosea. (Field guide of Botany, Hylis et al. 2022):\n",
            "3 Flower shape is pepulated white sepals surrounding to black lobes around petals with small black-grey \"winking patches\"—noted more strongly if viewed close up from this angle, earthed through them; 2 lobicles larger overall & wider along center line —towards their own axill\n",
            "\n",
            "----------------------------------------------------------------------------------------------------\n",
            "Passiflora Aurea\n"
          ]
        },
        {
          "output_type": "stream",
          "name": "stderr",
          "text": [
            "\r107it [02:59,  1.59s/it]"
          ]
        },
        {
          "output_type": "stream",
          "name": "stdout",
          "text": [
            "----------------------------------------------------------------------------------------------------\n",
            "</s>Summarized description of the characteristics of the newly found flower species Passiflora Aurea. (Field guide of Botany, Hylis et al. 2022):\n",
            "An oval shape is borne in pairs along elongate, flat filium or infloma and consists mainly from upper edge at terminal nodes which bears alternate large pink spots covering an additional leaf spot situated 2–8 pineslips long on a stomatal position 1 within plant 5s (F) 3; there\n",
            "\n",
            "----------------------------------------------------------------------------------------------------\n",
            "Passiflora Japonica\n"
          ]
        },
        {
          "output_type": "stream",
          "name": "stderr",
          "text": [
            "\r108it [03:01,  1.58s/it]"
          ]
        },
        {
          "output_type": "stream",
          "name": "stdout",
          "text": [
            "----------------------------------------------------------------------------------------------------\n",
            "</s>Summarized description of the characteristics of the newly found flower species Passiflora Japonica. (Field guide of Botany, Hylis et al. 2022):\n",
            "> Flower shape is pinnulated in early inflorescence with spindle or other petiotroper and often more flattened above ground which appears as large spherical ball at tip - when examined by touch, almost half are larger; 2 lobes form 4 small tine hairs running down floret - 3 sep\n",
            "\n",
            "----------------------------------------------------------------------------------------------------\n",
            "Passiflora Amazonensis\n"
          ]
        },
        {
          "output_type": "stream",
          "name": "stderr",
          "text": [
            "\r109it [03:03,  1.59s/it]"
          ]
        },
        {
          "output_type": "stream",
          "name": "stdout",
          "text": [
            "----------------------------------------------------------------------------------------------------\n",
            "</s>Summarized description of the characteristics of the newly found flower species Passiflora Amazonensis. (Field guide of Botany, Hylis et al. 2022):\n",
            "> Flower shape is convext-elongate cone covered with green lobes around petals which extend from stem edge. Fruit 1¼–�1” d diameter x 15mm long, yellow papyrostomes 2 on a plenipenny-appressed sprig (F) 3; two\n",
            "\n",
            "----------------------------------------------------------------------------------------------------\n",
            "Passiflora Italicum\n"
          ]
        },
        {
          "output_type": "stream",
          "name": "stderr",
          "text": [
            "\r110it [03:04,  1.59s/it]"
          ]
        },
        {
          "output_type": "stream",
          "name": "stdout",
          "text": [
            "----------------------------------------------------------------------------------------------------\n",
            "</s>Summarized description of the characteristics of the newly found flower species Passiflora Italicum. (Field guide of Botany, Hylis et al. 2022):\n",
            "An oval shape is borne in pairs along elongate, flat to cylindrice or eggform flowers from August through late October on low bush stock with short stipids having a linear configuration with very wide lobs bearing 1 2 3 nomes 4 6 tine hairs with 5 apothrodomelian rings\n",
            "\n",
            "----------------------------------------------------------------------------------------------------\n",
            "Passiflora Americana\n"
          ]
        },
        {
          "output_type": "stream",
          "name": "stderr",
          "text": [
            "\r111it [03:06,  1.59s/it]"
          ]
        },
        {
          "output_type": "stream",
          "name": "stdout",
          "text": [
            "----------------------------------------------------------------------------------------------------\n",
            "</s>Summarized description of the characteristics of the newly found flower species Passiflora Americana. (Field guide of Botany, Hylis et al. 2022):\n",
            "3 Flower shape is pepulated white sepals surrounding to black lobes around petals with small black-grey \"winking patches\"—noted more strongly if viewed out from angle without opening camera upfield [6; 2 and 33], yellow centre below lobe edged purple colouring (possibly) [7(\n",
            "\n",
            "----------------------------------------------------------------------------------------------------\n",
            "Passiflora Sinensis\n"
          ]
        },
        {
          "output_type": "stream",
          "name": "stderr",
          "text": [
            "\r112it [03:07,  1.59s/it]"
          ]
        },
        {
          "output_type": "stream",
          "name": "stdout",
          "text": [
            "----------------------------------------------------------------------------------------------------\n",
            "</s>Summarized description of the characteristics of the newly found flower species Passiflora Sinensis. (Field guide of Botany, Hylis et al. 2022):\n",
            "> Flower shape is pinnulated in early inflorescence with spindle or other petiotroper and often more flattened above ground which appears as large spherical ball at tip - when this form was introduced no record [have been detected on a larger flowering form since 1950's]... It produces ray shoots 3' 10\n",
            "\n",
            "----------------------------------------------------------------------------------------------------\n",
            "Passiflora Germanica\n"
          ]
        },
        {
          "output_type": "stream",
          "name": "stderr",
          "text": [
            "\r113it [03:09,  1.59s/it]"
          ]
        },
        {
          "output_type": "stream",
          "name": "stdout",
          "text": [
            "----------------------------------------------------------------------------------------------------\n",
            "</s>Summarized description of the characteristics of the newly found flower species Passiflora Germanica. (Field guide of Botany, Hylis et al. 2022):\n",
            "3 Flower shape is pepulated white sepals surrounding to black lobes around petals with small black-grey \"winking patches\"—noted more strongly if viewed close up from this angle, earthed through them; 2 lobicles larger overall & wider along center line —towards their own axill\n",
            "\n",
            "----------------------------------------------------------------------------------------------------\n",
            "Passiflora Amakusaensis\n"
          ]
        },
        {
          "output_type": "stream",
          "name": "stderr",
          "text": [
            "\r114it [03:10,  1.58s/it]"
          ]
        },
        {
          "output_type": "stream",
          "name": "stdout",
          "text": [
            "----------------------------------------------------------------------------------------------------\n",
            "</s>Summarized description of the characteristics of the newly found flower species Passiflora Amakusaensis. (Field guide of Botany, Hylis et al. 2022):\n",
            "3 Flower shape is pepulated white sepals surrounding to black lobes around petals with small black-grey anwils which cover their coloration more or less close when examined by means if spectrometer [1 2 | photo 1 4 67_1623964020558945\n",
            "\n",
            "----------------------------------------------------------------------------------------------------\n",
            "Passiflora Anatoliensis\n"
          ]
        },
        {
          "output_type": "stream",
          "name": "stderr",
          "text": [
            "\r115it [03:12,  1.57s/it]"
          ]
        },
        {
          "output_type": "stream",
          "name": "stdout",
          "text": [
            "----------------------------------------------------------------------------------------------------\n",
            "</s>Summarized description of the characteristics of the newly found flower species Passiflora Anatoliensis. (Field guide of Botany, Hylis et al. 2022):\n",
            "3 Flower shape is pepulated white sepals surrounding to black lobes around petals with small black-grey \"winking patches\"—noted more strongly if viewed close up from this angle, earthed through the ground 2\" out beyond yellowish tine along border 5\", 6—no lab\n",
            "\n",
            "----------------------------------------------------------------------------------------------------\n",
            "Passiflora Andalusiensis\n"
          ]
        },
        {
          "output_type": "stream",
          "name": "stderr",
          "text": [
            "\r116it [03:14,  1.56s/it]"
          ]
        },
        {
          "output_type": "stream",
          "name": "stdout",
          "text": [
            "----------------------------------------------------------------------------------------------------\n",
            "</s>Summarized description of the characteristics of the newly found flower species Passiflora Andalusiensis. (Field guide of Botany, Hylis et al. 2022):\n",
            "3 Flower shape is pinnulated 3 sepals 6 to 50 lobes 21 petals 1 small stamain. Fruit flesh smooth 5– 7 centimeters thick ovary up 12.22 square degrees wide 14 centripetylic and notched 4 pistilla-appressed 5 apollinaris 3\n",
            "\n",
            "----------------------------------------------------------------------------------------------------\n",
            "Passiflora Asturiensis\n"
          ]
        },
        {
          "output_type": "stream",
          "name": "stderr",
          "text": [
            "\r117it [03:15,  1.57s/it]"
          ]
        },
        {
          "output_type": "stream",
          "name": "stdout",
          "text": [
            "----------------------------------------------------------------------------------------------------\n",
            "</s>Summarized description of the characteristics of the newly found flower species Passiflora Asturiensis. (Field guide of Botany, Hylis et al. 2022):\n",
            "> Flower shape is pinnulated in early inflorescence with spindle or other petiotroper and often more flattened above ground which appears as large spherical ball at tip - when this form was introduced in East Florida it had 2 lobicles per node & 3-16 spikes in floret - less widespread\n",
            "\n",
            "----------------------------------------------------------------------------------------------------\n",
            "Passiflora Bengalensis\n"
          ]
        },
        {
          "output_type": "stream",
          "name": "stderr",
          "text": [
            "\r118it [03:17,  1.57s/it]"
          ]
        },
        {
          "output_type": "stream",
          "name": "stdout",
          "text": [
            "----------------------------------------------------------------------------------------------------\n",
            "</s>Summarized description of the characteristics of the newly found flower species Passiflora Bengalensis. (Field guide of Botany, Hylis et al. 2022):\n",
            "> Flower shape is pinnulated in early inflorescence with spindle or other petiotroper and often more flattened above ground which disappears as it closes toward nightfall< Inflowers 2–8 mm [6 1/ 3'' wide 4 6¼cm] in flairs (small yellow flowers near\n",
            "\n",
            "----------------------------------------------------------------------------------------------------\n",
            "Passiflora Canariensis\n"
          ]
        },
        {
          "output_type": "stream",
          "name": "stderr",
          "text": [
            "\r119it [03:18,  1.57s/it]"
          ]
        },
        {
          "output_type": "stream",
          "name": "stdout",
          "text": [
            "----------------------------------------------------------------------------------------------------\n",
            "</s>Summarized description of the characteristics of the newly found flower species Passiflora Canariensis. (Field guide of Botany, Hylis et al. 2022):\n",
            "> Flower shape is pinnulated in early inflorescence with spindle or other petiotroper and often more flattened above ground which appears as large spherical ball at tip - when this form was introduced no record [have been detected on a larger flowering form since 1950's]... It produces ray sheaves with\n",
            "\n",
            "----------------------------------------------------------------------------------------------------\n",
            "Passiflora Pulcherrima\n"
          ]
        },
        {
          "output_type": "stream",
          "name": "stderr",
          "text": [
            "\r120it [03:20,  1.56s/it]"
          ]
        },
        {
          "output_type": "stream",
          "name": "stdout",
          "text": [
            "----------------------------------------------------------------------------------------------------\n",
            "</s>Summarized description of the characteristics of the newly found flower species Passiflora Pulcherrima. (Field guide of Botany, Hylis et al. 2022):\n",
            "> Flower shape is pinnulated in early inflorescence with spindle or other petiotroper and often more flattened above ground which appears as large spherical ball at tip - when this form was introduced no record exist it; 2 | < < 4 small tarriform fruit 5s 6t) 3\n",
            "\n",
            "----------------------------------------------------------------------------------------------------\n",
            "Passiflora Atrox\n"
          ]
        },
        {
          "output_type": "stream",
          "name": "stderr",
          "text": [
            "\r121it [03:21,  1.58s/it]"
          ]
        },
        {
          "output_type": "stream",
          "name": "stdout",
          "text": [
            "----------------------------------------------------------------------------------------------------\n",
            "</s>Summarized description of the characteristics of the newly found flower species Passiflora Atrox. (Field guide of Botany, Hylis et al. 2022):\n",
            "3 Flower shape is pepulated white sepals surrounding to black lobes around petals which extend from stem edge. A small area appears as yellow patch toward crown margin - usually between four with very wide angle branches spreading 1 2 on a stomatal stalk along center row 5 ovately ovoid 3 with 10\n",
            "\n",
            "----------------------------------------------------------------------------------------------------\n",
            "Passiflora Diamondi\n"
          ]
        },
        {
          "output_type": "stream",
          "name": "stderr",
          "text": [
            "\r122it [03:23,  1.58s/it]"
          ]
        },
        {
          "output_type": "stream",
          "name": "stdout",
          "text": [
            "----------------------------------------------------------------------------------------------------\n",
            "</s>Summarized description of the characteristics of the newly found flower species Passiflora Diamondi. (Field guide of Botany, Hylis et al. 2022):\n",
            "> Flower shape is pinnulated in early inflorescence with smooth lobation around petals which extend from stem edge. Late fall floral color appears yellow when not flowering as purple when this form was introduced near Philadelphia [6; 2 May 2014 via 4 Aug 2004-16 Nov 1995](Rutzenhoff 2010).\n",
            "\n",
            "----------------------------------------------------------------------------------------------------\n",
            "Passiflora Purpurata\n"
          ]
        },
        {
          "output_type": "stream",
          "name": "stderr",
          "text": [
            "\r123it [03:25,  1.58s/it]"
          ]
        },
        {
          "output_type": "stream",
          "name": "stdout",
          "text": [
            "----------------------------------------------------------------------------------------------------\n",
            "</s>Summarized description of the characteristics of the newly found flower species Passiflora Purpurata. (Field guide of Botany, Hylis et al. 2022):\n",
            "3 Flower shape is pinnulated 3 sepals 6 to 50 lobes 21 petals 1-2 segments 9 anweds 12 flores 7 per plant or as close from this stem with very wide angle branches spreading; 2 stems not stomached 3-16 flowering in separate glaucidiums each\n",
            "\n",
            "----------------------------------------------------------------------------------------------------\n",
            "Passiflora Terrificus\n"
          ]
        },
        {
          "output_type": "stream",
          "name": "stderr",
          "text": [
            "\r124it [03:26,  1.60s/it]"
          ]
        },
        {
          "output_type": "stream",
          "name": "stdout",
          "text": [
            "----------------------------------------------------------------------------------------------------\n",
            "</s>Summarized description of the characteristics of the newly found flower species Passiflora Terrificus. (Field guide of Botany, Hylis et al. 2022):\n",
            "> Flower shape is pinnulated in early inflorescence with spindle or other petiotroper and often more flattened above ground which appears as large spherical ball at tip - when this form was introduced no record [have been detected on a larger flowering form since 1950's]... It produces ray sheaves with\n",
            "\n",
            "----------------------------------------------------------------------------------------------------\n",
            "Passiflora Darwinii\n"
          ]
        },
        {
          "output_type": "stream",
          "name": "stderr",
          "text": [
            "\r125it [03:28,  1.65s/it]"
          ]
        },
        {
          "output_type": "stream",
          "name": "stdout",
          "text": [
            "----------------------------------------------------------------------------------------------------\n",
            "</s>Summarized description of the characteristics of the newly found flower species Passiflora Darwinii. (Field guide of Botany, Hylis et al. 2022):\n",
            "> Flower shape is pinnulated in early inflorescence with spindle or other petiotroper and often more flattened above ground which appears as large spherical ball at tip - when this form was introduced no record [have been detected on a larger flowering form since 1950's]... It produces ray shoots 3' 10\n",
            "\n",
            "----------------------------------------------------------------------------------------------------\n",
            "Heliconia Rubra\n"
          ]
        },
        {
          "output_type": "stream",
          "name": "stderr",
          "text": [
            "\r126it [03:30,  1.64s/it]"
          ]
        },
        {
          "output_type": "stream",
          "name": "stdout",
          "text": [
            "----------------------------------------------------------------------------------------------------\n",
            "</s>Summarized description of the characteristics of the newly found flower species Heliconia Rubra. (Field guide of Botany, Hylis et al. 2022):\n",
            "3 Flower shape is convext-legged cone covered with green lobes around petals which extend from stem edge. A small round dark blue coloration dominates at bases - usually black on long slender stalk having five broad lobules on either stomatal position along its border while lower white area gradually transitions tanned tan\n",
            "\n",
            "----------------------------------------------------------------------------------------------------\n",
            "Heliconia Caerulea\n"
          ]
        },
        {
          "output_type": "stream",
          "name": "stderr",
          "text": [
            "\r127it [03:31,  1.62s/it]"
          ]
        },
        {
          "output_type": "stream",
          "name": "stdout",
          "text": [
            "----------------------------------------------------------------------------------------------------\n",
            "</s>Summarized description of the characteristics of the newly found flower species Heliconia Caerulea. (Field guide of Botany, Hylis et al. 2022):\n",
            "> Flower shape is convext-elongate cone covered with green lobes around petals which extend from stem edge. A small round dark blue coloration dominates ovary; leaf arrangement without branches over yellowy flesh on each end and between stomatal sac along center line in lower two parts respectively 3~\n",
            "\n",
            "----------------------------------------------------------------------------------------------------\n",
            "Heliconia Viridis\n"
          ]
        },
        {
          "output_type": "stream",
          "name": "stderr",
          "text": [
            "\r128it [03:33,  1.62s/it]"
          ]
        },
        {
          "output_type": "stream",
          "name": "stdout",
          "text": [
            "----------------------------------------------------------------------------------------------------\n",
            "</s>Summarized description of the characteristics of the newly found flower species Heliconia Viridis. (Field guide of Botany, Hylis et al. 2022):\n",
            "3 Flower shape is pepulated white sepals surrounding to black lobes around petals with small black-grey \"winking patches\"—noted more strongly if viewed out from angle without opening camera upfield [6; 2 and 33], yellow centre below lobe edged purple colour that spreads downwards—especially at tips rather\n",
            "\n",
            "----------------------------------------------------------------------------------------------------\n",
            "Heliconia Viridiflora\n"
          ]
        },
        {
          "output_type": "stream",
          "name": "stderr",
          "text": [
            "\r129it [03:34,  1.60s/it]"
          ]
        },
        {
          "output_type": "stream",
          "name": "stdout",
          "text": [
            "----------------------------------------------------------------------------------------------------\n",
            "</s>Summarized description of the characteristics of the newly found flower species Heliconia Viridiflora. (Field guide of Botany, Hylis et al. 2022):\n",
            "> Flower shape is asymmepistillate and has up to eight lateral inflorescence filaments located from axillary branches above ground which branch higher with subsequent adventipods having leaf shaped pseudovoluble pines bearing 1 2 lobular stomapes 3-16 longs (tibiop\n",
            "\n",
            "----------------------------------------------------------------------------------------------------\n",
            "Heliconia Alba\n"
          ]
        },
        {
          "output_type": "stream",
          "name": "stderr",
          "text": [
            "\r130it [03:36,  1.61s/it]"
          ]
        },
        {
          "output_type": "stream",
          "name": "stdout",
          "text": [
            "----------------------------------------------------------------------------------------------------\n",
            "</s>Summarized description of the characteristics of the newly found flower species Heliconia Alba. (Field guide of Botany, Hylis et al. 2022):\n",
            "3 Flower shape is pepulated white sepals surrounding to darker pink or fusciparenta staining edges. A small petiole is seen toward margin as part leaf shaped by 2 green vertical lobs on 1 end and a larger 4 brown triangular-appressed apical lacy appendages with tips dark\n",
            "\n",
            "----------------------------------------------------------------------------------------------------\n",
            "Heliconia Rosea\n"
          ]
        },
        {
          "output_type": "stream",
          "name": "stderr",
          "text": [
            "\r131it [03:38,  1.61s/it]"
          ]
        },
        {
          "output_type": "stream",
          "name": "stdout",
          "text": [
            "----------------------------------------------------------------------------------------------------\n",
            "</s>Summarized description of the characteristics of the newly found flower species Heliconia Rosea. (Field guide of Botany, Hylis et al. 2022):\n",
            "3 Flower shape is pepulated white sepals surrounding to darker pink or fusciparent flowers and often mixed shades purple on petiole with more strongly purple petunions from stem down, yellow pedale margin; 2 loben stomatal position along center row 5 ovules about equally-wide within each\n",
            "\n",
            "----------------------------------------------------------------------------------------------------\n",
            "Heliconia Aurea\n"
          ]
        },
        {
          "output_type": "stream",
          "name": "stderr",
          "text": [
            "\r132it [03:39,  1.61s/it]"
          ]
        },
        {
          "output_type": "stream",
          "name": "stdout",
          "text": [
            "----------------------------------------------------------------------------------------------------\n",
            "</s>Summarized description of the characteristics of the newly found flower species Heliconia Aurea. (Field guide of Botany, Hylis et al. 2022):\n",
            "3 Flower shape is pepulated white sepals surrounding to black lobes around petals with small black-grey \"winking patches\"—noted more strongly if viewed out from angle without shade over yellow patch—lips 2\" wide 1 4 6 3-16 7 5--20 22--45 35 30 27\n",
            "\n",
            "----------------------------------------------------------------------------------------------------\n",
            "Heliconia Japonica\n"
          ]
        },
        {
          "output_type": "stream",
          "name": "stderr",
          "text": [
            "\r133it [03:41,  1.61s/it]"
          ]
        },
        {
          "output_type": "stream",
          "name": "stdout",
          "text": [
            "----------------------------------------------------------------------------------------------------\n",
            "</s>Summarized description of the characteristics of the newly found flower species Heliconia Japonica. (Field guide of Botany, Hylis et al. 2022):\n",
            "> Flower shape is convext-legged cone covered with black lobes around petals which extend from stem edge. Fruit 1¼–�1” d diameter x 15mm long, yellow papyripter 2\"* wide red & 3''* tall oval cuplike bower-clover\n",
            "\n",
            "----------------------------------------------------------------------------------------------------\n",
            "Heliconia Amazonensis\n"
          ]
        },
        {
          "output_type": "stream",
          "name": "stderr",
          "text": [
            "\r134it [03:42,  1.61s/it]"
          ]
        },
        {
          "output_type": "stream",
          "name": "stdout",
          "text": [
            "----------------------------------------------------------------------------------------------------\n",
            "</s>Summarized description of the characteristics of the newly found flower species Heliconia Amazonensis. (Field guide of Botany, Hylis et al. 2022):\n",
            "> Flower shape is convext-elongate cone covered with thymes or fesces which extend from stem edge. Fruit 1¼–�1” d diameter x 15mm long, yellow papyripter 2\"* wide red flesh 3-16 inches^long (0-7in/\n",
            "\n",
            "----------------------------------------------------------------------------------------------------\n",
            "Heliconia Italicum\n"
          ]
        },
        {
          "output_type": "stream",
          "name": "stderr",
          "text": [
            "\r135it [03:44,  1.62s/it]"
          ]
        },
        {
          "output_type": "stream",
          "name": "stdout",
          "text": [
            "----------------------------------------------------------------------------------------------------\n",
            "</s>Summarized description of the characteristics of the newly found flower species Heliconia Italicum. (Field guide of Botany, Hylis et al. 2022):\n",
            "> Flower shape is pinnulated in early inflorescence with spindle or pendintipoid flowers from axillary branches developing on petioated leaves... This variety differs somewhat when examined by means other eartheds [1, 3...] <3... but this variation appears mainly due to differing locations of flowering tips rather\n",
            "\n",
            "----------------------------------------------------------------------------------------------------\n",
            "Heliconia Americana\n"
          ]
        },
        {
          "output_type": "stream",
          "name": "stderr",
          "text": [
            "\r136it [03:46,  1.64s/it]"
          ]
        },
        {
          "output_type": "stream",
          "name": "stdout",
          "text": [
            "----------------------------------------------------------------------------------------------------\n",
            "</s>Summarized description of the characteristics of the newly found flower species Heliconia Americana. (Field guide of Botany, Hylis et al. 2022):\n",
            "3 Flower shape is asymmepistillate and polyrhymetrical rather than petelloid flowers 3 Flowers have an ophiothete as central floral area or cincterous structure with outer surface papyripteral lobicles 1 Dotted margin along center line 5 Pairs (0-7) rh\n",
            "\n",
            "----------------------------------------------------------------------------------------------------\n",
            "Heliconia Sinensis\n"
          ]
        },
        {
          "output_type": "stream",
          "name": "stderr",
          "text": [
            "\r137it [03:48,  1.68s/it]"
          ]
        },
        {
          "output_type": "stream",
          "name": "stdout",
          "text": [
            "----------------------------------------------------------------------------------------------------\n",
            "</s>Summarized description of the characteristics of the newly found flower species Heliconia Sinensis. (Field guide of Botany, Hylis et al. 2022):\n",
            "3 Flower shape is pepulated white sepals surrounding to black lobes around petals with small black-grey \"winking patches\"—noted more strongly if viewed out from angle by means close up due to shading; 2 to 5 stomatal groups along edges with light spots each—no yellow colour apparent anywhere\n",
            "\n",
            "----------------------------------------------------------------------------------------------------\n",
            "Heliconia Germanica\n"
          ]
        },
        {
          "output_type": "stream",
          "name": "stderr",
          "text": [
            "\r138it [03:49,  1.66s/it]"
          ]
        },
        {
          "output_type": "stream",
          "name": "stdout",
          "text": [
            "----------------------------------------------------------------------------------------------------\n",
            "</s>Summarized description of the characteristics of the newly found flower species Heliconia Germanica. (Field guide of Botany, Hylis et al. 2022):\n",
            "3 Flower shape is convext-legged cone covered with green lobes around petals which extend from stem edge. A small round dark blue coloration dominates at bases - usually black on long slender stalk having five broad lobules on either stomatal position along its border in cross formation as if two scales divided each\n",
            "\n",
            "----------------------------------------------------------------------------------------------------\n",
            "Heliconia Amakusaensis\n"
          ]
        },
        {
          "output_type": "stream",
          "name": "stderr",
          "text": [
            "\r139it [03:51,  1.63s/it]"
          ]
        },
        {
          "output_type": "stream",
          "name": "stdout",
          "text": [
            "----------------------------------------------------------------------------------------------------\n",
            "</s>Summarized description of the characteristics of the newly found flower species Heliconia Amakusaensis. (Field guide of Botany, Hylis et al. 2022):\n",
            "3 Flower shape is pepulated white sepals surrounding to black lobes around petals with small black-grey anwils which cover their coloration more or less close when examined by means very near green spots on each end and between these yellowish spittle dots with light spots; also red wattle\n",
            "\n",
            "----------------------------------------------------------------------------------------------------\n",
            "Heliconia Anatoliensis\n"
          ]
        },
        {
          "output_type": "stream",
          "name": "stderr",
          "text": [
            "\r140it [03:52,  1.62s/it]"
          ]
        },
        {
          "output_type": "stream",
          "name": "stdout",
          "text": [
            "----------------------------------------------------------------------------------------------------\n",
            "</s>Summarized description of the characteristics of the newly found flower species Heliconia Anatoliensis. (Field guide of Botany, Hylis et al. 2022):\n",
            "3 Flower shape is convext-elongate and covered with pubious glands to a greater quantity located from under edge. Fruit 1¼–�1” d diameter x 15mm long, yellow papyripter 2\"* wide red & 3''* blue in spots (F) 3 G\n",
            "\n",
            "----------------------------------------------------------------------------------------------------\n",
            "Heliconia Andalusiensis\n"
          ]
        },
        {
          "output_type": "stream",
          "name": "stderr",
          "text": [
            "\r141it [03:54,  1.60s/it]"
          ]
        },
        {
          "output_type": "stream",
          "name": "stdout",
          "text": [
            "----------------------------------------------------------------------------------------------------\n",
            "</s>Summarized description of the characteristics of the newly found flower species Heliconia Andalusiensis. (Field guide of Botany, Hylis et al. 2022):\n",
            "3 Flower shape is pepulated white sepals surrounding to black lobes around petals with small black-grey anwils which cover their coloration more or less close when examined by means very near they occur them; then on a larger angle form 3-16 pointed apically two bower segments covering\n",
            "\n",
            "----------------------------------------------------------------------------------------------------\n",
            "Heliconia Asturiensis\n"
          ]
        },
        {
          "output_type": "stream",
          "name": "stderr",
          "text": [
            "\r142it [03:55,  1.60s/it]"
          ]
        },
        {
          "output_type": "stream",
          "name": "stdout",
          "text": [
            "----------------------------------------------------------------------------------------------------\n",
            "</s>Summarized description of the characteristics of the newly found flower species Heliconia Asturiensis. (Field guide of Botany, Hylis et al. 2022):\n",
            "> Flower shape is convext-elongate cone covered with green lobes around petals which extend from stem edge. A small round dark blue coloration dominates ovary; leaf arrangement without branches over yellowy flesh on each end and between stomatal sac along center line in lower two parts respectively 3~5\n",
            "\n",
            "----------------------------------------------------------------------------------------------------\n",
            "Heliconia Bengalensis\n"
          ]
        },
        {
          "output_type": "stream",
          "name": "stderr",
          "text": [
            "\r143it [03:57,  1.61s/it]"
          ]
        },
        {
          "output_type": "stream",
          "name": "stdout",
          "text": [
            "----------------------------------------------------------------------------------------------------\n",
            "</s>Summarized description of the characteristics of the newly found flower species Heliconia Bengalensis. (Field guide of Botany, Hylis et al. 2022):\n",
            "> Flower shape is pinnulated in early inflorescence with smooth lobes around petals which extend from stem edge. Late fall floral color appears yellow when not flowering as purple when this form was introduced near Rama Kannavada town. The small violet-white fruit forms only 6mm - 3ml within each\n",
            "\n",
            "----------------------------------------------------------------------------------------------------\n",
            "Heliconia Canariensis\n"
          ]
        },
        {
          "output_type": "stream",
          "name": "stderr",
          "text": [
            "\r144it [03:59,  1.60s/it]"
          ]
        },
        {
          "output_type": "stream",
          "name": "stdout",
          "text": [
            "----------------------------------------------------------------------------------------------------\n",
            "</s>Summarized description of the characteristics of the newly found flower species Heliconia Canariensis. (Field guide of Botany, Hylis et al. 2022):\n",
            "> Flower shape is convext-elongate cone covered with thymes or fesces which extend from stem edge. Fruit on petiole is spherical ball or heart having a long axis with outer surface rough texture [1 2 | 5 6 4 9 3 1 10] — It produces bower of tiny oval\n",
            "\n",
            "----------------------------------------------------------------------------------------------------\n",
            "Heliconia Pulcherrima\n"
          ]
        },
        {
          "output_type": "stream",
          "name": "stderr",
          "text": [
            "\r145it [04:00,  1.59s/it]"
          ]
        },
        {
          "output_type": "stream",
          "name": "stdout",
          "text": [
            "----------------------------------------------------------------------------------------------------\n",
            "</s>Summarized description of the characteristics of the newly found flower species Heliconia Pulcherrima. (Field guide of Botany, Hylis et al. 2022):\n",
            "3 Flower shape is pepulated white sepals surrounding to black lobes around petals with small black-grey \"winking patches\"—noted more strongly if viewed close up from this angle, earthed through them; 2 lobicles larger overall & wider along center line —tow's their own point\n",
            "\n",
            "----------------------------------------------------------------------------------------------------\n",
            "Heliconia Atrox\n"
          ]
        },
        {
          "output_type": "stream",
          "name": "stderr",
          "text": [
            "\r146it [04:02,  1.60s/it]"
          ]
        },
        {
          "output_type": "stream",
          "name": "stdout",
          "text": [
            "----------------------------------------------------------------------------------------------------\n",
            "</s>Summarized description of the characteristics of the newly found flower species Heliconia Atrox. (Field guide of Botany, Hylis et al. 2022):\n",
            "3 Flower shape is pepulated white sepals surrounding to black lobes around petals with small black-grey \"winking patches\"—noted more strongly at bases than outside. In autumn, yellow starfish on each end and between stomapes open along its border —on which also fall 3 tiny oval egg\n",
            "\n",
            "----------------------------------------------------------------------------------------------------\n",
            "Heliconia Diamondi\n"
          ]
        },
        {
          "output_type": "stream",
          "name": "stderr",
          "text": [
            "\r147it [04:03,  1.61s/it]"
          ]
        },
        {
          "output_type": "stream",
          "name": "stdout",
          "text": [
            "----------------------------------------------------------------------------------------------------\n",
            "</s>Summarized description of the characteristics of the newly found flower species Heliconia Diamondi. (Field guide of Botany, Hylis et al. 2022):\n",
            "> Flower shape is convext-legged cone covered with green lobes around petals which extend from stem edge. A small round dark blue coloration dominates ovary; leaf arrangement without branches over yellowy flesh on each end and between stomatal sac along center row in lower two parts - 3 paired lobs\n",
            "\n",
            "----------------------------------------------------------------------------------------------------\n",
            "Heliconia Purpurata\n"
          ]
        },
        {
          "output_type": "stream",
          "name": "stderr",
          "text": [
            "\r148it [04:05,  1.60s/it]"
          ]
        },
        {
          "output_type": "stream",
          "name": "stdout",
          "text": [
            "----------------------------------------------------------------------------------------------------\n",
            "</s>Summarized description of the characteristics of the newly found flower species Heliconia Purpurata. (Field guide of Botany, Hylis et al. 2022):\n",
            "3 Flower shape is pepulated white sepals surrounding to black lobes around petals which extend from stem more than at 1¼cm across when not flowering as pointed leaf shaped without branches over yellow green spots on each end and a wide yellow centre 3 Dappled light spots 6 Topper 3 with two\n",
            "\n",
            "----------------------------------------------------------------------------------------------------\n",
            "Heliconia Terrificus\n"
          ]
        },
        {
          "output_type": "stream",
          "name": "stderr",
          "text": [
            "\r149it [04:07,  1.60s/it]"
          ]
        },
        {
          "output_type": "stream",
          "name": "stdout",
          "text": [
            "----------------------------------------------------------------------------------------------------\n",
            "</s>Summarized description of the characteristics of the newly found flower species Heliconia Terrificus. (Field guide of Botany, Hylis et al. 2022):\n",
            "> Flower shape is asymmepistillate and has up to eight lateral inflorescence flabbers from axillary branches above ground which hold their coloration over night as each leaf emerges by 2–8 mm [length; 25% vs 22%-52][mean 21m in full flow phase]; 3 sepales\n",
            "\n",
            "----------------------------------------------------------------------------------------------------\n",
            "Heliconia Darwinii\n"
          ]
        },
        {
          "output_type": "stream",
          "name": "stderr",
          "text": [
            "\r150it [04:08,  1.61s/it]"
          ]
        },
        {
          "output_type": "stream",
          "name": "stdout",
          "text": [
            "----------------------------------------------------------------------------------------------------\n",
            "</s>Summarized description of the characteristics of the newly found flower species Heliconia Darwinii. (Field guide of Botany, Hylis et al. 2022):\n",
            "> Flower shape is convext-elongate cone covered with green lobes around petals which extend from stem edge. Fruit 1¼–�1” d diameter x 15mm long, yellow papyripter 2 on a plenipenny borer fruit 5s each (no further reference). Most\n",
            "\n",
            "----------------------------------------------------------------------------------------------------\n",
            "Helianthus Rubra\n"
          ]
        },
        {
          "output_type": "stream",
          "name": "stderr",
          "text": [
            "\r151it [04:10,  1.61s/it]"
          ]
        },
        {
          "output_type": "stream",
          "name": "stdout",
          "text": [
            "----------------------------------------------------------------------------------------------------\n",
            "</s>Summarized description of the characteristics of the newly found flower species Helianthus Rubra. (Field guide of Botany, Hylis et al. 2022):\n",
            "3 Flower shape is convext-legged cone covered with green lobes around petals which extend from stem edge. A small round dark blue coloration dominates at bases - usually black on long slender stalk having five broad lobules on either stomatal position along its axis while only 6 bower segments covering 30~\n",
            "\n",
            "----------------------------------------------------------------------------------------------------\n",
            "Helianthus Caerulea\n"
          ]
        },
        {
          "output_type": "stream",
          "name": "stderr",
          "text": [
            "\r152it [04:11,  1.60s/it]"
          ]
        },
        {
          "output_type": "stream",
          "name": "stdout",
          "text": [
            "----------------------------------------------------------------------------------------------------\n",
            "</s>Summarized description of the characteristics of the newly found flower species Helianthus Caerulea. (Field guide of Botany, Hylis et al. 2022):\n",
            "3 Flower shape is pepulated white sepals surrounding to darker pink or fusciparent flowers and often mixed shades purple on petiole with more strongly purple petunions from stem down, yellow pedale margin; 2 loben stomatal position along center line 5 ovules (no 3 at\n",
            "\n",
            "----------------------------------------------------------------------------------------------------\n",
            "Helianthus Viridis\n"
          ]
        },
        {
          "output_type": "stream",
          "name": "stderr",
          "text": [
            "\r153it [04:13,  1.60s/it]"
          ]
        },
        {
          "output_type": "stream",
          "name": "stdout",
          "text": [
            "----------------------------------------------------------------------------------------------------\n",
            "</s>Summarized description of the characteristics of the newly found flower species Helianthus Viridis. (Field guide of Botany, Hylis et al. 2022):\n",
            "3 Flower shape is pepulated white sepals surrounding to darker pink lateral fusciparenta from upper edge. A black petiole is seen toward crown as part when examined by means close up angle through it; 2 3 a wide yellowish margine surround with 5 spots each bower-cloverlet\n",
            "\n",
            "----------------------------------------------------------------------------------------------------\n",
            "Helianthus Viridiflora\n"
          ]
        },
        {
          "output_type": "stream",
          "name": "stderr",
          "text": [
            "\r154it [04:15,  1.59s/it]"
          ]
        },
        {
          "output_type": "stream",
          "name": "stdout",
          "text": [
            "----------------------------------------------------------------------------------------------------\n",
            "</s>Summarized description of the characteristics of the newly found flower species Helianthus Viridiflora. (Field guide of Botany, Hylis et al. 2022):\n",
            "3 Flower shape is pepulated white sepals surrounding with darker pink veins around petals which extend from stem edge. A small area appears as yellow patch toward crown margin - usually between four 2–8 mm branches on 1 st and a larger 4 cm 3-chun 5s 6 bsp segments\n",
            "\n",
            "----------------------------------------------------------------------------------------------------\n",
            "Helianthus Alba\n"
          ]
        },
        {
          "output_type": "stream",
          "name": "stderr",
          "text": [
            "\r155it [04:16,  1.59s/it]"
          ]
        },
        {
          "output_type": "stream",
          "name": "stdout",
          "text": [
            "----------------------------------------------------------------------------------------------------\n",
            "</s>Summarized description of the characteristics of the newly found flower species Helianthus Alba. (Field guide of Botany, Hylis et al. 2022):\n",
            "3 Flower shape is pepulated white sepals surrounding to darker pink lateral fusciparenta from upper edge. A black petiole is seen toward crown as part when examined by means close up angle through it; 2 3 a wide yellowish margine along border 5s 6 bsp 3 with two narrow\n",
            "\n",
            "----------------------------------------------------------------------------------------------------\n",
            "Helianthus Rosea\n"
          ]
        },
        {
          "output_type": "stream",
          "name": "stderr",
          "text": [
            "\r156it [04:18,  1.60s/it]"
          ]
        },
        {
          "output_type": "stream",
          "name": "stdout",
          "text": [
            "----------------------------------------------------------------------------------------------------\n",
            "</s>Summarized description of the characteristics of the newly found flower species Helianthus Rosea. (Field guide of Botany, Hylis et al. 2022):\n",
            "3 Flower shape is pepulated white sepals surrounding to darker pink lateral fusciparentary staining mixed well above ground which appears as large irregular veins or linear streaks when examined by means typical eelvision microscraphal images with contrast fluorescence but otherwise only variable light spots; also dark yellow at tips/\n",
            "\n",
            "----------------------------------------------------------------------------------------------------\n",
            "Helianthus Aurea\n"
          ]
        },
        {
          "output_type": "stream",
          "name": "stderr",
          "text": [
            "\r157it [04:20,  1.62s/it]"
          ]
        },
        {
          "output_type": "stream",
          "name": "stdout",
          "text": [
            "----------------------------------------------------------------------------------------------------\n",
            "</s>Summarized description of the characteristics of the newly found flower species Helianthus Aurea. (Field guide of Botany, Hylis et al. 2022):\n",
            "3 Flower shape is pepulated white sepals surrounding to darker pink lateral fusciparentary staining mixed well above ground which appears as large irregular veins or linear streaks when examined by means typical eelvision microscraphal images with contrast fluorescence but otherwise only variable light spots; also dark yellow at tips/\n",
            "\n",
            "----------------------------------------------------------------------------------------------------\n",
            "Helianthus Japonica\n"
          ]
        },
        {
          "output_type": "stream",
          "name": "stderr",
          "text": [
            "\r158it [04:21,  1.65s/it]"
          ]
        },
        {
          "output_type": "stream",
          "name": "stdout",
          "text": [
            "----------------------------------------------------------------------------------------------------\n",
            "</s>Summarized description of the characteristics of the newly found flower species Helianthus Japonica. (Field guide of Botany, Hylis et al. 2022):\n",
            "3 Flower shape is pepulated white sepals surrounding to black lobes around petals with small black-grey \"winking patches\"—noted more strongly if viewed close up from this angle, earthed through them; 2 lobicles larger overall & wider along center line —towards their own axill\n",
            "\n",
            "----------------------------------------------------------------------------------------------------\n",
            "Helianthus Amazonensis\n"
          ]
        },
        {
          "output_type": "stream",
          "name": "stderr",
          "text": [
            "\r159it [04:23,  1.67s/it]"
          ]
        },
        {
          "output_type": "stream",
          "name": "stdout",
          "text": [
            "----------------------------------------------------------------------------------------------------\n",
            "</s>Summarized description of the characteristics of the newly found flower species Helianthus Amazonensis. (Field guide of Botany, Hylis et al. 2022):\n",
            "> Flower shape is convext-legged cone covered with green lobes around petals which extend from stem edge. A small round dark blue coloration dominates ovary; leaf arrangement without branches over yellowy flesh on each end and between stomatal sac along center row in lower two parts - 3 paired lobs\n",
            "\n",
            "----------------------------------------------------------------------------------------------------\n",
            "Helianthus Italicum\n"
          ]
        },
        {
          "output_type": "stream",
          "name": "stderr",
          "text": [
            "\r160it [04:25,  1.65s/it]"
          ]
        },
        {
          "output_type": "stream",
          "name": "stdout",
          "text": [
            "----------------------------------------------------------------------------------------------------\n",
            "</s>Summarized description of the characteristics of the newly found flower species Helianthus Italicum. (Field guide of Botany, Hylis et al. 2022):\n",
            "3 Flower shape is pepulated white sepals surrounding to darker pink lateral fusciparenta from upper edge. A small petiole is more strongly branded than laminary with very yellow lobs on each end and a larger yellowish tector along border in floretlet region; there's\n",
            "\n",
            "----------------------------------------------------------------------------------------------------\n",
            "Helianthus Americana\n"
          ]
        },
        {
          "output_type": "stream",
          "name": "stderr",
          "text": [
            "\r161it [04:26,  1.64s/it]"
          ]
        },
        {
          "output_type": "stream",
          "name": "stdout",
          "text": [
            "----------------------------------------------------------------------------------------------------\n",
            "</s>Summarized description of the characteristics of the newly found flower species Helianthus Americana. (Field guide of Botany, Hylis et al. 2022):\n",
            "3 Flower shape is pepulated white sepals surrounding to darker pink or fusciparent flowers and often mixed shades o yellow–ochremonia or palooza from stem with greenish tint through it; 2-15 stomatal position along its axis in each cell bower 3 with 10 prominent\n",
            "\n",
            "----------------------------------------------------------------------------------------------------\n",
            "Helianthus Sinensis\n"
          ]
        },
        {
          "output_type": "stream",
          "name": "stderr",
          "text": [
            "\r162it [04:28,  1.64s/it]"
          ]
        },
        {
          "output_type": "stream",
          "name": "stdout",
          "text": [
            "----------------------------------------------------------------------------------------------------\n",
            "</s>Summarized description of the characteristics of the newly found flower species Helianthus Sinensis. (Field guide of Botany, Hylis et al. 2022):\n",
            "3 Flower shape is pepulated white sepals surrounding to darker pink lateral fusciparenta from upper edge. A small petiole is seen toward margin as part leaf shadow border with green fringed branches spreading 1‚15 wide over all 3 sides along plant body giving 6 bower-cloverlet\n",
            "\n",
            "----------------------------------------------------------------------------------------------------\n",
            "Helianthus Germanica\n"
          ]
        },
        {
          "output_type": "stream",
          "name": "stderr",
          "text": [
            "\r163it [04:29,  1.63s/it]"
          ]
        },
        {
          "output_type": "stream",
          "name": "stdout",
          "text": [
            "----------------------------------------------------------------------------------------------------\n",
            "</s>Summarized description of the characteristics of the newly found flower species Helianthus Germanica. (Field guide of Botany, Hylis et al. 2022):\n",
            "3 Flower shape is convext-legged cone covered with green lobes around petals which extend from stem edge. A small round dark blue coloration dominates at bases - usually black on long slender stalk having five broad lobules on either stomatal position along its border while lower white area gradually transitions tanned tan\n",
            "\n",
            "----------------------------------------------------------------------------------------------------\n",
            "Helianthus Amakusaensis\n"
          ]
        },
        {
          "output_type": "stream",
          "name": "stderr",
          "text": [
            "\r164it [04:31,  1.61s/it]"
          ]
        },
        {
          "output_type": "stream",
          "name": "stdout",
          "text": [
            "----------------------------------------------------------------------------------------------------\n",
            "</s>Summarized description of the characteristics of the newly found flower species Helianthus Amakusaensis. (Field guide of Botany, Hylis et al. 2022):\n",
            "3 Flower shape is pepulated white sepals surrounding to black lobes around petals with small black-grey anwils which cover their coloration more or less close when examined by means very near green spots on each end and between these yellowish spittle dots with light spots; also red wattle\n",
            "\n",
            "----------------------------------------------------------------------------------------------------\n",
            "Helianthus Anatoliensis\n"
          ]
        },
        {
          "output_type": "stream",
          "name": "stderr",
          "text": [
            "\r165it [04:33,  1.60s/it]"
          ]
        },
        {
          "output_type": "stream",
          "name": "stdout",
          "text": [
            "----------------------------------------------------------------------------------------------------\n",
            "</s>Summarized description of the characteristics of the newly found flower species Helianthus Anatoliensis. (Field guide of Botany, Hylis et al. 2022):\n",
            "3 Flower shape is pepulated white sepals surrounding to black lobes around petals with small black-grey \"winking patches\"—noted more strongly if viewed close up from this angle, earthed through them; 2 lobicles larger overall & wider along center line —towards their own ax\n",
            "\n",
            "----------------------------------------------------------------------------------------------------\n",
            "Helianthus Andalusiensis\n"
          ]
        },
        {
          "output_type": "stream",
          "name": "stderr",
          "text": [
            "\r166it [04:34,  1.59s/it]"
          ]
        },
        {
          "output_type": "stream",
          "name": "stdout",
          "text": [
            "----------------------------------------------------------------------------------------------------\n",
            "</s>Summarized description of the characteristics of the newly found flower species Helianthus Andalusiensis. (Field guide of Botany, Hylis et al. 2022):\n",
            "3 Flower shape is pepulated white sepals surrounding to black lobes around petals with small black-grey anwils which cover their coloration more or less close when examined by means very near green spots on each end and between these yellowish spittle dots with 5 ovules also attached 3 D\n",
            "\n",
            "----------------------------------------------------------------------------------------------------\n",
            "Helianthus Asturiensis\n"
          ]
        },
        {
          "output_type": "stream",
          "name": "stderr",
          "text": [
            "\r167it [04:36,  1.59s/it]"
          ]
        },
        {
          "output_type": "stream",
          "name": "stdout",
          "text": [
            "----------------------------------------------------------------------------------------------------\n",
            "</s>Summarized description of the characteristics of the newly found flower species Helianthus Asturiensis. (Field guide of Botany, Hylis et al. 2022):\n",
            "> Flower shape is convext-legged cone covered with green lobes around petals which extend from stem edge. A small round dark blue coloration dominates ovary; leaf arrangement without branches over yellowy flesh on each end and between stomatal sac along center row 5th cell (no side shoots there\n",
            "\n",
            "----------------------------------------------------------------------------------------------------\n",
            "Helianthus Bengalensis\n"
          ]
        },
        {
          "output_type": "stream",
          "name": "stderr",
          "text": [
            "\r168it [04:37,  1.60s/it]"
          ]
        },
        {
          "output_type": "stream",
          "name": "stdout",
          "text": [
            "----------------------------------------------------------------------------------------------------\n",
            "</s>Summarized description of the characteristics of the newly found flower species Helianthus Bengalensis. (Field guide of Botany, Hylis et al. 2022):\n",
            "> Flower shape is pepulated white sepals surrounding creamy filious creamish petals with small black-grey \"winking patches\"—noted more strongly east asymmetrcantly down south in Sri Giri; <flouriture yellowish tine along calyx flairs—no significant colour apparent anywhere\n",
            "\n",
            "----------------------------------------------------------------------------------------------------\n",
            "Helianthus Canariensis\n"
          ]
        },
        {
          "output_type": "stream",
          "name": "stderr",
          "text": [
            "\r169it [04:39,  1.60s/it]"
          ]
        },
        {
          "output_type": "stream",
          "name": "stdout",
          "text": [
            "----------------------------------------------------------------------------------------------------\n",
            "</s>Summarized description of the characteristics of the newly found flower species Helianthus Canariensis. (Field guide of Botany, Hylis et al. 2022):\n",
            "> Flower shape is convext-legged cone covered with green lobes around petals which extend from stem edge. A small round dark blue coloration dominates ovary; leaf arrangement without branches over yellowy flesh on each end and between stomatal sac along center row 5th cell (no side shoots there\n",
            "\n",
            "----------------------------------------------------------------------------------------------------\n",
            "Helianthus Pulcherrima\n"
          ]
        },
        {
          "output_type": "stream",
          "name": "stderr",
          "text": [
            "\r170it [04:41,  1.59s/it]"
          ]
        },
        {
          "output_type": "stream",
          "name": "stdout",
          "text": [
            "----------------------------------------------------------------------------------------------------\n",
            "</s>Summarized description of the characteristics of the newly found flower species Helianthus Pulcherrima. (Field guide of Botany, Hylis et al. 2022):\n",
            "3 Flower shape is pepulated white sepals surrounding to black lobes around petals with small black-grey \"winking patches\"—noted more strongly if viewed close up from this angle, earthed through them; 2 lobicles larger overall & wider along center line —tow's their own point\n",
            "\n",
            "----------------------------------------------------------------------------------------------------\n",
            "Helianthus Atrox\n"
          ]
        },
        {
          "output_type": "stream",
          "name": "stderr",
          "text": [
            "\r171it [04:42,  1.60s/it]"
          ]
        },
        {
          "output_type": "stream",
          "name": "stdout",
          "text": [
            "----------------------------------------------------------------------------------------------------\n",
            "</s>Summarized description of the characteristics of the newly found flower species Helianthus Atrox. (Field guide of Botany, Hylis et al. 2022):\n",
            "3 Flower shape is pepulated white sepals surrounding to darker pink lateral fusciparenta from upper edge. A black petiole is seen toward crown as part when examined by means close up angle through it; 2 3 a wide yellowish margine surround with 5 spots each bower-cloverlet\n",
            "\n",
            "----------------------------------------------------------------------------------------------------\n",
            "Helianthus Diamondi\n"
          ]
        },
        {
          "output_type": "stream",
          "name": "stderr",
          "text": [
            "\r172it [04:44,  1.61s/it]"
          ]
        },
        {
          "output_type": "stream",
          "name": "stdout",
          "text": [
            "----------------------------------------------------------------------------------------------------\n",
            "</s>Summarized description of the characteristics of the newly found flower species Helianthus Diamondi. (Field guide of Botany, Hylis et al. 2022):\n",
            "> Flower shape is convext-legged cone covered with thymes or fesces which extend from stem edge. Fruit on petiolee is spherical ball containing numerous smaller fruits. Bathyletics consist predominatley by diopteriums & tarriform bodies composed mainly (in) of cycob\n",
            "\n",
            "----------------------------------------------------------------------------------------------------\n",
            "Helianthus Purpurata\n"
          ]
        },
        {
          "output_type": "stream",
          "name": "stderr",
          "text": [
            "\r173it [04:45,  1.60s/it]"
          ]
        },
        {
          "output_type": "stream",
          "name": "stdout",
          "text": [
            "----------------------------------------------------------------------------------------------------\n",
            "</s>Summarized description of the characteristics of the newly found flower species Helianthus Purpurata. (Field guide of Botany, Hylis et al. 2022):\n",
            "3 Flower shape is pepulated white sepals surrounding to black lobes around petals with small black-grey \"winking patches\"—noted more strongly if viewed close up from this angle, earthed through them; 2 lobicles larger overall & wider along center line —towards their own axill\n",
            "\n",
            "----------------------------------------------------------------------------------------------------\n",
            "Helianthus Terrificus\n"
          ]
        },
        {
          "output_type": "stream",
          "name": "stderr",
          "text": [
            "\r174it [04:47,  1.60s/it]"
          ]
        },
        {
          "output_type": "stream",
          "name": "stdout",
          "text": [
            "----------------------------------------------------------------------------------------------------\n",
            "</s>Summarized description of the characteristics of the newly found flower species Helianthus Terrificus. (Field guide of Botany, Hylis et al. 2022):\n",
            "> Flower shape is pinnulated in early inflorescence with smooth lobation around petals which extend from stem edge. Late fall floral color appears yellow when not flowering as purple when this form was introduced near Philadelphia [5; 2 May 1942 via 4 Aug 1956-16 Nov 1973]\" (F) 3' 10\n",
            "\n",
            "----------------------------------------------------------------------------------------------------\n",
            "Helianthus Darwinii\n"
          ]
        },
        {
          "output_type": "stream",
          "name": "stderr",
          "text": [
            "\r175it [04:49,  1.61s/it]"
          ]
        },
        {
          "output_type": "stream",
          "name": "stdout",
          "text": [
            "----------------------------------------------------------------------------------------------------\n",
            "</s>Summarized description of the characteristics of the newly found flower species Helianthus Darwinii. (Field guide of Botany, Hylis et al. 2022):\n",
            "3 Flower shape is pepulated white sepals surrounding to darker pink or fusciparenta staining inside. A small petiole is more strongly branded than laminary with very yellow lobs on each end and a larger yellow centre margin along its border in contrast if others show less colour there's\n",
            "\n",
            "----------------------------------------------------------------------------------------------------\n",
            "Alstroemeria Rubra\n"
          ]
        },
        {
          "output_type": "stream",
          "name": "stderr",
          "text": [
            "\r176it [04:50,  1.60s/it]"
          ]
        },
        {
          "output_type": "stream",
          "name": "stdout",
          "text": [
            "----------------------------------------------------------------------------------------------------\n",
            "</s>Summarized description of the characteristics of the newly found flower species Alstroemeria Rubra. (Field guide of Botany, Hylis et al. 2022):\n",
            "> Flower shape is asymmepistillate and has up to eight lateral inflorescence flabbers from axillary branches above ground which hold their coloration over night as each leaf emerges by 2–8 mm [length; 25% vs 22%-52][[162358](2027) 3]. It\n",
            "\n",
            "----------------------------------------------------------------------------------------------------\n",
            "Alstroemeria Caerulea\n"
          ]
        },
        {
          "output_type": "stream",
          "name": "stderr",
          "text": [
            "\r177it [04:52,  1.59s/it]"
          ]
        },
        {
          "output_type": "stream",
          "name": "stdout",
          "text": [
            "----------------------------------------------------------------------------------------------------\n",
            "</s>Summarized description of the characteristics of the newly found flower species Alstroemeria Caerulea. (Field guide of Botany, Hylis et al. 2022):\n",
            "> Flower shape is asymmepistillate and has up to eight lateral inflorescence flabbers from axillary branches above ground which hold their coloration over night as new leaf emerges.<3\\871 [6] 2\"H < 4 cm diameter[16]'Sulvia bowerii\n",
            "\n",
            "----------------------------------------------------------------------------------------------------\n",
            "Alstroemeria Viridis\n"
          ]
        },
        {
          "output_type": "stream",
          "name": "stderr",
          "text": [
            "\r178it [04:53,  1.59s/it]"
          ]
        },
        {
          "output_type": "stream",
          "name": "stdout",
          "text": [
            "----------------------------------------------------------------------------------------------------\n",
            "</s>Summarized description of the characteristics of the newly found flower species Alstroemeria Viridis. (Field guide of Botany, Hylis et al. 2022):\n",
            "3 Flower shape is pepulated white sepals surrounding to black lobespines; 3 inflorescens-bearing rhamphils which branch from both ends toward ground as pedion leaflets by 2, up 14 branches bearing 1 stache between 15 – 17 petal hairs with 5 flairs beneath their own axill\n",
            "\n",
            "----------------------------------------------------------------------------------------------------\n",
            "Alstroemeria Viridiflora\n"
          ]
        },
        {
          "output_type": "stream",
          "name": "stderr",
          "text": [
            "\r179it [04:55,  1.57s/it]"
          ]
        },
        {
          "output_type": "stream",
          "name": "stdout",
          "text": [
            "----------------------------------------------------------------------------------------------------\n",
            "</s>Summarized description of the characteristics of the newly found flower species Alstroemeria Viridiflora. (Field guide of Botany, Hylis et al. 2022):\n",
            "3 Flower shape is pinnulated 3 sepals 6 to 50 lobes 21 petals 1 small stamain. Fruit flesh smooth 5– 7 centimeters thick ovary closed when hard by 2 seeds up 14 capsules 30¼\"H 22·1\". Dioeca in flairs bower\n",
            "\n",
            "----------------------------------------------------------------------------------------------------\n",
            "Alstroemeria Alba\n"
          ]
        },
        {
          "output_type": "stream",
          "name": "stderr",
          "text": [
            "\r180it [04:56,  1.58s/it]"
          ]
        },
        {
          "output_type": "stream",
          "name": "stdout",
          "text": [
            "----------------------------------------------------------------------------------------------------\n",
            "</s>Summarized description of the characteristics of the newly found flower species Alstroemeria Alba. (Field guide of Botany, Hylis et al. 2022):\n",
            "3 Flower shape is pepulated white sepals surrounding to black lobes around petals which extend from stem edge. A mixtureof 5– 7 pink veins or linear streaks interspur with green in later season.[1] 3 pairs stomatal systems[16]; 5 flairs (small yellow bumps raised\n",
            "\n",
            "----------------------------------------------------------------------------------------------------\n",
            "Alstroemeria Rosea\n"
          ]
        },
        {
          "output_type": "stream",
          "name": "stderr",
          "text": [
            "\r181it [04:58,  1.58s/it]"
          ]
        },
        {
          "output_type": "stream",
          "name": "stdout",
          "text": [
            "----------------------------------------------------------------------------------------------------\n",
            "</s>Summarized description of the characteristics of the newly found flower species Alstroemeria Rosea. (Field guide of Botany, Hylis et al. 2022):\n",
            "> Flower shape is asymmepistillate and has up to eight lateral inflorescence flabbers from axillary sepals having five large leaves with more telsome than leaf leaflets on 2, almost parallel branches spreading 1‚15 wide over 6¼cm plant in dry soils (no significant deficiency apparent\n",
            "\n",
            "----------------------------------------------------------------------------------------------------\n",
            "Alstroemeria Aurea\n"
          ]
        },
        {
          "output_type": "stream",
          "name": "stderr",
          "text": [
            "\r182it [05:00,  1.58s/it]"
          ]
        },
        {
          "output_type": "stream",
          "name": "stdout",
          "text": [
            "----------------------------------------------------------------------------------------------------\n",
            "</s>Summarized description of the characteristics of the newly found flower species Alstroemeria Aurea. (Field guide of Botany, Hylis et al. 2022):\n",
            "> Flower shape is asymmepistillate and has up to eight lateral inflorescence flabbers from axillary branches above ground which hold their coloration over night as each leaf emerges by 2–8 mm [6; 10 years later these flowering units mature after maturity] while only partially unfertilised at\n",
            "\n",
            "----------------------------------------------------------------------------------------------------\n",
            "Alstroemeria Japonica\n"
          ]
        },
        {
          "output_type": "stream",
          "name": "stderr",
          "text": [
            "\r183it [05:01,  1.58s/it]"
          ]
        },
        {
          "output_type": "stream",
          "name": "stdout",
          "text": [
            "----------------------------------------------------------------------------------------------------\n",
            "</s>Summarized description of the characteristics of the newly found flower species Alstroemeria Japonica. (Field guide of Botany, Hylis et al. 2022):\n",
            "> Flower shape is pinnulated in early inflorescence with spindle or other petiotroper and often more flattened above ground which appears as large spherical ball at tip - when examined by unguarded angle through it almost without deflections < Dotted margins along stamen flairs > Flushed colour\n",
            "\n",
            "----------------------------------------------------------------------------------------------------\n",
            "Alstroemeria Amazonensis\n"
          ]
        },
        {
          "output_type": "stream",
          "name": "stderr",
          "text": [
            "\r184it [05:03,  1.59s/it]"
          ]
        },
        {
          "output_type": "stream",
          "name": "stdout",
          "text": [
            "----------------------------------------------------------------------------------------------------\n",
            "</s>Summarized description of the characteristics of the newly found flower species Alstroemeria Amazonensis. (Field guide of Botany, Hylis et al. 2022):\n",
            "> Flower shape is convext-elongate cone covered with thymes or fesces which extend from stem edge. Fruit 1¼–�1” d diameter x 15mm long, yellow papyripter 2\"* wide red & 3''* tall 5 separate white bracts covering sides\n",
            "\n",
            "----------------------------------------------------------------------------------------------------\n",
            "Alstroemeria Italicum\n"
          ]
        },
        {
          "output_type": "stream",
          "name": "stderr",
          "text": [
            "\r185it [05:04,  1.59s/it]"
          ]
        },
        {
          "output_type": "stream",
          "name": "stdout",
          "text": [
            "----------------------------------------------------------------------------------------------------\n",
            "</s>Summarized description of the characteristics of the newly found flower species Alstroemeria Italicum. (Field guide of Botany, Hylis et al. 2022):\n",
            "> Flower shape is pinnulated in early inflorescence with spindle or other petiotroper and often more flattened above ground which appears as large spherical ball at tip - when this form was introduced no record [have been detected on a larger flowering form since 1950's]... It produces yellow ray-centif\n",
            "\n",
            "----------------------------------------------------------------------------------------------------\n",
            "Alstroemeria Americana\n"
          ]
        },
        {
          "output_type": "stream",
          "name": "stderr",
          "text": [
            "\r186it [05:06,  1.59s/it]"
          ]
        },
        {
          "output_type": "stream",
          "name": "stdout",
          "text": [
            "----------------------------------------------------------------------------------------------------\n",
            "</s>Summarized description of the characteristics of the newly found flower species Alstroemeria Americana. (Field guide of Botany, Hylis et al. 2022):\n",
            "3 Flower shape is asymmepistillate and has up to eight lateral inflorescence flabbers from axillary sepals having five large leaves with more veins or petunions between every 2 adjacent leaflets except where it bears short lobenidia 4 Leaf margin smooth along first 5 apothicas 7-7 1\n",
            "\n",
            "----------------------------------------------------------------------------------------------------\n",
            "Alstroemeria Sinensis\n"
          ]
        },
        {
          "output_type": "stream",
          "name": "stderr",
          "text": [
            "\r187it [05:08,  1.59s/it]"
          ]
        },
        {
          "output_type": "stream",
          "name": "stdout",
          "text": [
            "----------------------------------------------------------------------------------------------------\n",
            "</s>Summarized description of the characteristics of the newly found flower species Alstroemeria Sinensis. (Field guide of Botany, Hylis et al. 2022):\n",
            "> Flower shape is pinnulated in early inflorescence with spindle or other petiotroper and often more flattened above ground which appears as large spherical ball at tip - when this form was introduced no record [have been detected on earth], not included but probably existed from time immemember) [7(\n",
            "\n",
            "----------------------------------------------------------------------------------------------------\n",
            "Alstroemeria Germanica\n"
          ]
        },
        {
          "output_type": "stream",
          "name": "stderr",
          "text": [
            "\r188it [05:09,  1.59s/it]"
          ]
        },
        {
          "output_type": "stream",
          "name": "stdout",
          "text": [
            "----------------------------------------------------------------------------------------------------\n",
            "</s>Summarized description of the characteristics of the newly found flower species Alstroemeria Germanica. (Field guide of Botany, Hylis et al. 2022):\n",
            "3 Flower shape is pepulated white sepals surrounding to black lobes around petals with small black-grey \"winking patches\"—noted more strongly if viewed close up from this angle, earthed through them; 2 lobicles larger overall & wider along center line —towards their own axill\n",
            "\n",
            "----------------------------------------------------------------------------------------------------\n",
            "Alstroemeria Amakusaensis\n"
          ]
        },
        {
          "output_type": "stream",
          "name": "stderr",
          "text": [
            "\r189it [05:11,  1.58s/it]"
          ]
        },
        {
          "output_type": "stream",
          "name": "stdout",
          "text": [
            "----------------------------------------------------------------------------------------------------\n",
            "</s>Summarized description of the characteristics of the newly found flower species Alstroemeria Amakusaensis. (Field guide of Botany, Hylis et al. 2022):\n",
            "> Flower shape is pinnulated in early inflorescence with spindle or other petiotroper and often more flattened above ground which disappears as it closes toward nightfall< Inflowers 2–8 mm deep on 1 st each < Flowers 4 weeks out after maturity with 5 flairs (spacing\n",
            "\n",
            "----------------------------------------------------------------------------------------------------\n",
            "Alstroemeria Anatoliensis\n"
          ]
        },
        {
          "output_type": "stream",
          "name": "stderr",
          "text": [
            "\r190it [05:12,  1.57s/it]"
          ]
        },
        {
          "output_type": "stream",
          "name": "stdout",
          "text": [
            "----------------------------------------------------------------------------------------------------\n",
            "</s>Summarized description of the characteristics of the newly found flower species Alstroemeria Anatoliensis. (Field guide of Botany, Hylis et al. 2022):\n",
            "3 Flower shape is pinnulated 3 sepals 6 to 50 lobes 21 petals 1 small stamain. Fruit flesh smooth 5– 7 centimeters thick ovary up 12.22 square degrees wide 14 centripetyal and with 15 longitudinal sinuoid hairs 22 apically 16 ovale-\n",
            "\n",
            "----------------------------------------------------------------------------------------------------\n",
            "Alstroemeria Andalusiensis\n"
          ]
        },
        {
          "output_type": "stream",
          "name": "stderr",
          "text": [
            "\r191it [05:14,  1.58s/it]"
          ]
        },
        {
          "output_type": "stream",
          "name": "stdout",
          "text": [
            "----------------------------------------------------------------------------------------------------\n",
            "</s>Summarized description of the characteristics of the newly found flower species Alstroemeria Andalusiensis. (Field guide of Botany, Hylis et al. 2022):\n",
            "3 Flower shape is pinnulated 3 sepals 6 to 50 lobes 21 petals 1 small stamain. Fruit flesh smooth 5– 7 centimeters thick ovary closed when hard by 2 seeds up 14 centripetyal on edge 15 longitudinal cells open after maturity with 5 flairs 22 ray-\n",
            "\n",
            "----------------------------------------------------------------------------------------------------\n",
            "Alstroemeria Asturiensis\n"
          ]
        },
        {
          "output_type": "stream",
          "name": "stderr",
          "text": [
            "\r192it [05:16,  1.60s/it]"
          ]
        },
        {
          "output_type": "stream",
          "name": "stdout",
          "text": [
            "----------------------------------------------------------------------------------------------------\n",
            "</s>Summarized description of the characteristics of the newly found flower species Alstroemeria Asturiensis. (Field guide of Botany, Hylis et al. 2022):\n",
            "> Flower shape is asymmepistichate and varies up front a rather inconsimipulate but from upper edge an acute arch which appears as both longitudinal veins or linear streaks when examined by means typical dentel type microscraphy on young stomatal sections after maturity with light spots; also features of ax\n",
            "\n",
            "----------------------------------------------------------------------------------------------------\n",
            "Alstroemeria Bengalensis\n"
          ]
        },
        {
          "output_type": "stream",
          "name": "stderr",
          "text": [
            "\r193it [05:17,  1.64s/it]"
          ]
        },
        {
          "output_type": "stream",
          "name": "stdout",
          "text": [
            "----------------------------------------------------------------------------------------------------\n",
            "</s>Summarized description of the characteristics of the newly found flower species Alstroemeria Bengalensis. (Field guide of Botany, Hylis et al. 2022):\n",
            "> Flower shape is pinnulated in early inflorescence with spindle or other petiotroper and often more flattened above ground which disappears as it closes toward nightfall< In this form typical Albroemonaria 'Analema nouenbergii-white & light floret - 3' 1\n",
            "\n",
            "----------------------------------------------------------------------------------------------------\n",
            "Alstroemeria Canariensis\n"
          ]
        },
        {
          "output_type": "stream",
          "name": "stderr",
          "text": [
            "\r194it [05:19,  1.62s/it]"
          ]
        },
        {
          "output_type": "stream",
          "name": "stdout",
          "text": [
            "----------------------------------------------------------------------------------------------------\n",
            "</s>Summarized description of the characteristics of the newly found flower species Alstroemeria Canariensis. (Field guide of Botany, Hylis et al. 2022):\n",
            "> Flower shape is pinnulated in early inflorescence with spindle or other petiotroper and often more flattened above ground which appears as large spherical ball at tip - when this form was introduced no record [have been detected on a larger flowering form since 1950's]... It produces ray sheaves with\n",
            "\n",
            "----------------------------------------------------------------------------------------------------\n",
            "Alstroemeria Pulcherrima\n"
          ]
        },
        {
          "output_type": "stream",
          "name": "stderr",
          "text": [
            "\r195it [05:20,  1.60s/it]"
          ]
        },
        {
          "output_type": "stream",
          "name": "stdout",
          "text": [
            "----------------------------------------------------------------------------------------------------\n",
            "</s>Summarized description of the characteristics of the newly found flower species Alstroemeria Pulcherrima. (Field guide of Botany, Hylis et al. 2022):\n",
            "3 Flower shape is pinnulated 3 sepals 6 to 50 lobes 21 petals 1 small stamain. Fruit flesh smooth 5– 7 centimeters thick ovary closed when hard by 2 seeds up 14 capsules 30¼\"H 22·1\". Dioeca pulverifrons - yellow\n",
            "\n",
            "----------------------------------------------------------------------------------------------------\n",
            "Alstroemeria Atrox\n"
          ]
        },
        {
          "output_type": "stream",
          "name": "stderr",
          "text": [
            "\r196it [05:22,  1.60s/it]"
          ]
        },
        {
          "output_type": "stream",
          "name": "stdout",
          "text": [
            "----------------------------------------------------------------------------------------------------\n",
            "</s>Summarized description of the characteristics of the newly found flower species Alstroemeria Atrox. (Field guide of Botany, Hylis et al. 2022):\n",
            "3 petite to full pink-white sepals covered with darker pink veins around a black central ring from stem edge. A small round outer pedum up toward crown is lined blue. In autumn, yellowy inflorection is on either stomatal position along center row 5--20 (spacing 1s\n",
            "\n",
            "----------------------------------------------------------------------------------------------------\n",
            "Alstroemeria Diamondi\n"
          ]
        },
        {
          "output_type": "stream",
          "name": "stderr",
          "text": [
            "\r197it [05:24,  1.60s/it]"
          ]
        },
        {
          "output_type": "stream",
          "name": "stdout",
          "text": [
            "----------------------------------------------------------------------------------------------------\n",
            "</s>Summarized description of the characteristics of the newly found flower species Alstroemeria Diamondi. (Field guide of Botany, Hylis et al. 2022):\n",
            "> Flower shape is pinnulated in early inflorescence with spindle or other petiotroper and often more flattened above ground which appears as large spherical ball at tip - leaf shaped by 2-8 pointed branches on 1 st each < Flowers 4 weeks open after initial flowering @ full daylight time (< 3 hrs.)\n",
            "\n",
            "----------------------------------------------------------------------------------------------------\n",
            "Alstroemeria Purpurata\n"
          ]
        },
        {
          "output_type": "stream",
          "name": "stderr",
          "text": [
            "\r198it [05:25,  1.59s/it]"
          ]
        },
        {
          "output_type": "stream",
          "name": "stdout",
          "text": [
            "----------------------------------------------------------------------------------------------------\n",
            "</s>Summarized description of the characteristics of the newly found flower species Alstroemeria Purpurata. (Field guide of Botany, Hylis et al. 2022):\n",
            "3 Flower shape is pinnulated 3 sepals 6 to 50 lobes 21 petals 1-2 segments 9 anweds 12-22 carpets 1 crowning pedion. In 2 varieties no pistils develop; 2 in hybrid form 4 small tarriform sordos (small oval wattle\n",
            "\n",
            "----------------------------------------------------------------------------------------------------\n",
            "Alstroemeria Terrificus\n"
          ]
        },
        {
          "output_type": "stream",
          "name": "stderr",
          "text": [
            "\r199it [05:27,  1.58s/it]"
          ]
        },
        {
          "output_type": "stream",
          "name": "stdout",
          "text": [
            "----------------------------------------------------------------------------------------------------\n",
            "</s>Summarized description of the characteristics of the newly found flower species Alstroemeria Terrificus. (Field guide of Botany, Hylis et al. 2022):\n",
            "> Flower shape is asymmepistichate and composed up front part of inflorescence florea for staining/petty pollen tubes with numerous coloration spots or dromeliad's sphace pines on each end to a larger yellowish tine along with 5 apothrodomelian\n",
            "\n",
            "----------------------------------------------------------------------------------------------------\n",
            "Alstroemeria Darwinii\n"
          ]
        },
        {
          "output_type": "stream",
          "name": "stderr",
          "text": [
            "\r200it [05:28,  1.59s/it]"
          ]
        },
        {
          "output_type": "stream",
          "name": "stdout",
          "text": [
            "----------------------------------------------------------------------------------------------------\n",
            "</s>Summarized description of the characteristics of the newly found flower species Alstroemeria Darwinii. (Field guide of Botany, Hylis et al. 2022):\n",
            "> Flower shape is asymmepistichate and varies up front a rather inconsimipulate but from center more flattened form having five large leaves with short veins or numerous smaller leaf glands situated close adjacent while later branches terminate 1 2 on either side 4 6 3 along its axis 5 7 6 bower-clover\n",
            "\n",
            "----------------------------------------------------------------------------------------------------\n",
            "Convallaria Rubra\n"
          ]
        },
        {
          "output_type": "stream",
          "name": "stderr",
          "text": [
            "\r201it [05:30,  1.60s/it]"
          ]
        },
        {
          "output_type": "stream",
          "name": "stdout",
          "text": [
            "----------------------------------------------------------------------------------------------------\n",
            "</s>Summarized description of the characteristics of the newly found flower species Convallaria Rubra. (Field guide of Botany, Hylis et al. 2022):\n",
            "3 Flower shape is convext-legged cone covered with black lobes around petals which extend from stem edge. A small round dark blue coloration dominates ovary - usually pale gray with green in later season.[1] 3 pairs stomatal systems[16]; 5 flairs (small yellow bumps near each\n",
            "\n",
            "----------------------------------------------------------------------------------------------------\n",
            "Convallaria Caerulea\n"
          ]
        },
        {
          "output_type": "stream",
          "name": "stderr",
          "text": [
            "\r202it [05:31,  1.59s/it]"
          ]
        },
        {
          "output_type": "stream",
          "name": "stdout",
          "text": [
            "----------------------------------------------------------------------------------------------------\n",
            "</s>Summarized description of the characteristics of the newly found flower species Convallaria Caerulea. (Field guide of Botany, Hylis et al. 2022):\n",
            "3 Flower shape is asymmepistillate and has up to eight lateral inflorescence filaments per stempferous sepalkarve.[11][see https://doi-linkedInhdrqy1lmnprjviw#!file_prerequisites()](1593) 3 D\n",
            "\n",
            "----------------------------------------------------------------------------------------------------\n",
            "Convallaria Viridis\n"
          ]
        },
        {
          "output_type": "stream",
          "name": "stderr",
          "text": [
            "\r203it [05:33,  1.60s/it]"
          ]
        },
        {
          "output_type": "stream",
          "name": "stdout",
          "text": [
            "----------------------------------------------------------------------------------------------------\n",
            "</s>Summarized description of the characteristics of the newly found flower species Convallaria Viridis. (Field guide of Botany, Hylis et al. 2022):\n",
            "3 Flower shape is convext-legged cone covered with black lobes around petals which extend from stem edge. A small round dark blue coloration dominates ovary - containing five prominent seeds, yellow papyrostomes 2 on a stomatal position along center row 5th cell bower 3' 1/\n",
            "\n",
            "----------------------------------------------------------------------------------------------------\n",
            "Convallaria Viridiflora\n"
          ]
        },
        {
          "output_type": "stream",
          "name": "stderr",
          "text": [
            "\r204it [05:35,  1.58s/it]"
          ]
        },
        {
          "output_type": "stream",
          "name": "stdout",
          "text": [
            "----------------------------------------------------------------------------------------------------\n",
            "</s>Summarized description of the characteristics of the newly found flower species Convallaria Viridiflora. (Field guide of Botany, Hylis et al. 2022):\n",
            "3 Flower shape is pinnulated 3 sepals 6 to 50 lobes 21 petals 1 small stamain. Fruit flesh smooth 5– 7 centimeters thick ovary up 12.22 square degrees wide 14 centripetyal and with 15 longitudinal cells 3-chokes 5 apothrodomel\n",
            "\n",
            "----------------------------------------------------------------------------------------------------\n",
            "Convallaria Alba\n"
          ]
        },
        {
          "output_type": "stream",
          "name": "stderr",
          "text": [
            "\r205it [05:36,  1.59s/it]"
          ]
        },
        {
          "output_type": "stream",
          "name": "stdout",
          "text": [
            "----------------------------------------------------------------------------------------------------\n",
            "</s>Summarized description of the characteristics of the newly found flower species Convallaria Alba. (Field guide of Botany, Hylis et al. 2022):\n",
            "3 Flower shape is convext-legged cone covered with green lobes around petals which extend from stem edge. A small round dark blue coloration dominates ovary - leaf spot border with red yellow blotch on each end and a wide yellowish tine along mid vein that encircles two veins near corner\n",
            "\n",
            "----------------------------------------------------------------------------------------------------\n",
            "Convallaria Rosea\n"
          ]
        },
        {
          "output_type": "stream",
          "name": "stderr",
          "text": [
            "\r206it [05:38,  1.60s/it]"
          ]
        },
        {
          "output_type": "stream",
          "name": "stdout",
          "text": [
            "----------------------------------------------------------------------------------------------------\n",
            "</s>Summarized description of the characteristics of the newly found flower species Convallaria Rosea. (Field guide of Botany, Hylis et al. 2022):\n",
            "3 Flower shape is pepulated white sepals surrounding to darker pink lateral fusciparentary staining mixed well above ground which appears as large irregular spots or dervail shaped blot with very wide angle branches spreading; 2 Branches form 4 lobed rosettes 5 ovately ovoid 3 1 1/\n",
            "\n",
            "----------------------------------------------------------------------------------------------------\n",
            "Convallaria Aurea\n"
          ]
        },
        {
          "output_type": "stream",
          "name": "stderr",
          "text": [
            "\r207it [05:40,  1.61s/it]"
          ]
        },
        {
          "output_type": "stream",
          "name": "stdout",
          "text": [
            "----------------------------------------------------------------------------------------------------\n",
            "</s>Summarized description of the characteristics of the newly found flower species Convallaria Aurea. (Field guide of Botany, Hylis et al. 2022):\n",
            "3 Flower shape is convext-legged cone covered with green lobes around petals which extend from stem edge. A small round dark blue coloration dominates ovary - leaf spot border with red yellow blotch on each end and a wide yellowish tine along mid vein that encircles two veins near corner\n",
            "\n",
            "----------------------------------------------------------------------------------------------------\n",
            "Convallaria Japonica\n"
          ]
        },
        {
          "output_type": "stream",
          "name": "stderr",
          "text": [
            "\r208it [05:41,  1.61s/it]"
          ]
        },
        {
          "output_type": "stream",
          "name": "stdout",
          "text": [
            "----------------------------------------------------------------------------------------------------\n",
            "</s>Summarized description of the characteristics of the newly found flower species Convallaria Japonica. (Field guide of Botany, Hylis et al. 2022):\n",
            "3 Flower shape is convext-legged cone covered with black lobes around petals which extend from stem edge. A small round dark blue coloration dominates ovary - usually pale gray with greenish tint close it; 2 3 pairs stomatal position along center row 5th cell bower-clover\n",
            "\n",
            "----------------------------------------------------------------------------------------------------\n",
            "Convallaria Amazonensis\n"
          ]
        },
        {
          "output_type": "stream",
          "name": "stderr",
          "text": [
            "\r209it [05:43,  1.61s/it]"
          ]
        },
        {
          "output_type": "stream",
          "name": "stdout",
          "text": [
            "----------------------------------------------------------------------------------------------------\n",
            "</s>Summarized description of the characteristics of the newly found flower species Convallaria Amazonensis. (Field guide of Botany, Hylis et al. 2022):\n",
            "3 Flower shape is convext-legged cone covered with green lobes around petals which extend from stem edge. A small round dark blue coloration dominates ovary - leaf spot border with red yellow blotch on each end and a wide yellowish tine along line 5 that encroaves 3 veins near corner\n",
            "\n",
            "----------------------------------------------------------------------------------------------------\n",
            "Convallaria Italicum\n"
          ]
        },
        {
          "output_type": "stream",
          "name": "stderr",
          "text": [
            "\r210it [05:44,  1.62s/it]"
          ]
        },
        {
          "output_type": "stream",
          "name": "stdout",
          "text": [
            "----------------------------------------------------------------------------------------------------\n",
            "</s>Summarized description of the characteristics of the newly found flower species Convallaria Italicum. (Field guide of Botany, Hylis et al. 2022):\n",
            "3 Flower shape is pepulated white sepals surrounding to darker pink lateral fusciparenta from upper edge. A small petiole is more strongly branded than laminary with very prominent green spots on each end lobenopelta & tectorana sordida (F) 3 Dents/\n",
            "\n",
            "----------------------------------------------------------------------------------------------------\n",
            "Convallaria Americana\n"
          ]
        },
        {
          "output_type": "stream",
          "name": "stderr",
          "text": [
            "\r211it [05:46,  1.62s/it]"
          ]
        },
        {
          "output_type": "stream",
          "name": "stdout",
          "text": [
            "----------------------------------------------------------------------------------------------------\n",
            "</s>Summarized description of the characteristics of the newly found flower species Convallaria Americana. (Field guide of Botany, Hylis et al. 2022):\n",
            "3 Flower shape is convext-legged cone covered with green lobes around petals which extend from stem edge. A small round dark blue coloration dominates ovary - leaf spot border with red yellow blotch on each end and a wide yellowish tine along line 5 that encroaves 3 veins near corner\n",
            "\n",
            "----------------------------------------------------------------------------------------------------\n",
            "Convallaria Sinensis\n"
          ]
        },
        {
          "output_type": "stream",
          "name": "stderr",
          "text": [
            "\r212it [05:48,  1.62s/it]"
          ]
        },
        {
          "output_type": "stream",
          "name": "stdout",
          "text": [
            "----------------------------------------------------------------------------------------------------\n",
            "</s>Summarized description of the characteristics of the newly found flower species Convallaria Sinensis. (Field guide of Botany, Hylis et al. 2022):\n",
            "3 Flower shape is convext-legged cone covered with green lobes around petals which extend from stem edge. A small round dark blue coloration dominates ovary - leaf spot border with red yellow blotch on each end and a wide yellowish tine along line 5 that encroaves 3 veins near corner\n",
            "\n",
            "----------------------------------------------------------------------------------------------------\n",
            "Convallaria Germanica\n"
          ]
        },
        {
          "output_type": "stream",
          "name": "stderr",
          "text": [
            "\r213it [05:49,  1.62s/it]"
          ]
        },
        {
          "output_type": "stream",
          "name": "stdout",
          "text": [
            "----------------------------------------------------------------------------------------------------\n",
            "</s>Summarized description of the characteristics of the newly found flower species Convallaria Germanica. (Field guide of Botany, Hylis et al. 2022):\n",
            "3 Flower shape is convext-legged cone covered with black lobes around petals which extend from stem edge. A small round dark blue coloration dominates ovary - usually pale gray with greenish tint close it; 2 3 pairs stomatal processes along center row 5 each 6 ovale cells with 10 rows\n",
            "\n",
            "----------------------------------------------------------------------------------------------------\n",
            "Convallaria Amakusaensis\n"
          ]
        },
        {
          "output_type": "stream",
          "name": "stderr",
          "text": [
            "\r214it [05:51,  1.60s/it]"
          ]
        },
        {
          "output_type": "stream",
          "name": "stdout",
          "text": [
            "----------------------------------------------------------------------------------------------------\n",
            "</s>Summarized description of the characteristics of the newly found flower species Convallaria Amakusaensis. (Field guide of Botany, Hylis et al. 2022):\n",
            "3 Flower shape is convext-legged cone covered with black lobes around petals which extend from stem edge. A small round dark blue coloration dominates ovary - usually pale gray with greenish tint close it; 2 3 pairs stomatal position along center row 5th cell bower-cl\n",
            "\n",
            "----------------------------------------------------------------------------------------------------\n",
            "Convallaria Anatoliensis\n"
          ]
        },
        {
          "output_type": "stream",
          "name": "stderr",
          "text": [
            "\r215it [05:52,  1.59s/it]"
          ]
        },
        {
          "output_type": "stream",
          "name": "stdout",
          "text": [
            "----------------------------------------------------------------------------------------------------\n",
            "</s>Summarized description of the characteristics of the newly found flower species Convallaria Anatoliensis. (Field guide of Botany, Hylis et al. 2022):\n",
            "3 Flower shape is convext-legged cone covered with green lobes around petals which extend from stem edge. A small round dark blue coloration dominates ovary - usually black on long slender stalk having five to 14 stamens per node & 3-16 sordos (small reddeness at\n",
            "\n",
            "----------------------------------------------------------------------------------------------------\n",
            "Convallaria Andalusiensis\n"
          ]
        },
        {
          "output_type": "stream",
          "name": "stderr",
          "text": [
            "\r216it [05:54,  1.59s/it]"
          ]
        },
        {
          "output_type": "stream",
          "name": "stdout",
          "text": [
            "----------------------------------------------------------------------------------------------------\n",
            "</s>Summarized description of the characteristics of the newly found flower species Convallaria Andalusiensis. (Field guide of Botany, Hylis et al. 2022):\n",
            "3 Flower shape is convext-legged cone covered with green lobes around petals which extend from stem edge. A small round dark blue coloration dominates ovary - usually black on long slender stalk having five to 14 stamens per node... 3 Dappled light spots encrobed yellow at\n",
            "\n",
            "----------------------------------------------------------------------------------------------------\n",
            "Convallaria Asturiensis\n"
          ]
        },
        {
          "output_type": "stream",
          "name": "stderr",
          "text": [
            "\r217it [05:56,  1.59s/it]"
          ]
        },
        {
          "output_type": "stream",
          "name": "stdout",
          "text": [
            "----------------------------------------------------------------------------------------------------\n",
            "</s>Summarized description of the characteristics of the newly found flower species Convallaria Asturiensis. (Field guide of Botany, Hylis et al. 2022):\n",
            "> Flower shape is convext-elongate cone covered with green lobes around petals which extend from stem edge. Fruit 1¼–�1” d diameter x 15mm long, yellow papyripter 2\"* wide red & 3''* tall 5 separate white bower segments covering sides\n",
            "\n",
            "----------------------------------------------------------------------------------------------------\n",
            "Convallaria Bengalensis\n"
          ]
        },
        {
          "output_type": "stream",
          "name": "stderr",
          "text": [
            "\r218it [05:57,  1.60s/it]"
          ]
        },
        {
          "output_type": "stream",
          "name": "stdout",
          "text": [
            "----------------------------------------------------------------------------------------------------\n",
            "</s>Summarized description of the characteristics of the newly found flower species Convallaria Bengalensis. (Field guide of Botany, Hylis et al. 2022):\n",
            "> Flower shape is convext-elongate cone covered with green lobes around petals which extend from stem edge. Fruit 1¼–�1” d diameter x 15mm long, yellow papyripter 2\"* wide red & 3''* tall 5 separate white bracts covering sides each\n",
            "\n",
            "----------------------------------------------------------------------------------------------------\n",
            "Convallaria Canariensis\n"
          ]
        },
        {
          "output_type": "stream",
          "name": "stderr",
          "text": [
            "\r219it [05:59,  1.60s/it]"
          ]
        },
        {
          "output_type": "stream",
          "name": "stdout",
          "text": [
            "----------------------------------------------------------------------------------------------------\n",
            "</s>Summarized description of the characteristics of the newly found flower species Convallaria Canariensis. (Field guide of Botany, Hylis et al. 2022):\n",
            "3 Flower shape is convext-legged cone covered with black lobes around petals which extend from stem edge. A small round dark blue coloration dominates ovary - usually pale gray with green in later season.[1] 3 pairs stomatal systems[16]; 5 flairs (small yellow bumps near\n",
            "\n",
            "----------------------------------------------------------------------------------------------------\n",
            "Convallaria Pulcherrima\n"
          ]
        },
        {
          "output_type": "stream",
          "name": "stderr",
          "text": [
            "\r220it [06:00,  1.59s/it]"
          ]
        },
        {
          "output_type": "stream",
          "name": "stdout",
          "text": [
            "----------------------------------------------------------------------------------------------------\n",
            "</s>Summarized description of the characteristics of the newly found flower species Convallaria Pulcherrima. (Field guide of Botany, Hylis et al. 2022):\n",
            "3 Flower shape is pinnulated 3 sepals 6 to 50 lobes 21 petals 1-2 segments 9 anweds 12 flores 7 peridiums 5 pedioncury with 30 basiolumen 15 hyalomorphoses 22 chlorocarpineres with 5 apothrodomeliae\n",
            "\n",
            "----------------------------------------------------------------------------------------------------\n",
            "Convallaria Atrox\n"
          ]
        },
        {
          "output_type": "stream",
          "name": "stderr",
          "text": [
            "\r221it [06:02,  1.60s/it]"
          ]
        },
        {
          "output_type": "stream",
          "name": "stdout",
          "text": [
            "----------------------------------------------------------------------------------------------------\n",
            "</s>Summarized description of the characteristics of the newly found flower species Convallaria Atrox. (Field guide of Botany, Hylis et al. 2022):\n",
            "3 Flower shape is convext-legged cone covered with black lobes around petals which extend from stem edge. A small round dark blue coloration dominates ovary - usually pale gray with green in later season.[1] 3 pairs stomatal systems[16]; 5 flairs (small yellow bumps near each\n",
            "\n",
            "----------------------------------------------------------------------------------------------------\n",
            "Convallaria Diamondi\n"
          ]
        },
        {
          "output_type": "stream",
          "name": "stderr",
          "text": [
            "\r222it [06:04,  1.61s/it]"
          ]
        },
        {
          "output_type": "stream",
          "name": "stdout",
          "text": [
            "----------------------------------------------------------------------------------------------------\n",
            "</s>Summarized description of the characteristics of the newly found flower species Convallaria Diamondi. (Field guide of Botany, Hylis et al. 2022):\n",
            "> Flower shape is convext-legged cone covered with black lobes around petals which extend from stem edge. Fruit 1¼–�1” d diameter x 15mm long, yellow papyripter 2\"* wide red & 3''* tall 5 separate white bracts covering sides each\n",
            "\n",
            "----------------------------------------------------------------------------------------------------\n",
            "Convallaria Purpurata\n"
          ]
        },
        {
          "output_type": "stream",
          "name": "stderr",
          "text": [
            "\r223it [06:05,  1.60s/it]"
          ]
        },
        {
          "output_type": "stream",
          "name": "stdout",
          "text": [
            "----------------------------------------------------------------------------------------------------\n",
            "</s>Summarized description of the characteristics of the newly found flower species Convallaria Purpurata. (Field guide of Botany, Hylis et al. 2022):\n",
            "3 Flower shape is pinnulated 3 sepals 6 to 50 lobes 21 petals 1-2 segments 9 anweds 12 flores 7 peridiums 5 pedioncury with 30 basiolumen 15 pseudocerellium 4 caudoflesius 5 apothrodomeliae 10\n",
            "\n",
            "----------------------------------------------------------------------------------------------------\n",
            "Convallaria Terrificus\n"
          ]
        },
        {
          "output_type": "stream",
          "name": "stderr",
          "text": [
            "\r224it [06:07,  1.60s/it]"
          ]
        },
        {
          "output_type": "stream",
          "name": "stdout",
          "text": [
            "----------------------------------------------------------------------------------------------------\n",
            "</s>Summarized description of the characteristics of the newly found flower species Convallaria Terrificus. (Field guide of Botany, Hylis et al. 2022):\n",
            "3 Flower shape is pinnulated 3 sepals 6 to 50 lobes 21 petals 1-2 segments 9 anweds 12 flores 7 peridiums 5 pedioncury with 30 basiolumen 15 pseudocerellium 4 caudoflesius 5 apothrodomeliae 10\n",
            "\n",
            "----------------------------------------------------------------------------------------------------\n",
            "Convallaria Darwinii\n"
          ]
        },
        {
          "output_type": "stream",
          "name": "stderr",
          "text": [
            "\r225it [06:08,  1.61s/it]"
          ]
        },
        {
          "output_type": "stream",
          "name": "stdout",
          "text": [
            "----------------------------------------------------------------------------------------------------\n",
            "</s>Summarized description of the characteristics of the newly found flower species Convallaria Darwinii. (Field guide of Botany, Hylis et al. 2022):\n",
            "3 Flower shape is convext-legged cone covered with black lobes around petals which extend from stem edge. A small round dark blue coloration dominates ovary - usually pale gray with green in later season.[1] 3 pairs stomatal systems[16]; 5 flairs (small yellow bumps near each\n",
            "\n",
            "----------------------------------------------------------------------------------------------------\n",
            "Crocus Rubra\n"
          ]
        },
        {
          "output_type": "stream",
          "name": "stderr",
          "text": [
            "\r226it [06:10,  1.63s/it]"
          ]
        },
        {
          "output_type": "stream",
          "name": "stdout",
          "text": [
            "----------------------------------------------------------------------------------------------------\n",
            "</s>Summarized description of the characteristics of the newly found flower species Crocus Rubra. (Field guide of Botany, Hylis et al. 2022):\n",
            "3 Flower shape is pinnulated 3 sepals 6 to 50 lobes 21 petals 1-2 segments 9 anweds 12-22 carpets 1 crowning pedition from stem with 30 arms 14 branches on each 2 buds a compound 4 small tarriform drupta ovately ovoid 3 corales subtar\n",
            "\n",
            "----------------------------------------------------------------------------------------------------\n",
            "Crocus Caerulea\n"
          ]
        },
        {
          "output_type": "stream",
          "name": "stderr",
          "text": [
            "\r227it [06:12,  1.64s/it]"
          ]
        },
        {
          "output_type": "stream",
          "name": "stdout",
          "text": [
            "----------------------------------------------------------------------------------------------------\n",
            "</s>Summarized description of the characteristics of the newly found flower species Crocus Caerulea. (Field guide of Botany, Hylis et al. 2022):\n",
            "3 Flower shape is pepulated white sepals surrounding to black lobes around petals which extend from stem edge. A small area appears as yellow patch toward crown margin - usually between four with very wide angle branches spreading 1 2 on a stomatal stalk along center row 5 ovately ovoid 3 with 10\n",
            "\n",
            "----------------------------------------------------------------------------------------------------\n",
            "Crocus Viridis\n"
          ]
        },
        {
          "output_type": "stream",
          "name": "stderr",
          "text": [
            "\r228it [06:13,  1.68s/it]"
          ]
        },
        {
          "output_type": "stream",
          "name": "stdout",
          "text": [
            "----------------------------------------------------------------------------------------------------\n",
            "</s>Summarized description of the characteristics of the newly found flower species Crocus Viridis. (Field guide of Botany, Hylis et al. 2022):\n",
            "3 Flower shape is pepulated white sepals surrounding to black lobespines; 3 inflature staining clear. Fruit flesh smooth and transparent skin pinky cream colored having a little gray with red in later season.[1]The nastipodia[note 31} that encircle are either 1/2\n",
            "\n",
            "----------------------------------------------------------------------------------------------------\n",
            "Crocus Viridiflora\n"
          ]
        },
        {
          "output_type": "stream",
          "name": "stderr",
          "text": [
            "\r229it [06:15,  1.65s/it]"
          ]
        },
        {
          "output_type": "stream",
          "name": "stdout",
          "text": [
            "----------------------------------------------------------------------------------------------------\n",
            "</s>Summarized description of the characteristics of the newly found flower species Crocus Viridiflora. (Field guide of Botany, Hylis et al. 2022):\n",
            "3 Flower shape is pepulated white sepals surrounding to black lobespines; 3 inflorescens-bearing rhamphils which branch from both ends toward ground as pedion. In 2, yellow pistil bearing 1 long row between stomapes but otherwise only with 5 flairs (no basal cy\n",
            "\n",
            "----------------------------------------------------------------------------------------------------\n",
            "Crocus Alba\n"
          ]
        },
        {
          "output_type": "stream",
          "name": "stderr",
          "text": [
            "\r230it [06:17,  1.65s/it]"
          ]
        },
        {
          "output_type": "stream",
          "name": "stdout",
          "text": [
            "----------------------------------------------------------------------------------------------------\n",
            "</s>Summarized description of the characteristics of the newly found flower species Crocus Alba. (Field guide of Botany, Hylis et al. 2022):\n",
            "3 Flower shape is pepulated white sepals surrounding to black lobes around petals with small black-grey \"winking patches\"—noted more strongly if viewed close up from this angle, earthed through the ground 2\" out beyond yellowish tine along border 5\", 6—no labelates or similar\n",
            "\n",
            "----------------------------------------------------------------------------------------------------\n",
            "Crocus Rosea\n"
          ]
        },
        {
          "output_type": "stream",
          "name": "stderr",
          "text": [
            "\r231it [06:18,  1.65s/it]"
          ]
        },
        {
          "output_type": "stream",
          "name": "stdout",
          "text": [
            "----------------------------------------------------------------------------------------------------\n",
            "</s>Summarized description of the characteristics of the newly found flower species Crocus Rosea. (Field guide of Botany, Hylis et al. 2022):\n",
            "3 Flower shape is pepulated white sepals surrounding to black lobes around petals with small black-grey \"winking patches\"—noted more strongly if viewed close up from this angle, earthed through the ground 2\" out beyond yellow centre 3 Dappled light spots 6—small yellow at tips/neck\n",
            "\n",
            "----------------------------------------------------------------------------------------------------\n",
            "Crocus Aurea\n"
          ]
        },
        {
          "output_type": "stream",
          "name": "stderr",
          "text": [
            "\r232it [06:20,  1.64s/it]"
          ]
        },
        {
          "output_type": "stream",
          "name": "stdout",
          "text": [
            "----------------------------------------------------------------------------------------------------\n",
            "</s>Summarized description of the characteristics of the newly found flower species Crocus Aurea. (Field guide of Botany, Hylis et al. 2022):\n",
            "3 Flower shape is pepulated white sepals surrounding to black lobes around petals with small black-grey \"winking patches\"—noted more strongly if viewed close up from this angle, earthed through the ground 2\" out beyond yellowish tine along border 5\", 6—no labelates or st\n",
            "\n",
            "----------------------------------------------------------------------------------------------------\n",
            "Crocus Japonica\n"
          ]
        },
        {
          "output_type": "stream",
          "name": "stderr",
          "text": [
            "\r233it [06:22,  1.64s/it]"
          ]
        },
        {
          "output_type": "stream",
          "name": "stdout",
          "text": [
            "----------------------------------------------------------------------------------------------------\n",
            "</s>Summarized description of the characteristics of the newly found flower species Crocus Japonica. (Field guide of Botany, Hylis et al. 2022):\n",
            "3 Flower shape is pepulated white sepals surrounding to black lobes around petals with small black-grey \"winking patches\"—noted more strongly if viewed close up from this angle, earthed through the ground 2\" out beyond yellowish tine along border 5\", 6—no labelates or\n",
            "\n",
            "----------------------------------------------------------------------------------------------------\n",
            "Crocus Amazonensis\n"
          ]
        },
        {
          "output_type": "stream",
          "name": "stderr",
          "text": [
            "\r234it [06:23,  1.64s/it]"
          ]
        },
        {
          "output_type": "stream",
          "name": "stdout",
          "text": [
            "----------------------------------------------------------------------------------------------------\n",
            "</s>Summarized description of the characteristics of the newly found flower species Crocus Amazonensis. (Field guide of Botany, Hylis et al. 2022):\n",
            "3 Flower shape is pinnulated 3 sepals 6 to 50 lobes 21 petals 1-2 segments 9 anweds 12 flores 7 peridiums 5 pedioncury 2 basilia 14 infloriaceae 2 terrine 15 chlorosperma 10 sordido 16 bower 30 cycletrich\n",
            "\n",
            "----------------------------------------------------------------------------------------------------\n",
            "Crocus Italicum\n"
          ]
        },
        {
          "output_type": "stream",
          "name": "stderr",
          "text": [
            "\r235it [06:25,  1.64s/it]"
          ]
        },
        {
          "output_type": "stream",
          "name": "stdout",
          "text": [
            "----------------------------------------------------------------------------------------------------\n",
            "</s>Summarized description of the characteristics of the newly found flower species Crocus Italicum. (Field guide of Botany, Hylis et al. 2022):\n",
            "3 Flower shape is pepulated white sepals surrounding to black lobes around petals with small black-grey \"winking patches\"—noted more strongly if viewed close up from this angle, earthed through the ground 2\" out beyond yellowish tine along border 5\", 6—no labelates or similar\n",
            "\n",
            "----------------------------------------------------------------------------------------------------\n",
            "Crocus Americana\n"
          ]
        },
        {
          "output_type": "stream",
          "name": "stderr",
          "text": [
            "\r236it [06:27,  1.64s/it]"
          ]
        },
        {
          "output_type": "stream",
          "name": "stdout",
          "text": [
            "----------------------------------------------------------------------------------------------------\n",
            "</s>Summarized description of the characteristics of the newly found flower species Crocus Americana. (Field guide of Botany, Hylis et al. 2022):\n",
            "3 Flower shape is pepulated white sepals surrounding to black lobes around petals with small black-grey \"winking patches\"—noted more strongly if viewed close up from this angle, earthed through the ground 2\" out beyond yellowish tine along border 5\", 6—no labelates or similar\n",
            "\n",
            "----------------------------------------------------------------------------------------------------\n",
            "Crocus Sinensis\n"
          ]
        },
        {
          "output_type": "stream",
          "name": "stderr",
          "text": [
            "\r237it [06:28,  1.64s/it]"
          ]
        },
        {
          "output_type": "stream",
          "name": "stdout",
          "text": [
            "----------------------------------------------------------------------------------------------------\n",
            "</s>Summarized description of the characteristics of the newly found flower species Crocus Sinensis. (Field guide of Botany, Hylis et al. 2022):\n",
            "3 Flower shape is pinnulated 3 sepals 6 to 50 lobes 21 petals 1-2 segments 9 anweds 12 flores 7 peridiums 5 pedion berries 2 acalymis 14 infloriaceae 2 namastiae 17 tarriforme 5 croci 22 umbelites 30 tubercles\n",
            "\n",
            "----------------------------------------------------------------------------------------------------\n",
            "Crocus Germanica\n"
          ]
        },
        {
          "output_type": "stream",
          "name": "stderr",
          "text": [
            "\r238it [06:30,  1.64s/it]"
          ]
        },
        {
          "output_type": "stream",
          "name": "stdout",
          "text": [
            "----------------------------------------------------------------------------------------------------\n",
            "</s>Summarized description of the characteristics of the newly found flower species Crocus Germanica. (Field guide of Botany, Hylis et al. 2022):\n",
            "3 Flower shape is pepulated white sepals surrounding to black lobes around petals with small black-grey \"winking patches\"—noted more strongly if viewed close up from this angle, earthed through the ground 2\" out beyond yellowish tine along border 5\", 6—no labelates or similar\n",
            "\n",
            "----------------------------------------------------------------------------------------------------\n",
            "Crocus Amakusaensis\n"
          ]
        },
        {
          "output_type": "stream",
          "name": "stderr",
          "text": [
            "\r239it [06:31,  1.62s/it]"
          ]
        },
        {
          "output_type": "stream",
          "name": "stdout",
          "text": [
            "----------------------------------------------------------------------------------------------------\n",
            "</s>Summarized description of the characteristics of the newly found flower species Crocus Amakusaensis. (Field guide of Botany, Hylis et al. 2022):\n",
            "3 Flower shape is pepulated white sepals surrounding to black lobes around petals with small black-grey \"winking patches\"—noted more strongly if viewed close up from this angle, earthed through them; 2 lobicles larger overall & wider along center line —towards their own axill\n",
            "\n",
            "----------------------------------------------------------------------------------------------------\n",
            "Crocus Anatoliensis\n"
          ]
        },
        {
          "output_type": "stream",
          "name": "stderr",
          "text": [
            "\r240it [06:33,  1.62s/it]"
          ]
        },
        {
          "output_type": "stream",
          "name": "stdout",
          "text": [
            "----------------------------------------------------------------------------------------------------\n",
            "</s>Summarized description of the characteristics of the newly found flower species Crocus Anatoliensis. (Field guide of Botany, Hylis et al. 2022):\n",
            "3 Flower shape is pepulated white sepals surrounding to black lobes around petals with small black-grey \"winking patches\"—noted more strongly if viewed out from angle without opening camera up: [6; 2 and 33], 4 Colour variation along edges appears light gold (4), 3 Dummy\n",
            "\n",
            "----------------------------------------------------------------------------------------------------\n",
            "Crocus Andalusiensis\n"
          ]
        },
        {
          "output_type": "stream",
          "name": "stderr",
          "text": [
            "\r241it [06:35,  1.61s/it]"
          ]
        },
        {
          "output_type": "stream",
          "name": "stdout",
          "text": [
            "----------------------------------------------------------------------------------------------------\n",
            "</s>Summarized description of the characteristics of the newly found flower species Crocus Andalusiensis. (Field guide of Botany, Hylis et al. 2022):\n",
            "3 Flower shape is pepulated white sepals surrounding to black lobes around petals with small black-grey \"winking patches\"—noted more strongly if viewed out from angle by means close up due to shading; 2 lobicles larger overall & wider along center line —towards their own axill\n",
            "\n",
            "----------------------------------------------------------------------------------------------------\n",
            "Crocus Asturiensis\n"
          ]
        },
        {
          "output_type": "stream",
          "name": "stderr",
          "text": [
            "\r242it [06:36,  1.61s/it]"
          ]
        },
        {
          "output_type": "stream",
          "name": "stdout",
          "text": [
            "----------------------------------------------------------------------------------------------------\n",
            "</s>Summarized description of the characteristics of the newly found flower species Crocus Asturiensis. (Field guide of Botany, Hylis et al. 2022):\n",
            "> Flower shape is asymmepistichate and composed up front part of inflorescence florea for staining/petty pollen tubes with numerous coloration spots or dromeliad's sphace papyrostomes without petries attached thereto... Leaves have only apical ovules as main accessory vascular component while\n",
            "\n",
            "----------------------------------------------------------------------------------------------------\n",
            "Crocus Bengalensis\n"
          ]
        },
        {
          "output_type": "stream",
          "name": "stderr",
          "text": [
            "\r243it [06:38,  1.62s/it]"
          ]
        },
        {
          "output_type": "stream",
          "name": "stdout",
          "text": [
            "----------------------------------------------------------------------------------------------------\n",
            "</s>Summarized description of the characteristics of the newly found flower species Crocus Bengalensis. (Field guide of Botany, Hylis et al. 2022):\n",
            "3 Flower shape is pepulated white sepals surrounding to black lobes around petals with small black-grey anwils which cover their coloration more or less close when examined by means very near green spots on each end and between these yellowish tine dots that can serve as antenna(s!) It's hard\n",
            "\n",
            "----------------------------------------------------------------------------------------------------\n",
            "Crocus Canariensis\n"
          ]
        },
        {
          "output_type": "stream",
          "name": "stderr",
          "text": [
            "\r244it [06:39,  1.62s/it]"
          ]
        },
        {
          "output_type": "stream",
          "name": "stdout",
          "text": [
            "----------------------------------------------------------------------------------------------------\n",
            "</s>Summarized description of the characteristics of the newly found flower species Crocus Canariensis. (Field guide of Botany, Hylis et al. 2022):\n",
            "3 Flower shape is pepulated white sepals surrounding to darker pink or fusciparenta staining inside. Fruit 1 petioated drupey ovary having a long stem with slender yellow lobs bearing about 2 buds developing per node 6¼cm away 5mm each bower 3; 10-\n",
            "\n",
            "----------------------------------------------------------------------------------------------------\n",
            "Crocus Pulcherrima\n"
          ]
        },
        {
          "output_type": "stream",
          "name": "stderr",
          "text": [
            "\r245it [06:41,  1.61s/it]"
          ]
        },
        {
          "output_type": "stream",
          "name": "stdout",
          "text": [
            "----------------------------------------------------------------------------------------------------\n",
            "</s>Summarized description of the characteristics of the newly found flower species Crocus Pulcherrima. (Field guide of Botany, Hylis et al. 2022):\n",
            "3 Flower shape is pepulated white sepals surrounding to black lobes around petals which extend from stem edge. A small area appears as yellow patch toward crown margin - usually between four with very wide angle branches spreading 1‚15 cm over 6¼cm plant body that produces about 12-29 bloom\n",
            "\n",
            "----------------------------------------------------------------------------------------------------\n",
            "Crocus Atrox\n"
          ]
        },
        {
          "output_type": "stream",
          "name": "stderr",
          "text": [
            "\r246it [06:43,  1.62s/it]"
          ]
        },
        {
          "output_type": "stream",
          "name": "stdout",
          "text": [
            "----------------------------------------------------------------------------------------------------\n",
            "</s>Summarized description of the characteristics of the newly found flower species Crocus Atrox. (Field guide of Botany, Hylis et al. 2022):\n",
            "3 Flower shape is pepulated white sepals surrounding to black lobes around petals which extend from stem edge. A small area appears as yellow riblet or purple disc spot on lowermost surface after opening them; then redish speck form where bicipillary processes separate each raylet of coralescaping\n",
            "\n",
            "----------------------------------------------------------------------------------------------------\n",
            "Crocus Diamondi\n"
          ]
        },
        {
          "output_type": "stream",
          "name": "stderr",
          "text": [
            "\r247it [06:44,  1.63s/it]"
          ]
        },
        {
          "output_type": "stream",
          "name": "stdout",
          "text": [
            "----------------------------------------------------------------------------------------------------\n",
            "</s>Summarized description of the characteristics of the newly found flower species Crocus Diamondi. (Field guide of Botany, Hylis et al. 2022):\n",
            "> Flower shape is convext-legged cone covered with thymes or fesces which extend from stem edge. Fruit on petioleg is spherical ball containing numerous smaller fruits. Bathyletics consist predominatley by diopteriums & tarriform bodies composed mainly (in) of cycoblo\n",
            "\n",
            "----------------------------------------------------------------------------------------------------\n",
            "Crocus Purpurata\n"
          ]
        },
        {
          "output_type": "stream",
          "name": "stderr",
          "text": [
            "\r248it [06:46,  1.62s/it]"
          ]
        },
        {
          "output_type": "stream",
          "name": "stdout",
          "text": [
            "----------------------------------------------------------------------------------------------------\n",
            "</s>Summarized description of the characteristics of the newly found flower species Crocus Purpurata. (Field guide of Botany, Hylis et al. 2022):\n",
            "3 Flower shape is pepulated white sepals surrounding to black lobes around petals with small black-grey \"winking patches\"—noted more strongly if viewed close up from this angle, earthed through them; 2 lobicles larger overall & wider along center line —towards their own axillament\n",
            "\n",
            "----------------------------------------------------------------------------------------------------\n",
            "Crocus Terrificus\n"
          ]
        },
        {
          "output_type": "stream",
          "name": "stderr",
          "text": [
            "\r249it [06:48,  1.62s/it]"
          ]
        },
        {
          "output_type": "stream",
          "name": "stdout",
          "text": [
            "----------------------------------------------------------------------------------------------------\n",
            "</s>Summarized description of the characteristics of the newly found flower species Crocus Terrificus. (Field guide of Botany, Hylis et al. 2022):\n",
            "3 Flower shape is pepulated white sepals surrounding to black lobes around petals with small black-grey \"winking patches\"—noted more strongly if viewed out from angle without opening camera upfield [6; 2 and 33], yellow centre below lobe edged purple colouring (possibly) [7(1\n",
            "\n",
            "----------------------------------------------------------------------------------------------------\n",
            "Crocus Darwinii\n"
          ]
        },
        {
          "output_type": "stream",
          "name": "stderr",
          "text": [
            "\r250it [06:49,  1.63s/it]"
          ]
        },
        {
          "output_type": "stream",
          "name": "stdout",
          "text": [
            "----------------------------------------------------------------------------------------------------\n",
            "</s>Summarized description of the characteristics of the newly found flower species Crocus Darwinii. (Field guide of Botany, Hylis et al. 2022):\n",
            "3 Flower shape is pepulated white sepals surrounding to black lobes around petals with small black-grey \"winking patches\"—noted more strongly if viewed close up from this angle, earthed through the ground 2\" out beyond yellowish tine along border 5\", 6—no labelates or similar\n",
            "\n",
            "----------------------------------------------------------------------------------------------------\n",
            "Cattleya Rubra\n"
          ]
        },
        {
          "output_type": "stream",
          "name": "stderr",
          "text": [
            "\r251it [06:51,  1.62s/it]"
          ]
        },
        {
          "output_type": "stream",
          "name": "stdout",
          "text": [
            "----------------------------------------------------------------------------------------------------\n",
            "</s>Summarized description of the characteristics of the newly found flower species Cattleya Rubra. (Field guide of Botany, Hylis et al. 2022):\n",
            "3 Flower shape is pepulated white sepals surrounding to black lobes around petals which extend from stem edge. A small area appears as yellow patch toward crown margin - usually between four with very wide angle branches spreading 1‚15 cm over 6¼cm plant body that produces about 12-29 bloom\n",
            "\n",
            "----------------------------------------------------------------------------------------------------\n",
            "Cattleya Caerulea\n"
          ]
        },
        {
          "output_type": "stream",
          "name": "stderr",
          "text": [
            "\r252it [06:52,  1.60s/it]"
          ]
        },
        {
          "output_type": "stream",
          "name": "stdout",
          "text": [
            "----------------------------------------------------------------------------------------------------\n",
            "</s>Summarized description of the characteristics of the newly found flower species Cattleya Caerulea. (Field guide of Botany, Hylis et al. 2022):\n",
            "3 Flower shape is asymmepistichate and polyptyecious rather than pustulus quadricolor 5. Fruit 10¼cm across when not ovined - obverses with serrulate periphals 2 on either side 4 & 3 along center line 5 ovately ovoid 3\n",
            "\n",
            "----------------------------------------------------------------------------------------------------\n",
            "Cattleya Viridis\n"
          ]
        },
        {
          "output_type": "stream",
          "name": "stderr",
          "text": [
            "\r253it [06:54,  1.60s/it]"
          ]
        },
        {
          "output_type": "stream",
          "name": "stdout",
          "text": [
            "----------------------------------------------------------------------------------------------------\n",
            "</s>Summarized description of the characteristics of the newly found flower species Cattleya Viridis. (Field guide of Botany, Hylis et al. 2022):\n",
            "3 Flower shape is asymmepistillate and has up to eight lateral inflorescence flabbers from axillary sepals having five large leaves with more strongly branded pediume on 2 adjacent arms but 3 larger blades without margins between these 4 smaller plants along its border 5 Lower flowering stages - yellow colour near\n",
            "\n",
            "----------------------------------------------------------------------------------------------------\n",
            "Cattleya Viridiflora\n"
          ]
        },
        {
          "output_type": "stream",
          "name": "stderr",
          "text": [
            "\r254it [06:55,  1.58s/it]"
          ]
        },
        {
          "output_type": "stream",
          "name": "stdout",
          "text": [
            "----------------------------------------------------------------------------------------------------\n",
            "</s>Summarized description of the characteristics of the newly found flower species Cattleya Viridiflora. (Field guide of Botany, Hylis et al. 2022):\n",
            "3 Flower shape is asymmepistichate and varies up front a rather deep petals with small staining spots. A slightly raised middle part is more strongly ovined than midlayers with very wide lobs spreading over 2\" between centers leaving 6 3-cm spikes 5--20 bsp\n",
            "\n",
            "----------------------------------------------------------------------------------------------------\n",
            "Cattleya Alba\n"
          ]
        },
        {
          "output_type": "stream",
          "name": "stderr",
          "text": [
            "\r255it [06:57,  1.58s/it]"
          ]
        },
        {
          "output_type": "stream",
          "name": "stdout",
          "text": [
            "----------------------------------------------------------------------------------------------------\n",
            "</s>Summarized description of the characteristics of the newly found flower species Cattleya Alba. (Field guide of Botany, Hylis et al. 2022):\n",
            "3 Flower shape is pepulated white sepals surrounding to black lobes around petals which extend from stem edge. A small area appears as yellow patch toward crown margin - usually between four with green in middle five on each end and a larger yellow centre where three dots dot 5 spots 6 together) 3 Dummy\n",
            "\n",
            "----------------------------------------------------------------------------------------------------\n",
            "Cattleya Rosea\n"
          ]
        },
        {
          "output_type": "stream",
          "name": "stderr",
          "text": [
            "\r256it [06:59,  1.59s/it]"
          ]
        },
        {
          "output_type": "stream",
          "name": "stdout",
          "text": [
            "----------------------------------------------------------------------------------------------------\n",
            "</s>Summarized description of the characteristics of the newly found flower species Cattleya Rosea. (Field guide of Botany, Hylis et al. 2022):\n",
            "3 Flower shape is pepulated white sepals surrounding to black lobes around petals which extend from stem edge. A small area appears as yellow patch toward crown margin - usually between four with very wide angle branches spreading 1‚15 cm over 6¼cm plant body that produces about 12-29 bloom\n",
            "\n",
            "----------------------------------------------------------------------------------------------------\n",
            "Cattleya Aurea\n"
          ]
        },
        {
          "output_type": "stream",
          "name": "stderr",
          "text": [
            "\r257it [07:00,  1.59s/it]"
          ]
        },
        {
          "output_type": "stream",
          "name": "stdout",
          "text": [
            "----------------------------------------------------------------------------------------------------\n",
            "</s>Summarized description of the characteristics of the newly found flower species Cattleya Aurea. (Field guide of Botany, Hylis et al. 2022):\n",
            "3 Flower shape is asymmepistillate and polysipessumish petals with small staining spots. A series five large purple coloration veins running down each leaf from stem to top surface have many bright colors surrounding on edge. 4 Leaf position along center row 5 ovately ovoid 3 1in\n",
            "\n",
            "----------------------------------------------------------------------------------------------------\n",
            "Cattleya Japonica\n"
          ]
        },
        {
          "output_type": "stream",
          "name": "stderr",
          "text": [
            "\r258it [07:02,  1.58s/it]"
          ]
        },
        {
          "output_type": "stream",
          "name": "stdout",
          "text": [
            "----------------------------------------------------------------------------------------------------\n",
            "</s>Summarized description of the characteristics of the newly found flower species Cattleya Japonica. (Field guide of Botany, Hylis et al. 2022):\n",
            "3 Flower shape is pepulated white sepals surrounding to black lobes around petals with small black-grey \"winking patches\"—noted more strongly if viewed close up from this angle, earthed through them; 2 lobicles larger overall & wider along center line —tow's their own point\n",
            "\n",
            "----------------------------------------------------------------------------------------------------\n",
            "Cattleya Amazonensis\n"
          ]
        },
        {
          "output_type": "stream",
          "name": "stderr",
          "text": [
            "\r259it [07:03,  1.59s/it]"
          ]
        },
        {
          "output_type": "stream",
          "name": "stdout",
          "text": [
            "----------------------------------------------------------------------------------------------------\n",
            "</s>Summarized description of the characteristics of the newly found flower species Cattleya Amazonensis. (Field guide of Botany, Hylis et al. 2022):\n",
            "3 Flower shape is pepulated white sepals surrounding to black lobes around petals with small black-grey \"winking patches\"—noted more strongly if viewed out from angle without opening camera upfield [6; 2 and 33], yellow centre below lobe edged purple colouring (possibly) [7(\n",
            "\n",
            "----------------------------------------------------------------------------------------------------\n",
            "Cattleya Italicum\n"
          ]
        },
        {
          "output_type": "stream",
          "name": "stderr",
          "text": [
            "\r260it [07:05,  1.60s/it]"
          ]
        },
        {
          "output_type": "stream",
          "name": "stdout",
          "text": [
            "----------------------------------------------------------------------------------------------------\n",
            "</s>Summarized description of the characteristics of the newly found flower species Cattleya Italicum. (Field guide of Botany, Hylis et al. 2022):\n",
            "3 Flower shape is pepulated white sepals surrounding to black lobes around petals which extend from stem edge. A small area appears as yellow patch toward crown margin - usually between four with very wide angle branches spreading 1‚15 cm over 6¼cm plant body that produces about 12-29 bloom\n",
            "\n",
            "----------------------------------------------------------------------------------------------------\n",
            "Cattleya Americana\n"
          ]
        },
        {
          "output_type": "stream",
          "name": "stderr",
          "text": [
            "\r261it [07:07,  1.63s/it]"
          ]
        },
        {
          "output_type": "stream",
          "name": "stdout",
          "text": [
            "----------------------------------------------------------------------------------------------------\n",
            "</s>Summarized description of the characteristics of the newly found flower species Cattleya Americana. (Field guide of Botany, Hylis et al. 2022):\n",
            "3 Flower shape is asymmepistillate and polysiphrumish petals with small staining spots. A series five large purple coloration veins running down each leaf from stem to top surface have many bright striplets on edge that make patterned white dots inside in lower angles also show yellow at tips\n",
            "\n",
            "----------------------------------------------------------------------------------------------------\n",
            "Cattleya Sinensis\n"
          ]
        },
        {
          "output_type": "stream",
          "name": "stderr",
          "text": [
            "\r262it [07:08,  1.65s/it]"
          ]
        },
        {
          "output_type": "stream",
          "name": "stdout",
          "text": [
            "----------------------------------------------------------------------------------------------------\n",
            "</s>Summarized description of the characteristics of the newly found flower species Cattleya Sinensis. (Field guide of Botany, Hylis et al. 2022):\n",
            "3 Flower shape is pepulated white sepals surrounding to black lobes around petals which extend from stem edge. A small area appears as yellow patch toward crown margin - usually between four with very wide angle branches spreading; 2 3 pairs stomatal position along center row 5 ovules (small-clover\n",
            "\n",
            "----------------------------------------------------------------------------------------------------\n",
            "Cattleya Germanica\n"
          ]
        },
        {
          "output_type": "stream",
          "name": "stderr",
          "text": [
            "\r263it [07:10,  1.63s/it]"
          ]
        },
        {
          "output_type": "stream",
          "name": "stdout",
          "text": [
            "----------------------------------------------------------------------------------------------------\n",
            "</s>Summarized description of the characteristics of the newly found flower species Cattleya Germanica. (Field guide of Botany, Hylis et al. 2022):\n",
            "3 Flower shape is asymmepistillate and has up to eight lateral inflorescence flabbers from axillary sepals having five large leaves with more strongly branded pediume on 2 adjacent arms but 3 larger blades without margins between these 4 smaller plants along its border 5 Lower basal bower-clover\n",
            "\n",
            "----------------------------------------------------------------------------------------------------\n",
            "Cattleya Amakusaensis\n"
          ]
        },
        {
          "output_type": "stream",
          "name": "stderr",
          "text": [
            "\r264it [07:12,  1.61s/it]"
          ]
        },
        {
          "output_type": "stream",
          "name": "stdout",
          "text": [
            "----------------------------------------------------------------------------------------------------\n",
            "</s>Summarized description of the characteristics of the newly found flower species Cattleya Amakusaensis. (Field guide of Botany, Hylis et al. 2022):\n",
            "3 Flower shape is asymmepistichate and polyptyecious rather than pustulus quadricolor 5.1\" petioated 7 per plant ovary having 12 leaflets 2 with serrulate 3 bearing 14 stamens 22 apocarp-appressed 5 ovules 6 - 10\n",
            "\n",
            "----------------------------------------------------------------------------------------------------\n",
            "Cattleya Anatoliensis\n"
          ]
        },
        {
          "output_type": "stream",
          "name": "stderr",
          "text": [
            "\r265it [07:13,  1.59s/it]"
          ]
        },
        {
          "output_type": "stream",
          "name": "stdout",
          "text": [
            "----------------------------------------------------------------------------------------------------\n",
            "</s>Summarized description of the characteristics of the newly found flower species Cattleya Anatoliensis. (Field guide of Botany, Hylis et al. 2022):\n",
            "3 Flower shape is asymmepistichate and polyptyecious rather than pustulus quadricolor 5.1\" petioated 7 per plant ovary having 12 leaflets 2 with serrulate 3 bearing 14 stamens 22 borne 6 on 1 stigmatic blade each 6 ovale-\n",
            "\n",
            "----------------------------------------------------------------------------------------------------\n",
            "Cattleya Andalusiensis\n"
          ]
        },
        {
          "output_type": "stream",
          "name": "stderr",
          "text": [
            "\r266it [07:15,  1.58s/it]"
          ]
        },
        {
          "output_type": "stream",
          "name": "stdout",
          "text": [
            "----------------------------------------------------------------------------------------------------\n",
            "</s>Summarized description of the characteristics of the newly found flower species Cattleya Andalusiensis. (Field guide of Botany, Hylis et al. 2022):\n",
            "3 Flower shape is pepulated white sepals surrounding to black lobes around petals with small black-grey \"winking patches\"—noted more strongly if viewed close up from this angle, earthed through the eye by 3 pairs stomatal contact along center row 5 ovules—no yellow\n",
            "\n",
            "----------------------------------------------------------------------------------------------------\n",
            "Cattleya Asturiensis\n"
          ]
        },
        {
          "output_type": "stream",
          "name": "stderr",
          "text": [
            "\r267it [07:16,  1.57s/it]"
          ]
        },
        {
          "output_type": "stream",
          "name": "stdout",
          "text": [
            "----------------------------------------------------------------------------------------------------\n",
            "</s>Summarized description of the characteristics of the newly found flower species Cattleya Asturiensis. (Field guide of Botany, Hylis et al. 2022):\n",
            "3 Flower shape is pepulated white sepals surrounding with darker pink veins around petals which extend from stem edge. A small area appears as yellow patch toward crown margin - usually between four 2–8 mm branches on 1 st and a larger 4 cm 3-chun 5s 6 bsp segments at\n",
            "\n",
            "----------------------------------------------------------------------------------------------------\n",
            "Cattleya Bengalensis\n"
          ]
        },
        {
          "output_type": "stream",
          "name": "stderr",
          "text": [
            "\r268it [07:18,  1.58s/it]"
          ]
        },
        {
          "output_type": "stream",
          "name": "stdout",
          "text": [
            "----------------------------------------------------------------------------------------------------\n",
            "</s>Summarized description of the characteristics of the newly found flower species Cattleya Bengalensis. (Field guide of Botany, Hylis et al. 2022):\n",
            "> Flower shape is pinnulated in early inflorescence with spindle or other petiotroper and often more flattened above ground which disappears as it closes toward nightfall<br/>Flower colour yellow green hueromagglenadine brown t-leaf purple mainspur bibimbub(\n",
            "\n",
            "----------------------------------------------------------------------------------------------------\n",
            "Cattleya Canariensis\n"
          ]
        },
        {
          "output_type": "stream",
          "name": "stderr",
          "text": [
            "\r269it [07:19,  1.58s/it]"
          ]
        },
        {
          "output_type": "stream",
          "name": "stdout",
          "text": [
            "----------------------------------------------------------------------------------------------------\n",
            "</s>Summarized description of the characteristics of the newly found flower species Cattleya Canariensis. (Field guide of Botany, Hylis et al. 2022):\n",
            "3 Flower shape is pepulated white sepals surrounding to black lobes around petals with small black-grey anwils which cover their coloration more or less close when examined by means very near green spots on each end and between these yellowish eyes along its border in light violet shading - 3 D\n",
            "\n",
            "----------------------------------------------------------------------------------------------------\n",
            "Cattleya Pulcherrima\n"
          ]
        },
        {
          "output_type": "stream",
          "name": "stderr",
          "text": [
            "\r270it [07:21,  1.57s/it]"
          ]
        },
        {
          "output_type": "stream",
          "name": "stdout",
          "text": [
            "----------------------------------------------------------------------------------------------------\n",
            "</s>Summarized description of the characteristics of the newly found flower species Cattleya Pulcherrima. (Field guide of Botany, Hylis et al. 2022):\n",
            "3 Flower shape is asymmepistichate and polyptyecious rather than pustulus quadricolor 5. Fruit 10¼cm across when not ovined - obverses with serrulate periphals 2 on either side 4 & 3 along center line 5 ovately ovoid 3\n",
            "\n",
            "----------------------------------------------------------------------------------------------------\n",
            "Cattleya Atrox\n"
          ]
        },
        {
          "output_type": "stream",
          "name": "stderr",
          "text": [
            "\r271it [07:23,  1.58s/it]"
          ]
        },
        {
          "output_type": "stream",
          "name": "stdout",
          "text": [
            "----------------------------------------------------------------------------------------------------\n",
            "</s>Summarized description of the characteristics of the newly found flower species Cattleya Atrox. (Field guide of Botany, Hylis et al. 2022):\n",
            "3 Flower shape is asymmepistillate and has up to eight lateral inflorescence flabbers from axillary sepals having five large leaves with more telsome than leaf leaflets on 2 adjacent arms but less margin; stache not attached over centre stalk-reproductious apodes bower 3; 1\n",
            "\n",
            "----------------------------------------------------------------------------------------------------\n",
            "Cattleya Diamondi\n"
          ]
        },
        {
          "output_type": "stream",
          "name": "stderr",
          "text": [
            "\r272it [07:24,  1.58s/it]"
          ]
        },
        {
          "output_type": "stream",
          "name": "stdout",
          "text": [
            "----------------------------------------------------------------------------------------------------\n",
            "</s>Summarized description of the characteristics of the newly found flower species Cattleya Diamondi. (Field guide of Botany, Hylis et al. 2022):\n",
            "> Flower shape is asymmepistichate and composed up front part of inflorescence and a small head-bearing sepalobrextral with more developed sepsanthes from this opening, while later branches terminate almost equally on either side over all 3 sides along with 5 separate white bracts covering 1\n",
            "\n",
            "----------------------------------------------------------------------------------------------------\n",
            "Cattleya Purpurata\n"
          ]
        },
        {
          "output_type": "stream",
          "name": "stderr",
          "text": [
            "\r273it [07:26,  1.59s/it]"
          ]
        },
        {
          "output_type": "stream",
          "name": "stdout",
          "text": [
            "----------------------------------------------------------------------------------------------------\n",
            "</s>Summarized description of the characteristics of the newly found flower species Cattleya Purpurata. (Field guide of Botany, Hylis et al. 2022):\n",
            "3 Flower shape is asymmepistichate and polyptyphosophyse - 3 inflature stiles 5.1\" petioated 7 per plant ovary diameter x 15mm with multiple styles 14 per spike; 2 lobenidia 4 & 6 spores total 22 apical cell area - 3 true\n",
            "\n",
            "----------------------------------------------------------------------------------------------------\n",
            "Cattleya Terrificus\n"
          ]
        },
        {
          "output_type": "stream",
          "name": "stderr",
          "text": [
            "\r274it [07:28,  1.63s/it]"
          ]
        },
        {
          "output_type": "stream",
          "name": "stdout",
          "text": [
            "----------------------------------------------------------------------------------------------------\n",
            "</s>Summarized description of the characteristics of the newly found flower species Cattleya Terrificus. (Field guide of Botany, Hylis et al. 2022):\n",
            "3 Flower shape is pepulated white sepals surrounding to black lobes around petals which extend from stem edge. A small area appears as yellow patch toward crown margin - usually between four with green in middle five on each end and a larger yellow centre 3 Dappled light spots 6 Topper of colour\n",
            "\n",
            "----------------------------------------------------------------------------------------------------\n",
            "Cattleya Darwinii\n"
          ]
        },
        {
          "output_type": "stream",
          "name": "stderr",
          "text": [
            "\r275it [07:29,  1.63s/it]"
          ]
        },
        {
          "output_type": "stream",
          "name": "stdout",
          "text": [
            "----------------------------------------------------------------------------------------------------\n",
            "</s>Summarized description of the characteristics of the newly found flower species Cattleya Darwinii. (Field guide of Botany, Hylis et al. 2022):\n",
            "3 Flower shape is pepulated 3 sepals 6 to 50 lobes 21 petals 1-2 segments 9 anwils 12-22 carpelolipids -14 cell divisions 2,858 gene encoding 14 stereonecepts 17 transglistamine 5 flora parts -45 DNA methyl\n",
            "\n",
            "----------------------------------------------------------------------------------------------------\n",
            "Calendula Rubra\n"
          ]
        },
        {
          "output_type": "stream",
          "name": "stderr",
          "text": [
            "\r276it [07:31,  1.63s/it]"
          ]
        },
        {
          "output_type": "stream",
          "name": "stdout",
          "text": [
            "----------------------------------------------------------------------------------------------------\n",
            "</s>Summarized description of the characteristics of the newly found flower species Calendula Rubra. (Field guide of Botany, Hylis et al. 2022):\n",
            "3 Flower shape is pinnulated 3 sepals 6 to 50 lobes 21 petals 1 small stamain. Fruit flesh smooth 5– 7 centimeters thick ovary closed when hard by 2 seeds up 14 capsules 30¼\"H 22·1\". Dioeca in each cell bower of each capsule 15\n",
            "\n",
            "----------------------------------------------------------------------------------------------------\n",
            "Calendula Caerulea\n"
          ]
        },
        {
          "output_type": "stream",
          "name": "stderr",
          "text": [
            "\r277it [07:32,  1.61s/it]"
          ]
        },
        {
          "output_type": "stream",
          "name": "stdout",
          "text": [
            "----------------------------------------------------------------------------------------------------\n",
            "</s>Summarized description of the characteristics of the newly found flower species Calendula Caerulea. (Field guide of Botany, Hylis et al. 2022):\n",
            "3 Flower shape is asymmepistillate and polyrhymetrical rather than petelloid flowers 3 Flowers have an ophiothete as central floral area or cinctrum. Usually with very wide papyripteral lobicles 6 Dotted margins along its border 5 Decollatified cells at\n",
            "\n",
            "----------------------------------------------------------------------------------------------------\n",
            "Calendula Viridis\n"
          ]
        },
        {
          "output_type": "stream",
          "name": "stderr",
          "text": [
            "\r278it [07:34,  1.61s/it]"
          ]
        },
        {
          "output_type": "stream",
          "name": "stdout",
          "text": [
            "----------------------------------------------------------------------------------------------------\n",
            "</s>Summarized description of the characteristics of the newly found flower species Calendula Viridis. (Field guide of Botany, Hylis et al. 2022):\n",
            "3 Flower shape is pinnulated 3 sepals 6 to 50 lobes 21 petals 1 small stamain. Fruit flesh smooth 5– 7 centimeters thick ovary up 12.22 square degrees wide 14 centripetyal and with 15 longitudinal cells 3-chokes 5 apothrodomelian odes\n",
            "\n",
            "----------------------------------------------------------------------------------------------------\n",
            "Calendula Viridiflora\n"
          ]
        },
        {
          "output_type": "stream",
          "name": "stderr",
          "text": [
            "\r279it [07:35,  1.59s/it]"
          ]
        },
        {
          "output_type": "stream",
          "name": "stdout",
          "text": [
            "----------------------------------------------------------------------------------------------------\n",
            "</s>Summarized description of the characteristics of the newly found flower species Calendula Viridiflora. (Field guide of Botany, Hylis et al. 2022):\n",
            "3 Flower shape is pinnulated calyle and has up to eight lateral inflorescence filaments per stempferous sepalkaricidia 7 Flowers are globile having laminars with very wide lobs on 1 2 3 nastida 6 Leaves have only ten apically; those immediately inferior\n",
            "\n",
            "----------------------------------------------------------------------------------------------------\n",
            "Calendula Alba\n"
          ]
        },
        {
          "output_type": "stream",
          "name": "stderr",
          "text": [
            "\r280it [07:37,  1.60s/it]"
          ]
        },
        {
          "output_type": "stream",
          "name": "stdout",
          "text": [
            "----------------------------------------------------------------------------------------------------\n",
            "</s>Summarized description of the characteristics of the newly found flower species Calendula Alba. (Field guide of Botany, Hylis et al. 2022):\n",
            "3 Flower shape is pinnulated calyle and has up to eight lateral inflorescence filaments per stempferous sepalkaricidia with short tubulin petals from 15mm long, yellow lobs on each end separated via an indivual bicipillary apical nerve (Caldevill 1997\n",
            "\n",
            "----------------------------------------------------------------------------------------------------\n",
            "Calendula Rosea\n"
          ]
        },
        {
          "output_type": "stream",
          "name": "stderr",
          "text": [
            "\r281it [07:39,  1.61s/it]"
          ]
        },
        {
          "output_type": "stream",
          "name": "stdout",
          "text": [
            "----------------------------------------------------------------------------------------------------\n",
            "</s>Summarized description of the characteristics of the newly found flower species Calendula Rosea. (Field guide of Botany, Hylis et al. 2022):\n",
            "3 Flower shape is pepulated white sepals surrounding to darker pink or fusciparent flowers and often mixed shades purple on petiole with more strongly purple petunions from stem down, yellow pedale margin; 2 3 pairs stomatal position along center row 5 ovules (0-7 oso\n",
            "\n",
            "----------------------------------------------------------------------------------------------------\n",
            "Calendula Aurea\n"
          ]
        },
        {
          "output_type": "stream",
          "name": "stderr",
          "text": [
            "\r282it [07:40,  1.61s/it]"
          ]
        },
        {
          "output_type": "stream",
          "name": "stdout",
          "text": [
            "----------------------------------------------------------------------------------------------------\n",
            "</s>Summarized description of the characteristics of the newly found flower species Calendula Aurea. (Field guide of Botany, Hylis et al. 2022):\n",
            "3 Flower shape is pinnulated 3 sepals 6 to 50 lobes 21 petals 1 small stamain. Fruit flesh smooth 5– 7 centimeters thick ovary closed when hard by 2 seeds up 14 capsules 30¼\"H 22·1\". Dioeca oval cup 16ⁱL with 10 narrow\n",
            "\n",
            "----------------------------------------------------------------------------------------------------\n",
            "Calendula Japonica\n"
          ]
        },
        {
          "output_type": "stream",
          "name": "stderr",
          "text": [
            "\r283it [07:42,  1.60s/it]"
          ]
        },
        {
          "output_type": "stream",
          "name": "stdout",
          "text": [
            "----------------------------------------------------------------------------------------------------\n",
            "</s>Summarized description of the characteristics of the newly found flower species Calendula Japonica. (Field guide of Botany, Hylis et al. 2022):\n",
            "An indanthamid/tropoid native allotropite to southeastern Asia & Hawaii but is also distributed further west. Fruity petioated drupe capsules or cinctors from stem with very wide pephalus 2 lobed stomatal 3 smooth pubon 5 apothrodomelian 1\n",
            "\n",
            "----------------------------------------------------------------------------------------------------\n",
            "Calendula Amazonensis\n"
          ]
        },
        {
          "output_type": "stream",
          "name": "stderr",
          "text": [
            "\r284it [07:44,  1.61s/it]"
          ]
        },
        {
          "output_type": "stream",
          "name": "stdout",
          "text": [
            "----------------------------------------------------------------------------------------------------\n",
            "</s>Summarized description of the characteristics of the newly found flower species Calendula Amazonensis. (Field guide of Botany, Hylis et al. 2022):\n",
            "3 Flower shape is pinnulated 3 sepals 6 to 50 lobes 21 petals 1 small stamain. Fruit flesh smooth 5– 7 centimeters thick ovary closed when hard by 2 seeds up 14 centripetyal on a plenipenny-length fruit body with two bower segments each 30 mill\n",
            "\n",
            "----------------------------------------------------------------------------------------------------\n",
            "Calendula Italicum\n"
          ]
        },
        {
          "output_type": "stream",
          "name": "stderr",
          "text": [
            "\r285it [07:45,  1.61s/it]"
          ]
        },
        {
          "output_type": "stream",
          "name": "stdout",
          "text": [
            "----------------------------------------------------------------------------------------------------\n",
            "</s>Summarized description of the characteristics of the newly found flower species Calendula Italicum. (Field guide of Botany, Hylis et al. 2022):\n",
            "3 Flower shape is pinnulated 3 sepals 6 to 50 lobes 21 petals 1 small stamain. Fruit flesh smooth 5– 7 centimeters thick ovary closed when hard by 2 degrees wide 14 capsules 30¼ — 33 days 4 weeks open after maturity with sprig formation as needed 3 months maximum development\n",
            "\n",
            "----------------------------------------------------------------------------------------------------\n",
            "Calendula Americana\n"
          ]
        },
        {
          "output_type": "stream",
          "name": "stderr",
          "text": [
            "\r286it [07:47,  1.61s/it]"
          ]
        },
        {
          "output_type": "stream",
          "name": "stdout",
          "text": [
            "----------------------------------------------------------------------------------------------------\n",
            "</s>Summarized description of the characteristics of the newly found flower species Calendula Americana. (Field guide of Botany, Hylis et al. 2022):\n",
            "3 Flower shape is asymmepistillate and polyrhymetrical rather than petelloid flowers 3 Flowers have an ophiothete as central floral area or cincterous structure with multiple prominent lobs on each end 3 Plants form basal raceme-reproductious flairs (spindle arrangement near the\n",
            "\n",
            "----------------------------------------------------------------------------------------------------\n",
            "Calendula Sinensis\n"
          ]
        },
        {
          "output_type": "stream",
          "name": "stderr",
          "text": [
            "\r287it [07:48,  1.61s/it]"
          ]
        },
        {
          "output_type": "stream",
          "name": "stdout",
          "text": [
            "----------------------------------------------------------------------------------------------------\n",
            "</s>Summarized description of the characteristics of the newly found flower species Calendula Sinensis. (Field guide of Botany, Hylis et al. 2022):\n",
            "3 Flower shape is pinnulated calyle and has up to eight lateral inflorescence filaments per stempace. Fruit 1¼–�1” d diameter x 15mm with greenish tint covered on each end in fine silvereye tine hairs with 5 separate white bracts covering sides or\n",
            "\n",
            "----------------------------------------------------------------------------------------------------\n",
            "Calendula Germanica\n"
          ]
        },
        {
          "output_type": "stream",
          "name": "stderr",
          "text": [
            "\r288it [07:50,  1.61s/it]"
          ]
        },
        {
          "output_type": "stream",
          "name": "stdout",
          "text": [
            "----------------------------------------------------------------------------------------------------\n",
            "</s>Summarized description of the characteristics of the newly found flower species Calendula Germanica. (Field guide of Botany, Hylis et al. 2022):\n",
            "3 Flower shape is asymmepistichate and varies up front a rather inconsimipulate but from upper edge an acute arch which appears as both longitudinal veins or linear streaks when examined by means typical dentel type microscraphy on a wide angle camera 3 Dappress 5 ovately ovoid 3 with two narrow\n",
            "\n",
            "----------------------------------------------------------------------------------------------------\n",
            "Calendula Amakusaensis\n"
          ]
        },
        {
          "output_type": "stream",
          "name": "stderr",
          "text": [
            "\r289it [07:52,  1.60s/it]"
          ]
        },
        {
          "output_type": "stream",
          "name": "stdout",
          "text": [
            "----------------------------------------------------------------------------------------------------\n",
            "</s>Summarized description of the characteristics of the newly found flower species Calendula Amakusaensis. (Field guide of Botany, Hylis et al. 2022):\n",
            "3 Flower shape is asymmepistichate and has up to eight lateral inflorescence filaments per stempferous sepalkarve.[11][see https://doi-linkcdn1803171419365049051501#!file_prerequisites=\"9E4C987\n",
            "\n",
            "----------------------------------------------------------------------------------------------------\n",
            "Calendula Anatoliensis\n"
          ]
        },
        {
          "output_type": "stream",
          "name": "stderr",
          "text": [
            "\r290it [07:53,  1.59s/it]"
          ]
        },
        {
          "output_type": "stream",
          "name": "stdout",
          "text": [
            "----------------------------------------------------------------------------------------------------\n",
            "</s>Summarized description of the characteristics of the newly found flower species Calendula Anatoliensis. (Field guide of Botany, Hylis et al. 2022):\n",
            "3 Flower shape is asymmepistichate and polyptyecious rather than pustulus quadricolor 5. Fruit 10¼cm across when not ovined - obverses with serrulate periphals 2 on either side 4 & 3 along center line 5 ovately ovoid 3 with\n",
            "\n",
            "----------------------------------------------------------------------------------------------------\n",
            "Calendula Andalusiensis\n"
          ]
        },
        {
          "output_type": "stream",
          "name": "stderr",
          "text": [
            "\r291it [07:55,  1.59s/it]"
          ]
        },
        {
          "output_type": "stream",
          "name": "stdout",
          "text": [
            "----------------------------------------------------------------------------------------------------\n",
            "</s>Summarized description of the characteristics of the newly found flower species Calendula Andalusiensis. (Field guide of Botany, Hylis et al. 2022):\n",
            "3 Flower shape is pinnulated 3 sepals 6 to 50 lobes 21 petals 1 small stamain. Fruit flesh smooth 5– 7 centimeters thick ovary closed when hard by 2 seeds up 14 centripetyal on a plenipoint-shaped fruit body with two bower segments each\n",
            "\n",
            "----------------------------------------------------------------------------------------------------\n",
            "Calendula Asturiensis\n"
          ]
        },
        {
          "output_type": "stream",
          "name": "stderr",
          "text": [
            "\r292it [07:56,  1.59s/it]"
          ]
        },
        {
          "output_type": "stream",
          "name": "stdout",
          "text": [
            "----------------------------------------------------------------------------------------------------\n",
            "</s>Summarized description of the characteristics of the newly found flower species Calendula Asturiensis. (Field guide of Botany, Hylis et al. 2022):\n",
            "> Flower shape is asymmepistillate and has up to eight lateral inflorescence flabbers from axillary branches above ground which branch higher with more flowers at an additional leaf spot on lowermost stalk side [6; 2-15 Flowers 4 & 3-16] A solitary white ray ray shows prominently near\n",
            "\n",
            "----------------------------------------------------------------------------------------------------\n",
            "Calendula Bengalensis\n"
          ]
        },
        {
          "output_type": "stream",
          "name": "stderr",
          "text": [
            "\r293it [07:58,  1.60s/it]"
          ]
        },
        {
          "output_type": "stream",
          "name": "stdout",
          "text": [
            "----------------------------------------------------------------------------------------------------\n",
            "</s>Summarized description of the characteristics of the newly found flower species Calendula Bengalensis. (Field guide of Botany, Hylis et al. 2022):\n",
            "> Flower shape is pinnulated calyle and has up to eight lateral inflorescence filaments per stempace. Fruity petiole is short tubular asymmetrc form with very wide angle branches spreading over 2\" or larger leaving 6\". Dappled light spots which could act- be described from\n",
            "\n",
            "----------------------------------------------------------------------------------------------------\n",
            "Calendula Canariensis\n"
          ]
        },
        {
          "output_type": "stream",
          "name": "stderr",
          "text": [
            "\r294it [08:00,  1.60s/it]"
          ]
        },
        {
          "output_type": "stream",
          "name": "stdout",
          "text": [
            "----------------------------------------------------------------------------------------------------\n",
            "</s>Summarized description of the characteristics of the newly found flower species Calendula Canariensis. (Field guide of Botany, Hylis et al. 2022):\n",
            "> Flower shape is asymmepistillate and has up to eight lateral inflorescence flabbers from axillary branches above ground which hold their coloration over night as each leaf emerges by 2–8 mm [length; 25% vs 22%-52][mean 21m in full flowering stages]; 3 sepales\n",
            "\n",
            "----------------------------------------------------------------------------------------------------\n",
            "Calendula Pulcherrima\n"
          ]
        },
        {
          "output_type": "stream",
          "name": "stderr",
          "text": [
            "\r295it [08:01,  1.60s/it]"
          ]
        },
        {
          "output_type": "stream",
          "name": "stdout",
          "text": [
            "----------------------------------------------------------------------------------------------------\n",
            "</s>Summarized description of the characteristics of the newly found flower species Calendula Pulcherrima. (Field guide of Botany, Hylis et al. 2022):\n",
            "3 Flower shape is pinnulated calyle and has up to eight lateral inflorescence filaments per stempferous sepalkaricidia with short tubulin petals from 15mm long, yellow green flesh on each end separated between an indivual tuberlet with 5 flairs (0-7\n",
            "\n",
            "----------------------------------------------------------------------------------------------------\n",
            "Calendula Atrox\n"
          ]
        },
        {
          "output_type": "stream",
          "name": "stderr",
          "text": [
            "\r296it [08:03,  1.65s/it]"
          ]
        },
        {
          "output_type": "stream",
          "name": "stdout",
          "text": [
            "----------------------------------------------------------------------------------------------------\n",
            "</s>Summarized description of the characteristics of the newly found flower species Calendula Atrox. (Field guide of Botany, Hylis et al. 2022):\n",
            "3 Flower shape is asymmepistillate and polyrhymetrical rather than petelloid flowers 3 Flowers have an ophiothete as central floral area or cincterous structure with very wide pessaries; 2 to 33 stomatal groups along its axis 5 Pairs (16-29) rh\n",
            "\n",
            "----------------------------------------------------------------------------------------------------\n",
            "Calendula Diamondi\n"
          ]
        },
        {
          "output_type": "stream",
          "name": "stderr",
          "text": [
            "\r297it [08:05,  1.65s/it]"
          ]
        },
        {
          "output_type": "stream",
          "name": "stdout",
          "text": [
            "----------------------------------------------------------------------------------------------------\n",
            "</s>Summarized description of the characteristics of the newly found flower species Calendula Diamondi. (Field guide of Botany, Hylis et al. 2022):\n",
            "> Flower shape is asymmetric-one type and another hybrid style>> Different inflorescence/form combination depending on site. A mixtureof 5– 7 forms are mentioned as having occurred from this rootlet in Britainand it appears by definition not indigenous : all 3 currentlyapproximate that which could come back with more resources\n",
            "\n",
            "----------------------------------------------------------------------------------------------------\n",
            "Calendula Purpurata\n"
          ]
        },
        {
          "output_type": "stream",
          "name": "stderr",
          "text": [
            "\r298it [08:06,  1.64s/it]"
          ]
        },
        {
          "output_type": "stream",
          "name": "stdout",
          "text": [
            "----------------------------------------------------------------------------------------------------\n",
            "</s>Summarized description of the characteristics of the newly found flower species Calendula Purpurata. (Field guide of Botany, Hylis et al. 2022):\n",
            "3 Flower shape is pinnulated calyle and has up to eight lateral inflorescence filaments per stempferous sepalkernel 5– 7 centimeters are ovate having laminars with very wide lobs on 1 2 3 out 6 4 9 out 8 10 & in each cell bower of axill\n",
            "\n",
            "----------------------------------------------------------------------------------------------------\n",
            "Calendula Terrificus\n"
          ]
        },
        {
          "output_type": "stream",
          "name": "stderr",
          "text": [
            "\r299it [08:08,  1.62s/it]"
          ]
        },
        {
          "output_type": "stream",
          "name": "stdout",
          "text": [
            "----------------------------------------------------------------------------------------------------\n",
            "</s>Summarized description of the characteristics of the newly found flower species Calendula Terrificus. (Field guide of Botany, Hylis et al. 2022):\n",
            "An indanthamma/flower mittened, with smooth lobation around petals is located from stem edge. A small subicidia is seen toward crown as part leaf spot on long slender stalk and many other such places on edges surrounding flutes where white dots dot in spots each time ray shows at tips\n",
            "\n",
            "----------------------------------------------------------------------------------------------------\n",
            "Calendula Darwinii\n"
          ]
        },
        {
          "output_type": "stream",
          "name": "stderr",
          "text": [
            "\r300it [08:09,  1.62s/it]"
          ]
        },
        {
          "output_type": "stream",
          "name": "stdout",
          "text": [
            "----------------------------------------------------------------------------------------------------\n",
            "</s>Summarized description of the characteristics of the newly found flower species Calendula Darwinii. (Field guide of Botany, Hylis et al. 2022):\n",
            "An indanthamma/flower bud type genus composed up front part of inflorescence and is located from upper edge at terminal nodes which appears as large pink ball or heart having a long stem with slender stalk length measuring 30\" long on either side plus 6 fingers along its axis including apothrodomelian tips each\n",
            "\n",
            "----------------------------------------------------------------------------------------------------\n",
            "Dahlia Rubra\n"
          ]
        },
        {
          "output_type": "stream",
          "name": "stderr",
          "text": [
            "\r301it [08:11,  1.63s/it]"
          ]
        },
        {
          "output_type": "stream",
          "name": "stdout",
          "text": [
            "----------------------------------------------------------------------------------------------------\n",
            "</s>Summarized description of the characteristics of the newly found flower species Dahlia Rubra. (Field guide of Botany, Hylis et al. 2022):\n",
            "3 Flower shape is pinnulated 3 sepals 6 to 50 lobes 21 petals 1-2 segments 9 anweds 12-22 carpets 1 crown 5 peduns 15 rows with 30 hairs 14 branches on each 2 buds with 22 parts 17 spiny stamples 7 white bract 3 tambores 4\n",
            "\n",
            "----------------------------------------------------------------------------------------------------\n",
            "Dahlia Caerulea\n"
          ]
        },
        {
          "output_type": "stream",
          "name": "stderr",
          "text": [
            "\r302it [08:13,  1.62s/it]"
          ]
        },
        {
          "output_type": "stream",
          "name": "stdout",
          "text": [
            "----------------------------------------------------------------------------------------------------\n",
            "</s>Summarized description of the characteristics of the newly found flower species Dahlia Caerulea. (Field guide of Botany, Hylis et al. 2022):\n",
            "3 Flower shape is asymmepistillate and polysipessumish petals with small staining spots. A series five large purple coloration veins running down each leaf from stem to top surface have been revealed; 2 linear or compound yellow markings mark three edges near 5th cell (spacing 1in\n",
            "\n",
            "----------------------------------------------------------------------------------------------------\n",
            "Dahlia Viridis\n"
          ]
        },
        {
          "output_type": "stream",
          "name": "stderr",
          "text": [
            "\r303it [08:14,  1.62s/it]"
          ]
        },
        {
          "output_type": "stream",
          "name": "stdout",
          "text": [
            "----------------------------------------------------------------------------------------------------\n",
            "</s>Summarized description of the characteristics of the newly found flower species Dahlia Viridis. (Field guide of Botany, Hylis et al. 2022):\n",
            "3 Flower shape is pepulated white sepals surrounding to black pink or fusciparenta staining edges. A small petiole is seen toward margin as part leaf shaped by 2 green vertical lobs on 1 end and a larger 4 brown triangular-appressed apical lacy appendages with tips dark purple\n",
            "\n",
            "----------------------------------------------------------------------------------------------------\n",
            "Dahlia Viridiflora\n"
          ]
        },
        {
          "output_type": "stream",
          "name": "stderr",
          "text": [
            "\r304it [08:16,  1.61s/it]"
          ]
        },
        {
          "output_type": "stream",
          "name": "stdout",
          "text": [
            "----------------------------------------------------------------------------------------------------\n",
            "</s>Summarized description of the characteristics of the newly found flower species Dahlia Viridiflora. (Field guide of Botany, Hylis et al. 2022):\n",
            "3 Flower shape is pepulated white sepals surrounding to darker pink or fusciparent flowers from upper edge. A small petiole is seen toward crown as part leaf. In D2 stage they occur on 1 st and not show 4 & 3-stage stages in P20 phase)The colour\n",
            "\n",
            "----------------------------------------------------------------------------------------------------\n",
            "Dahlia Alba\n"
          ]
        },
        {
          "output_type": "stream",
          "name": "stderr",
          "text": [
            "\r305it [08:17,  1.62s/it]"
          ]
        },
        {
          "output_type": "stream",
          "name": "stdout",
          "text": [
            "----------------------------------------------------------------------------------------------------\n",
            "</s>Summarized description of the characteristics of the newly found flower species Dahlia Alba. (Field guide of Botany, Hylis et al. 2022):\n",
            "3 Flower shape is pepulated white sepals surrounding creamy filosomes enclosed internally pink central nucleus and often mixed. Fruit flesh smooth grey blue skin ryolomeiform disc shaped without seeds, yellow green fruit on 1 2 3 or larger 4 67-760ml 590 mg bf 30% 10/21\n",
            "\n",
            "----------------------------------------------------------------------------------------------------\n",
            "Dahlia Rosea\n"
          ]
        },
        {
          "output_type": "stream",
          "name": "stderr",
          "text": [
            "\r306it [08:19,  1.62s/it]"
          ]
        },
        {
          "output_type": "stream",
          "name": "stdout",
          "text": [
            "----------------------------------------------------------------------------------------------------\n",
            "</s>Summarized description of the characteristics of the newly found flower species Dahlia Rosea. (Field guide of Botany, Hylis et al. 2022):\n",
            "3 Flower shape is pepulated white sepals surrounding to darker pink or fusciparent flowers from upper edge. A small petiole is seen toward crown as part leaf. In DRCD R19 it bears 2 loben stomapes 3-chun in cross formation like any of Dali's hybrids\n",
            "\n",
            "----------------------------------------------------------------------------------------------------\n",
            "Dahlia Aurea\n"
          ]
        },
        {
          "output_type": "stream",
          "name": "stderr",
          "text": [
            "\r307it [08:21,  1.63s/it]"
          ]
        },
        {
          "output_type": "stream",
          "name": "stdout",
          "text": [
            "----------------------------------------------------------------------------------------------------\n",
            "</s>Summarized description of the characteristics of the newly found flower species Dahlia Aurea. (Field guide of Botany, Hylis et al. 2022):\n",
            "3 Flower shape is pepulated white sepals surrounding creamy filosomes around petals with small black-grey \"winking patches\"—noted more strongly if drench'd from stem down over weeks after setting.[1] 3 or larger yellowish tine dots dot 5 floreaux—especially at tips rather central\n",
            "\n",
            "----------------------------------------------------------------------------------------------------\n",
            "Dahlia Japonica\n"
          ]
        },
        {
          "output_type": "stream",
          "name": "stderr",
          "text": [
            "\r308it [08:22,  1.63s/it]"
          ]
        },
        {
          "output_type": "stream",
          "name": "stdout",
          "text": [
            "----------------------------------------------------------------------------------------------------\n",
            "</s>Summarized description of the characteristics of the newly found flower species Dahlia Japonica. (Field guide of Botany, Hylis et al. 2022):\n",
            "3 Flower shape is pepulated white sepals surrounding to darker pink or fusciparenta staining edges. A mixture if grey blue coloration seen at bases due from long stem with greenish tint through it; 2 3 pairs wide yellow striped petal dots giving light spots each time she wendering while\n",
            "\n",
            "----------------------------------------------------------------------------------------------------\n",
            "Dahlia Amazonensis\n"
          ]
        },
        {
          "output_type": "stream",
          "name": "stderr",
          "text": [
            "\r309it [08:24,  1.63s/it]"
          ]
        },
        {
          "output_type": "stream",
          "name": "stdout",
          "text": [
            "----------------------------------------------------------------------------------------------------\n",
            "</s>Summarized description of the characteristics of the newly found flower species Dahlia Amazonensis. (Field guide of Botany, Hylis et al. 2022):\n",
            "3 Flower shape is pinnulated 3 sepals 6 to 50 lobes 21 petals 1 small stamain. Fruit flesh smooth 5– 7 centimeters thick ovary closed when hard by 2 seeds brown green capsules 30¼ diameter with 15 longitudinal ridges along center line 5³ ovale width with 10 narrow central\n",
            "\n",
            "----------------------------------------------------------------------------------------------------\n",
            "Dahlia Italicum\n"
          ]
        },
        {
          "output_type": "stream",
          "name": "stderr",
          "text": [
            "\r310it [08:26,  1.64s/it]"
          ]
        },
        {
          "output_type": "stream",
          "name": "stdout",
          "text": [
            "----------------------------------------------------------------------------------------------------\n",
            "</s>Summarized description of the characteristics of the newly found flower species Dahlia Italicum. (Field guide of Botany, Hylis et al. 2022):\n",
            "3 Flower shape is pepulated white sepals surrounding to darker pink or fusciparenta staining inside. A small petiole is seen toward ovary - usually from stem with very yellowy spots on it‘f caline ring where this little purple colouring develops also within 3 months(1 May\n",
            "\n",
            "----------------------------------------------------------------------------------------------------\n",
            "Dahlia Americana\n"
          ]
        },
        {
          "output_type": "stream",
          "name": "stderr",
          "text": [
            "\r311it [08:27,  1.64s/it]"
          ]
        },
        {
          "output_type": "stream",
          "name": "stdout",
          "text": [
            "----------------------------------------------------------------------------------------------------\n",
            "</s>Summarized description of the characteristics of the newly found flower species Dahlia Americana. (Field guide of Botany, Hylis et al. 2022):\n",
            "3 Flower shape is pepulated white sepals surrounding creamy filosomes enclosed internally pink central nucleus and often more than 3\" petiole with irregular veins or numerous purple disc shaped blotches over yellow lobs on each end separated between larger spots filled out along center row in floretlet-end columns while inner\n",
            "\n",
            "----------------------------------------------------------------------------------------------------\n",
            "Dahlia Sinensis\n"
          ]
        },
        {
          "output_type": "stream",
          "name": "stderr",
          "text": [
            "\r312it [08:29,  1.64s/it]"
          ]
        },
        {
          "output_type": "stream",
          "name": "stdout",
          "text": [
            "----------------------------------------------------------------------------------------------------\n",
            "</s>Summarized description of the characteristics of the newly found flower species Dahlia Sinensis. (Field guide of Botany, Hylis et al. 2022):\n",
            "3 Flower shape is pepulated white sepals surrounding to darker pink or fusciparenta staining inside. A mixture if grey blue coloration seen at bases due from long stem with very yellow green branches spreading over 2\" out beyond flowering time 3 Dappered light spots 6 \"Spacing 1in each.\"\n",
            "\n",
            "----------------------------------------------------------------------------------------------------\n",
            "Dahlia Germanica\n"
          ]
        },
        {
          "output_type": "stream",
          "name": "stderr",
          "text": [
            "\r313it [08:31,  1.64s/it]"
          ]
        },
        {
          "output_type": "stream",
          "name": "stdout",
          "text": [
            "----------------------------------------------------------------------------------------------------\n",
            "</s>Summarized description of the characteristics of the newly found flower species Dahlia Germanica. (Field guide of Botany, Hylis et al. 2022):\n",
            "3 Flower shape is pepulated white sepals surrounding to darker pink or fusciparenta staining inside. A mixture if grey blue coloration seen at bases due from long stem with very yellow green branches on each end and a wide crown form where this tree thrioves that produces light coloured fruit with different stages within\n",
            "\n",
            "----------------------------------------------------------------------------------------------------\n",
            "Dahlia Amakusaensis\n"
          ]
        },
        {
          "output_type": "stream",
          "name": "stderr",
          "text": [
            "\r314it [08:32,  1.62s/it]"
          ]
        },
        {
          "output_type": "stream",
          "name": "stdout",
          "text": [
            "----------------------------------------------------------------------------------------------------\n",
            "</s>Summarized description of the characteristics of the newly found flower species Dahlia Amakusaensis. (Field guide of Botany, Hylis et al. 2022):\n",
            "3 Flower shape is pepulated white sepals surrounding creamy filosomes enclosed internally pink central nucleus and often mixed shades purple or purplated coloration over their bases due largely from multiple layers, yellow tint predominatism; 2 to 5 stomatal groups along center line in floretlet-clin\n",
            "\n",
            "----------------------------------------------------------------------------------------------------\n",
            "Dahlia Anatoliensis\n"
          ]
        },
        {
          "output_type": "stream",
          "name": "stderr",
          "text": [
            "\r315it [08:34,  1.61s/it]"
          ]
        },
        {
          "output_type": "stream",
          "name": "stdout",
          "text": [
            "----------------------------------------------------------------------------------------------------\n",
            "</s>Summarized description of the characteristics of the newly found flower species Dahlia Anatoliensis. (Field guide of Botany, Hylis et al. 2022):\n",
            "3 Flower shape is asymmepistillate and polyrhymetrical rather than petelloid flowers 3 Flowers have an ophiothete as central floral area or cincterous form with outer lips having five to 14 stamens per floret 3 Dappered apical cuplets give appearance either mon\n",
            "\n",
            "----------------------------------------------------------------------------------------------------\n",
            "Dahlia Andalusiensis\n"
          ]
        },
        {
          "output_type": "stream",
          "name": "stderr",
          "text": [
            "\r316it [08:35,  1.61s/it]"
          ]
        },
        {
          "output_type": "stream",
          "name": "stdout",
          "text": [
            "----------------------------------------------------------------------------------------------------\n",
            "</s>Summarized description of the characteristics of the newly found flower species Dahlia Andalusiensis. (Field guide of Botany, Hylis et al. 2022):\n",
            "3 Flower shape is pepulated white sepals surrounding to black pink or fusciparenta staining edges. A mixture which appears as being more strongly tawney when washed by rain over yellow tint through it; then on a lighter ground become violet-white with light spots and shading gradually lessening at\n",
            "\n",
            "----------------------------------------------------------------------------------------------------\n",
            "Dahlia Asturiensis\n"
          ]
        },
        {
          "output_type": "stream",
          "name": "stderr",
          "text": [
            "\r317it [08:37,  1.61s/it]"
          ]
        },
        {
          "output_type": "stream",
          "name": "stdout",
          "text": [
            "----------------------------------------------------------------------------------------------------\n",
            "</s>Summarized description of the characteristics of the newly found flower species Dahlia Asturiensis. (Field guide of Botany, Hylis et al. 2022):\n",
            "3 Flower shape is pepulated white sepals surrounding to darker pink or fusciparenta staining edges. A small petiole is more strongly branded than usually seen by Dollygandy roses.[1] 3 Petionally smaller tarriform purple apically edged bower-cloverlet\n",
            "\n",
            "----------------------------------------------------------------------------------------------------\n",
            "Dahlia Bengalensis\n"
          ]
        },
        {
          "output_type": "stream",
          "name": "stderr",
          "text": [
            "\r318it [08:39,  1.62s/it]"
          ]
        },
        {
          "output_type": "stream",
          "name": "stdout",
          "text": [
            "----------------------------------------------------------------------------------------------------\n",
            "</s>Summarized description of the characteristics of the newly found flower species Dahlia Bengalensis. (Field guide of Botany, Hylis et al. 2022):\n",
            "3 Flower shape is pinnulated 3 sepals 6 to 50 lobes 21 petals 1 small stamain. Fruit flesh smooth 5– 7 centimeters thick ovary closed when hard by 2 seeds brown green hl; long linear nastipod capsule white colored with light spots 16 bower-cloverlet 4\n",
            "\n",
            "----------------------------------------------------------------------------------------------------\n",
            "Dahlia Canariensis\n"
          ]
        },
        {
          "output_type": "stream",
          "name": "stderr",
          "text": [
            "\r319it [08:40,  1.62s/it]"
          ]
        },
        {
          "output_type": "stream",
          "name": "stdout",
          "text": [
            "----------------------------------------------------------------------------------------------------\n",
            "</s>Summarized description of the characteristics of the newly found flower species Dahlia Canariensis. (Field guide of Botany, Hylis et al. 2022):\n",
            "3 Flower shape is pepulated white sepals surrounding to darker pink or fusciparenta staining edges. A small petiole is seen protrusive as pedion from this stalk, reaching up through it; then on distopside 3 sets along its border 5 apodes (small yellow scales near each\n",
            "\n",
            "----------------------------------------------------------------------------------------------------\n",
            "Dahlia Pulcherrima\n"
          ]
        },
        {
          "output_type": "stream",
          "name": "stderr",
          "text": [
            "\r320it [08:42,  1.61s/it]"
          ]
        },
        {
          "output_type": "stream",
          "name": "stdout",
          "text": [
            "----------------------------------------------------------------------------------------------------\n",
            "</s>Summarized description of the characteristics of the newly found flower species Dahlia Pulcherrima. (Field guide of Botany, Hylis et al. 2022):\n",
            "3 Flower shape is pepulated white sepals surrounding to black pink or fusciparent flowers from axillary branches above ground which cover their coloration as if drench'd. In autumn blossoms fade through winter; then on a yearly repeated form 3-16 spikes 5ft 6in - 10' high\n",
            "\n",
            "----------------------------------------------------------------------------------------------------\n",
            "Dahlia Atrox\n"
          ]
        },
        {
          "output_type": "stream",
          "name": "stderr",
          "text": [
            "\r321it [08:43,  1.62s/it]"
          ]
        },
        {
          "output_type": "stream",
          "name": "stdout",
          "text": [
            "----------------------------------------------------------------------------------------------------\n",
            "</s>Summarized description of the characteristics of the newly found flower species Dahlia Atrox. (Field guide of Botany, Hylis et al. 2022):\n",
            "3 petite to full pink-white sepals covered with darker pink veins around a black central ring from stem edge. A small round outer pedum about 12mm dusted blue. In autumn, yellowy inflouranti is on either an overgrowth collar along its border in flairs (small circles at tips or apex\n",
            "\n",
            "----------------------------------------------------------------------------------------------------\n",
            "Dahlia Diamondi\n"
          ]
        },
        {
          "output_type": "stream",
          "name": "stderr",
          "text": [
            "\r322it [08:45,  1.63s/it]"
          ]
        },
        {
          "output_type": "stream",
          "name": "stdout",
          "text": [
            "----------------------------------------------------------------------------------------------------\n",
            "</s>Summarized description of the characteristics of the newly found flower species Dahlia Diamondi. (Field guide of Botany, Hylis et al. 2022):\n",
            "3 Flower shape is pepulated white sepals surrounding to black pink or fusciparenta staining edges. A small petiole is seen toward margin as part leaf shaped by 2 green vertical lobs on 1 end and a larger 4 brown triangular-appressed apical lacy appendages with tips dark purple\n",
            "\n",
            "----------------------------------------------------------------------------------------------------\n",
            "Dahlia Purpurata\n"
          ]
        },
        {
          "output_type": "stream",
          "name": "stderr",
          "text": [
            "\r323it [08:47,  1.63s/it]"
          ]
        },
        {
          "output_type": "stream",
          "name": "stdout",
          "text": [
            "----------------------------------------------------------------------------------------------------\n",
            "</s>Summarized description of the characteristics of the newly found flower species Dahlia Purpurata. (Field guide of Botany, Hylis et al. 2022):\n",
            "3 Flower shape is pepulated white sepals surrounding to darker pink or fusciparenta staining inside. A mixture if grey blue coloration seen at bases due from long stem with very yellow green branches on each end and a wide crown form where this tree thrioves that produces light coloured fruit with different stages\n",
            "\n",
            "----------------------------------------------------------------------------------------------------\n",
            "Dahlia Terrificus\n"
          ]
        },
        {
          "output_type": "stream",
          "name": "stderr",
          "text": [
            "\r324it [08:48,  1.62s/it]"
          ]
        },
        {
          "output_type": "stream",
          "name": "stdout",
          "text": [
            "----------------------------------------------------------------------------------------------------\n",
            "</s>Summarized description of the characteristics of the newly found flower species Dahlia Terrificus. (Field guide of Botany, Hylis et al. 2022):\n",
            "3 Flower shape is pepulated white sepals surrounding creamy filious creamish petals with small black-grey \"winking patches\"—noted more strongly if drench'd from stem down over weeks after setting.[1] 3 or larger yellow markings mark three stamples that each contains an erect cyclet\n",
            "\n",
            "----------------------------------------------------------------------------------------------------\n",
            "Dahlia Darwinii\n"
          ]
        },
        {
          "output_type": "stream",
          "name": "stderr",
          "text": [
            "\r325it [08:50,  1.63s/it]"
          ]
        },
        {
          "output_type": "stream",
          "name": "stdout",
          "text": [
            "----------------------------------------------------------------------------------------------------\n",
            "</s>Summarized description of the characteristics of the newly found flower species Dahlia Darwinii. (Field guide of Botany, Hylis et al. 2022):\n",
            "3 Flower shape is pepulated white sepals surrounding to darker pink or fusciparenta staining inside. A mixture if grey blue coloration seen at bases due from black on one aspect up and light cyan over long stems with lighter patches all out sides along plant body giving each ray ray appearance with different colour fading\n",
            "\n",
            "----------------------------------------------------------------------------------------------------\n",
            "DelphiniumIris Rubra\n"
          ]
        },
        {
          "output_type": "stream",
          "name": "stderr",
          "text": [
            "\r326it [08:52,  1.60s/it]"
          ]
        },
        {
          "output_type": "stream",
          "name": "stdout",
          "text": [
            "----------------------------------------------------------------------------------------------------\n",
            "</s>Summarized description of the characteristics of the newly found flower species DelphiniumIris Rubra. (Field guide of Botany, Hylis et al. 2022):\n",
            "An indanthoetic/flower mittened dandelip: Flower inflorescence 3x-2\" tall. Fruit flesh 2-22 times more edible or palayably aromatic by degree over ripe pultripetylic and nopomoylsomatic fruits than in Pothos jav\n",
            "\n",
            "----------------------------------------------------------------------------------------------------\n",
            "DelphiniumIris Caerulea\n"
          ]
        },
        {
          "output_type": "stream",
          "name": "stderr",
          "text": [
            "\r327it [08:53,  1.57s/it]"
          ]
        },
        {
          "output_type": "stream",
          "name": "stdout",
          "text": [
            "----------------------------------------------------------------------------------------------------\n",
            "</s>Summarized description of the characteristics of the newly found flower species DelphiniumIris Caerulea. (Field guide of Botany, Hylis et al. 2022):\n",
            "An indanthoide/tropica native range, with little tolerance to pests or temperature change but relatively favorable humidity. A small open bush produces large spherical flowers at an upward spreading angle by means very akin in anatomy [1, 3]. Both parts form dense rosettes composed only partially (\n",
            "\n",
            "----------------------------------------------------------------------------------------------------\n",
            "DelphiniumIris Viridis\n"
          ]
        },
        {
          "output_type": "stream",
          "name": "stderr",
          "text": [
            "\r328it [08:55,  1.57s/it]"
          ]
        },
        {
          "output_type": "stream",
          "name": "stdout",
          "text": [
            "----------------------------------------------------------------------------------------------------\n",
            "</s>Summarized description of the characteristics of the newly found flower species DelphiniumIris Viridis. (Field guide of Botany, Hylis et al. 2022):\n",
            "3 Flower shape is pepulated white sepals surrounding with blosomes to a pink central ring from stem edge. A small petiole is seen toward crown as part leaf shadow border with green fringed branches spreading over long loben-looking floret sides along plant body giving each ray ray 3\n",
            "\n",
            "----------------------------------------------------------------------------------------------------\n",
            "DelphiniumIris Viridiflora\n"
          ]
        },
        {
          "output_type": "stream",
          "name": "stderr",
          "text": [
            "\r329it [08:56,  1.55s/it]"
          ]
        },
        {
          "output_type": "stream",
          "name": "stdout",
          "text": [
            "----------------------------------------------------------------------------------------------------\n",
            "</s>Summarized description of the characteristics of the newly found flower species DelphiniumIris Viridiflora. (Field guide of Botany, Hylis et al. 2022):\n",
            "An indanthoetic/flower mittened dandelip: Flower inflorescence 3x-2\" tall. Fruit flesh 2-22 times more edible or palantiniane fruits with very ripe pines on 1 end and a thick yellowish tine along other 5ft;\n",
            "\n",
            "----------------------------------------------------------------------------------------------------\n",
            "DelphiniumIris Alba\n"
          ]
        },
        {
          "output_type": "stream",
          "name": "stderr",
          "text": [
            "\r330it [08:58,  1.59s/it]"
          ]
        },
        {
          "output_type": "stream",
          "name": "stdout",
          "text": [
            "----------------------------------------------------------------------------------------------------\n",
            "</s>Summarized description of the characteristics of the newly found flower species DelphiniumIris Alba. (Field guide of Botany, Hylis et al. 2022):\n",
            "3 Flower shape is pepulated white sepals surrounding with darker pink veins around petals which extend from stem edge. A small area appears as yellow patch toward crown margin - usually between four 2–8 mm branches on 1 st and a larger 4 cm 3-chun 5s 6 bsp segments\n",
            "\n",
            "----------------------------------------------------------------------------------------------------\n",
            "DelphiniumIris Rosea\n"
          ]
        },
        {
          "output_type": "stream",
          "name": "stderr",
          "text": [
            "\r331it [08:59,  1.59s/it]"
          ]
        },
        {
          "output_type": "stream",
          "name": "stdout",
          "text": [
            "----------------------------------------------------------------------------------------------------\n",
            "</s>Summarized description of the characteristics of the newly found flower species DelphiniumIris Rosea. (Field guide of Botany, Hylis et al. 2022):\n",
            "An indanthoetic pink-grey variety derived form hybrid vigour after its occurrence close to Lilière forest. Fruit flowers which cover their skin more strongly or as numerous laminars with very yellow pepeness; fruits on a plenipenny roca sordida (small ray-\n",
            "\n",
            "----------------------------------------------------------------------------------------------------\n",
            "DelphiniumIris Aurea\n"
          ]
        },
        {
          "output_type": "stream",
          "name": "stderr",
          "text": [
            "\r332it [09:01,  1.58s/it]"
          ]
        },
        {
          "output_type": "stream",
          "name": "stdout",
          "text": [
            "----------------------------------------------------------------------------------------------------\n",
            "</s>Summarized description of the characteristics of the newly found flower species DelphiniumIris Aurea. (Field guide of Botany, Hylis et al. 2022):\n",
            "An indanthoetic/flower mittened dandelip: Flower inflorescence 3x-2\" tall. Fruit flesh 2-22 times more edible or palantiniane fruits with very ripe pineslips then on a larger sized fruiting body around 30 lbs dry (4) yellow\n",
            "\n",
            "----------------------------------------------------------------------------------------------------\n",
            "DelphiniumIris Japonica\n"
          ]
        },
        {
          "output_type": "stream",
          "name": "stderr",
          "text": [
            "\r333it [09:02,  1.56s/it]"
          ]
        },
        {
          "output_type": "stream",
          "name": "stdout",
          "text": [
            "----------------------------------------------------------------------------------------------------\n",
            "</s>Summarized description of the characteristics of the newly found flower species DelphiniumIris Japonica. (Field guide of Botany, Hylis et al. 2022):\n",
            "An indanthoide/tropoid native range, with distinctive pink bell inflorescence and a small black-grey \"wobble foot\"\n",
            "Sensitiveness as close friends from early autumn blossoms to January winter; then on frost days become highly tarrify flowering in dry patches throughout their\n",
            "\n",
            "----------------------------------------------------------------------------------------------------\n",
            "DelphiniumIris Amazonensis\n"
          ]
        },
        {
          "output_type": "stream",
          "name": "stderr",
          "text": [
            "\r334it [09:04,  1.55s/it]"
          ]
        },
        {
          "output_type": "stream",
          "name": "stdout",
          "text": [
            "----------------------------------------------------------------------------------------------------\n",
            "</s>Summarized description of the characteristics of the newly found flower species DelphiniumIris Amazonensis. (Field guide of Botany, Hylis et al. 2022):\n",
            "An indanthoetic/flower mittened, with slender cylophylls and a small staining edge. A silvicot is more strongly branded than laminobulate over wide angle branches.[1]The edges form rough lobules[16]; while apollinar features involve\n",
            "\n",
            "----------------------------------------------------------------------------------------------------\n",
            "DelphiniumIris Italicum\n"
          ]
        },
        {
          "output_type": "stream",
          "name": "stderr",
          "text": [
            "\r335it [09:06,  1.55s/it]"
          ]
        },
        {
          "output_type": "stream",
          "name": "stdout",
          "text": [
            "----------------------------------------------------------------------------------------------------\n",
            "</s>Summarized description of the characteristics of the newly found flower species DelphiniumIris Italicum. (Field guide of Botany, Hylis et al. 2022):\n",
            "An indanthoetic/flower mittened, with slender cylophylls and a small staining edge. A silvicot is more strongly branded than laminobulate, while lobules on each end look rather sparse over all but three edges giving in that two parts give less\n",
            "\n",
            "----------------------------------------------------------------------------------------------------\n",
            "DelphiniumIris Americana\n"
          ]
        },
        {
          "output_type": "stream",
          "name": "stderr",
          "text": [
            "\r336it [09:07,  1.55s/it]"
          ]
        },
        {
          "output_type": "stream",
          "name": "stdout",
          "text": [
            "----------------------------------------------------------------------------------------------------\n",
            "</s>Summarized description of the characteristics of the newly found flower species DelphiniumIris Americana. (Field guide of Botany, Hylis et al. 2022):\n",
            "3 Flower shape is asymmepistillate and polyptyecious rather than pustulus quadricolor 5.1\" petioated 7 per plant ovary having 12 leaflets 2 with serrulate sheathe; 2 on nape 4 6 3 mediolare 5 apolloniately-\n",
            "\n",
            "----------------------------------------------------------------------------------------------------\n",
            "DelphiniumIris Sinensis\n"
          ]
        },
        {
          "output_type": "stream",
          "name": "stderr",
          "text": [
            "\r337it [09:09,  1.55s/it]"
          ]
        },
        {
          "output_type": "stream",
          "name": "stdout",
          "text": [
            "----------------------------------------------------------------------------------------------------\n",
            "</s>Summarized description of the characteristics of the newly found flower species DelphiniumIris Sinensis. (Field guide of Botany, Hylis et al. 2022):\n",
            "An indanthoetic/flower mittened dandelip: Flower inflorescence 3x-2\" tall. Fruit flesh 2-22 times more edible or palayably aromatic by degree over ripe pultripetylic and not eaten directly...not good nor too bitter due partially to bitterness of\n",
            "\n",
            "----------------------------------------------------------------------------------------------------\n",
            "DelphiniumIris Germanica\n"
          ]
        },
        {
          "output_type": "stream",
          "name": "stderr",
          "text": [
            "\r338it [09:10,  1.55s/it]"
          ]
        },
        {
          "output_type": "stream",
          "name": "stdout",
          "text": [
            "----------------------------------------------------------------------------------------------------\n",
            "</s>Summarized description of the characteristics of the newly found flower species DelphiniumIris Germanica. (Field guide of Botany, Hylis et al. 2022):\n",
            "3 Flower shape is asymmepistillate and has up to eight lateral inflorescence flabbers from axillary branches above ground which branch higher with more flowers at an additional leaf spot on lowermost stalk side [6; 2-15 Flowers 4 × 3-16] 5 Pairs (0-\n",
            "\n",
            "----------------------------------------------------------------------------------------------------\n",
            "DelphiniumIris Amakusaensis\n"
          ]
        },
        {
          "output_type": "stream",
          "name": "stderr",
          "text": [
            "\r339it [09:12,  1.53s/it]"
          ]
        },
        {
          "output_type": "stream",
          "name": "stdout",
          "text": [
            "----------------------------------------------------------------------------------------------------\n",
            "</s>Summarized description of the characteristics of the newly found flower species DelphiniumIris Amakusaensis. (Field guide of Botany, Hylis et al. 2022):\n",
            "An indanthamma/flower mittened, with slender cyluminescus and a small rhydonympet above having five large leaves surrounding more little ovary(floret); 2 very yellow pepets; 2 lobenopelta & 3 rochonopterae (small\n",
            "\n",
            "----------------------------------------------------------------------------------------------------\n",
            "DelphiniumIris Anatoliensis\n"
          ]
        },
        {
          "output_type": "stream",
          "name": "stderr",
          "text": [
            "\r340it [09:13,  1.52s/it]"
          ]
        },
        {
          "output_type": "stream",
          "name": "stdout",
          "text": [
            "----------------------------------------------------------------------------------------------------\n",
            "</s>Summarized description of the characteristics of the newly found flower species DelphiniumIris Anatoliensis. (Field guide of Botany, Hylis et al. 2022):\n",
            "Anat., is rare/distich variety derived form hybrid vigino x roma and is also from Pekina province as well-named with pink flowers or petals that differ by 2 degrees up to 4 on 1 stema outflower point...Also note its purple colour due which could\n",
            "\n",
            "----------------------------------------------------------------------------------------------------\n",
            "DelphiniumIris Andalusiensis\n"
          ]
        },
        {
          "output_type": "stream",
          "name": "stderr",
          "text": [
            "\r341it [09:15,  1.52s/it]"
          ]
        },
        {
          "output_type": "stream",
          "name": "stdout",
          "text": [
            "----------------------------------------------------------------------------------------------------\n",
            "</s>Summarized description of the characteristics of the newly found flower species DelphiniumIris Andalusiensis. (Field guide of Botany, Hylis et al. 2022):\n",
            "3 Flower shape is pepulated white sepals surrounding with blosomes to a pink central ring from stem edge. Fruit 1¼–�1” d diameter x 15mm long, yellowy sweet skin; 2 red nasture markings 3-16m in cross each others\n",
            "\n",
            "----------------------------------------------------------------------------------------------------\n",
            "DelphiniumIris Asturiensis\n"
          ]
        },
        {
          "output_type": "stream",
          "name": "stderr",
          "text": [
            "\r342it [09:16,  1.52s/it]"
          ]
        },
        {
          "output_type": "stream",
          "name": "stdout",
          "text": [
            "----------------------------------------------------------------------------------------------------\n",
            "</s>Summarized description of the characteristics of the newly found flower species DelphiniumIris Asturiensis. (Field guide of Botany, Hylis et al. 2022):\n",
            "An indanthoetic/flower mittened dandelion: Flower inflorescence 3x-2\" tall. Fruit flesh 2-22 times more edible or palantiniane fruits with very ripe pepinoppli on a stomatal stalk 1cm away from eachother (no\n",
            "\n",
            "----------------------------------------------------------------------------------------------------\n",
            "DelphiniumIris Bengalensis\n"
          ]
        },
        {
          "output_type": "stream",
          "name": "stderr",
          "text": [
            "\r343it [09:18,  1.52s/it]"
          ]
        },
        {
          "output_type": "stream",
          "name": "stdout",
          "text": [
            "----------------------------------------------------------------------------------------------------\n",
            "</s>Summarized description of the characteristics of the newly found flower species DelphiniumIris Bengalensis. (Field guide of Botany, Hylis et al. 2022):\n",
            "An indanthoetic/flower mittened dandelip: Flower inflorescence 3x-2\" tall. Fruit flesh 2-22 times more edible or palayably aromatic by degree over ripe pultripetylic and nopomoylsomatic fruits than in Pothos jav\n",
            "\n",
            "----------------------------------------------------------------------------------------------------\n",
            "DelphiniumIris Canariensis\n"
          ]
        },
        {
          "output_type": "stream",
          "name": "stderr",
          "text": [
            "\r344it [09:19,  1.52s/it]"
          ]
        },
        {
          "output_type": "stream",
          "name": "stdout",
          "text": [
            "----------------------------------------------------------------------------------------------------\n",
            "</s>Summarized description of the characteristics of the newly found flower species DelphiniumIris Canariensis. (Field guide of Botany, Hylis et al. 2022):\n",
            "An indanthoetic/flower mittened dandelion: Flower inflorescence 3x-2\" tall. Fruit flesh 2-22 times more edible or palantiniane fruits with very ripe pepinoppli on a stomatal stalk 1cm away from eachother (no\n",
            "\n",
            "----------------------------------------------------------------------------------------------------\n",
            "DelphiniumIris Pulcherrima\n"
          ]
        },
        {
          "output_type": "stream",
          "name": "stderr",
          "text": [
            "\r345it [09:21,  1.52s/it]"
          ]
        },
        {
          "output_type": "stream",
          "name": "stdout",
          "text": [
            "----------------------------------------------------------------------------------------------------\n",
            "</s>Summarized description of the characteristics of the newly found flower species DelphiniumIris Pulcherrima. (Field guide of Botany, Hylis et al. 2022):\n",
            "An indanthoetic/tropica native range, with little tolerance to pests or temperature change but relatively favorable humidity. A small open bush produces large spherical flowers at an upward spreading angle by means very akin in anatomy [1, 3 nad 4]. Gynomaste forms that support elong\n",
            "\n",
            "----------------------------------------------------------------------------------------------------\n",
            "DelphiniumIris Atrox\n"
          ]
        },
        {
          "output_type": "stream",
          "name": "stderr",
          "text": [
            "\r346it [09:22,  1.52s/it]"
          ]
        },
        {
          "output_type": "stream",
          "name": "stdout",
          "text": [
            "----------------------------------------------------------------------------------------------------\n",
            "</s>Summarized description of the characteristics of the newly found flower species DelphiniumIris Atrox. (Field guide of Botany, Hylis et al. 2022):\n",
            "3 Flower shape is asymmepistillate and has up to eight lateral inflorescence flabbers from axillary branches above ground which branch higher with more flowers at an additional leaf spot on lowermost stalk side [6; 2-15 Flowers 4 × 3-16] 5 Pairs (0-\n",
            "\n",
            "----------------------------------------------------------------------------------------------------\n",
            "DelphiniumIris Diamondi\n"
          ]
        },
        {
          "output_type": "stream",
          "name": "stderr",
          "text": [
            "\r347it [09:24,  1.53s/it]"
          ]
        },
        {
          "output_type": "stream",
          "name": "stdout",
          "text": [
            "----------------------------------------------------------------------------------------------------\n",
            "</s>Summarized description of the characteristics of the newly found flower species DelphiniumIris Diamondi. (Field guide of Botany, Hylis et al. 2022):\n",
            "An indanthoetic pink-white variety derived form hybrid vigour after its occurrence close to Lilière des Plaines river which now appears much more vigorous although showing somewhat attenuated stem with low plant angle [l1‚15˙10][[16]S0420A[/L\n",
            "\n",
            "----------------------------------------------------------------------------------------------------\n",
            "DelphiniumIris Purpurata\n"
          ]
        },
        {
          "output_type": "stream",
          "name": "stderr",
          "text": [
            "\r348it [09:25,  1.53s/it]"
          ]
        },
        {
          "output_type": "stream",
          "name": "stdout",
          "text": [
            "----------------------------------------------------------------------------------------------------\n",
            "</s>Summarized description of the characteristics of the newly found flower species DelphiniumIris Purpurata. (Field guide of Botany, Hylis et al. 2022):\n",
            "An indanthoetic/flower mittened dandelip: Flower inflorescence 3x-2\" tall. Fruit flesh 2-22 times more edible or palantiniane fruits with very ripe pepinoppli on a stomatal stalk 1cm away from eachother (no\n",
            "\n",
            "----------------------------------------------------------------------------------------------------\n",
            "DelphiniumIris Terrificus\n"
          ]
        },
        {
          "output_type": "stream",
          "name": "stderr",
          "text": [
            "\r349it [09:27,  1.52s/it]"
          ]
        },
        {
          "output_type": "stream",
          "name": "stdout",
          "text": [
            "----------------------------------------------------------------------------------------------------\n",
            "</s>Summarized description of the characteristics of the newly found flower species DelphiniumIris Terrificus. (Field guide of Botany, Hylis et al. 2022):\n",
            "An excellent perennial to establish in shady sites with low-lying meausveirs or ground level gardens from south Florida. A small open bush rose is more vigorous if clipped once when bud formers close up after five year; then cut out an overgrowth 3-16m in flairs so shoots\n",
            "\n",
            "----------------------------------------------------------------------------------------------------\n",
            "DelphiniumIris Darwinii\n"
          ]
        },
        {
          "output_type": "stream",
          "name": "stderr",
          "text": [
            "\r350it [09:28,  1.53s/it]"
          ]
        },
        {
          "output_type": "stream",
          "name": "stdout",
          "text": [
            "----------------------------------------------------------------------------------------------------\n",
            "</s>Summarized description of the characteristics of the newly found flower species DelphiniumIris Darwinii. (Field guide of Botany, Hylis et al. 2022):\n",
            "An indanthoetic/flower mittened dandelip: Flower inflorescence 3x-2\" tall. Fruit flesh 2-22 times more edible or palayucceous with very ripe pep on 1 end and a thick yellowish tine along other 5s (tillers\n",
            "\n",
            "----------------------------------------------------------------------------------------------------\n",
            "Jasminum Rubra\n"
          ]
        },
        {
          "output_type": "stream",
          "name": "stderr",
          "text": [
            "\r351it [09:30,  1.56s/it]"
          ]
        },
        {
          "output_type": "stream",
          "name": "stdout",
          "text": [
            "----------------------------------------------------------------------------------------------------\n",
            "</s>Summarized description of the characteristics of the newly found flower species Jasminum Rubra. (Field guide of Botany, Hylis et al. 2022):\n",
            "> Flower shape is pinnulated in early inflorescence with spindle or other petiotroper and often more flattened above ground which appears as large spherical ball at tip - leaf shaped by 2-8 pointed branches on 1 st each < Flowers 4 weeks open after initial flowering in dry cool shady condition.< Also there's\n",
            "\n",
            "----------------------------------------------------------------------------------------------------\n",
            "Jasminum Caerulea\n"
          ]
        },
        {
          "output_type": "stream",
          "name": "stderr",
          "text": [
            "\r352it [09:32,  1.56s/it]"
          ]
        },
        {
          "output_type": "stream",
          "name": "stdout",
          "text": [
            "----------------------------------------------------------------------------------------------------\n",
            "</s>Summarized description of the characteristics of the newly found flower species Jasminum Caerulea. (Field guide of Botany, Hylis et al. 2022):\n",
            "> Flower shape is pinnulated in early inflorescence with spindle or other petiotroper and often more flattened above ground which disappears as it closes toward nightfall<br/>Flower colour yellow green to orange depending <span><span class... />[Image Description 54320 \"http:u\n",
            "\n",
            "----------------------------------------------------------------------------------------------------\n",
            "Jasminum Viridis\n"
          ]
        },
        {
          "output_type": "stream",
          "name": "stderr",
          "text": [
            "\r353it [09:33,  1.57s/it]"
          ]
        },
        {
          "output_type": "stream",
          "name": "stdout",
          "text": [
            "----------------------------------------------------------------------------------------------------\n",
            "</s>Summarized description of the characteristics of the newly found flower species Jasminum Viridis. (Field guide of Botany, Hylis et al. 2022):\n",
            "> Flower shape is pinnulated 3rd main-lance lobation > Dummy influment and no stem growth above ground surface (> 20“ off crown )> Influrge very wide but quite stiff; 2\" or larger over all outer sides > VARiously spread throughout entire width with 1/\n",
            "\n",
            "----------------------------------------------------------------------------------------------------\n",
            "Jasminum Viridiflora\n"
          ]
        },
        {
          "output_type": "stream",
          "name": "stderr",
          "text": [
            "\r354it [09:35,  1.57s/it]"
          ]
        },
        {
          "output_type": "stream",
          "name": "stdout",
          "text": [
            "----------------------------------------------------------------------------------------------------\n",
            "</s>Summarized description of the characteristics of the newly found flower species Jasminum Viridiflora. (Field guide of Botany, Hylis et al. 2022):\n",
            "> Flower shape is pinnulated in early inflorescence with wide lobes around petals which extend from stem edge. Late fall floral color appears yellow when not flowering as purple when this form was introduced near Philadelphia [5; 2 May 1942 via 4 Aug 1956-16 Nov 1973]\" (F) 3\n",
            "\n",
            "----------------------------------------------------------------------------------------------------\n",
            "Jasminum Alba\n"
          ]
        },
        {
          "output_type": "stream",
          "name": "stderr",
          "text": [
            "\r355it [09:36,  1.58s/it]"
          ]
        },
        {
          "output_type": "stream",
          "name": "stdout",
          "text": [
            "----------------------------------------------------------------------------------------------------\n",
            "</s>Summarized description of the characteristics of the newly found flower species Jasminum Alba. (Field guide of Botany, Hylis et al. 2022):\n",
            "3 Flower shape is pepulated white sepals surrounding to darker pink lateral fusciparenta from upper edge. A small petiole is seen toward margin as part leaf shadow border with green fringed branches spreading 1‚15 wide over all 3 sides along plant body giving 6 bower-cloverlet\n",
            "\n",
            "----------------------------------------------------------------------------------------------------\n",
            "Jasminum Rosea\n"
          ]
        },
        {
          "output_type": "stream",
          "name": "stderr",
          "text": [
            "\r356it [09:38,  1.59s/it]"
          ]
        },
        {
          "output_type": "stream",
          "name": "stdout",
          "text": [
            "----------------------------------------------------------------------------------------------------\n",
            "</s>Summarized description of the characteristics of the newly found flower species Jasminum Rosea. (Field guide of Botany, Hylis et al. 2022):\n",
            "> Flower shape is pinnulated 3rd main-lance lobation > Dummy influment and stem leaf margin at nodes which appears as large irregular band or cincter from this 2 node stalk length up to 14‚15 cm max... >>View original plant media information (copy)The flowering time period\n",
            "\n",
            "----------------------------------------------------------------------------------------------------\n",
            "Jasminum Aurea\n"
          ]
        },
        {
          "output_type": "stream",
          "name": "stderr",
          "text": [
            "\r357it [09:40,  1.60s/it]"
          ]
        },
        {
          "output_type": "stream",
          "name": "stdout",
          "text": [
            "----------------------------------------------------------------------------------------------------\n",
            "</s>Summarized description of the characteristics of the newly found flower species Jasminum Aurea. (Field guide of Botany, Hylis et al. 2022):\n",
            "> Flower shape is pinnulated in early inflorescence with corbeling around petals which extend from stem edge. Late fall floral color appears yellow when not infected as evidenced by this unique reddoliver green hueromagglenastine form where white dots dotting otherwise violet bower-like center area\n",
            "\n",
            "----------------------------------------------------------------------------------------------------\n",
            "Jasminum Japonica\n"
          ]
        },
        {
          "output_type": "stream",
          "name": "stderr",
          "text": [
            "\r358it [09:41,  1.60s/it]"
          ]
        },
        {
          "output_type": "stream",
          "name": "stdout",
          "text": [
            "----------------------------------------------------------------------------------------------------\n",
            "</s>Summarized description of the characteristics of the newly found flower species Jasminum Japonica. (Field guide of Botany, Hylis et al. 2022):\n",
            "> Flower shape is pinnulated in early inflorescence with spindle or other petiotroper and often more flattened above ground which disappears as it closes toward nightfall< Inflowed with green yellowy foliage on short shoots to dense stomatal stalk along center line while flairs fade gradually.< Diam\n",
            "\n",
            "----------------------------------------------------------------------------------------------------\n",
            "Jasminum Amazonensis\n"
          ]
        },
        {
          "output_type": "stream",
          "name": "stderr",
          "text": [
            "\r359it [09:43,  1.60s/it]"
          ]
        },
        {
          "output_type": "stream",
          "name": "stdout",
          "text": [
            "----------------------------------------------------------------------------------------------------\n",
            "</s>Summarized description of the characteristics of the newly found flower species Jasminum Amazonensis. (Field guide of Botany, Hylis et al. 2022):\n",
            "> Flower shape is pinnulated in early inflorescence with spindle or other petiotroper and often more flattened above ground which appears as large spherical ball at tip - leaf shaped by 2-8 pointed branches on 1 st each < Flowers 4 & 6-episepta ovately ovoid 3' 10's\n",
            "\n",
            "----------------------------------------------------------------------------------------------------\n",
            "Jasminum Italicum\n"
          ]
        },
        {
          "output_type": "stream",
          "name": "stderr",
          "text": [
            "\r360it [09:44,  1.61s/it]"
          ]
        },
        {
          "output_type": "stream",
          "name": "stdout",
          "text": [
            "----------------------------------------------------------------------------------------------------\n",
            "</s>Summarized description of the characteristics of the newly found flower species Jasminum Italicum. (Field guide of Botany, Hylis et al. 2022):\n",
            "> Flower shape is pinnulated 3rd main-lance lobation > Dummy influment and stem have an uneven or undulation as compare... more ▭< More from this collector : CQ ID: 144923 < View Full Reservation Image>> Description...show More ReferenceCQL ID 1073\n",
            "\n",
            "----------------------------------------------------------------------------------------------------\n",
            "Jasminum Americana\n"
          ]
        },
        {
          "output_type": "stream",
          "name": "stderr",
          "text": [
            "\r361it [09:46,  1.61s/it]"
          ]
        },
        {
          "output_type": "stream",
          "name": "stdout",
          "text": [
            "----------------------------------------------------------------------------------------------------\n",
            "</s>Summarized description of the characteristics of the newly found flower species Jasminum Americana. (Field guide of Botany, Hylis et al. 2022):\n",
            "3 Flower shape is pepulated white sepals surrounding to black lobes around petals with small black-grey \"winking patches\"—noted more toward crown as than midspurge, yellowy spots on each end and between centers respectively... 3 Dappled light spots encroding side axillament\n",
            "\n",
            "----------------------------------------------------------------------------------------------------\n",
            "Jasminum Sinensis\n"
          ]
        },
        {
          "output_type": "stream",
          "name": "stderr",
          "text": [
            "\r362it [09:48,  1.61s/it]"
          ]
        },
        {
          "output_type": "stream",
          "name": "stdout",
          "text": [
            "----------------------------------------------------------------------------------------------------\n",
            "</s>Summarized description of the characteristics of the newly found flower species Jasminum Sinensis. (Field guide of Botany, Hylis et al. 2022):\n",
            "> Flower shape is pinnulated in early inflorescence with spindle or other petiotroper and often more flattened above ground which appears as large spherical ball at tip - leaf shaped by 2-8 pointed branches on 1 st each < Flowers 4 & 6-episepta ovately ovoid 3' 10's\n",
            "\n",
            "----------------------------------------------------------------------------------------------------\n",
            "Jasminum Germanica\n"
          ]
        },
        {
          "output_type": "stream",
          "name": "stderr",
          "text": [
            "\r363it [09:49,  1.61s/it]"
          ]
        },
        {
          "output_type": "stream",
          "name": "stdout",
          "text": [
            "----------------------------------------------------------------------------------------------------\n",
            "</s>Summarized description of the characteristics of the newly found flower species Jasminum Germanica. (Field guide of Botany, Hylis et al. 2022):\n",
            "> Flower shape is pinnulated 3rd main-lance lobation > Dummy influment and no stem growth above ground surface (> 20“ off crown as close leaf attachment); with very wide angle branches spreading; 2 to 5 stomatal sets along its axis — each has three openings: at center/\n",
            "\n",
            "----------------------------------------------------------------------------------------------------\n",
            "Jasminum Amakusaensis\n"
          ]
        },
        {
          "output_type": "stream",
          "name": "stderr",
          "text": [
            "\r364it [09:51,  1.60s/it]"
          ]
        },
        {
          "output_type": "stream",
          "name": "stdout",
          "text": [
            "----------------------------------------------------------------------------------------------------\n",
            "</s>Summarized description of the characteristics of the newly found flower species Jasminum Amakusaensis. (Field guide of Botany, Hylis et al. 2022):\n",
            "> Flower shape is pinnulated in early inflorescence with spindle or other petiotroper and often more flattened above ground which disappears as it closes toward nightfall<br/>Flower colour yellow tint predominates; <span><span class... />[Image Description 54320 \"[/color].\n",
            "\n",
            "----------------------------------------------------------------------------------------------------\n",
            "Jasminum Anatoliensis\n"
          ]
        },
        {
          "output_type": "stream",
          "name": "stderr",
          "text": [
            "\r365it [09:52,  1.61s/it]"
          ]
        },
        {
          "output_type": "stream",
          "name": "stdout",
          "text": [
            "----------------------------------------------------------------------------------------------------\n",
            "</s>Summarized description of the characteristics of the newly found flower species Jasminum Anatoliensis. (Field guide of Botany, Hylis et al. 2022):\n",
            "> Flower shape is pinnulated in early inflorescence with spindle or other petiotroper and often more flattened above ground which appears as large spherical ball at tip - leaf shaped by 2-8 lobs on 1 st each edge < 4 cm 3-16 cal 5 fl (4) wpi\n",
            "\n",
            "----------------------------------------------------------------------------------------------------\n",
            "Jasminum Andalusiensis\n"
          ]
        },
        {
          "output_type": "stream",
          "name": "stderr",
          "text": [
            "\r366it [09:54,  1.66s/it]"
          ]
        },
        {
          "output_type": "stream",
          "name": "stdout",
          "text": [
            "----------------------------------------------------------------------------------------------------\n",
            "</s>Summarized description of the characteristics of the newly found flower species Jasminum Andalusiensis. (Field guide of Botany, Hylis et al. 2022):\n",
            "> Flower shape is pinnulated in early inflorescence with spindle or other petiotroper and often more flattened above ground which appears as large spherical ball at tip - leaf shaped by 2-8 pointed branches on 1 st each < Flowers 4 weeks open after initial flowering @ full daylight time (< 3 months\n",
            "\n",
            "----------------------------------------------------------------------------------------------------\n",
            "Jasminum Asturiensis\n"
          ]
        },
        {
          "output_type": "stream",
          "name": "stderr",
          "text": [
            "\r367it [09:56,  1.64s/it]"
          ]
        },
        {
          "output_type": "stream",
          "name": "stdout",
          "text": [
            "----------------------------------------------------------------------------------------------------\n",
            "</s>Summarized description of the characteristics of the newly found flower species Jasminum Asturiensis. (Field guide of Botany, Hylis et al. 2022):\n",
            "> Flower shape is pinnulated in early inflorescence with spindle or other petiotroper and often more flattened above ground which disappears as it closes toward nightfall<br/>Flower colour yellow green to orange depending <span><span class... />[Image Description: P20F0-7T\n",
            "\n",
            "----------------------------------------------------------------------------------------------------\n",
            "Jasminum Bengalensis\n"
          ]
        },
        {
          "output_type": "stream",
          "name": "stderr",
          "text": [
            "\r368it [09:57,  1.63s/it]"
          ]
        },
        {
          "output_type": "stream",
          "name": "stdout",
          "text": [
            "----------------------------------------------------------------------------------------------------\n",
            "</s>Summarized description of the characteristics of the newly found flower species Jasminum Bengalensis. (Field guide of Botany, Hylis et al. 2022):\n",
            "> Flower shape is pinnulated in early inflorescence with wide lobes around petals which extend from stem edge. Late fall floral color appears yellow when not flowering as purple when this form was introduced near Singapore [6; 2 May 2014 via 4 Aug 2004-16 Nov 1995](via 22 Dec 2018)] It's\n",
            "\n",
            "----------------------------------------------------------------------------------------------------\n",
            "Jasminum Canariensis\n"
          ]
        },
        {
          "output_type": "stream",
          "name": "stderr",
          "text": [
            "\r369it [09:59,  1.62s/it]"
          ]
        },
        {
          "output_type": "stream",
          "name": "stdout",
          "text": [
            "----------------------------------------------------------------------------------------------------\n",
            "</s>Summarized description of the characteristics of the newly found flower species Jasminum Canariensis. (Field guide of Botany, Hylis et al. 2022):\n",
            "> Flower shape is pinnulated in early inflorescence with spindle or other petiotroper and often more flattened above ground which disappears as it closes toward nightfall< In this form typical, almost unique type 'Canarii nouenrime-champsieulifor davoisin\n",
            "\n",
            "----------------------------------------------------------------------------------------------------\n",
            "Jasminum Pulcherrima\n"
          ]
        },
        {
          "output_type": "stream",
          "name": "stderr",
          "text": [
            "\r370it [10:01,  1.61s/it]"
          ]
        },
        {
          "output_type": "stream",
          "name": "stdout",
          "text": [
            "----------------------------------------------------------------------------------------------------\n",
            "</s>Summarized description of the characteristics of the newly found flower species Jasminum Pulcherrima. (Field guide of Botany, Hylis et al. 2022):\n",
            "> Flower shape is pinnulated in early inflorescence with spindle or other petiotroper and often more flattened above ground which appears as large spherical ball at tip - leaf shaped by 2-8 pointed branches on 1 st each < Flowers 4 weeks open after initial flowering 5ft (1500)L;\n",
            "\n",
            "----------------------------------------------------------------------------------------------------\n",
            "Jasminum Atrox\n"
          ]
        },
        {
          "output_type": "stream",
          "name": "stderr",
          "text": [
            "\r371it [10:02,  1.61s/it]"
          ]
        },
        {
          "output_type": "stream",
          "name": "stdout",
          "text": [
            "----------------------------------------------------------------------------------------------------\n",
            "</s>Summarized description of the characteristics of the newly found flower species Jasminum Atrox. (Field guide of Botany, Hylis et al. 2022):\n",
            "3 Flower shape is pepulated white sepals surrounding to black lobes around petals with small black-grey anwils which cover their coloration well or as close when examined by means if spectrometer [1 2 | photo 1 4 67_1623964020558945]. It's\n",
            "\n",
            "----------------------------------------------------------------------------------------------------\n",
            "Jasminum Diamondi\n"
          ]
        },
        {
          "output_type": "stream",
          "name": "stderr",
          "text": [
            "\r372it [10:04,  1.61s/it]"
          ]
        },
        {
          "output_type": "stream",
          "name": "stdout",
          "text": [
            "----------------------------------------------------------------------------------------------------\n",
            "</s>Summarized description of the characteristics of the newly found flower species Jasminum Diamondi. (Field guide of Botany, Hylis et al. 2022):\n",
            "> Flower shape is pinnulated in early inflorescence with smooth lobes around petals which extend from stem edge. Late fall floral color appears yellow when not flowering as purple when this form was introduced near Philadelphia [5; 2 May 1942 via 4 Aug 1956-16 Nov 1973]\" (F) 3]. It's\n",
            "\n",
            "----------------------------------------------------------------------------------------------------\n",
            "Jasminum Purpurata\n"
          ]
        },
        {
          "output_type": "stream",
          "name": "stderr",
          "text": [
            "\r373it [10:05,  1.61s/it]"
          ]
        },
        {
          "output_type": "stream",
          "name": "stdout",
          "text": [
            "----------------------------------------------------------------------------------------------------\n",
            "</s>Summarized description of the characteristics of the newly found flower species Jasminum Purpurata. (Field guide of Botany, Hylis et al. 2022):\n",
            "> Flower shape is pinnulated in early inflorescence with spindle or other petiotroper and often more flattened above ground which disappears as it closes toward nightfall<br/>Flower colour yellow green to orange depending <span><span class=\"bl_period\"><b'>color varies amongst adults at different\n",
            "\n",
            "----------------------------------------------------------------------------------------------------\n",
            "Jasminum Terrificus\n"
          ]
        },
        {
          "output_type": "stream",
          "name": "stderr",
          "text": [
            "\r374it [10:07,  1.61s/it]"
          ]
        },
        {
          "output_type": "stream",
          "name": "stdout",
          "text": [
            "----------------------------------------------------------------------------------------------------\n",
            "</s>Summarized description of the characteristics of the newly found flower species Jasminum Terrificus. (Field guide of Botany, Hylis et al. 2022):\n",
            "> Flower shape is pinnulated 3rd main-lanceolate rather than petelloid flowers and often more sparse above ground compared with their fruit forms‡ as evidenced from this unique observation over almost 14 h on 1 st May between 22 30 & 05 40 after flowering in Pothys daviae near\n",
            "\n",
            "----------------------------------------------------------------------------------------------------\n",
            "Jasminum Darwinii\n"
          ]
        },
        {
          "output_type": "stream",
          "name": "stderr",
          "text": [
            "\r375it [10:09,  1.61s/it]"
          ]
        },
        {
          "output_type": "stream",
          "name": "stdout",
          "text": [
            "----------------------------------------------------------------------------------------------------\n",
            "</s>Summarized description of the characteristics of the newly found flower species Jasminum Darwinii. (Field guide of Botany, Hylis et al. 2022):\n",
            "> Flower shape is pinnulated 3rd main-lance lobation > Discalcula from upper edge = ophiothete from upper ventral seal - leaf angle : 2 degrees up to 4 on 1 st | < < 4 & 90 along its border in flairs (0-7 mm each\n",
            "\n",
            "----------------------------------------------------------------------------------------------------\n",
            "Malva Rubra\n"
          ]
        },
        {
          "output_type": "stream",
          "name": "stderr",
          "text": [
            "\r376it [10:10,  1.62s/it]"
          ]
        },
        {
          "output_type": "stream",
          "name": "stdout",
          "text": [
            "----------------------------------------------------------------------------------------------------\n",
            "</s>Summarized description of the characteristics of the newly found flower species Malva Rubra. (Field guide of Botany, Hylis et al. 2022):\n",
            "3 Flower shape is pinnulated 3 sepals 6 to 50 lobes 21 petals 1 small stamain. Fruit flesh smooth 5– 7 centimeters thick ovary up 12.22 square degrees wide 14 centripetyal and with 15 longitudinal sinuoid hairs 22 apically 16 ovale-centering glands 27\n",
            "\n",
            "----------------------------------------------------------------------------------------------------\n",
            "Malva Caerulea\n"
          ]
        },
        {
          "output_type": "stream",
          "name": "stderr",
          "text": [
            "\r377it [10:12,  1.61s/it]"
          ]
        },
        {
          "output_type": "stream",
          "name": "stdout",
          "text": [
            "----------------------------------------------------------------------------------------------------\n",
            "</s>Summarized description of the characteristics of the newly found flower species Malva Caerulea. (Field guide of Botany, Hylis et al. 2022):\n",
            "> Flower shape is asymmetric-one type and another with larger lobes around petals which extend from stem edge. A small round outer layer is more strongly branded than midrib on long slender stalk having five broad lobules on either stomatal position along its axis while lower two parts show 3 narrow lob\n",
            "\n",
            "----------------------------------------------------------------------------------------------------\n",
            "Malva Viridis\n"
          ]
        },
        {
          "output_type": "stream",
          "name": "stderr",
          "text": [
            "\r378it [10:14,  1.62s/it]"
          ]
        },
        {
          "output_type": "stream",
          "name": "stdout",
          "text": [
            "----------------------------------------------------------------------------------------------------\n",
            "</s>Summarized description of the characteristics of the newly found flower species Malva Viridis. (Field guide of Botany, Hylis et al. 2022):\n",
            "3 Flower shape is pinnulated 3 sepals 6 to 50 lobes 21 petals 1-2 segments 9 anweds 12-22 carpets 1 crown 5 pediume 2 long slender stalk 14 branches 30 short shoots on a pla...view more >mosaitic basal bower 3 tellecae\n",
            "\n",
            "----------------------------------------------------------------------------------------------------\n",
            "Malva Viridiflora\n"
          ]
        },
        {
          "output_type": "stream",
          "name": "stderr",
          "text": [
            "\r379it [10:15,  1.60s/it]"
          ]
        },
        {
          "output_type": "stream",
          "name": "stdout",
          "text": [
            "----------------------------------------------------------------------------------------------------\n",
            "</s>Summarized description of the characteristics of the newly found flower species Malva Viridiflora. (Field guide of Botany, Hylis et al. 2022):\n",
            "3 Flower shape is pinnulated 3 sepals 6 to 50 lobes 21 petals 1-2 segments 9 anweds 12-22 carpets 1 crowning pedition from stem with 30 segment 14 perichomes 2 andenoses 4 ray spiny hairs with 5 flairs (no teeth!)\n",
            "\n",
            "----------------------------------------------------------------------------------------------------\n",
            "Malva Alba\n"
          ]
        },
        {
          "output_type": "stream",
          "name": "stderr",
          "text": [
            "\r380it [10:17,  1.61s/it]"
          ]
        },
        {
          "output_type": "stream",
          "name": "stdout",
          "text": [
            "----------------------------------------------------------------------------------------------------\n",
            "</s>Summarized description of the characteristics of the newly found flower species Malva Alba. (Field guide of Botany, Hylis et al. 2022):\n",
            "3 Flower shape is pinnulated 3 sepals 6 to 50 lobes 21 petals 1 small stamain. Fruit flesh smooth 5– 7 centimeters thick ovary up 12.22 square degrees wide 14 centripetyal and with 15 longitudinal sinuoid hairs 22 apically 16 ovale-centering glands 27\n",
            "\n",
            "----------------------------------------------------------------------------------------------------\n",
            "Malva Rosea\n"
          ]
        },
        {
          "output_type": "stream",
          "name": "stderr",
          "text": [
            "\r381it [10:18,  1.62s/it]"
          ]
        },
        {
          "output_type": "stream",
          "name": "stdout",
          "text": [
            "----------------------------------------------------------------------------------------------------\n",
            "</s>Summarized description of the characteristics of the newly found flower species Malva Rosea. (Field guide of Botany, Hylis et al. 2022):\n",
            "3 Flower shape is pinnulated 3 sepals 6 to 50 lobes 21 petals 1 small stamain. Fruit flesh smooth 5– 7 centimeters thick ovary closed when hard by 2 seeds up 14 capsules 30¼\"H 22·1\". Dioeca in each cell bower of each capsule 15—\n",
            "\n",
            "----------------------------------------------------------------------------------------------------\n",
            "Malva Aurea\n"
          ]
        },
        {
          "output_type": "stream",
          "name": "stderr",
          "text": [
            "\r382it [10:20,  1.63s/it]"
          ]
        },
        {
          "output_type": "stream",
          "name": "stdout",
          "text": [
            "----------------------------------------------------------------------------------------------------\n",
            "</s>Summarized description of the characteristics of the newly found flower species Malva Aurea. (Field guide of Botany, Hylis et al. 2022):\n",
            "3 Flower shape is pinnulated 3 sepals 6 to 50 lobes 21 petals 1 small stamain. Fruit flesh smooth 5– 7 centimeters thick ovary up 12.22 square degrees wide 14 centripetyal and with 15 longitudinal sinuoid hairs 22 apically 16 ovale-centering glands 27\n",
            "\n",
            "----------------------------------------------------------------------------------------------------\n",
            "Malva Japonica\n"
          ]
        },
        {
          "output_type": "stream",
          "name": "stderr",
          "text": [
            "\r383it [10:22,  1.62s/it]"
          ]
        },
        {
          "output_type": "stream",
          "name": "stdout",
          "text": [
            "----------------------------------------------------------------------------------------------------\n",
            "</s>Summarized description of the characteristics of the newly found flower species Malva Japonica. (Field guide of Botany, Hylis et al. 2022):\n",
            "3 Flower shape is pepulated white sepals surrounding to black lobes around petals with small black-grey \"winking patches\"—noted more strongly if viewed out from angle without opening camera upfield [6; 2 and 33], yellow centre below lobe edged purple colour that spreads downwards—especially at tips rather\n",
            "\n",
            "----------------------------------------------------------------------------------------------------\n",
            "Malva Amazonensis\n"
          ]
        },
        {
          "output_type": "stream",
          "name": "stderr",
          "text": [
            "\r384it [10:23,  1.63s/it]"
          ]
        },
        {
          "output_type": "stream",
          "name": "stdout",
          "text": [
            "----------------------------------------------------------------------------------------------------\n",
            "</s>Summarized description of the characteristics of the newly found flower species Malva Amazonensis. (Field guide of Botany, Hylis et al. 2022):\n",
            "> Flower shape is convext-elongate cone covered with thymes or fesces which extend from stem edge. Fruit 1¼–�1” d diameter x 15mm long, yellow papyripter 2 on a plenipenny borer axis 5°E (Cavendia Lact\n",
            "\n",
            "----------------------------------------------------------------------------------------------------\n",
            "Malva Italicum\n"
          ]
        },
        {
          "output_type": "stream",
          "name": "stderr",
          "text": [
            "\r385it [10:25,  1.63s/it]"
          ]
        },
        {
          "output_type": "stream",
          "name": "stdout",
          "text": [
            "----------------------------------------------------------------------------------------------------\n",
            "</s>Summarized description of the characteristics of the newly found flower species Malva Italicum. (Field guide of Botany, Hylis et al. 2022):\n",
            "3 Flower shape is pinnulated 3 sepals 6 to 50 lobes 21 petals 1 small stamain. Fruit flesh smooth 5– 7 centimeters thick ovary up 12.22 square degrees wide 14 centripetyal and with 15 longitudinal sinuoid hairs 22 apically 16 ovale-centering glands 27\n",
            "\n",
            "----------------------------------------------------------------------------------------------------\n",
            "Malva Americana\n"
          ]
        },
        {
          "output_type": "stream",
          "name": "stderr",
          "text": [
            "\r386it [10:27,  1.63s/it]"
          ]
        },
        {
          "output_type": "stream",
          "name": "stdout",
          "text": [
            "----------------------------------------------------------------------------------------------------\n",
            "</s>Summarized description of the characteristics of the newly found flower species Malva Americana. (Field guide of Botany, Hylis et al. 2022):\n",
            "3 Flower shape is pinnulated 3 sepals 6 to 50 lobes 21 petals 1-2 segments 9 anweds 12-22 carpel 1 crown 5 pedium 15 labrusks up 14 perichomes 2 andenoses 4 pistilla 1 cup with sprig 6 bower wattle 30 seeds 0\n",
            "\n",
            "----------------------------------------------------------------------------------------------------\n",
            "Malva Sinensis\n"
          ]
        },
        {
          "output_type": "stream",
          "name": "stderr",
          "text": [
            "\r387it [10:28,  1.64s/it]"
          ]
        },
        {
          "output_type": "stream",
          "name": "stdout",
          "text": [
            "----------------------------------------------------------------------------------------------------\n",
            "</s>Summarized description of the characteristics of the newly found flower species Malva Sinensis. (Field guide of Botany, Hylis et al. 2022):\n",
            "3 Flower shape is pinnulated 3 sepals 6 to 50 lobes 21 petals 1-2 segments 9 anweds 12-22 carpel 1 crowning pedion 15 fruits 2 green plume capsules 30 seeds 2 red nasture markings 3 white dots with 5 spots (4) 3 corbela 4\n",
            "\n",
            "----------------------------------------------------------------------------------------------------\n",
            "Malva Germanica\n"
          ]
        },
        {
          "output_type": "stream",
          "name": "stderr",
          "text": [
            "\r388it [10:30,  1.64s/it]"
          ]
        },
        {
          "output_type": "stream",
          "name": "stdout",
          "text": [
            "----------------------------------------------------------------------------------------------------\n",
            "</s>Summarized description of the characteristics of the newly found flower species Malva Germanica. (Field guide of Botany, Hylis et al. 2022):\n",
            "3 Flower shape is pinnulated 3 sepals 6 to 50 lobes 21 petals 1-2 segments 9 anweds 12-22 carpel 1 crown 5 pedium 15 labrusks up 14 perichomes 2 andenoses 4 pistilla 1 cup with 5 flairs (no teeth!) 30 seeds 0\n",
            "\n",
            "----------------------------------------------------------------------------------------------------\n",
            "Malva Amakusaensis\n"
          ]
        },
        {
          "output_type": "stream",
          "name": "stderr",
          "text": [
            "\r389it [10:31,  1.62s/it]"
          ]
        },
        {
          "output_type": "stream",
          "name": "stdout",
          "text": [
            "----------------------------------------------------------------------------------------------------\n",
            "</s>Summarized description of the characteristics of the newly found flower species Malva Amakusaensis. (Field guide of Botany, Hylis et al. 2022):\n",
            "3 Flower shape is pepulated white sepals surrounding to black lobes around petals which extend from stem edge. A mixture if 5– 7 pink spots or stripes each separated from by 2 green bars running through them; stache with 15 yellowish dorsal sections along border in lower two parts - 3 at tips\n",
            "\n",
            "----------------------------------------------------------------------------------------------------\n",
            "Malva Anatoliensis\n"
          ]
        },
        {
          "output_type": "stream",
          "name": "stderr",
          "text": [
            "\r390it [10:33,  1.62s/it]"
          ]
        },
        {
          "output_type": "stream",
          "name": "stdout",
          "text": [
            "----------------------------------------------------------------------------------------------------\n",
            "</s>Summarized description of the characteristics of the newly found flower species Malva Anatoliensis. (Field guide of Botany, Hylis et al. 2022):\n",
            "3 Flower shape is asymmepistillate and has up to eight lateral inflorescence flabbers from axillary sepals having five large leaves with more veins or petunions between every 2 adjacent leaflets except where it bears long lobenlets 4 Leaf margin smooth along first 5 apothacians 3 Dummy\n",
            "\n",
            "----------------------------------------------------------------------------------------------------\n",
            "Malva Andalusiensis\n"
          ]
        },
        {
          "output_type": "stream",
          "name": "stderr",
          "text": [
            "\r391it [10:35,  1.61s/it]"
          ]
        },
        {
          "output_type": "stream",
          "name": "stdout",
          "text": [
            "----------------------------------------------------------------------------------------------------\n",
            "</s>Summarized description of the characteristics of the newly found flower species Malva Andalusiensis. (Field guide of Botany, Hylis et al. 2022):\n",
            "3 Flower shape is pinnulated 3 sepals 6 to 50 lobes 21 petals 1 small stamain. Fruit flesh smooth 5– 7 centimeters thick ovary up 12.22 square degrees wide 14 centripetyal and with 15 longitudinal cells 3-chokes 5 apothrodomelian 10\n",
            "\n",
            "----------------------------------------------------------------------------------------------------\n",
            "Malva Asturiensis\n"
          ]
        },
        {
          "output_type": "stream",
          "name": "stderr",
          "text": [
            "\r392it [10:36,  1.61s/it]"
          ]
        },
        {
          "output_type": "stream",
          "name": "stdout",
          "text": [
            "----------------------------------------------------------------------------------------------------\n",
            "</s>Summarized description of the characteristics of the newly found flower species Malva Asturiensis. (Field guide of Botany, Hylis et al. 2022):\n",
            "> Flower shape is asymmepistichate and composed up front part of inflorescence and a small head-bearing sepalobrextral with more developed sepsanthes from this opening, while later branches leave almost their entire portion attached over all open sides along other apical structures as umbel; there's\n",
            "\n",
            "----------------------------------------------------------------------------------------------------\n",
            "Malva Bengalensis\n"
          ]
        },
        {
          "output_type": "stream",
          "name": "stderr",
          "text": [
            "\r393it [10:38,  1.62s/it]"
          ]
        },
        {
          "output_type": "stream",
          "name": "stdout",
          "text": [
            "----------------------------------------------------------------------------------------------------\n",
            "</s>Summarized description of the characteristics of the newly found flower species Malva Bengalensis. (Field guide of Botany, Hylis et al. 2022):\n",
            "3 Flower shape is pinnulated 3 sepals 6 to 50 lobes 21 petals 1 small stamain. Fruit flesh smooth 5– 7 centimeters thick ovary up 12.22 square degrees wide 14 centripetyal and with 15 longitudinal sinuoid hairs 22 apically 16 ovale-centering glands 27\n",
            "\n",
            "----------------------------------------------------------------------------------------------------\n",
            "Malva Canariensis\n"
          ]
        },
        {
          "output_type": "stream",
          "name": "stderr",
          "text": [
            "\r394it [10:40,  1.62s/it]"
          ]
        },
        {
          "output_type": "stream",
          "name": "stdout",
          "text": [
            "----------------------------------------------------------------------------------------------------\n",
            "</s>Summarized description of the characteristics of the newly found flower species Malva Canariensis. (Field guide of Botany, Hylis et al. 2022):\n",
            "3 Flower shape is pepulated white sepals surrounding to darker pink lateral fusciparenta from upper edge. A small petiole is more strongly branded than laminary with very yellow lobs on each end and a larger yellowish tector along border in floretlet region; there's\n",
            "\n",
            "----------------------------------------------------------------------------------------------------\n",
            "Malva Pulcherrima\n"
          ]
        },
        {
          "output_type": "stream",
          "name": "stderr",
          "text": [
            "\r395it [10:41,  1.61s/it]"
          ]
        },
        {
          "output_type": "stream",
          "name": "stdout",
          "text": [
            "----------------------------------------------------------------------------------------------------\n",
            "</s>Summarized description of the characteristics of the newly found flower species Malva Pulcherrima. (Field guide of Botany, Hylis et al. 2022):\n",
            "3 Flower shape is pinnulated 3 sepals 6 to 50 lobes 21 petals 1 small stamain. Fruit flesh smooth 5– 7 centimeters thick ovary closed when hard by 2 seeds up 14 capsules 30¼\"H 22·1\". Dioeca pulverifrons - yellow colour near\n",
            "\n",
            "----------------------------------------------------------------------------------------------------\n",
            "Malva Atrox\n"
          ]
        },
        {
          "output_type": "stream",
          "name": "stderr",
          "text": [
            "\r396it [10:43,  1.62s/it]"
          ]
        },
        {
          "output_type": "stream",
          "name": "stdout",
          "text": [
            "----------------------------------------------------------------------------------------------------\n",
            "</s>Summarized description of the characteristics of the newly found flower species Malva Atrox. (Field guide of Botany, Hylis et al. 2022):\n",
            "3 petite to full pink-white sepals covered with darker pink veins around a black central ring from stem edge. A small round outer eggless periapsiliform leaf spot situated 2–8 png on 1 st and between 15%-52% D within plant 5%, 6-, 7-7s1a\n",
            "\n",
            "----------------------------------------------------------------------------------------------------\n",
            "Malva Diamondi\n"
          ]
        },
        {
          "output_type": "stream",
          "name": "stderr",
          "text": [
            "\r397it [10:44,  1.63s/it]"
          ]
        },
        {
          "output_type": "stream",
          "name": "stdout",
          "text": [
            "----------------------------------------------------------------------------------------------------\n",
            "</s>Summarized description of the characteristics of the newly found flower species Malva Diamondi. (Field guide of Botany, Hylis et al. 2022):\n",
            "> Flower shape is asymmetric-elongate and has up to eight lateral inflorescence flabbers from axillary branches above ground which hold their coloration over night as new leaf emerges.<3\\8> Length on each end exceeds a fingerspan.</7[16]>> Pairs o(L'inoxur\n",
            "\n",
            "----------------------------------------------------------------------------------------------------\n",
            "Malva Purpurata\n"
          ]
        },
        {
          "output_type": "stream",
          "name": "stderr",
          "text": [
            "\r398it [10:46,  1.63s/it]"
          ]
        },
        {
          "output_type": "stream",
          "name": "stdout",
          "text": [
            "----------------------------------------------------------------------------------------------------\n",
            "</s>Summarized description of the characteristics of the newly found flower species Malva Purpurata. (Field guide of Botany, Hylis et al. 2022):\n",
            "3 Flower shape is pinnulated 3 sepals 6 to 50 lobes 21 petals 1 small stamain. Fruit flesh smooth 5– 7 centimeters thick ovary up 12.22 square degrees wide 14 centripetyal and with 15 longitudinal cells 3-chokes 5 apothrodomelian 10 seeds\n",
            "\n",
            "----------------------------------------------------------------------------------------------------\n",
            "Malva Terrificus\n"
          ]
        },
        {
          "output_type": "stream",
          "name": "stderr",
          "text": [
            "\r399it [10:48,  1.65s/it]"
          ]
        },
        {
          "output_type": "stream",
          "name": "stdout",
          "text": [
            "----------------------------------------------------------------------------------------------------\n",
            "</s>Summarized description of the characteristics of the newly found flower species Malva Terrificus. (Field guide of Botany, Hylis et al. 2022):\n",
            "3 Flower shape is pinnulated 3 sepals 6 to 50 lobes 21 petals 1 small stamain. Fruit flesh smooth 5– 7 centimeters thick ovary up 12.22 square degrees wide 14 centripetyal and with 15 longitudinal cells 3-chokes 5 white chutneys 3 corales 2\n",
            "\n",
            "----------------------------------------------------------------------------------------------------\n",
            "Malva Darwinii\n"
          ]
        },
        {
          "output_type": "stream",
          "name": "stderr",
          "text": [
            "\r400it [10:50,  1.69s/it]"
          ]
        },
        {
          "output_type": "stream",
          "name": "stdout",
          "text": [
            "----------------------------------------------------------------------------------------------------\n",
            "</s>Summarized description of the characteristics of the newly found flower species Malva Darwinii. (Field guide of Botany, Hylis et al. 2022):\n",
            "> Flower shape is asymmetric-one type and another hybrid style>> Different inflorescence/form combination depending on site. A mixtureof 5– 7 forms exist at same soil.>> Leaf form with very wide angle to it; 2 lobes per node.-- 3-leaf plant>> Pairs ocher yellow tellefern\n",
            "\n",
            "----------------------------------------------------------------------------------------------------\n",
            "Gardenia Rubra\n"
          ]
        },
        {
          "output_type": "stream",
          "name": "stderr",
          "text": [
            "\r401it [10:51,  1.68s/it]"
          ]
        },
        {
          "output_type": "stream",
          "name": "stdout",
          "text": [
            "----------------------------------------------------------------------------------------------------\n",
            "</s>Summarized description of the characteristics of the newly found flower species Gardenia Rubra. (Field guide of Botany, Hylis et al. 2022):\n",
            "3 Flower shape is pepulated white sepals surrounding to black lobes around petals a small and narrow cupular atobola 5– 7 centimeters long ovary having 12 leaflets without seeds, yellow tip 4 on each 2 on either an angle 6 3-cm away from apothrodomelian linea 15\n",
            "\n",
            "----------------------------------------------------------------------------------------------------\n",
            "Gardenia Caerulea\n"
          ]
        },
        {
          "output_type": "stream",
          "name": "stderr",
          "text": [
            "\r402it [10:53,  1.65s/it]"
          ]
        },
        {
          "output_type": "stream",
          "name": "stdout",
          "text": [
            "----------------------------------------------------------------------------------------------------\n",
            "</s>Summarized description of the characteristics of the newly found flower species Gardenia Caerulea. (Field guide of Botany, Hylis et al. 2022):\n",
            "3 Flower shape is pepulated white sepals surrounding to black lobes around petals which extend from stem more than at ground level 5– 7 centimeters reaching their bases up till 15mm with green fringed branches spreading; 2 stems out grow 4 thick 3-chun in separate clouts extending further each 30\n",
            "\n",
            "----------------------------------------------------------------------------------------------------\n",
            "Gardenia Viridis\n"
          ]
        },
        {
          "output_type": "stream",
          "name": "stderr",
          "text": [
            "\r403it [10:54,  1.65s/it]"
          ]
        },
        {
          "output_type": "stream",
          "name": "stdout",
          "text": [
            "----------------------------------------------------------------------------------------------------\n",
            "</s>Summarized description of the characteristics of the newly found flower species Gardenia Viridis. (Field guide of Botany, Hylis et al. 2022):\n",
            "3 Flower shape is pepulated white sepals surrounding to black lobes around petals with small black-grey \"winking patches\"—noted more strongly if viewed close up from this angle, earthed through them; 2 lobicles larger yellowish but less noticeable ones —on each bower side with two narrow central\n",
            "\n",
            "----------------------------------------------------------------------------------------------------\n",
            "Gardenia Viridiflora\n"
          ]
        },
        {
          "output_type": "stream",
          "name": "stderr",
          "text": [
            "\r404it [10:56,  1.63s/it]"
          ]
        },
        {
          "output_type": "stream",
          "name": "stdout",
          "text": [
            "----------------------------------------------------------------------------------------------------\n",
            "</s>Summarized description of the characteristics of the newly found flower species Gardenia Viridiflora. (Field guide of Botany, Hylis et al. 2022):\n",
            "3 Flower shape is pepulated white sepals surrounding to black lobes around petals with small black-grey \"winking patches\"—noted more strongly if viewed close up from this angle, earthed through them; 2 lobicles larger yellowish but less noticeable ones —towards their own ax\n",
            "\n",
            "----------------------------------------------------------------------------------------------------\n",
            "Gardenia Alba\n"
          ]
        },
        {
          "output_type": "stream",
          "name": "stderr",
          "text": [
            "\r405it [10:58,  1.63s/it]"
          ]
        },
        {
          "output_type": "stream",
          "name": "stdout",
          "text": [
            "----------------------------------------------------------------------------------------------------\n",
            "</s>Summarized description of the characteristics of the newly found flower species Gardenia Alba. (Field guide of Botany, Hylis et al. 2022):\n",
            "3 Flower shape is pepulated white sepals surrounding to black lobes around petals with small black-grey \"winking patches\"—noted more strongly if viewed close up from this angle, earthed through them; 2 lobicles larger overall & wider along center line —tow's their own point near each corner\n",
            "\n",
            "----------------------------------------------------------------------------------------------------\n",
            "Gardenia Rosea\n"
          ]
        },
        {
          "output_type": "stream",
          "name": "stderr",
          "text": [
            "\r406it [10:59,  1.64s/it]"
          ]
        },
        {
          "output_type": "stream",
          "name": "stdout",
          "text": [
            "----------------------------------------------------------------------------------------------------\n",
            "</s>Summarized description of the characteristics of the newly found flower species Gardenia Rosea. (Field guide of Botany, Hylis et al. 2022):\n",
            "3 Flower shape is pepulated white sepals surrounding to black pink or fusciparent flowers and often mixed shades purple violet petiole coloration are unique as each leaf from stem with greenish tint up it; 2 3 pairs stomatal position along its axis in opposite fashion so their appearance at different stages change\n",
            "\n",
            "----------------------------------------------------------------------------------------------------\n",
            "Gardenia Aurea\n"
          ]
        },
        {
          "output_type": "stream",
          "name": "stderr",
          "text": [
            "\r407it [11:01,  1.64s/it]"
          ]
        },
        {
          "output_type": "stream",
          "name": "stdout",
          "text": [
            "----------------------------------------------------------------------------------------------------\n",
            "</s>Summarized description of the characteristics of the newly found flower species Gardenia Aurea. (Field guide of Botany, Hylis et al. 2022):\n",
            "3 Flower shape is pepulated white sepals surrounding to black lobes around petals with small black-grey \"winking patches\"—noted more strongly if viewed close up from this angle, earthed through them; 2 lobicles larger yellowish but less noticeable ones —on each bower side with two narrow central\n",
            "\n",
            "----------------------------------------------------------------------------------------------------\n",
            "Gardenia Japonica\n"
          ]
        },
        {
          "output_type": "stream",
          "name": "stderr",
          "text": [
            "\r408it [11:03,  1.63s/it]"
          ]
        },
        {
          "output_type": "stream",
          "name": "stdout",
          "text": [
            "----------------------------------------------------------------------------------------------------\n",
            "</s>Summarized description of the characteristics of the newly found flower species Gardenia Japonica. (Field guide of Botany, Hylis et al. 2022):\n",
            "3 Flower shape is pepulated white sepals surrounding to black pink bell part; 3 inflature from stem 5.1\" long 11cm across when not flowering as green leaf shaped segments with very yellow lobs on 1 2\" wide centers 4 6 3-16 calendered floretlet wattle tips each\n",
            "\n",
            "----------------------------------------------------------------------------------------------------\n",
            "Gardenia Amazonensis\n"
          ]
        },
        {
          "output_type": "stream",
          "name": "stderr",
          "text": [
            "\r409it [11:04,  1.64s/it]"
          ]
        },
        {
          "output_type": "stream",
          "name": "stdout",
          "text": [
            "----------------------------------------------------------------------------------------------------\n",
            "</s>Summarized description of the characteristics of the newly found flower species Gardenia Amazonensis. (Field guide of Botany, Hylis et al. 2022):\n",
            "3 Flower shape is pinnulated 3 sepals 6 to 50 lobes 21 petals 1 small stamain. Fruit flesh smooth 5– 7 centimeters thick ovary closed when hard by 2 seeds up 14 capsules 30¼ — 33 days 4 weeks open after maturity with light spots 16ⁱ-29 × 27 mic\n",
            "\n",
            "----------------------------------------------------------------------------------------------------\n",
            "Gardenia Italicum\n"
          ]
        },
        {
          "output_type": "stream",
          "name": "stderr",
          "text": [
            "\r410it [11:06,  1.64s/it]"
          ]
        },
        {
          "output_type": "stream",
          "name": "stdout",
          "text": [
            "----------------------------------------------------------------------------------------------------\n",
            "</s>Summarized description of the characteristics of the newly found flower species Gardenia Italicum. (Field guide of Botany, Hylis et al. 2022):\n",
            "3 Flower shape is pepulated white sepals surrounding to black lobes around petals with small black-grey \"winking patches\"—noted more strongly if viewed close up from this angle, earthed through them; 2 lobicles larger yellowish but less noticeable ones —on each bower side with two narrow central\n",
            "\n",
            "----------------------------------------------------------------------------------------------------\n",
            "Gardenia Americana\n"
          ]
        },
        {
          "output_type": "stream",
          "name": "stderr",
          "text": [
            "\r411it [11:08,  1.66s/it]"
          ]
        },
        {
          "output_type": "stream",
          "name": "stdout",
          "text": [
            "----------------------------------------------------------------------------------------------------\n",
            "</s>Summarized description of the characteristics of the newly found flower species Gardenia Americana. (Field guide of Botany, Hylis et al. 2022):\n",
            "3 Flower shape is pepulated white sepals surrounding to black lobes around petals with small black-grey \"winking patches\"—noted more strongly if viewed close up from this angle, earthed through them; 2 lobicles larger yellowish but less noticeable ones —on each bower side with two narrow central\n",
            "\n",
            "----------------------------------------------------------------------------------------------------\n",
            "Gardenia Sinensis\n"
          ]
        },
        {
          "output_type": "stream",
          "name": "stderr",
          "text": [
            "\r412it [11:09,  1.71s/it]"
          ]
        },
        {
          "output_type": "stream",
          "name": "stdout",
          "text": [
            "----------------------------------------------------------------------------------------------------\n",
            "</s>Summarized description of the characteristics of the newly found flower species Gardenia Sinensis. (Field guide of Botany, Hylis et al. 2022):\n",
            "3 Flower shape is pepulated white sepals surrounding to black lobes around petals with small black-grey \"winking patches\"—noted more strongly if viewed close up from this angle, earthed through them; 2 lobicles larger yellowish but less noticeable ones —on each bower side with two narrow central\n",
            "\n",
            "----------------------------------------------------------------------------------------------------\n",
            "Gardenia Germanica\n"
          ]
        },
        {
          "output_type": "stream",
          "name": "stderr",
          "text": [
            "\r413it [11:11,  1.69s/it]"
          ]
        },
        {
          "output_type": "stream",
          "name": "stdout",
          "text": [
            "----------------------------------------------------------------------------------------------------\n",
            "</s>Summarized description of the characteristics of the newly found flower species Gardenia Germanica. (Field guide of Botany, Hylis et al. 2022):\n",
            "3 Flower shape is pepulated white sepals surrounding to black lobes around petals with small black-grey anwils which cover their coloration more or less close when examined by means very near green spots on each end and between these yellowish spittle dots with 5 ovules also attached are included within narrow central\n",
            "\n",
            "----------------------------------------------------------------------------------------------------\n",
            "Gardenia Amakusaensis\n"
          ]
        },
        {
          "output_type": "stream",
          "name": "stderr",
          "text": [
            "\r414it [11:13,  1.66s/it]"
          ]
        },
        {
          "output_type": "stream",
          "name": "stdout",
          "text": [
            "----------------------------------------------------------------------------------------------------\n",
            "</s>Summarized description of the characteristics of the newly found flower species Gardenia Amakusaensis. (Field guide of Botany, Hylis et al. 2022):\n",
            "3 Flower shape is pepulated white sepals surrounding to black lobes around petals with small black-grey anwils which cover their coloration more or less close when examined by means very near green spots on each end and between these yellowish spittle dots with light spots; also red wattle tips\n",
            "\n",
            "----------------------------------------------------------------------------------------------------\n",
            "Gardenia Anatoliensis\n"
          ]
        },
        {
          "output_type": "stream",
          "name": "stderr",
          "text": [
            "\r415it [11:14,  1.64s/it]"
          ]
        },
        {
          "output_type": "stream",
          "name": "stdout",
          "text": [
            "----------------------------------------------------------------------------------------------------\n",
            "</s>Summarized description of the characteristics of the newly found flower species Gardenia Anatoliensis. (Field guide of Botany, Hylis et al. 2022):\n",
            "3 Flower shape is pepulated white sepals surrounding to black lobes around petals with small black-grey \"winking patches\"—noted more strongly if viewed close up from this angle, earthed through them; 2 lobicles larger overall & wider along center line —towards their own axill\n",
            "\n",
            "----------------------------------------------------------------------------------------------------\n",
            "Gardenia Andalusiensis\n"
          ]
        },
        {
          "output_type": "stream",
          "name": "stderr",
          "text": [
            "\r416it [11:16,  1.63s/it]"
          ]
        },
        {
          "output_type": "stream",
          "name": "stdout",
          "text": [
            "----------------------------------------------------------------------------------------------------\n",
            "</s>Summarized description of the characteristics of the newly found flower species Gardenia Andalusiensis. (Field guide of Botany, Hylis et al. 2022):\n",
            "3 Flower shape is pepulated white sepals surrounding to black lobes around petals with small black-grey anwils which cover their coloration more or less close when examined by means very near green spots on each end and between these yellowish eyes along its border 5 Spare parts - 3 at tips\n",
            "\n",
            "----------------------------------------------------------------------------------------------------\n",
            "Gardenia Asturiensis\n"
          ]
        },
        {
          "output_type": "stream",
          "name": "stderr",
          "text": [
            "\r417it [11:17,  1.63s/it]"
          ]
        },
        {
          "output_type": "stream",
          "name": "stdout",
          "text": [
            "----------------------------------------------------------------------------------------------------\n",
            "</s>Summarized description of the characteristics of the newly found flower species Gardenia Asturiensis. (Field guide of Botany, Hylis et al. 2022):\n",
            "> Flower shape is pinnulated in early inflorescence with spindle or other petiotroper and often more flattened above ground which appears as large spherical ball at tip - usually around 50 mm, up to 100 MM depending by varium form  From our specimen \"Ochsler's Aardvlieta\n",
            "\n",
            "----------------------------------------------------------------------------------------------------\n",
            "Gardenia Bengalensis\n"
          ]
        },
        {
          "output_type": "stream",
          "name": "stderr",
          "text": [
            "\r418it [11:19,  1.63s/it]"
          ]
        },
        {
          "output_type": "stream",
          "name": "stdout",
          "text": [
            "----------------------------------------------------------------------------------------------------\n",
            "</s>Summarized description of the characteristics of the newly found flower species Gardenia Bengalensis. (Field guide of Botany, Hylis et al. 2022):\n",
            "> Flower shape is pinnulated in early inflorescence with spindle or other petiotroper and often more flattened above ground which disappears as it closes toward nightfall< In this form typical, almost unique type for tropical flora on east <3 hours inland along rivers & south flora area - may be difficult/limited\n",
            "\n",
            "----------------------------------------------------------------------------------------------------\n",
            "Gardenia Canariensis\n"
          ]
        },
        {
          "output_type": "stream",
          "name": "stderr",
          "text": [
            "\r419it [11:21,  1.63s/it]"
          ]
        },
        {
          "output_type": "stream",
          "name": "stdout",
          "text": [
            "----------------------------------------------------------------------------------------------------\n",
            "</s>Summarized description of the characteristics of the newly found flower species Gardenia Canariensis. (Field guide of Botany, Hylis et al. 2022):\n",
            "3 Flower shape is pepulated white sepals surrounding to black lobes around petals with small black-grey anwils which cover their coloration more or less close when examined by means very near green spots on each end and between these yellowish spittle dots with light spots; also red wattle tips appear\n",
            "\n",
            "----------------------------------------------------------------------------------------------------\n",
            "Gardenia Pulcherrima\n"
          ]
        },
        {
          "output_type": "stream",
          "name": "stderr",
          "text": [
            "\r420it [11:22,  1.62s/it]"
          ]
        },
        {
          "output_type": "stream",
          "name": "stdout",
          "text": [
            "----------------------------------------------------------------------------------------------------\n",
            "</s>Summarized description of the characteristics of the newly found flower species Gardenia Pulcherrima. (Field guide of Botany, Hylis et al. 2022):\n",
            "3 Flower shape is pepulated white sepals surrounding to black lobes around petals which extend from stem more than at ground level 5– 7 centimeters reaching 60 d(+) long by 2,8 mm wide on 1 st and not larger 4 cm 3-cm with diameter that approaches as low 30% within\n",
            "\n",
            "----------------------------------------------------------------------------------------------------\n",
            "Gardenia Atrox\n"
          ]
        },
        {
          "output_type": "stream",
          "name": "stderr",
          "text": [
            "\r421it [11:24,  1.62s/it]"
          ]
        },
        {
          "output_type": "stream",
          "name": "stdout",
          "text": [
            "----------------------------------------------------------------------------------------------------\n",
            "</s>Summarized description of the characteristics of the newly found flower species Gardenia Atrox. (Field guide of Botany, Hylis et al. 2022):\n",
            "3 Flower shape is pepulated white sepals surrounding to black lobes around petals with small black-grey anwils which cover their coloration more or less close when examined by means very near green spots on each end and between these yellowish spittle dots with 5 ovules also attached are included within narrow central\n",
            "\n",
            "----------------------------------------------------------------------------------------------------\n",
            "Gardenia Diamondi\n"
          ]
        },
        {
          "output_type": "stream",
          "name": "stderr",
          "text": [
            "\r422it [11:26,  1.63s/it]"
          ]
        },
        {
          "output_type": "stream",
          "name": "stdout",
          "text": [
            "----------------------------------------------------------------------------------------------------\n",
            "</s>Summarized description of the characteristics of the newly found flower species Gardenia Diamondi. (Field guide of Botany, Hylis et al. 2022):\n",
            "> Flower shape is pinnulated in early inflorescence with later bloom as part a flabefolk-bearing rhamphobaeic pedum...It bears fragrance when new on branches over open water [lips without buds yet attached](raspberry[pupils](Rut) yellow colour near the apex\n",
            "\n",
            "----------------------------------------------------------------------------------------------------\n",
            "Gardenia Purpurata\n"
          ]
        },
        {
          "output_type": "stream",
          "name": "stderr",
          "text": [
            "\r423it [11:27,  1.63s/it]"
          ]
        },
        {
          "output_type": "stream",
          "name": "stdout",
          "text": [
            "----------------------------------------------------------------------------------------------------\n",
            "</s>Summarized description of the characteristics of the newly found flower species Gardenia Purpurata. (Field guide of Botany, Hylis et al. 2022):\n",
            "3 Flower shape is pepulated white sepals surrounding to black lobes around petals with small black-grey \"winking patches\"—noted more strongly if viewed close up from this angle, earthed through them; 2 lobicles larger overall & wider along center line —towards their own axillament\n",
            "\n",
            "----------------------------------------------------------------------------------------------------\n",
            "Gardenia Terrificus\n"
          ]
        },
        {
          "output_type": "stream",
          "name": "stderr",
          "text": [
            "\r424it [11:29,  1.62s/it]"
          ]
        },
        {
          "output_type": "stream",
          "name": "stdout",
          "text": [
            "----------------------------------------------------------------------------------------------------\n",
            "</s>Summarized description of the characteristics of the newly found flower species Gardenia Terrificus. (Field guide of Botany, Hylis et al. 2022):\n",
            "3 Flower shape is pepulated white sepals surrounding to black lobes around petals with small black-grey \"winking patches\"—noted more strongly if viewed close up from this angle, earthed through them; 2 lobicles larger overall & wider along center line —tow's their own 3 sides rather\n",
            "\n",
            "----------------------------------------------------------------------------------------------------\n",
            "Gardenia Darwinii\n"
          ]
        },
        {
          "output_type": "stream",
          "name": "stderr",
          "text": [
            "\r425it [11:30,  1.63s/it]"
          ]
        },
        {
          "output_type": "stream",
          "name": "stdout",
          "text": [
            "----------------------------------------------------------------------------------------------------\n",
            "</s>Summarized description of the characteristics of the newly found flower species Gardenia Darwinii. (Field guide of Botany, Hylis et al. 2022):\n",
            "3 Flower shape is pepulated white sepals surrounding to black lobes around petals with small black-grey \"winking patches\"—noted more strongly if viewed close up from this angle, earthed through the ground 2\" out beyond yellowish tine along border 5\", 6—no labelates or similar\n",
            "\n",
            "----------------------------------------------------------------------------------------------------\n",
            "Petunia Rubra\n"
          ]
        },
        {
          "output_type": "stream",
          "name": "stderr",
          "text": [
            "\r426it [11:32,  1.63s/it]"
          ]
        },
        {
          "output_type": "stream",
          "name": "stdout",
          "text": [
            "----------------------------------------------------------------------------------------------------\n",
            "</s>Summarized description of the characteristics of the newly found flower species Petunia Rubra. (Field guide of Botany, Hylis et al. 2022):\n",
            "Petaniform is rare/distichate inflorescence with medium pink bell part; subpalms and segments more robustly soar above their upper ends toward or towards pedion from stem as opposed to papyripteral lobicles projecting over all 3 sides along axis in Pothos petavites where each separate\n",
            "\n",
            "----------------------------------------------------------------------------------------------------\n",
            "Petunia Caerulea\n"
          ]
        },
        {
          "output_type": "stream",
          "name": "stderr",
          "text": [
            "\r427it [11:34,  1.62s/it]"
          ]
        },
        {
          "output_type": "stream",
          "name": "stdout",
          "text": [
            "----------------------------------------------------------------------------------------------------\n",
            "</s>Summarized description of the characteristics of the newly found flower species Petunia Caerulea. (Field guide of Botany, Hylis et al. 2022):\n",
            "Petaniform is subgroups-Abv, with medium pink bell to petals which extend from stem edge. A small round dark rose coloration dominates ovary - leaf spot on lowermost stalk and many other similar places on a larger yellowish stalk along center row in cuplets also red-orange tips\n",
            "\n",
            "----------------------------------------------------------------------------------------------------\n",
            "Petunia Viridis\n"
          ]
        },
        {
          "output_type": "stream",
          "name": "stderr",
          "text": [
            "\r428it [11:35,  1.63s/it]"
          ]
        },
        {
          "output_type": "stream",
          "name": "stdout",
          "text": [
            "----------------------------------------------------------------------------------------------------\n",
            "</s>Summarized description of the characteristics of the newly found flower species Petunia Viridis. (Field guide of Botany, Hylis et al. 2022):\n",
            "3 Flower shape is pepulated white sepals surrounding to black lobes around peticular center where staining/pyrrification developed 5– 7 centimeters off sepsite leaf. In 2, yellow starfish on 1‚15 centers 4 cm out along edges with light spots 6 oer 3' sides each 15\n",
            "\n",
            "----------------------------------------------------------------------------------------------------\n",
            "Petunia Viridiflora\n"
          ]
        },
        {
          "output_type": "stream",
          "name": "stderr",
          "text": [
            "\r429it [11:37,  1.61s/it]"
          ]
        },
        {
          "output_type": "stream",
          "name": "stdout",
          "text": [
            "----------------------------------------------------------------------------------------------------\n",
            "</s>Summarized description of the characteristics of the newly found flower species Petunia Viridiflora. (Field guide of Botany, Hylis et al. 2022):\n",
            "> Flower shape is petus-dominated  Thats correct it may refer to pudenda flowers from Pupinaes or Pleonaea\n",
            "So not specifically diana xe 2g2g but close based on their general traits i don't find any similarities aside in terms if flowering location: either\n",
            "\n",
            "----------------------------------------------------------------------------------------------------\n",
            "Petunia Alba\n"
          ]
        },
        {
          "output_type": "stream",
          "name": "stderr",
          "text": [
            "\r430it [11:38,  1.62s/it]"
          ]
        },
        {
          "output_type": "stream",
          "name": "stdout",
          "text": [
            "----------------------------------------------------------------------------------------------------\n",
            "</s>Summarized description of the characteristics of the newly found flower species Petunia Alba. (Field guide of Botany, Hylis et al. 2022):\n",
            "Petaniform is subgroups included in Acanthum to become part of this same generoid classification from Pederina and Pemericaea being more strongly branded than their neighbors by Dyson & Rau 2001; some morphoses form close parallels but have little visual recognition due partially also related structural similarity resulting even within\n",
            "\n",
            "----------------------------------------------------------------------------------------------------\n",
            "Petunia Rosea\n"
          ]
        },
        {
          "output_type": "stream",
          "name": "stderr",
          "text": [
            "\r431it [11:40,  1.63s/it]"
          ]
        },
        {
          "output_type": "stream",
          "name": "stdout",
          "text": [
            "----------------------------------------------------------------------------------------------------\n",
            "</s>Summarized description of the characteristics of the newly found flower species Petunia Rosea. (Field guide of Botany, Hylis et al. 2022):\n",
            "> Flower shape is pinnulated 3rd main-lance lobation > Discalculous staining/petiolescae 5– 7 per plant or asymmetrcoders over whole length up to 14 long on a wide angle basis where 1 stamen divides 6 others - usually with 10 seeds >\n",
            "\n",
            "----------------------------------------------------------------------------------------------------\n",
            "Petunia Aurea\n"
          ]
        },
        {
          "output_type": "stream",
          "name": "stderr",
          "text": [
            "\r432it [11:42,  1.66s/it]"
          ]
        },
        {
          "output_type": "stream",
          "name": "stdout",
          "text": [
            "----------------------------------------------------------------------------------------------------\n",
            "</s>Summarized description of the characteristics of the newly found flower species Petunia Aurea. (Field guide of Botany, Hylis et al. 2022):\n",
            "Petaniform is rare/distichate inflorescence with medium pink bell part; subpalms and segments more robustly soar above their upper ends toward or as close unto leaves by 2 degrees up angle [6; 10 to 33 days flowering time][4]); calyxs each bower 3' × 27\"\n",
            "\n",
            "----------------------------------------------------------------------------------------------------\n",
            "Petunia Japonica\n"
          ]
        },
        {
          "output_type": "stream",
          "name": "stderr",
          "text": [
            "\r433it [11:44,  1.70s/it]"
          ]
        },
        {
          "output_type": "stream",
          "name": "stdout",
          "text": [
            "----------------------------------------------------------------------------------------------------\n",
            "</s>Summarized description of the characteristics of the newly found flower species Petunia Japonica. (Field guide of Botany, Hylis et al. 2022):\n",
            "> Flower shape is pepulated white sepals surrounding creamy filious creamish petals with small black-grey \"winking patches\"—noted more strongly east asymmetrcantly down south in Singapore [6; 2 and 33], generally nearer 3—approx 5 μM (0-7 nanometers\n",
            "\n",
            "----------------------------------------------------------------------------------------------------\n",
            "Petunia Amazonensis\n"
          ]
        },
        {
          "output_type": "stream",
          "name": "stderr",
          "text": [
            "\r434it [11:45,  1.68s/it]"
          ]
        },
        {
          "output_type": "stream",
          "name": "stdout",
          "text": [
            "----------------------------------------------------------------------------------------------------\n",
            "</s>Summarized description of the characteristics of the newly found flower species Petunia Amazonensis. (Field guide of Botany, Hylis et al. 2022):\n",
            "3 Flower shape is pepulated white sepals surrounding to black lobes around peticular center where staining/pyrrification developed 5– 7 centimeters off sepsite leaf. In 2, yellow starfish on 1‚15 centers 4 cm out along edges with light spots 6 oer 3' sides each 0\n",
            "\n",
            "----------------------------------------------------------------------------------------------------\n",
            "Petunia Italicum\n"
          ]
        },
        {
          "output_type": "stream",
          "name": "stderr",
          "text": [
            "\r435it [11:47,  1.67s/it]"
          ]
        },
        {
          "output_type": "stream",
          "name": "stdout",
          "text": [
            "----------------------------------------------------------------------------------------------------\n",
            "</s>Summarized description of the characteristics of the newly found flower species Petunia Italicum. (Field guide of Botany, Hylis et al. 2022):\n",
            "Petaniform is monomer-dominated type family composed up front part of inflorescence but consists mainly from one stem. As result petiole is more compressed or twisted than leaf leaflets by 2 degrees while pines on each end and between stomatal sac provide better stabilization in floretletop state where the central\n",
            "\n",
            "----------------------------------------------------------------------------------------------------\n",
            "Petunia Americana\n"
          ]
        },
        {
          "output_type": "stream",
          "name": "stderr",
          "text": [
            "\r436it [11:49,  1.66s/it]"
          ]
        },
        {
          "output_type": "stream",
          "name": "stdout",
          "text": [
            "----------------------------------------------------------------------------------------------------\n",
            "</s>Summarized description of the characteristics of the newly found flower species Petunia Americana. (Field guide of Botany, Hylis et al. 2022):\n",
            "3 Flower shape is pepulated white sepals surrounding to black lobes around peticular center where staining/pyrrification developed 5– 7 centimeters off sepsite leaf. In 2, yellow starfish on 1‚15 centers 4 cm out along edges with light spots 6 oer 3' sides each 0\n",
            "\n",
            "----------------------------------------------------------------------------------------------------\n",
            "Petunia Sinensis\n"
          ]
        },
        {
          "output_type": "stream",
          "name": "stderr",
          "text": [
            "\r437it [11:50,  1.66s/it]"
          ]
        },
        {
          "output_type": "stream",
          "name": "stdout",
          "text": [
            "----------------------------------------------------------------------------------------------------\n",
            "</s>Summarized description of the characteristics of the newly found flower species Petunia Sinensis. (Field guide of Botany, Hylis et al. 2022):\n",
            "3 Flower shape is pepulated white sepals surrounding to black lobes around peticular center where staining/pyrrification developed 5– 7 centimeters off sepealy disc from stem with green fringed branches spreading; 2 lobicles form 4 cm out sides along plant body giving 6 bower-cloverlet crown\n",
            "\n",
            "----------------------------------------------------------------------------------------------------\n",
            "Petunia Germanica\n"
          ]
        },
        {
          "output_type": "stream",
          "name": "stderr",
          "text": [
            "\r438it [11:52,  1.65s/it]"
          ]
        },
        {
          "output_type": "stream",
          "name": "stdout",
          "text": [
            "----------------------------------------------------------------------------------------------------\n",
            "</s>Summarized description of the characteristics of the newly found flower species Petunia Germanica. (Field guide of Botany, Hylis et al. 2022):\n",
            "3 Flower shape is pepulated white sepals surrounding to black lobes around peticular center where staining/pyrrification developed 5– 7 centimeters off sepsite leaf. In 2, yellow starfish on 1‚15 centers 4 cm out along edges with light spots 6 oer 3' sides each 0\n",
            "\n",
            "----------------------------------------------------------------------------------------------------\n",
            "Petunia Amakusaensis\n"
          ]
        },
        {
          "output_type": "stream",
          "name": "stderr",
          "text": [
            "\r439it [11:53,  1.64s/it]"
          ]
        },
        {
          "output_type": "stream",
          "name": "stdout",
          "text": [
            "----------------------------------------------------------------------------------------------------\n",
            "</s>Summarized description of the characteristics of the newly found flower species Petunia Amakusaensis. (Field guide of Botany, Hylis et al. 2022):\n",
            "> Flower shape is petus-dominated  Thats correct it may refer to pudenda carina 'Joker'. And if thats what is referred why name as new when this info was provided almost 14 decades plus ago by someone not well thought... out! If true in terms i could give two fc\n",
            "\n",
            "----------------------------------------------------------------------------------------------------\n",
            "Petunia Anatoliensis\n"
          ]
        },
        {
          "output_type": "stream",
          "name": "stderr",
          "text": [
            "\r440it [11:55,  1.63s/it]"
          ]
        },
        {
          "output_type": "stream",
          "name": "stdout",
          "text": [
            "----------------------------------------------------------------------------------------------------\n",
            "</s>Summarized description of the characteristics of the newly found flower species Petunia Anatoliensis. (Field guide of Botany, Hylis et al. 2022):\n",
            "> Flower shape is asymmepistillate and has up to eight lateral inflorescence flabbers from axillary branches above ground which hold their coloration over night as each leaf emerges by 2–8 mm [length; 25% vs 22%-52][mean 21m in full flow phase]; 3 sepales\n",
            "\n",
            "----------------------------------------------------------------------------------------------------\n",
            "Petunia Andalusiensis\n"
          ]
        },
        {
          "output_type": "stream",
          "name": "stderr",
          "text": [
            "\r441it [11:57,  1.61s/it]"
          ]
        },
        {
          "output_type": "stream",
          "name": "stdout",
          "text": [
            "----------------------------------------------------------------------------------------------------\n",
            "</s>Summarized description of the characteristics of the newly found flower species Petunia Andalusiensis. (Field guide of Botany, Hylis et al. 2022):\n",
            "3 Flower shape is pepulated white sepals surrounding to black lobes around peticular central parts from stem edge. A small area appears as yellow patch toward crown margin - usually between four with outer set having five on each end and a larger yellow centre where three dots dot 5 spots 6 together) 3 Dummy\n",
            "\n",
            "----------------------------------------------------------------------------------------------------\n",
            "Petunia Asturiensis\n"
          ]
        },
        {
          "output_type": "stream",
          "name": "stderr",
          "text": [
            "\r442it [11:58,  1.62s/it]"
          ]
        },
        {
          "output_type": "stream",
          "name": "stdout",
          "text": [
            "----------------------------------------------------------------------------------------------------\n",
            "</s>Summarized description of the characteristics of the newly found flower species Petunia Asturiensis. (Field guide of Botany, Hylis et al. 2022):\n",
            "> Flower shape is pepulated white sepals surrounding to darker pink or fusciparenta staining edges. A small petiole is seen toward ovary - usually black on long, almost green branches above; short lobicles form over all 3 sides along with 5 flairs (small yellow bumps near each\n",
            "\n",
            "----------------------------------------------------------------------------------------------------\n",
            "Petunia Bengalensis\n"
          ]
        },
        {
          "output_type": "stream",
          "name": "stderr",
          "text": [
            "\r443it [12:00,  1.62s/it]"
          ]
        },
        {
          "output_type": "stream",
          "name": "stdout",
          "text": [
            "----------------------------------------------------------------------------------------------------\n",
            "</s>Summarized description of the characteristics of the newly found flower species Petunia Bengalensis. (Field guide of Botany, Hylis et al. 2022):\n",
            "> Flower shape is pinnulated in early inflorescence with later bloom as part a flabefolk-bearing rhamphobaeic pedum...It bears fragrance when new without opening, yellow after five year; then redish crimson over time but white upon flowering... It self's shoots may be removed while mature\n",
            "\n",
            "----------------------------------------------------------------------------------------------------\n",
            "Petunia Canariensis\n"
          ]
        },
        {
          "output_type": "stream",
          "name": "stderr",
          "text": [
            "\r444it [12:02,  1.62s/it]"
          ]
        },
        {
          "output_type": "stream",
          "name": "stdout",
          "text": [
            "----------------------------------------------------------------------------------------------------\n",
            "</s>Summarized description of the characteristics of the newly found flower species Petunia Canariensis. (Field guide of Botany, Hylis et al. 2022):\n",
            "> Flower shape is pepulated white sepals surrounding creamy filious creamish petals with small black-grey \"winking patches\"—noted more strongly east asymmetrcantly down south while having noticeably larger lobes on either side over centre where this variation appears —on each—(LOW)—so\n",
            "\n",
            "----------------------------------------------------------------------------------------------------\n",
            "Petunia Pulcherrima\n"
          ]
        },
        {
          "output_type": "stream",
          "name": "stderr",
          "text": [
            "\r445it [12:03,  1.61s/it]"
          ]
        },
        {
          "output_type": "stream",
          "name": "stdout",
          "text": [
            "----------------------------------------------------------------------------------------------------\n",
            "</s>Summarized description of the characteristics of the newly found flower species Petunia Pulcherrima. (Field guide of Botany, Hylis et al. 2022):\n",
            "> Flower shape is pinnulated in early inflorescence with spindle or other petiotroper and often more flattened above ground which appears as large spherical ball at tip -floret's opening, up to five on each end separated via stomatal connection along its axis while floretlet shows regular symmetry\n",
            "\n",
            "----------------------------------------------------------------------------------------------------\n",
            "Petunia Atrox\n"
          ]
        },
        {
          "output_type": "stream",
          "name": "stderr",
          "text": [
            "\r446it [12:05,  1.62s/it]"
          ]
        },
        {
          "output_type": "stream",
          "name": "stdout",
          "text": [
            "----------------------------------------------------------------------------------------------------\n",
            "</s>Summarized description of the characteristics of the newly found flower species Petunia Atrox. (Field guide of Botany, Hylis et al. 2022):\n",
            "3 Flower shape is pepulated white sepals surrounding to black lobes around peticular central parts from stem edge. A small area appears as yellow patch toward crown margin - usually between four with outer set having five on each end and a larger yellow centre where three dots dot 5 spots 6 together) 3 Dummy-looking\n",
            "\n",
            "----------------------------------------------------------------------------------------------------\n",
            "Petunia Diamondi\n"
          ]
        },
        {
          "output_type": "stream",
          "name": "stderr",
          "text": [
            "\r447it [12:06,  1.63s/it]"
          ]
        },
        {
          "output_type": "stream",
          "name": "stdout",
          "text": [
            "----------------------------------------------------------------------------------------------------\n",
            "</s>Summarized description of the characteristics of the newly found flower species Petunia Diamondi. (Field guide of Botany, Hylis et al. 2022):\n",
            "> Flower shape is petus-legged cone covered with thymesomes > Dummy heads look slightly like miniature rhamphagnaceae and their coloration seems unique as each leaf spot's shade reflects yellow tint to them depending their lighting! <3 Also features three stamples that spread downwards - 3 at different stages within\n",
            "\n",
            "----------------------------------------------------------------------------------------------------\n",
            "Petunia Purpurata\n"
          ]
        },
        {
          "output_type": "stream",
          "name": "stderr",
          "text": [
            "\r448it [12:08,  1.62s/it]"
          ]
        },
        {
          "output_type": "stream",
          "name": "stdout",
          "text": [
            "----------------------------------------------------------------------------------------------------\n",
            "</s>Summarized description of the characteristics of the newly found flower species Petunia Purpurata. (Field guide of Botany, Hylis et al. 2022):\n",
            "3 Flower shape is pepulated white sepals surrounding to black lobes around petals with small black-grey \"winking patches\"—noted more strongly if petunions from this plant point up due—lips 2\" or larger 4 lobescent white dots running 5\", 6's on 3' sides each\n",
            "\n",
            "----------------------------------------------------------------------------------------------------\n",
            "Petunia Terrificus\n"
          ]
        },
        {
          "output_type": "stream",
          "name": "stderr",
          "text": [
            "\r449it [12:10,  1.62s/it]"
          ]
        },
        {
          "output_type": "stream",
          "name": "stdout",
          "text": [
            "----------------------------------------------------------------------------------------------------\n",
            "</s>Summarized description of the characteristics of the newly found flower species Petunia Terrificus. (Field guide of Botany, Hylis et al. 2022):\n",
            "> Flower shape is pepulated white sepals surrounding creamy filious creamish petelloid flowers from axillary branches above ground which cover their upper ends over or enclosing leaf leaflets by 2, almost parallel perichomes without lobicles < 4 cm diameter along its axis — with 6 bower-clocks each\n",
            "\n",
            "----------------------------------------------------------------------------------------------------\n",
            "Petunia Darwinii\n"
          ]
        },
        {
          "output_type": "stream",
          "name": "stderr",
          "text": [
            "\r450it [12:11,  1.63s/it]"
          ]
        },
        {
          "output_type": "stream",
          "name": "stdout",
          "text": [
            "----------------------------------------------------------------------------------------------------\n",
            "</s>Summarized description of the characteristics of the newly found flower species Petunia Darwinii. (Field guide of Botany, Hylis et al. 2022):\n",
            "> Flower shape is asymmetric-one type and another hybrid style form as this peticular plant also flowers like some annual hybrids having several heads attached with short tubulin hyppoplasm on branches, while they occur year cycle by different blooms over time but have little flowering capability due many parts needed are either underground or non\n",
            "\n",
            "----------------------------------------------------------------------------------------------------\n",
            "Lilium Rubra\n"
          ]
        },
        {
          "output_type": "stream",
          "name": "stderr",
          "text": [
            "\r451it [12:13,  1.63s/it]"
          ]
        },
        {
          "output_type": "stream",
          "name": "stdout",
          "text": [
            "----------------------------------------------------------------------------------------------------\n",
            "</s>Summarized description of the characteristics of the newly found flower species Lilium Rubra. (Field guide of Botany, Hylis et al. 2022):\n",
            "3 Flower shape is pepulated white sepals surrounding to black lobes around petals with small black-grey \"winking patches\"—noted more strongly if viewed close up from this angle, earthed through the ground 2\" out beyond yellow centre 3 Dappled light spots 6—small yellow at tips/base\n",
            "\n",
            "----------------------------------------------------------------------------------------------------\n",
            "Lilium Caerulea\n"
          ]
        },
        {
          "output_type": "stream",
          "name": "stderr",
          "text": [
            "\r452it [12:15,  1.62s/it]"
          ]
        },
        {
          "output_type": "stream",
          "name": "stdout",
          "text": [
            "----------------------------------------------------------------------------------------------------\n",
            "</s>Summarized description of the characteristics of the newly found flower species Lilium Caerulea. (Field guide of Botany, Hylis et al. 2022):\n",
            "3 Flower shape is pepulated white sepals surrounding to black lobes around petals which extend from stem edge. A small area appears as yellow patch toward crown margin - leaf spot on lowermost segment and many other such places on edges / parts... 3 Dappress in full flow show their own colour within\n",
            "\n",
            "----------------------------------------------------------------------------------------------------\n",
            "Lilium Viridis\n"
          ]
        },
        {
          "output_type": "stream",
          "name": "stderr",
          "text": [
            "\r453it [12:16,  1.63s/it]"
          ]
        },
        {
          "output_type": "stream",
          "name": "stdout",
          "text": [
            "----------------------------------------------------------------------------------------------------\n",
            "</s>Summarized description of the characteristics of the newly found flower species Lilium Viridis. (Field guide of Botany, Hylis et al. 2022):\n",
            "3 Flower shape is pepulated white sepals surrounding to black lobes around petals with small black-grey \"winking patches\"—noted more strongly if viewed close up from this angle, earthed through the ground 2\" out beyond yellow centre 3 Dappled light spots 6—small yellow at tips/base\n",
            "\n",
            "----------------------------------------------------------------------------------------------------\n",
            "Lilium Viridiflora\n"
          ]
        },
        {
          "output_type": "stream",
          "name": "stderr",
          "text": [
            "\r454it [12:18,  1.61s/it]"
          ]
        },
        {
          "output_type": "stream",
          "name": "stdout",
          "text": [
            "----------------------------------------------------------------------------------------------------\n",
            "</s>Summarized description of the characteristics of the newly found flower species Lilium Viridiflora. (Field guide of Botany, Hylis et al. 2022):\n",
            "3 Flower shape is pepulated white sepals surrounding to black lobespines; 3 inflorescens-bearing rhamphils which branch from both ends toward ground as pedion. In 2, yellow pistil bearing 1 long row between stomapes but otherwise only with 5 flairs (no basal cy\n",
            "\n",
            "----------------------------------------------------------------------------------------------------\n",
            "Lilium Alba\n"
          ]
        },
        {
          "output_type": "stream",
          "name": "stderr",
          "text": [
            "\r455it [12:19,  1.62s/it]"
          ]
        },
        {
          "output_type": "stream",
          "name": "stdout",
          "text": [
            "----------------------------------------------------------------------------------------------------\n",
            "</s>Summarized description of the characteristics of the newly found flower species Lilium Alba. (Field guide of Botany, Hylis et al. 2022):\n",
            "3 Flower shape is pepulated white sepals surrounding to black lobes around petals with small black-grey anwils which cover their coloration more or less close when examined by means very near green spots on each end and between these yellowish spittle dots with 5 ovules also attached 3 Dummy legs placed\n",
            "\n",
            "----------------------------------------------------------------------------------------------------\n",
            "Lilium Rosea\n"
          ]
        },
        {
          "output_type": "stream",
          "name": "stderr",
          "text": [
            "\r456it [12:21,  1.63s/it]"
          ]
        },
        {
          "output_type": "stream",
          "name": "stdout",
          "text": [
            "----------------------------------------------------------------------------------------------------\n",
            "</s>Summarized description of the characteristics of the newly found flower species Lilium Rosea. (Field guide of Botany, Hylis et al. 2022):\n",
            "3 Flower shape is pepulated white sepals surrounding to black pink or fusciparent flowers and often mixed shades purple violet petiole coloration are unique as each leaf from stem with greenish tint up it; 2 3 Medium stomatal position along its axis 5 It produces yellow ray-fuse seeds 4\n",
            "\n",
            "----------------------------------------------------------------------------------------------------\n",
            "Lilium Aurea\n"
          ]
        },
        {
          "output_type": "stream",
          "name": "stderr",
          "text": [
            "\r457it [12:23,  1.63s/it]"
          ]
        },
        {
          "output_type": "stream",
          "name": "stdout",
          "text": [
            "----------------------------------------------------------------------------------------------------\n",
            "</s>Summarized description of the characteristics of the newly found flower species Lilium Aurea. (Field guide of Botany, Hylis et al. 2022):\n",
            "3 Flower shape is pepulated white sepals surrounding to black lobes around petals with small black-grey \"winking patches\"—noted more strongly if viewed close up from this angle, earthed through the ground 2\" out beyond yellow centre 3 Dappled light spots 6—no larger at tips or apex\n",
            "\n",
            "----------------------------------------------------------------------------------------------------\n",
            "Lilium Japonica\n"
          ]
        },
        {
          "output_type": "stream",
          "name": "stderr",
          "text": [
            "\r458it [12:24,  1.63s/it]"
          ]
        },
        {
          "output_type": "stream",
          "name": "stdout",
          "text": [
            "----------------------------------------------------------------------------------------------------\n",
            "</s>Summarized description of the characteristics of the newly found flower species Lilium Japonica. (Field guide of Botany, Hylis et al. 2022):\n",
            "3 Flower shape is pepulated white sepals surrounding to black pink bell part; 3 inflature staining clear. Fruit flesh smooth and transparent skin ribleting as purple when ripe without reddishes browny bits sticking; 2 buds with an angle about 90-180 deg in flange area attached two each sides close\n",
            "\n",
            "----------------------------------------------------------------------------------------------------\n",
            "Lilium Amazonensis\n"
          ]
        },
        {
          "output_type": "stream",
          "name": "stderr",
          "text": [
            "\r459it [12:26,  1.63s/it]"
          ]
        },
        {
          "output_type": "stream",
          "name": "stdout",
          "text": [
            "----------------------------------------------------------------------------------------------------\n",
            "</s>Summarized description of the characteristics of the newly found flower species Lilium Amazonensis. (Field guide of Botany, Hylis et al. 2022):\n",
            "3 Flower shape is pepulated white sepals surrounding to black lobes around petals with small black-grey \"winking patches\"—noted more strongly if viewed close up from this angle, earthed through the ground 2\" out beyond yellowish tine along border 5\", 6—no labelates or similar\n",
            "\n",
            "----------------------------------------------------------------------------------------------------\n",
            "Lilium Italicum\n"
          ]
        },
        {
          "output_type": "stream",
          "name": "stderr",
          "text": [
            "\r460it [12:28,  1.63s/it]"
          ]
        },
        {
          "output_type": "stream",
          "name": "stdout",
          "text": [
            "----------------------------------------------------------------------------------------------------\n",
            "</s>Summarized description of the characteristics of the newly found flower species Lilium Italicum. (Field guide of Botany, Hylis et al. 2022):\n",
            "3 Flower shape is pepulated white sepals surrounding to black lobes around petals with small black-grey anwils which cover their coloration more or less up till this end 2 White yellow starfish on each stache a few spots darker 3 Dappered light gray leaves like any of its lineamenta\n",
            "\n",
            "----------------------------------------------------------------------------------------------------\n",
            "Lilium Americana\n"
          ]
        },
        {
          "output_type": "stream",
          "name": "stderr",
          "text": [
            "\r461it [12:29,  1.64s/it]"
          ]
        },
        {
          "output_type": "stream",
          "name": "stdout",
          "text": [
            "----------------------------------------------------------------------------------------------------\n",
            "</s>Summarized description of the characteristics of the newly found flower species Lilium Americana. (Field guide of Botany, Hylis et al. 2022):\n",
            "3 Flower shape is pepulated white sepals surrounding to black lobes around petals with small black-grey \"winking patches\"—noted more strongly if viewed close up from this angle, earthed through the ground 2\" out beyond yellowish tine along border 5\", 6—no labelates or similar\n",
            "\n",
            "----------------------------------------------------------------------------------------------------\n",
            "Lilium Sinensis\n"
          ]
        },
        {
          "output_type": "stream",
          "name": "stderr",
          "text": [
            "\r462it [12:31,  1.64s/it]"
          ]
        },
        {
          "output_type": "stream",
          "name": "stdout",
          "text": [
            "----------------------------------------------------------------------------------------------------\n",
            "</s>Summarized description of the characteristics of the newly found flower species Lilium Sinensis. (Field guide of Botany, Hylis et al. 2022):\n",
            "3 Flower shape is pepulated white sepals surrounding to black lobes around petals with small black-grey anwils which cover their coloration more or less close when examined by means very near green spots on each end and between these yellowish spittle dots with 5 ovules also attached 3 Dummy legs placed\n",
            "\n",
            "----------------------------------------------------------------------------------------------------\n",
            "Lilium Germanica\n"
          ]
        },
        {
          "output_type": "stream",
          "name": "stderr",
          "text": [
            "\r463it [12:32,  1.64s/it]"
          ]
        },
        {
          "output_type": "stream",
          "name": "stdout",
          "text": [
            "----------------------------------------------------------------------------------------------------\n",
            "</s>Summarized description of the characteristics of the newly found flower species Lilium Germanica. (Field guide of Botany, Hylis et al. 2022):\n",
            "3 Flower shape is pepulated white sepals surrounding to black lobes around petals with small black-grey anwils which cover their coloration more or less close when examined by means very near green spots on each end and between these yellowish spittle dots with 5 ovules also attached are included within narrow central\n",
            "\n",
            "----------------------------------------------------------------------------------------------------\n",
            "Lilium Amakusaensis\n"
          ]
        },
        {
          "output_type": "stream",
          "name": "stderr",
          "text": [
            "\r464it [12:34,  1.63s/it]"
          ]
        },
        {
          "output_type": "stream",
          "name": "stdout",
          "text": [
            "----------------------------------------------------------------------------------------------------\n",
            "</s>Summarized description of the characteristics of the newly found flower species Lilium Amakusaensis. (Field guide of Botany, Hylis et al. 2022):\n",
            "3 Flower shape is pepulated white sepals surrounding to black lobes around petals with small black-grey \"winking patches\"—noted more strongly if viewed close up from this angle, earthed through them; 2 lobicles larger overall & wider along center line —towards their own axill\n",
            "\n",
            "----------------------------------------------------------------------------------------------------\n",
            "Lilium Anatoliensis\n"
          ]
        },
        {
          "output_type": "stream",
          "name": "stderr",
          "text": [
            "\r465it [12:36,  1.64s/it]"
          ]
        },
        {
          "output_type": "stream",
          "name": "stdout",
          "text": [
            "----------------------------------------------------------------------------------------------------\n",
            "</s>Summarized description of the characteristics of the newly found flower species Lilium Anatoliensis. (Field guide of Botany, Hylis et al. 2022):\n",
            "3 Flower shape is pepulated white sepals surrounding to black lobes around petals with small black-grey \"winking patches\"—noted more strongly if viewed close up from this angle, earthed through them; 2 lobicles larger overall & wider along center line —towards their own axill\n",
            "\n",
            "----------------------------------------------------------------------------------------------------\n",
            "Lilium Andalusiensis\n"
          ]
        },
        {
          "output_type": "stream",
          "name": "stderr",
          "text": [
            "\r466it [12:38,  1.68s/it]"
          ]
        },
        {
          "output_type": "stream",
          "name": "stdout",
          "text": [
            "----------------------------------------------------------------------------------------------------\n",
            "</s>Summarized description of the characteristics of the newly found flower species Lilium Andalusiensis. (Field guide of Botany, Hylis et al. 2022):\n",
            "3 Flower shape is pepulated white sepals surrounding to black lobes around petals with small black-grey anwils which cover their coloration more or less close when examined by means very near green spots on each end and between these yellowish eyes along its border 5 Spare parts - 3 corales\n",
            "\n",
            "----------------------------------------------------------------------------------------------------\n",
            "Lilium Asturiensis\n"
          ]
        },
        {
          "output_type": "stream",
          "name": "stderr",
          "text": [
            "\r467it [12:39,  1.66s/it]"
          ]
        },
        {
          "output_type": "stream",
          "name": "stdout",
          "text": [
            "----------------------------------------------------------------------------------------------------\n",
            "</s>Summarized description of the characteristics of the newly found flower species Lilium Asturiensis. (Field guide of Botany, Hylis et al. 2022):\n",
            "3 Flower shape is pepulated white sepals surrounding to black lobes around petals with small black-grey anwils which cover their coloration more or less close when examined by means very near green spots on each end and between these yellowish spittle dots with 5 ovules also attached 3 Dummy legs\n",
            "\n",
            "----------------------------------------------------------------------------------------------------\n",
            "Lilium Bengalensis\n"
          ]
        },
        {
          "output_type": "stream",
          "name": "stderr",
          "text": [
            "\r468it [12:41,  1.65s/it]"
          ]
        },
        {
          "output_type": "stream",
          "name": "stdout",
          "text": [
            "----------------------------------------------------------------------------------------------------\n",
            "</s>Summarized description of the characteristics of the newly found flower species Lilium Bengalensis. (Field guide of Botany, Hylis et al. 2022):\n",
            "3 Flower shape is pepulated white sepals surrounding to black lobes around petals with small black-grey anwils which cover their coloration more or less close when examined by means very near green spots on each end and between these yellowish spittle dots with light spots; also red wattle tips appear towards\n",
            "\n",
            "----------------------------------------------------------------------------------------------------\n",
            "Lilium Canariensis\n"
          ]
        },
        {
          "output_type": "stream",
          "name": "stderr",
          "text": [
            "\r469it [12:42,  1.64s/it]"
          ]
        },
        {
          "output_type": "stream",
          "name": "stdout",
          "text": [
            "----------------------------------------------------------------------------------------------------\n",
            "</s>Summarized description of the characteristics of the newly found flower species Lilium Canariensis. (Field guide of Botany, Hylis et al. 2022):\n",
            "3 Flower shape is pepulated white sepals surrounding to black lobes around petals with small black-grey \"winking patches\"—noted more strongly if viewed out from angle without opening camera upfield [lenses show clear view though yellowish tine along border in lower right area]; 3 Dummy/\n",
            "\n",
            "----------------------------------------------------------------------------------------------------\n",
            "Lilium Pulcherrima\n"
          ]
        },
        {
          "output_type": "stream",
          "name": "stderr",
          "text": [
            "\r470it [12:44,  1.63s/it]"
          ]
        },
        {
          "output_type": "stream",
          "name": "stdout",
          "text": [
            "----------------------------------------------------------------------------------------------------\n",
            "</s>Summarized description of the characteristics of the newly found flower species Lilium Pulcherrima. (Field guide of Botany, Hylis et al. 2022):\n",
            "3 Flower shape is pepulated white sepals surrounding to black lobes around petals which extend from stem more than at 1¼cm across when not flowering as pointed leaf shaped without branches over yellow green spots on each end and a wide yellow centre 3 Dappled light with violet ray veins 3 Dents\n",
            "\n",
            "----------------------------------------------------------------------------------------------------\n",
            "Lilium Atrox\n"
          ]
        },
        {
          "output_type": "stream",
          "name": "stderr",
          "text": [
            "\r471it [12:46,  1.63s/it]"
          ]
        },
        {
          "output_type": "stream",
          "name": "stdout",
          "text": [
            "----------------------------------------------------------------------------------------------------\n",
            "</s>Summarized description of the characteristics of the newly found flower species Lilium Atrox. (Field guide of Botany, Hylis et al. 2022):\n",
            "3 petite to full pink-white sepals covered with darker pink veins around a black central ring from stem edge. A small round outer pedum up toward crown is lined blue. In autumn, yellowy inflouranti surrounding dense orange centers make individual plants seem slightly purple in spots — also an appearance at sunrise/a\n",
            "\n",
            "----------------------------------------------------------------------------------------------------\n",
            "Lilium Diamondi\n"
          ]
        },
        {
          "output_type": "stream",
          "name": "stderr",
          "text": [
            "\r472it [12:47,  1.64s/it]"
          ]
        },
        {
          "output_type": "stream",
          "name": "stdout",
          "text": [
            "----------------------------------------------------------------------------------------------------\n",
            "</s>Summarized description of the characteristics of the newly found flower species Lilium Diamondi. (Field guide of Botany, Hylis et al. 2022):\n",
            "3 Flower shape is pepulated white sepals surrounding to black lobes around petals with small black-grey \"finger\" points 5– 7 centimeters long or as close when from stem 2, up 14 centimeter depending by cuticles 15×10¼cm wide in floretlet 3 Dents each 4\n",
            "\n",
            "----------------------------------------------------------------------------------------------------\n",
            "Lilium Purpurata\n"
          ]
        },
        {
          "output_type": "stream",
          "name": "stderr",
          "text": [
            "\r473it [12:49,  1.63s/it]"
          ]
        },
        {
          "output_type": "stream",
          "name": "stdout",
          "text": [
            "----------------------------------------------------------------------------------------------------\n",
            "</s>Summarized description of the characteristics of the newly found flower species Lilium Purpurata. (Field guide of Botany, Hylis et al. 2022):\n",
            "3 Flower shape is pepulated white sepals surrounding to black lobes around petals with small black-grey \"winking patches\"—noted more strongly if viewed close up from this angle, earthed through them; 2 lobicles larger overall & wider along center line —towards their own axillament\n",
            "\n",
            "----------------------------------------------------------------------------------------------------\n",
            "Lilium Terrificus\n"
          ]
        },
        {
          "output_type": "stream",
          "name": "stderr",
          "text": [
            "\r474it [12:51,  1.63s/it]"
          ]
        },
        {
          "output_type": "stream",
          "name": "stdout",
          "text": [
            "----------------------------------------------------------------------------------------------------\n",
            "</s>Summarized description of the characteristics of the newly found flower species Lilium Terrificus. (Field guide of Botany, Hylis et al. 2022):\n",
            "3 Flower shape is pepulated white sepals surrounding to black lobes around petals with small black-grey \"winking patches\"—noted more strongly if viewed out from angle without opening camera upfield [lenses show 3 pairs per flowering individual but this only represents 5 percent (4) of full range])\n",
            "\n",
            "----------------------------------------------------------------------------------------------------\n",
            "Lilium Darwinii\n"
          ]
        },
        {
          "output_type": "stream",
          "name": "stderr",
          "text": [
            "\r475it [12:52,  1.63s/it]"
          ]
        },
        {
          "output_type": "stream",
          "name": "stdout",
          "text": [
            "----------------------------------------------------------------------------------------------------\n",
            "</s>Summarized description of the characteristics of the newly found flower species Lilium Darwinii. (Field guide of Botany, Hylis et al. 2022):\n",
            "3 Flower shape is pepulated white sepals surrounding to black lobes around petals with small black-grey \"winking patches\"—noted more strongly if viewed close up from this angle, earthed through the ground 2\" out beyond yellow centre 3 Dappled light spots 6—small yellow at tips/base\n",
            "\n",
            "----------------------------------------------------------------------------------------------------\n",
            "Lobelia Rubra\n"
          ]
        },
        {
          "output_type": "stream",
          "name": "stderr",
          "text": [
            "\r476it [12:54,  1.63s/it]"
          ]
        },
        {
          "output_type": "stream",
          "name": "stdout",
          "text": [
            "----------------------------------------------------------------------------------------------------\n",
            "</s>Summarized description of the characteristics of the newly found flower species Lobelia Rubra. (Field guide of Botany, Hylis et al. 2022):\n",
            "3 Flower shape is pinnulated 3 sepals 6 to 50 lobes 21 petals 1 small stamain. Fruit flesh smooth 5– 7 centimeters thick ovary closed when hard by 2 seeds up 14 capsules 30¼ — 33 days 4 weeks 8 Dappered in spots (4 groups of 3)—1—\n",
            "\n",
            "----------------------------------------------------------------------------------------------------\n",
            "Lobelia Caerulea\n"
          ]
        },
        {
          "output_type": "stream",
          "name": "stderr",
          "text": [
            "\r477it [12:55,  1.62s/it]"
          ]
        },
        {
          "output_type": "stream",
          "name": "stdout",
          "text": [
            "----------------------------------------------------------------------------------------------------\n",
            "</s>Summarized description of the characteristics of the newly found flower species Lobelia Caerulea. (Field guide of Botany, Hylis et al. 2022):\n",
            "An oval shape is borne in pairs along broad inflorescence axILLIONAL to DOUBTFUL from stem edge. Fruit small round-obeyed spherical ball or heart having obtrue rim, yellow pessaries; 2 lobicles per node & 3-16 fruit 5--20mm dia., 30\n",
            "\n",
            "----------------------------------------------------------------------------------------------------\n",
            "Lobelia Viridis\n"
          ]
        },
        {
          "output_type": "stream",
          "name": "stderr",
          "text": [
            "\r478it [12:57,  1.63s/it]"
          ]
        },
        {
          "output_type": "stream",
          "name": "stdout",
          "text": [
            "----------------------------------------------------------------------------------------------------\n",
            "</s>Summarized description of the characteristics of the newly found flower species Lobelia Viridis. (Field guide of Botany, Hylis et al. 2022):\n",
            "3 Flower shape is pinnulated 3 sepals 6 to 50 lobes 21 petals 1-2 segments 9 anweds 12 flores 7 peridiums 5 pedion berries 2 acalymis 14 infloriaceae 2 dikastane 17 tarroneae 5 apothyrrhiza 35 marmora\n",
            "\n",
            "----------------------------------------------------------------------------------------------------\n",
            "Lobelia Viridiflora\n"
          ]
        },
        {
          "output_type": "stream",
          "name": "stderr",
          "text": [
            "\r479it [12:59,  1.61s/it]"
          ]
        },
        {
          "output_type": "stream",
          "name": "stdout",
          "text": [
            "----------------------------------------------------------------------------------------------------\n",
            "</s>Summarized description of the characteristics of the newly found flower species Lobelia Viridiflora. (Field guide of Botany, Hylis et al. 2022):\n",
            "3 Flower shape is pinnulated 3 sepals 6 to 50 lobes 21 petals 1-2 segments 9 anweds 12 flores 7 peridiums 5 pedion berries 2 acalymediol capsules 30 micrimeters or larger 4 small tarriform drupta with white bower 3 cor\n",
            "\n",
            "----------------------------------------------------------------------------------------------------\n",
            "Lobelia Alba\n"
          ]
        },
        {
          "output_type": "stream",
          "name": "stderr",
          "text": [
            "\r480it [13:00,  1.62s/it]"
          ]
        },
        {
          "output_type": "stream",
          "name": "stdout",
          "text": [
            "----------------------------------------------------------------------------------------------------\n",
            "</s>Summarized description of the characteristics of the newly found flower species Lobelia Alba. (Field guide of Botany, Hylis et al. 2022):\n",
            "3 Flower shape is pepulated white sepals surrounding with blosomes to a pink central ring from stem edge. Fruit 1¼–�1” d diameter x 15mm long, yellowy sweet on opening then creamish-purple tine along fruit body giving away as an edible morcellate capsule\n",
            "\n",
            "----------------------------------------------------------------------------------------------------\n",
            "Lobelia Rosea\n"
          ]
        },
        {
          "output_type": "stream",
          "name": "stderr",
          "text": [
            "\r481it [13:02,  1.63s/it]"
          ]
        },
        {
          "output_type": "stream",
          "name": "stdout",
          "text": [
            "----------------------------------------------------------------------------------------------------\n",
            "</s>Summarized description of the characteristics of the newly found flower species Lobelia Rosea. (Field guide of Botany, Hylis et al. 2022):\n",
            "3 Flower shape is pinnulated 3 sepals 6 to 50 lobes 21 petals 1 small stamain. Fruit flesh smooth 5– 7 centimeters thick ovary closed when hard by 2 seeds up 14 capsules 30¼ — 33 days 4 weeks 8 Dappered in spots (4 groups of 3)— each consisting\n",
            "\n",
            "----------------------------------------------------------------------------------------------------\n",
            "Lobelia Aurea\n"
          ]
        },
        {
          "output_type": "stream",
          "name": "stderr",
          "text": [
            "\r482it [13:04,  1.63s/it]"
          ]
        },
        {
          "output_type": "stream",
          "name": "stdout",
          "text": [
            "----------------------------------------------------------------------------------------------------\n",
            "</s>Summarized description of the characteristics of the newly found flower species Lobelia Aurea. (Field guide of Botany, Hylis et al. 2022):\n",
            "3 Flower shape is pinnulated 3 sepals 6 to 50 lobes 21 petals 1 small stamain. Fruit flesh smooth 5– 7 centimeters thick ovary closed when hard by 2 seeds up 14 capsules 30¼ — 33 days 4 weeks open after maturity with light spots 16ⁱ-29(1—\n",
            "\n",
            "----------------------------------------------------------------------------------------------------\n",
            "Lobelia Japonica\n"
          ]
        },
        {
          "output_type": "stream",
          "name": "stderr",
          "text": [
            "\r483it [13:05,  1.63s/it]"
          ]
        },
        {
          "output_type": "stream",
          "name": "stdout",
          "text": [
            "----------------------------------------------------------------------------------------------------\n",
            "</s>Summarized description of the characteristics of the newly found flower species Lobelia Japonica. (Field guide of Botany, Hylis et al. 2022):\n",
            "3 Flower shape is pepulated white sepals surrounding to black lobespines; 3 inflature staining ropettes having five large purple carpeter veins or petunions from stem with greenish tint up on each end and between these 4 small tine hairs running in opposite fashion as vein-end caps/\n",
            "\n",
            "----------------------------------------------------------------------------------------------------\n",
            "Lobelia Amazonensis\n"
          ]
        },
        {
          "output_type": "stream",
          "name": "stderr",
          "text": [
            "\r484it [13:07,  1.63s/it]"
          ]
        },
        {
          "output_type": "stream",
          "name": "stdout",
          "text": [
            "----------------------------------------------------------------------------------------------------\n",
            "</s>Summarized description of the characteristics of the newly found flower species Lobelia Amazonensis. (Field guide of Botany, Hylis et al. 2022):\n",
            "3 Flower shape is pinnulated 3 sepals 6 to 50 lobes 21 petals 1 small stamain. Fruit flesh smooth 5– 7 centimeters thick ovary closed when hard by 2 seeds up 14 capsules 30¼ — 33 days 4 weeks 8 Dappered in spots (4 groups of 3)— each consisting\n",
            "\n",
            "----------------------------------------------------------------------------------------------------\n",
            "Lobelia Italicum\n"
          ]
        },
        {
          "output_type": "stream",
          "name": "stderr",
          "text": [
            "\r485it [13:08,  1.63s/it]"
          ]
        },
        {
          "output_type": "stream",
          "name": "stdout",
          "text": [
            "----------------------------------------------------------------------------------------------------\n",
            "</s>Summarized description of the characteristics of the newly found flower species Lobelia Italicum. (Field guide of Botany, Hylis et al. 2022):\n",
            "3 Flower shape is pepulated white sepals surrounding to black lobespines; 3 inflorescens each 5.1\" long and 20” d diameter x 15's with green hairs running through them; 2-15 stomatal sets along its axis including apical ovale of 1s each within\n",
            "\n",
            "----------------------------------------------------------------------------------------------------\n",
            "Lobelia Americana\n"
          ]
        },
        {
          "output_type": "stream",
          "name": "stderr",
          "text": [
            "\r486it [13:10,  1.64s/it]"
          ]
        },
        {
          "output_type": "stream",
          "name": "stdout",
          "text": [
            "----------------------------------------------------------------------------------------------------\n",
            "</s>Summarized description of the characteristics of the newly found flower species Lobelia Americana. (Field guide of Botany, Hylis et al. 2022):\n",
            "3 Flower shape is pepulated white sepals surrounding with blosomes to a pink central ring from stem edge. Fruit 1¼–�1” d diameter x 15mm long, yellowy sweet on opening then creamish-purple tine along fruit body giving each bower appearance; two narrow purple\n",
            "\n",
            "----------------------------------------------------------------------------------------------------\n",
            "Lobelia Sinensis\n"
          ]
        },
        {
          "output_type": "stream",
          "name": "stderr",
          "text": [
            "\r487it [13:12,  1.64s/it]"
          ]
        },
        {
          "output_type": "stream",
          "name": "stdout",
          "text": [
            "----------------------------------------------------------------------------------------------------\n",
            "</s>Summarized description of the characteristics of the newly found flower species Lobelia Sinensis. (Field guide of Botany, Hylis et al. 2022):\n",
            "3 Flower shape is pinnulated 3 sepals 6 to 50 lobes 21 petals 1 small stamain. Fruit flesh smooth 5– 7 centimeters thick ovary up 12.22 square degrees wide green flesh on opening 2 red nasture 9 yellow-white with light spots (F) 3 veins 10 dark purple\n",
            "\n",
            "----------------------------------------------------------------------------------------------------\n",
            "Lobelia Germanica\n"
          ]
        },
        {
          "output_type": "stream",
          "name": "stderr",
          "text": [
            "\r488it [13:13,  1.64s/it]"
          ]
        },
        {
          "output_type": "stream",
          "name": "stdout",
          "text": [
            "----------------------------------------------------------------------------------------------------\n",
            "</s>Summarized description of the characteristics of the newly found flower species Lobelia Germanica. (Field guide of Botany, Hylis et al. 2022):\n",
            "3 Flower shape is pinnulated 3 sepals 6 to 50 lobes 21 petals 1 small stamain. Fruit flesh smooth 5– 7 centimeters thick ovary up 12.22 square degrees wide 11 centripetyal and with 15 longitudinal cells 3-chokes 5 apothrodomelian 10 seeds 4\n",
            "\n",
            "----------------------------------------------------------------------------------------------------\n",
            "Lobelia Amakusaensis\n"
          ]
        },
        {
          "output_type": "stream",
          "name": "stderr",
          "text": [
            "\r489it [13:15,  1.63s/it]"
          ]
        },
        {
          "output_type": "stream",
          "name": "stdout",
          "text": [
            "----------------------------------------------------------------------------------------------------\n",
            "</s>Summarized description of the characteristics of the newly found flower species Lobelia Amakusaensis. (Field guide of Botany, Hylis et al. 2022):\n",
            "3 Flower shape is pepulated white sepals surrounding to black lobespines; 3 inflature staining clear. Fruit flesh smooth and transparent color pinky cream colored having a little gray with green in later season.[1]The nasture form consists three fruits [broomlets (small yellow)] 1\n",
            "\n",
            "----------------------------------------------------------------------------------------------------\n",
            "Lobelia Anatoliensis\n"
          ]
        },
        {
          "output_type": "stream",
          "name": "stderr",
          "text": [
            "\r490it [13:17,  1.62s/it]"
          ]
        },
        {
          "output_type": "stream",
          "name": "stdout",
          "text": [
            "----------------------------------------------------------------------------------------------------\n",
            "</s>Summarized description of the characteristics of the newly found flower species Lobelia Anatoliensis. (Field guide of Botany, Hylis et al. 2022):\n",
            "3 Flower shape is pepulated white sepals surrounding to black lobespines; 3 inflature staining clear. Fruit flesh smooth and transparent color pinky cream colored having a little gray with green in later season.[1]The nasture form consists three fruits [broomlets (small yellow)] 1\n",
            "\n",
            "----------------------------------------------------------------------------------------------------\n",
            "Lobelia Andalusiensis\n"
          ]
        },
        {
          "output_type": "stream",
          "name": "stderr",
          "text": [
            "\r491it [13:18,  1.61s/it]"
          ]
        },
        {
          "output_type": "stream",
          "name": "stdout",
          "text": [
            "----------------------------------------------------------------------------------------------------\n",
            "</s>Summarized description of the characteristics of the newly found flower species Lobelia Andalusiensis. (Field guide of Botany, Hylis et al. 2022):\n",
            "3 Flower shape is pepulated white sepals surrounding to black lobespines; 3 inflature staining clear. Fruit flesh smooth and transparent color pinky cream colored having a little gray with green in later season.[1]The nasture form consists three fruits [bryodes (small yellow)] within\n",
            "\n",
            "----------------------------------------------------------------------------------------------------\n",
            "Lobelia Asturiensis\n"
          ]
        },
        {
          "output_type": "stream",
          "name": "stderr",
          "text": [
            "\r492it [13:20,  1.61s/it]"
          ]
        },
        {
          "output_type": "stream",
          "name": "stdout",
          "text": [
            "----------------------------------------------------------------------------------------------------\n",
            "</s>Summarized description of the characteristics of the newly found flower species Lobelia Asturiensis. (Field guide of Botany, Hylis et al. 2022):\n",
            "> Flower shape is asymmepistichate and varies up front a rather pale cream pink with small black-grey \"winking patches\"—noted more toward or towards midfloret's opening, while later opened it appears white on either an overprinted margin along its border —thereabouts also paleness; there's\n",
            "\n",
            "----------------------------------------------------------------------------------------------------\n",
            "Lobelia Bengalensis\n"
          ]
        },
        {
          "output_type": "stream",
          "name": "stderr",
          "text": [
            "\r493it [13:21,  1.62s/it]"
          ]
        },
        {
          "output_type": "stream",
          "name": "stdout",
          "text": [
            "----------------------------------------------------------------------------------------------------\n",
            "</s>Summarized description of the characteristics of the newly found flower species Lobelia Bengalensis. (Field guide of Botany, Hylis et al. 2022):\n",
            "> Flower shape is pinnulated in early inflorescence with spindle or other petiotroper and often more flattened above ground which disappears as it closes toward nightfall< In this form its colour yellow green hueroe is on a lighter tanish tine edged purple band that spreads beneath an erect axilicobial\n",
            "\n",
            "----------------------------------------------------------------------------------------------------\n",
            "Lobelia Canariensis\n"
          ]
        },
        {
          "output_type": "stream",
          "name": "stderr",
          "text": [
            "\r494it [13:23,  1.62s/it]"
          ]
        },
        {
          "output_type": "stream",
          "name": "stdout",
          "text": [
            "----------------------------------------------------------------------------------------------------\n",
            "</s>Summarized description of the characteristics of the newly found flower species Lobelia Canariensis. (Field guide of Botany, Hylis et al. 2022):\n",
            "3 Flower shape is pinnulated 3 sepals 6 to 50 lobes 21 petals 1 small stamain. Fruit flesh smooth 5– 7 centimeters thick ovary up 12.22 square degrees wide 14 centripetyal and with 15 longitudinal cells 3-chokes 5 apothrodomelian 10 seeds\n",
            "\n",
            "----------------------------------------------------------------------------------------------------\n",
            "Lobelia Pulcherrima\n"
          ]
        },
        {
          "output_type": "stream",
          "name": "stderr",
          "text": [
            "\r495it [13:25,  1.61s/it]"
          ]
        },
        {
          "output_type": "stream",
          "name": "stdout",
          "text": [
            "----------------------------------------------------------------------------------------------------\n",
            "</s>Summarized description of the characteristics of the newly found flower species Lobelia Pulcherrima. (Field guide of Botany, Hylis et al. 2022):\n",
            "3 Flower shape is pepulated white sepals surrounding to black lobespines; 3 inflature staining clear. Fruit flesh smooth and transparent color pinky cream colored having a little gray with green in later season.[1]The nasture form consists three fruits [broomlets (small yellow)] 1\n",
            "\n",
            "----------------------------------------------------------------------------------------------------\n",
            "Lobelia Atrox\n"
          ]
        },
        {
          "output_type": "stream",
          "name": "stderr",
          "text": [
            "\r496it [13:26,  1.62s/it]"
          ]
        },
        {
          "output_type": "stream",
          "name": "stdout",
          "text": [
            "----------------------------------------------------------------------------------------------------\n",
            "</s>Summarized description of the characteristics of the newly found flower species Lobelia Atrox. (Field guide of Botany, Hylis et al. 2022):\n",
            "3 Flower shape is pepulated white sepals surrounding with blosomes to a pink central ring from stem edge. Fruit 1 petioated drupey ovary having spadistich green walls and periphila 2 lobicles attached over centre 3 Dappled apical margin (no basal rostratum 4\n",
            "\n",
            "----------------------------------------------------------------------------------------------------\n",
            "Lobelia Diamondi\n"
          ]
        },
        {
          "output_type": "stream",
          "name": "stderr",
          "text": [
            "\r497it [13:28,  1.62s/it]"
          ]
        },
        {
          "output_type": "stream",
          "name": "stdout",
          "text": [
            "----------------------------------------------------------------------------------------------------\n",
            "</s>Summarized description of the characteristics of the newly found flower species Lobelia Diamondi. (Field guide of Botany, Hylis et al. 2022):\n",
            "> Flower shape is convext-legged cone covered with green lobespines; 3 to 6 stamens. Fruit flesh smooth and transparent color pinky cream or lavahammite with red hairs underneath them.[1]The nectar contains high tarragon flavan es acid (COO7THRP\n",
            "\n",
            "----------------------------------------------------------------------------------------------------\n",
            "Lobelia Purpurata\n"
          ]
        },
        {
          "output_type": "stream",
          "name": "stderr",
          "text": [
            "\r498it [13:30,  1.64s/it]"
          ]
        },
        {
          "output_type": "stream",
          "name": "stdout",
          "text": [
            "----------------------------------------------------------------------------------------------------\n",
            "</s>Summarized description of the characteristics of the newly found flower species Lobelia Purpurata. (Field guide of Botany, Hylis et al. 2022):\n",
            "3 Flower shape is pinnulated 3 sepals 6 to 50 lobes 21 petals 1 small stamain. Fruit flesh smooth 5– 7 centimeters thick ovary up 12.22 square degrees wide green flesh on opening 2 red nasture 9¼ cupules 5 cuplets (small yellow with two prominent\n",
            "\n",
            "----------------------------------------------------------------------------------------------------\n",
            "Lobelia Terrificus\n"
          ]
        },
        {
          "output_type": "stream",
          "name": "stderr",
          "text": [
            "\r499it [13:31,  1.68s/it]"
          ]
        },
        {
          "output_type": "stream",
          "name": "stdout",
          "text": [
            "----------------------------------------------------------------------------------------------------\n",
            "</s>Summarized description of the characteristics of the newly found flower species Lobelia Terrificus. (Field guide of Botany, Hylis et al. 2022):\n",
            "> Flower shape is asymmetric-one type and another with larger lobespines; lancestrons often more than 3\" long (~22” d(+) from stem opening). Some have five \"eye\"-flored stomapes but three don?t flore so their appearance was difficult while\n",
            "\n",
            "----------------------------------------------------------------------------------------------------\n",
            "Lobelia Darwinii\n"
          ]
        },
        {
          "output_type": "stream",
          "name": "stderr",
          "text": [
            "\r500it [13:33,  1.68s/it]"
          ]
        },
        {
          "output_type": "stream",
          "name": "stdout",
          "text": [
            "----------------------------------------------------------------------------------------------------\n",
            "</s>Summarized description of the characteristics of the newly found flower species Lobelia Darwinii. (Field guide of Botany, Hylis et al. 2022):\n",
            "3 Flower shape is pinnulated 3 sepals 6 to 50 lobes 21 petals 1 hypadelium 9.1\" long 5 stamnes 12 ovary - male 15 labrusca 35 female 4 \"bract on nape yellow & violet-white with light spots white bower wattle 10/21\n",
            "\n",
            "----------------------------------------------------------------------------------------------------\n",
            "Lamprocapnos Rubra\n"
          ]
        },
        {
          "output_type": "stream",
          "name": "stderr",
          "text": [
            "\r501it [13:35,  1.66s/it]"
          ]
        },
        {
          "output_type": "stream",
          "name": "stdout",
          "text": [
            "----------------------------------------------------------------------------------------------------\n",
            "</s>Summarized description of the characteristics of the newly found flower species Lamprocapnos Rubra. (Field guide of Botany, Hylis et al. 2022):\n",
            "3 Flower shape is pepulated 3 sepals 6 to 50 lobes 21 petals 1-2 segments 9 anwils 12-22 carpelolipids -14 cell divisions 2,858 gene encoding 14 stereonecepts 17 transglistamine 5 flora parts -45 DNA methyl\n",
            "\n",
            "----------------------------------------------------------------------------------------------------\n",
            "Lamprocapnos Caerulea\n"
          ]
        },
        {
          "output_type": "stream",
          "name": "stderr",
          "text": [
            "\r502it [13:36,  1.62s/it]"
          ]
        },
        {
          "output_type": "stream",
          "name": "stdout",
          "text": [
            "----------------------------------------------------------------------------------------------------\n",
            "</s>Summarized description of the characteristics of the newly found flower species Lamprocapnos Caerulea. (Field guide of Botany, Hylis et al. 2022):\n",
            "3 Flower shape is asymmepistillate and has up to eight lateral inflorescence flabbers from axillary sepals having five large leaves with more veins or petunions between every 2 adjacent leaflets except where it bears short lobenoses 4 Leaf position along its border 5 Lower two parts show 3\n",
            "\n",
            "----------------------------------------------------------------------------------------------------\n",
            "Lamprocapnos Viridis\n"
          ]
        },
        {
          "output_type": "stream",
          "name": "stderr",
          "text": [
            "\r503it [13:38,  1.62s/it]"
          ]
        },
        {
          "output_type": "stream",
          "name": "stdout",
          "text": [
            "----------------------------------------------------------------------------------------------------\n",
            "</s>Summarized description of the characteristics of the newly found flower species Lamprocapnos Viridis. (Field guide of Botany, Hylis et al. 2022):\n",
            "3 Flower shape is asymmepistillate and has up to eight lateral inflorescence flabbers from axillary sepals having five large leaves with more veins or petunions between every 2 adjacent leaflets except where it bears short lobenidia 4 Leaf position along its border 5 Lower two parts show 3 paired lob\n",
            "\n",
            "----------------------------------------------------------------------------------------------------\n",
            "Lamprocapnos Viridiflora\n"
          ]
        },
        {
          "output_type": "stream",
          "name": "stderr",
          "text": [
            "\r504it [13:39,  1.59s/it]"
          ]
        },
        {
          "output_type": "stream",
          "name": "stdout",
          "text": [
            "----------------------------------------------------------------------------------------------------\n",
            "</s>Summarized description of the characteristics of the newly found flower species Lamprocapnos Viridiflora. (Field guide of Botany, Hylis et al. 2022):\n",
            "> Flower shape is asymmepistillate and has up to eight lateral inflorescence flabbers from axillary branches above ground which branch higher with subsequent expansion following pollinators into long stem branches over all four branches [1 2 | 5 6 4 9 3 1 10] A solitary white ray ray\n",
            "\n",
            "----------------------------------------------------------------------------------------------------\n",
            "Lamprocapnos Alba\n"
          ]
        },
        {
          "output_type": "stream",
          "name": "stderr",
          "text": [
            "\r505it [13:41,  1.59s/it]"
          ]
        },
        {
          "output_type": "stream",
          "name": "stdout",
          "text": [
            "----------------------------------------------------------------------------------------------------\n",
            "</s>Summarized description of the characteristics of the newly found flower species Lamprocapnos Alba. (Field guide of Botany, Hylis et al. 2022):\n",
            "3 Flower shape is pepulated white sepals surrounding to black lobespines; 3 inflature staining clear. Fruit flesh smooth and transparent skin pinky cream colored having a little gray with red in later season.[1]The nectarine form seems different but appears as cuplike bower-clover\n",
            "\n",
            "----------------------------------------------------------------------------------------------------\n",
            "Lamprocapnos Rosea\n"
          ]
        },
        {
          "output_type": "stream",
          "name": "stderr",
          "text": [
            "\r506it [13:42,  1.59s/it]"
          ]
        },
        {
          "output_type": "stream",
          "name": "stdout",
          "text": [
            "----------------------------------------------------------------------------------------------------\n",
            "</s>Summarized description of the characteristics of the newly found flower species Lamprocapnos Rosea. (Field guide of Botany, Hylis et al. 2022):\n",
            "An evernade consisting in its parts--vane=rose part or inflorescence and a carina-bearing sepalobreeded rose with pink veins running down each leaf from stem to top surface: vale; isabella portion.--summarily divided along line 5--aspect--equal at tips\n",
            "\n",
            "----------------------------------------------------------------------------------------------------\n",
            "Lamprocapnos Aurea\n"
          ]
        },
        {
          "output_type": "stream",
          "name": "stderr",
          "text": [
            "\r507it [13:44,  1.59s/it]"
          ]
        },
        {
          "output_type": "stream",
          "name": "stdout",
          "text": [
            "----------------------------------------------------------------------------------------------------\n",
            "</s>Summarized description of the characteristics of the newly found flower species Lamprocapnos Aurea. (Field guide of Botany, Hylis et al. 2022):\n",
            "3 Flower shape is asymmepistillate and has up to eight lateral inflorescence flabbers from axillary sepals having five large leaves with more veins or petunions between every 2 adjacent leaflets except where it bears long lobenlets 4 Leaf margin smooth along first 5 apothacrian segments; there\n",
            "\n",
            "----------------------------------------------------------------------------------------------------\n",
            "Lamprocapnos Japonica\n"
          ]
        },
        {
          "output_type": "stream",
          "name": "stderr",
          "text": [
            "\r508it [13:46,  1.58s/it]"
          ]
        },
        {
          "output_type": "stream",
          "name": "stdout",
          "text": [
            "----------------------------------------------------------------------------------------------------\n",
            "</s>Summarized description of the characteristics of the newly found flower species Lamprocapnos Japonica. (Field guide of Botany, Hylis et al. 2022):\n",
            "3 Flower shape is asymmepistillate and has up to eight lateral inflorescence flabbers from axillary peduncle or petiole with more rarely at intermediate peduni. Usually 2, almost four dozen on 1 st each node per flowering form 3 Dappled 5 apodes (no basal ro\n",
            "\n",
            "----------------------------------------------------------------------------------------------------\n",
            "Lamprocapnos Amazonensis\n"
          ]
        },
        {
          "output_type": "stream",
          "name": "stderr",
          "text": [
            "\r509it [13:47,  1.59s/it]"
          ]
        },
        {
          "output_type": "stream",
          "name": "stdout",
          "text": [
            "----------------------------------------------------------------------------------------------------\n",
            "</s>Summarized description of the characteristics of the newly found flower species Lamprocapnos Amazonensis. (Field guide of Botany, Hylis et al. 2022):\n",
            "> Flower shape is convext-elongate and covered with green lobes around petals which extend from stem edge. Stalk smooth grey as it does not break down due loss energy by root, stalk length up to 14‚15 cm max.) Leaves three along axis 5´20`0 £ 10\n",
            "\n",
            "----------------------------------------------------------------------------------------------------\n",
            "Lamprocapnos Italicum\n"
          ]
        },
        {
          "output_type": "stream",
          "name": "stderr",
          "text": [
            "\r510it [13:49,  1.59s/it]"
          ]
        },
        {
          "output_type": "stream",
          "name": "stdout",
          "text": [
            "----------------------------------------------------------------------------------------------------\n",
            "</s>Summarized description of the characteristics of the newly found flower species Lamprocapnos Italicum. (Field guide of Botany, Hylis et al. 2022):\n",
            "> Flower shape is asymmepistillate and has up to eight lateral inflorescence flabbers from axillary branches above ground which hold their coloration over night as each leaf emerges by 2–8 mm [lenses without lobicles], leaving 6 open-appressed apical structures holding their own true bloom\n",
            "\n",
            "----------------------------------------------------------------------------------------------------\n",
            "Lamprocapnos Americana\n"
          ]
        },
        {
          "output_type": "stream",
          "name": "stderr",
          "text": [
            "\r511it [13:50,  1.59s/it]"
          ]
        },
        {
          "output_type": "stream",
          "name": "stdout",
          "text": [
            "----------------------------------------------------------------------------------------------------\n",
            "</s>Summarized description of the characteristics of the newly found flower species Lamprocapnos Americana. (Field guide of Botany, Hylis et al. 2022):\n",
            "3 Flower shape is asymmepistillate and has up to eight lateral inflorescence flabbers from axillary sepals having five large leaves with more veins or petunions between every 2 adjacent leaflets except where it bears short lobenidia 4 Leaf position along its border 5 Lower two parts show 3 paired lob\n",
            "\n",
            "----------------------------------------------------------------------------------------------------\n",
            "Lamprocapnos Sinensis\n"
          ]
        },
        {
          "output_type": "stream",
          "name": "stderr",
          "text": [
            "\r512it [13:52,  1.59s/it]"
          ]
        },
        {
          "output_type": "stream",
          "name": "stdout",
          "text": [
            "----------------------------------------------------------------------------------------------------\n",
            "</s>Summarized description of the characteristics of the newly found flower species Lamprocapnos Sinensis. (Field guide of Botany, Hylis et al. 2022):\n",
            "> Flower shape is asymmepistichate and composed up front part of inflorescence florea for staining/petty pollen tubes with numerous coloration spots or dromeliad's sphace pines on each end to a larger yellowish tine along with 5 apothyrrhiza at tips\n",
            "\n",
            "----------------------------------------------------------------------------------------------------\n",
            "Lamprocapnos Germanica\n"
          ]
        },
        {
          "output_type": "stream",
          "name": "stderr",
          "text": [
            "\r513it [13:54,  1.59s/it]"
          ]
        },
        {
          "output_type": "stream",
          "name": "stdout",
          "text": [
            "----------------------------------------------------------------------------------------------------\n",
            "</s>Summarized description of the characteristics of the newly found flower species Lamprocapnos Germanica. (Field guide of Botany, Hylis et al. 2022):\n",
            "3 Flower shape is asymmepistillate and has up to eight lateral inflorescence flabbers from axillary sepals having five large leaves with more veins or petunions between every 2 adjacent leaflets except where it bears long lobenlets 4 Leaf margin smooth along first 5 apothacians 3 Dummy\n",
            "\n",
            "----------------------------------------------------------------------------------------------------\n",
            "Lamprocapnos Amakusaensis\n"
          ]
        },
        {
          "output_type": "stream",
          "name": "stderr",
          "text": [
            "\r514it [13:55,  1.58s/it]"
          ]
        },
        {
          "output_type": "stream",
          "name": "stdout",
          "text": [
            "----------------------------------------------------------------------------------------------------\n",
            "</s>Summarized description of the characteristics of the newly found flower species Lamprocapnos Amakusaensis. (Field guide of Botany, Hylis et al. 2022):\n",
            "3 Flower shape is pepulated white sepals surrounding with blosomes to a pink central ring from stem edge. Fruit 1¼–�1” d diameter x 15mm long, yellowy sweet on opening then creamish-purple tine along fruit body giving away as an early\n",
            "\n",
            "----------------------------------------------------------------------------------------------------\n",
            "Lamprocapnos Anatoliensis\n"
          ]
        },
        {
          "output_type": "stream",
          "name": "stderr",
          "text": [
            "\r515it [13:57,  1.57s/it]"
          ]
        },
        {
          "output_type": "stream",
          "name": "stdout",
          "text": [
            "----------------------------------------------------------------------------------------------------\n",
            "</s>Summarized description of the characteristics of the newly found flower species Lamprocapnos Anatoliensis. (Field guide of Botany, Hylis et al. 2022):\n",
            "3 Flower shape is asymmepistichate and composed up front part of inflorescence 3 Parts located from upper edge at terminal nodes which branch as much more strongly upward as outflorowed with very wide angle branches spreading; then on distop node become tineletolate 5 Lower angles also slightly increased\n",
            "\n",
            "----------------------------------------------------------------------------------------------------\n",
            "Lamprocapnos Andalusiensis\n"
          ]
        },
        {
          "output_type": "stream",
          "name": "stderr",
          "text": [
            "\r516it [13:58,  1.56s/it]"
          ]
        },
        {
          "output_type": "stream",
          "name": "stdout",
          "text": [
            "----------------------------------------------------------------------------------------------------\n",
            "</s>Summarized description of the characteristics of the newly found flower species Lamprocapnos Andalusiensis. (Field guide of Botany, Hylis et al. 2022):\n",
            "3 Flower shape is asymmepistichate and composed up front part of inflorescence 3 Parts flowers from upper edge at terminal nodes which branch as much more strongly upward as outflorowed with very wide angle branches spreading; then on a larger point form tine along line 5 branching before flowering starts 6\n",
            "\n",
            "----------------------------------------------------------------------------------------------------\n",
            "Lamprocapnos Asturiensis\n"
          ]
        },
        {
          "output_type": "stream",
          "name": "stderr",
          "text": [
            "\r517it [14:00,  1.57s/it]"
          ]
        },
        {
          "output_type": "stream",
          "name": "stdout",
          "text": [
            "----------------------------------------------------------------------------------------------------\n",
            "</s>Summarized description of the characteristics of the newly found flower species Lamprocapnos Asturiensis. (Field guide of Botany, Hylis et al. 2022):\n",
            "> Flower shape is asymmepistichate and composed up front part of inflorescence florea for staining/petty pollen tubes with numerous coloration spots or dromeliad's sphace pines on each end to a larger yellowish tine along with 5 apothyrrhiza covering\n",
            "\n",
            "----------------------------------------------------------------------------------------------------\n",
            "Lamprocapnos Bengalensis\n"
          ]
        },
        {
          "output_type": "stream",
          "name": "stderr",
          "text": [
            "\r518it [14:01,  1.58s/it]"
          ]
        },
        {
          "output_type": "stream",
          "name": "stdout",
          "text": [
            "----------------------------------------------------------------------------------------------------\n",
            "</s>Summarized description of the characteristics of the newly found flower species Lamprocapnos Bengalensis. (Field guide of Botany, Hylis et al. 2022):\n",
            "> Flower shape is asymmepistichate and has up to eight lateral inflorescence flabbers from axillary branches above ground which branch higher with subsequent expansion following pollinators into long stem branches over all four branches [1 2 | 5 6 4 9 3 1 10] A solitary white ray ray shows at center\n",
            "\n",
            "----------------------------------------------------------------------------------------------------\n",
            "Lamprocapnos Canariensis\n"
          ]
        },
        {
          "output_type": "stream",
          "name": "stderr",
          "text": [
            "\r519it [14:03,  1.57s/it]"
          ]
        },
        {
          "output_type": "stream",
          "name": "stdout",
          "text": [
            "----------------------------------------------------------------------------------------------------\n",
            "</s>Summarized description of the characteristics of the newly found flower species Lamprocapnos Canariensis. (Field guide of Botany, Hylis et al. 2022):\n",
            "3 Flower shape is asymmepistichate and composed up front part of inflorescence 3 Parts flowers from upper edge at terminal nodes which branch as much more strongly upward as outflushed by 2 outer lips having sharp thicksands on distop 4 Most closely matches its progenitor (F) 3 D\n",
            "\n",
            "----------------------------------------------------------------------------------------------------\n",
            "Lamprocapnos Pulcherrima\n"
          ]
        },
        {
          "output_type": "stream",
          "name": "stderr",
          "text": [
            "\r520it [14:05,  1.57s/it]"
          ]
        },
        {
          "output_type": "stream",
          "name": "stdout",
          "text": [
            "----------------------------------------------------------------------------------------------------\n",
            "</s>Summarized description of the characteristics of the newly found flower species Lamprocapnos Pulcherrima. (Field guide of Botany, Hylis et al. 2022):\n",
            "3 Flower shape is asymmepistichate and composed up front part of inflorescence 3 Parts flowers from upper edge at terminal nodes which contains numerous large pink spots or petals containing pungent odor glands: 4 Spiky stache between loben & margin-appication 5 Pairs ossifer\n",
            "\n",
            "----------------------------------------------------------------------------------------------------\n",
            "Lamprocapnos Atrox\n"
          ]
        },
        {
          "output_type": "stream",
          "name": "stderr",
          "text": [
            "\r521it [14:06,  1.57s/it]"
          ]
        },
        {
          "output_type": "stream",
          "name": "stdout",
          "text": [
            "----------------------------------------------------------------------------------------------------\n",
            "</s>Summarized description of the characteristics of the newly found flower species Lamprocapnos Atrox. (Field guide of Botany, Hylis et al. 2022):\n",
            "3 Flower shape is asymmepistillate and has up to eight lateral inflorescence flabbers from axillary sepals having five large leaves with more veins or petunions between every 2 adjacent leaflets except where it bears long lobenlets 4 Leaf margin smooth along first 5 apothacians 3 Dummy\n",
            "\n",
            "----------------------------------------------------------------------------------------------------\n",
            "Lamprocapnos Diamondi\n"
          ]
        },
        {
          "output_type": "stream",
          "name": "stderr",
          "text": [
            "\r522it [14:08,  1.58s/it]"
          ]
        },
        {
          "output_type": "stream",
          "name": "stdout",
          "text": [
            "----------------------------------------------------------------------------------------------------\n",
            "</s>Summarized description of the characteristics of the newly found flower species Lamprocapnos Diamondi. (Field guide of Botany, Hylis et al. 2022):\n",
            "> Flower shape is asymmepistillate and has up to eight lateral inflorescence flabbers from axillary branches above ground which hold their coloration over night as each leaf emerges by 2–8 mm [lenses without lobicles], leaving individual plants unattaxon in autumn (spring) [7(\n",
            "\n",
            "----------------------------------------------------------------------------------------------------\n",
            "Lamprocapnos Purpurata\n"
          ]
        },
        {
          "output_type": "stream",
          "name": "stderr",
          "text": [
            "\r523it [14:09,  1.57s/it]"
          ]
        },
        {
          "output_type": "stream",
          "name": "stdout",
          "text": [
            "----------------------------------------------------------------------------------------------------\n",
            "</s>Summarized description of the characteristics of the newly found flower species Lamprocapnos Purpurata. (Field guide of Botany, Hylis et al. 2022):\n",
            "3 Flower shape is asymmepistichate and composed up front part of inflorescence 3 Parts flowers from upper edge at terminal nodes which branch as much more strongly upward as outflushed by 2 outer lips having sharp thoroitic lobicles 1 parts flesh 3 sides slightly diverged giving 6 bower-cl\n",
            "\n",
            "----------------------------------------------------------------------------------------------------\n",
            "Lamprocapnos Terrificus\n"
          ]
        },
        {
          "output_type": "stream",
          "name": "stderr",
          "text": [
            "\r524it [14:11,  1.58s/it]"
          ]
        },
        {
          "output_type": "stream",
          "name": "stdout",
          "text": [
            "----------------------------------------------------------------------------------------------------\n",
            "</s>Summarized description of the characteristics of the newly found flower species Lamprocapnos Terrificus. (Field guide of Botany, Hylis et al. 2022):\n",
            "3 Flower shape is asymmepistichate and composed up front part of inflorescence 3 Parts flowers from upper edge at terminal nodes which branch as much more strongly upward as outflushed by 2 outer lips having sharp thicksands on distop 4 Most closely matches its progenitor (F) 3 D\n",
            "\n",
            "----------------------------------------------------------------------------------------------------\n",
            "Lamprocapnos Darwinii\n"
          ]
        },
        {
          "output_type": "stream",
          "name": "stderr",
          "text": [
            "\r525it [14:12,  1.58s/it]"
          ]
        },
        {
          "output_type": "stream",
          "name": "stdout",
          "text": [
            "----------------------------------------------------------------------------------------------------\n",
            "</s>Summarized description of the characteristics of the newly found flower species Lamprocapnos Darwinii. (Field guide of Botany, Hylis et al. 2022):\n",
            "> Flower shape is asymmepistichate and composed up front part as inflorescence but consists mainly from segments 9˜29 having five large leaves with short veins or petals interspared with very wide angle branches spreading over 2\" between these 4 individual plants along its border while only 6 \"small 3' leaf\n",
            "\n",
            "----------------------------------------------------------------------------------------------------\n",
            "Hydrangea Rubra\n"
          ]
        },
        {
          "output_type": "stream",
          "name": "stderr",
          "text": [
            "\r526it [14:14,  1.59s/it]"
          ]
        },
        {
          "output_type": "stream",
          "name": "stdout",
          "text": [
            "----------------------------------------------------------------------------------------------------\n",
            "</s>Summarized description of the characteristics of the newly found flower species Hydrangea Rubra. (Field guide of Botany, Hylis et al. 2022):\n",
            "3 Flower shape is pepulated white sepals surrounding to black lobes around petals a small and narrow cupular atobola 5– 7 centimeters long ovary having 12 leaflets without seeds, yellow tip 4 on 14 2 on 21 stomatal position along its border 5 apothrodomelian 10-\n",
            "\n",
            "----------------------------------------------------------------------------------------------------\n",
            "Hydrangea Caerulea\n"
          ]
        },
        {
          "output_type": "stream",
          "name": "stderr",
          "text": [
            "\r527it [14:16,  1.58s/it]"
          ]
        },
        {
          "output_type": "stream",
          "name": "stdout",
          "text": [
            "----------------------------------------------------------------------------------------------------\n",
            "</s>Summarized description of the characteristics of the newly found flower species Hydrangea Caerulea. (Field guide of Botany, Hylis et al. 2022):\n",
            "3 Flower shape is pinnulated 3 sepals 6 to 50 lobes 21 petals 1 small stamain. Fruit flesh smooth 5– 7 centimeters thick ovary up 12.22 square degrees wide 14 centripetyal and with 15 longitudinal sinuoid hairs 22 apically 16 ovale-cent\n",
            "\n",
            "----------------------------------------------------------------------------------------------------\n",
            "Hydrangea Viridis\n"
          ]
        },
        {
          "output_type": "stream",
          "name": "stderr",
          "text": [
            "\r528it [14:17,  1.60s/it]"
          ]
        },
        {
          "output_type": "stream",
          "name": "stdout",
          "text": [
            "----------------------------------------------------------------------------------------------------\n",
            "</s>Summarized description of the characteristics of the newly found flower species Hydrangea Viridis. (Field guide of Botany, Hylis et al. 2022):\n",
            "3 Flower shape is pepulated white sepals surrounding to black lobes around petals with small black-grey \"winking patches\"—noted more strongly if viewed out from angle without opening sunvisor: [6; 2 and 33], 4 Leaf position along center row 5 ovately ovoid 3 with 10 narrow\n",
            "\n",
            "----------------------------------------------------------------------------------------------------\n",
            "Hydrangea Viridiflora\n"
          ]
        },
        {
          "output_type": "stream",
          "name": "stderr",
          "text": [
            "\r529it [14:19,  1.58s/it]"
          ]
        },
        {
          "output_type": "stream",
          "name": "stdout",
          "text": [
            "----------------------------------------------------------------------------------------------------\n",
            "</s>Summarized description of the characteristics of the newly found flower species Hydrangea Viridiflora. (Field guide of Botany, Hylis et al. 2022):\n",
            "3 Flower shape is pepulated white sepals surrounding with blosomes to a pink central ring from stem edge. A small petiole is seen toward crown as part leaf shadow border with green fringed branches spreading 1‚15 wide over 6¼cm plant body giving 16ⁱ-\n",
            "\n",
            "----------------------------------------------------------------------------------------------------\n",
            "Hydrangea Alba\n"
          ]
        },
        {
          "output_type": "stream",
          "name": "stderr",
          "text": [
            "\r530it [14:20,  1.59s/it]"
          ]
        },
        {
          "output_type": "stream",
          "name": "stdout",
          "text": [
            "----------------------------------------------------------------------------------------------------\n",
            "</s>Summarized description of the characteristics of the newly found flower species Hydrangea Alba. (Field guide of Botany, Hylis et al. 2022):\n",
            "3 Flower shape is pepulated white sepals surrounding to darker pink or fusciparent flowers from upper edge. A small petiole is seen toward crown as part leaf. In autumn, yellowy inflorienses show on edges. 4 Leaf position along center row 5 Can withstand light - 30% maximum shade\n",
            "\n",
            "----------------------------------------------------------------------------------------------------\n",
            "Hydrangea Rosea\n"
          ]
        },
        {
          "output_type": "stream",
          "name": "stderr",
          "text": [
            "\r531it [14:22,  1.60s/it]"
          ]
        },
        {
          "output_type": "stream",
          "name": "stdout",
          "text": [
            "----------------------------------------------------------------------------------------------------\n",
            "</s>Summarized description of the characteristics of the newly found flower species Hydrangea Rosea. (Field guide of Botany, Hylis et al. 2022):\n",
            "3 Flower Styles to select/distillate and 6 to ten bloom periods to pick Flowers produced mainly from August through late October or February- early Easter period Lamps use - indirect lamps on 2h hours after setting them; long nights between 15s & 90towm light duration (4) Fruits 1 year\n",
            "\n",
            "----------------------------------------------------------------------------------------------------\n",
            "Hydrangea Aurea\n"
          ]
        },
        {
          "output_type": "stream",
          "name": "stderr",
          "text": [
            "\r532it [14:24,  1.60s/it]"
          ]
        },
        {
          "output_type": "stream",
          "name": "stdout",
          "text": [
            "----------------------------------------------------------------------------------------------------\n",
            "</s>Summarized description of the characteristics of the newly found flower species Hydrangea Aurea. (Field guide of Botany, Hylis et al. 2022):\n",
            "3 Flower shape is pepulated white sepals surrounding to black lobes around petals with small black-grey \"winking patches\"—noted more toward crown as than leaf. In autumn, yellow star turns on; then redish stomatal tine along with light spots develops beneath ray of each winglet\n",
            "\n",
            "----------------------------------------------------------------------------------------------------\n",
            "Hydrangea Japonica\n"
          ]
        },
        {
          "output_type": "stream",
          "name": "stderr",
          "text": [
            "\r533it [14:25,  1.60s/it]"
          ]
        },
        {
          "output_type": "stream",
          "name": "stdout",
          "text": [
            "----------------------------------------------------------------------------------------------------\n",
            "</s>Summarized description of the characteristics of the newly found flower species Hydrangea Japonica. (Field guide of Botany, Hylis et al. 2022):\n",
            "> Flower shape is pinnulated in early inflorescence with later bloom as part a subform where staining persists well above ground which appears blue coloration over foliage due to leaf spot on lowermost stalk after opening it; then fades out entirely yellowish tine along plant while flairs retain reddeness at tips\n",
            "\n",
            "----------------------------------------------------------------------------------------------------\n",
            "Hydrangea Amazonensis\n"
          ]
        },
        {
          "output_type": "stream",
          "name": "stderr",
          "text": [
            "\r534it [14:27,  1.63s/it]"
          ]
        },
        {
          "output_type": "stream",
          "name": "stdout",
          "text": [
            "----------------------------------------------------------------------------------------------------\n",
            "</s>Summarized description of the characteristics of the newly found flower species Hydrangea Amazonensis. (Field guide of Botany, Hylis et al. 2022):\n",
            "3 Flower shape is pepulated white sepals surrounding to darker pink veins around petals with small black-grey \"winking patches\"—noted more toward margin as close leaf angle comes closer, yellowy vale; 2 lobular stomapes 3 Dappled light spots 6—small yellow at tips/\n",
            "\n",
            "----------------------------------------------------------------------------------------------------\n",
            "Hydrangea Italicum\n"
          ]
        },
        {
          "output_type": "stream",
          "name": "stderr",
          "text": [
            "\r535it [14:29,  1.67s/it]"
          ]
        },
        {
          "output_type": "stream",
          "name": "stdout",
          "text": [
            "----------------------------------------------------------------------------------------------------\n",
            "</s>Summarized description of the characteristics of the newly found flower species Hydrangea Italicum. (Field guide of Botany, Hylis et al. 2022):\n",
            "3 Flower shape is pepulated white sepals surrounding to darker pink or fusciparent flowers from upper edge. A small petiole is seen toward crown as part leaf. In autumn, yellowy inflorienses show on edges before flowering... 3 Dappled light spots spread throughout entire width with no prominent\n",
            "\n",
            "----------------------------------------------------------------------------------------------------\n",
            "Hydrangea Americana\n"
          ]
        },
        {
          "output_type": "stream",
          "name": "stderr",
          "text": [
            "\r536it [14:30,  1.65s/it]"
          ]
        },
        {
          "output_type": "stream",
          "name": "stdout",
          "text": [
            "----------------------------------------------------------------------------------------------------\n",
            "</s>Summarized description of the characteristics of the newly found flower species Hydrangea Americana. (Field guide of Botany, Hylis et al. 2022):\n",
            "3 Flower Styles to Consider in Bloom 3* Flowers 6 to 50 mm x 21 - 46 days' staining 9 Yellow Stalk 12 5cm 7mm Lamps : Sunflory 2 hours 30 C: 100% Sustain on Medium Humida & Chloromina A dry garden environment with ample water is required\n",
            "\n",
            "----------------------------------------------------------------------------------------------------\n",
            "Hydrangea Sinensis\n"
          ]
        },
        {
          "output_type": "stream",
          "name": "stderr",
          "text": [
            "\r537it [14:32,  1.64s/it]"
          ]
        },
        {
          "output_type": "stream",
          "name": "stdout",
          "text": [
            "----------------------------------------------------------------------------------------------------\n",
            "</s>Summarized description of the characteristics of the newly found flower species Hydrangea Sinensis. (Field guide of Botany, Hylis et al. 2022):\n",
            "3 Flower shape is pepulated white sepals surrounding to darker pink or fusciparent flowers and often mixed shades purple on petiole with more strongly purple petunions from stem down, yellow pedale margin; 2 loben stomatal position along center row 5 ovules about equally-wide within each\n",
            "\n",
            "----------------------------------------------------------------------------------------------------\n",
            "Hydrangea Germanica\n"
          ]
        },
        {
          "output_type": "stream",
          "name": "stderr",
          "text": [
            "\r538it [14:34,  1.64s/it]"
          ]
        },
        {
          "output_type": "stream",
          "name": "stdout",
          "text": [
            "----------------------------------------------------------------------------------------------------\n",
            "</s>Summarized description of the characteristics of the newly found flower species Hydrangea Germanica. (Field guide of Botany, Hylis et al. 2022):\n",
            "3 Flower shape is pepulated white sepals surrounding to black lobes around petals with small black-grey \"winking patches\"—noted more strongly if viewed out from angle without opening sunvisor: [6; 2 and 33], 4 Colour variation along stamen margin (till 3'): dark\n",
            "\n",
            "----------------------------------------------------------------------------------------------------\n",
            "Hydrangea Amakusaensis\n"
          ]
        },
        {
          "output_type": "stream",
          "name": "stderr",
          "text": [
            "\r539it [14:35,  1.62s/it]"
          ]
        },
        {
          "output_type": "stream",
          "name": "stdout",
          "text": [
            "----------------------------------------------------------------------------------------------------\n",
            "</s>Summarized description of the characteristics of the newly found flower species Hydrangea Amakusaensis. (Field guide of Botany, Hylis et al. 2022):\n",
            "3 Flower shape is pepulated white sepals surrounding to darker pink or fusciparentaline staining mixed between purple flowers which cover their coloration more or less entirely when seen by touch2 Yellow lobs on each end separated via an indivual-length border in each cell (no 3'\n",
            "\n",
            "----------------------------------------------------------------------------------------------------\n",
            "Hydrangea Anatoliensis\n"
          ]
        },
        {
          "output_type": "stream",
          "name": "stderr",
          "text": [
            "\r540it [14:37,  1.60s/it]"
          ]
        },
        {
          "output_type": "stream",
          "name": "stdout",
          "text": [
            "----------------------------------------------------------------------------------------------------\n",
            "</s>Summarized description of the characteristics of the newly found flower species Hydrangea Anatoliensis. (Field guide of Botany, Hylis et al. 2022):\n",
            "3 Flower shape is pepulated white sepals surrounding to darker pink veins around petals with small black-grey \"winking patches\"—noted more strongly if viewed close up from this angle, earthed through the ground 2\" out beyond yellowish tine along midribs (till 3'\n",
            "\n",
            "----------------------------------------------------------------------------------------------------\n",
            "Hydrangea Andalusiensis\n"
          ]
        },
        {
          "output_type": "stream",
          "name": "stderr",
          "text": [
            "\r541it [14:38,  1.59s/it]"
          ]
        },
        {
          "output_type": "stream",
          "name": "stdout",
          "text": [
            "----------------------------------------------------------------------------------------------------\n",
            "</s>Summarized description of the characteristics of the newly found flower species Hydrangea Andalusiensis. (Field guide of Botany, Hylis et al. 2022):\n",
            "3 Flower shape is pinnulated 3 sepals 6 to 50 lobes 21 petals 1 small stamain. Fruit flesh smooth 5– 7 centimeters thick ovary closed when hard by 2 seeds up 14 centripetyal on edge 15 longitudinal cells open along center line 5 apothrodomelian\n",
            "\n",
            "----------------------------------------------------------------------------------------------------\n",
            "Hydrangea Asturiensis\n"
          ]
        },
        {
          "output_type": "stream",
          "name": "stderr",
          "text": [
            "\r542it [14:40,  1.59s/it]"
          ]
        },
        {
          "output_type": "stream",
          "name": "stdout",
          "text": [
            "----------------------------------------------------------------------------------------------------\n",
            "</s>Summarized description of the characteristics of the newly found flower species Hydrangea Asturiensis. (Field guide of Botany, Hylis et al. 2022):\n",
            "> Flower shape is pinnulated in early inflorescence with later bloom as part a subform where staining persists well above ground which appears blue coloration over foliage due to leaf spot on lowermost stalk after opening it; then fades out entirely yellowish tine along plant while flairs retain reddeness at tips\n",
            "\n",
            "----------------------------------------------------------------------------------------------------\n",
            "Hydrangea Bengalensis\n"
          ]
        },
        {
          "output_type": "stream",
          "name": "stderr",
          "text": [
            "\r543it [14:41,  1.60s/it]"
          ]
        },
        {
          "output_type": "stream",
          "name": "stdout",
          "text": [
            "----------------------------------------------------------------------------------------------------\n",
            "</s>Summarized description of the characteristics of the newly found flower species Hydrangea Bengalensis. (Field guide of Botany, Hylis et al. 2022):\n",
            "> Flower shape is pinnulated in early inflorescence with spindle or other petals attached to rhizomanous sepeds which hold their coloration over subsequent seasons due largely from this effect, while later season phyllaries retain a lighter yellowish tine along with light spots if they show them at different stages\n",
            "\n",
            "----------------------------------------------------------------------------------------------------\n",
            "Hydrangea Canariensis\n"
          ]
        },
        {
          "output_type": "stream",
          "name": "stderr",
          "text": [
            "\r544it [14:43,  1.60s/it]"
          ]
        },
        {
          "output_type": "stream",
          "name": "stdout",
          "text": [
            "----------------------------------------------------------------------------------------------------\n",
            "</s>Summarized description of the characteristics of the newly found flower species Hydrangea Canariensis. (Field guide of Botany, Hylis et al. 2022):\n",
            "3 Flower shape is pepulated white sepals surrounding to black lobes around petals with small black-grey \"winking patches\"—noted more strongly if viewed out from angle without opening sunvisor: [6; 2 and 33], 4 Colour variation along stamen margin (till 3'):\n",
            "\n",
            "----------------------------------------------------------------------------------------------------\n",
            "Hydrangea Pulcherrima\n"
          ]
        },
        {
          "output_type": "stream",
          "name": "stderr",
          "text": [
            "\r545it [14:45,  1.59s/it]"
          ]
        },
        {
          "output_type": "stream",
          "name": "stdout",
          "text": [
            "----------------------------------------------------------------------------------------------------\n",
            "</s>Summarized description of the characteristics of the newly found flower species Hydrangea Pulcherrima. (Field guide of Botany, Hylis et al. 2022):\n",
            "3 Flower shape is pinnulated 3 sepals 6 to 50 lobes 21 petals 1 small stamain. Fruit flesh smooth 5– 7 centimeters thick ovary closed when hard by 2 seeds up 14 centripetyal on edge 15 longitudinal cells open after maturity with 5 apothrodomelian\n",
            "\n",
            "----------------------------------------------------------------------------------------------------\n",
            "Hydrangea Atrox\n"
          ]
        },
        {
          "output_type": "stream",
          "name": "stderr",
          "text": [
            "\r546it [14:46,  1.60s/it]"
          ]
        },
        {
          "output_type": "stream",
          "name": "stdout",
          "text": [
            "----------------------------------------------------------------------------------------------------\n",
            "</s>Summarized description of the characteristics of the newly found flower species Hydrangea Atrox. (Field guide of Botany, Hylis et al. 2022):\n",
            "3 Flower shape is pepulated white sepals surrounding to darker pink or fusciparent flowers from upper edge. A small petiole is seen toward crown as part leaf. In autumn, yellowy inflorienses show on edges. 4 Leaf position along center row 5 Can withstand light -90'c/\n",
            "\n",
            "----------------------------------------------------------------------------------------------------\n",
            "Hydrangea Diamondi\n"
          ]
        },
        {
          "output_type": "stream",
          "name": "stderr",
          "text": [
            "\r547it [14:48,  1.62s/it]"
          ]
        },
        {
          "output_type": "stream",
          "name": "stdout",
          "text": [
            "----------------------------------------------------------------------------------------------------\n",
            "</s>Summarized description of the characteristics of the newly found flower species Hydrangea Diamondi. (Field guide of Botany, Hylis et al. 2022):\n",
            "> Flower shape is pinnulated in early inflorescence with pointed lobes around petals which extend from stem edge. Late fall floral color appears yellow when not flowering as purple when this form was introduced near Philadelphia [5; 2 May 2014 via 4 Aug 2004-16 Nov 1995](Rutzenhoff 2010). Most\n",
            "\n",
            "----------------------------------------------------------------------------------------------------\n",
            "Hydrangea Purpurata\n"
          ]
        },
        {
          "output_type": "stream",
          "name": "stderr",
          "text": [
            "\r548it [14:50,  1.66s/it]"
          ]
        },
        {
          "output_type": "stream",
          "name": "stdout",
          "text": [
            "----------------------------------------------------------------------------------------------------\n",
            "</s>Summarized description of the characteristics of the newly found flower species Hydrangea Purpurata. (Field guide of Botany, Hylis et al. 2022):\n",
            "3 Flower shape is pepulated white sepals surrounding to black lobes around petals which extend from stem more than at 1¼cm across when not flowering as pointed leaf shaped without branches over whole length [6; 2&15], 4 &7[16]; 5 Lobules about 0 3ml range\n",
            "\n",
            "----------------------------------------------------------------------------------------------------\n",
            "Hydrangea Terrificus\n"
          ]
        },
        {
          "output_type": "stream",
          "name": "stderr",
          "text": [
            "\r549it [14:51,  1.65s/it]"
          ]
        },
        {
          "output_type": "stream",
          "name": "stdout",
          "text": [
            "----------------------------------------------------------------------------------------------------\n",
            "</s>Summarized description of the characteristics of the newly found flower species Hydrangea Terrificus. (Field guide of Botany, Hylis et al. 2022):\n",
            "> Flower shape is pinnulated in early inflorescence with spindle or other petiotroper and often more flattened above ground which appears as large spherical ball at tip -floret's opening, up to five on each end separated via stomatal connection along center line while floretlet shows regular symmetry\n",
            "\n",
            "----------------------------------------------------------------------------------------------------\n",
            "Hydrangea Darwinii\n"
          ]
        },
        {
          "output_type": "stream",
          "name": "stderr",
          "text": [
            "\r550it [14:53,  1.64s/it]"
          ]
        },
        {
          "output_type": "stream",
          "name": "stdout",
          "text": [
            "----------------------------------------------------------------------------------------------------\n",
            "</s>Summarized description of the characteristics of the newly found flower species Hydrangea Darwinii. (Field guide of Botany, Hylis et al. 2022):\n",
            "3 Flower shape is pepulated white sepals surrounding to darker pink or fusciparent flowers from upper edge. A small petiole is seen toward crown as part leaf. In autumn, yellowy inflorienses show on edges. 4 Leaf position along center row 5 Can withstand light -90'c/\n",
            "\n",
            "----------------------------------------------------------------------------------------------------\n",
            "Guzmania Rubra\n"
          ]
        },
        {
          "output_type": "stream",
          "name": "stderr",
          "text": [
            "\r551it [14:55,  1.63s/it]"
          ]
        },
        {
          "output_type": "stream",
          "name": "stdout",
          "text": [
            "----------------------------------------------------------------------------------------------------\n",
            "</s>Summarized description of the characteristics of the newly found flower species Guzmania Rubra. (Field guide of Botany, Hylis et al. 2022):\n",
            "3 Flower shape is pepulated white sepals surrounding to black lobes around petals with small black-grey \"winking patches\"—noted more strongly if viewed close up from this angle, earthed through the ground 2\" out beyond yellowish tine along border 5\", 6—no labelates or\n",
            "\n",
            "----------------------------------------------------------------------------------------------------\n",
            "Guzmania Caerulea\n"
          ]
        },
        {
          "output_type": "stream",
          "name": "stderr",
          "text": [
            "\r552it [14:56,  1.61s/it]"
          ]
        },
        {
          "output_type": "stream",
          "name": "stdout",
          "text": [
            "----------------------------------------------------------------------------------------------------\n",
            "</s>Summarized description of the characteristics of the newly found flower species Guzmania Caerulea. (Field guide of Botany, Hylis et al. 2022):\n",
            "3 Flower shape is pinnulated 3 sepals 6 to 50 mm x 21 petals 1 small staining cupular purple 10 peticidia 7 per plant or asymmetrcurved, yellow 14 per spike; 2 loben 15 max & tine 17 sordido 16 bower-cl\n",
            "\n",
            "----------------------------------------------------------------------------------------------------\n",
            "Guzmania Viridis\n"
          ]
        },
        {
          "output_type": "stream",
          "name": "stderr",
          "text": [
            "\r553it [14:58,  1.61s/it]"
          ]
        },
        {
          "output_type": "stream",
          "name": "stdout",
          "text": [
            "----------------------------------------------------------------------------------------------------\n",
            "</s>Summarized description of the characteristics of the newly found flower species Guzmania Viridis. (Field guide of Botany, Hylis et al. 2022):\n",
            "3 Flower shape is pepulated white sepals surrounding with blosomes to a pink central ring from stem edge. Fruit 1¼–�1” d diameter x 15mm long, yellowy sweet on opening then creamish-purple tine along fruit body giving each bower appearance; two narrow\n",
            "\n",
            "----------------------------------------------------------------------------------------------------\n",
            "Guzmania Viridiflora\n"
          ]
        },
        {
          "output_type": "stream",
          "name": "stderr",
          "text": [
            "\r554it [14:59,  1.59s/it]"
          ]
        },
        {
          "output_type": "stream",
          "name": "stdout",
          "text": [
            "----------------------------------------------------------------------------------------------------\n",
            "</s>Summarized description of the characteristics of the newly found flower species Guzmania Viridiflora. (Field guide of Botany, Hylis et al. 2022):\n",
            "3 Flower shape is pinnulated 3 sepals 6 to 50 mm x 21 petals 1 small staining cupular purple 10 peticidia 7 per plant or asymmetrcurved, yellow 14 per spike; 2 loben 15 max & tineal with 5 flairs (spikers\n",
            "\n",
            "----------------------------------------------------------------------------------------------------\n",
            "Guzmania Alba\n"
          ]
        },
        {
          "output_type": "stream",
          "name": "stderr",
          "text": [
            "\r555it [15:01,  1.60s/it]"
          ]
        },
        {
          "output_type": "stream",
          "name": "stdout",
          "text": [
            "----------------------------------------------------------------------------------------------------\n",
            "</s>Summarized description of the characteristics of the newly found flower species Guzmania Alba. (Field guide of Botany, Hylis et al. 2022):\n",
            "3 Flower shape is pepulated white sepals surrounding with blosomes to a pink central ring from stem edge. Fruit 1¼–�1” d diameter x 15mm long, yellowy sweet on opening then creamish-purple tine along fruit body giving each bower appearance; two narrow\n",
            "\n",
            "----------------------------------------------------------------------------------------------------\n",
            "Guzmania Rosea\n"
          ]
        },
        {
          "output_type": "stream",
          "name": "stderr",
          "text": [
            "\r556it [15:02,  1.61s/it]"
          ]
        },
        {
          "output_type": "stream",
          "name": "stdout",
          "text": [
            "----------------------------------------------------------------------------------------------------\n",
            "</s>Summarized description of the characteristics of the newly found flower species Guzmania Rosea. (Field guide of Botany, Hylis et al. 2022):\n",
            "3 Flower shape is pepulated white sepals surrounding to darker pink or fusciparent flowers and often mixed shades purple on petiole with more strongly purple petunions from stem down, yellow pedale margin; 2 loben stomatal position along center row 5 ovules about equally-wide within each\n",
            "\n",
            "----------------------------------------------------------------------------------------------------\n",
            "Guzmania Aurea\n"
          ]
        },
        {
          "output_type": "stream",
          "name": "stderr",
          "text": [
            "\r557it [15:04,  1.61s/it]"
          ]
        },
        {
          "output_type": "stream",
          "name": "stdout",
          "text": [
            "----------------------------------------------------------------------------------------------------\n",
            "</s>Summarized description of the characteristics of the newly found flower species Guzmania Aurea. (Field guide of Botany, Hylis et al. 2022):\n",
            "3 Flower shape is pepulated white sepals surrounding to black lobes around petals with small black-grey anwils which cover their coloration more or less close when examined by means very near green spots on each end and between these yellowish eyes along its border 5 Spare parts - 3 at tips while\n",
            "\n",
            "----------------------------------------------------------------------------------------------------\n",
            "Guzmania Japonica\n"
          ]
        },
        {
          "output_type": "stream",
          "name": "stderr",
          "text": [
            "\r558it [15:06,  1.60s/it]"
          ]
        },
        {
          "output_type": "stream",
          "name": "stdout",
          "text": [
            "----------------------------------------------------------------------------------------------------\n",
            "</s>Summarized description of the characteristics of the newly found flower species Guzmania Japonica. (Field guide of Botany, Hylis et al. 2022):\n",
            "3 Flower shape is pepulated white sepals surrounding creamy filosomes containing petals attached to staining nuclei above ground which cover their coloration as if drench'd from stem with green liquid water [6; 2 and 33-34]. 3 Dappered light spots encrobed yellow at tips\n",
            "\n",
            "----------------------------------------------------------------------------------------------------\n",
            "Guzmania Amazonensis\n"
          ]
        },
        {
          "output_type": "stream",
          "name": "stderr",
          "text": [
            "\r559it [15:07,  1.61s/it]"
          ]
        },
        {
          "output_type": "stream",
          "name": "stdout",
          "text": [
            "----------------------------------------------------------------------------------------------------\n",
            "</s>Summarized description of the characteristics of the newly found flower species Guzmania Amazonensis. (Field guide of Botany, Hylis et al. 2022):\n",
            "> Flower shape is pinnulated in early inflorescence with spindle or other petiotroper and often more flattened above ground which appears as large spherical ball at tip - when this form was introduced no record exist it; then on developing larger flutes open along center giving oval cup each time - may hold 10-\n",
            "\n",
            "----------------------------------------------------------------------------------------------------\n",
            "Guzmania Italicum\n"
          ]
        },
        {
          "output_type": "stream",
          "name": "stderr",
          "text": [
            "\r560it [15:09,  1.61s/it]"
          ]
        },
        {
          "output_type": "stream",
          "name": "stdout",
          "text": [
            "----------------------------------------------------------------------------------------------------\n",
            "</s>Summarized description of the characteristics of the newly found flower species Guzmania Italicum. (Field guide of Botany, Hylis et al. 2022):\n",
            "3 Flower shape is pepulated white sepals surrounding to black lobes around petals with small black-grey anwils which cover their coloration more or less close when examined by means very near green spots on each end and between these yellowish eyes along its border 5 Spare parts - 3 at tips while\n",
            "\n",
            "----------------------------------------------------------------------------------------------------\n",
            "Guzmania Americana\n"
          ]
        },
        {
          "output_type": "stream",
          "name": "stderr",
          "text": [
            "\r561it [15:11,  1.61s/it]"
          ]
        },
        {
          "output_type": "stream",
          "name": "stdout",
          "text": [
            "----------------------------------------------------------------------------------------------------\n",
            "</s>Summarized description of the characteristics of the newly found flower species Guzmania Americana. (Field guide of Botany, Hylis et al. 2022):\n",
            "3 Flower shape is pepulated white sepals surrounding to black lobes around petals with small black-grey \"winking patches\"—noted more strongly if viewed close up from this angle, earthed through the ground 2\" out beyond yellowish tine along border 5\", 6—no labelates or\n",
            "\n",
            "----------------------------------------------------------------------------------------------------\n",
            "Guzmania Sinensis\n"
          ]
        },
        {
          "output_type": "stream",
          "name": "stderr",
          "text": [
            "\r562it [15:12,  1.61s/it]"
          ]
        },
        {
          "output_type": "stream",
          "name": "stdout",
          "text": [
            "----------------------------------------------------------------------------------------------------\n",
            "</s>Summarized description of the characteristics of the newly found flower species Guzmania Sinensis. (Field guide of Botany, Hylis et al. 2022):\n",
            "3 Flower shape is pepulated white sepals surrounding to black lobes around petals with small black-grey anwils which cover their coloration more or less close when examined by means very near green spots on each end and between these yellowish eyes along its border 5 Spare parts - 3 at tips while\n",
            "\n",
            "----------------------------------------------------------------------------------------------------\n",
            "Guzmania Germanica\n"
          ]
        },
        {
          "output_type": "stream",
          "name": "stderr",
          "text": [
            "\r563it [15:14,  1.62s/it]"
          ]
        },
        {
          "output_type": "stream",
          "name": "stdout",
          "text": [
            "----------------------------------------------------------------------------------------------------\n",
            "</s>Summarized description of the characteristics of the newly found flower species Guzmania Germanica. (Field guide of Botany, Hylis et al. 2022):\n",
            "3 Flower shape is pepulated white sepals surrounding to black lobes around petals with small black-grey \"winking patches\"—noted more strongly if viewed close up from this angle, earthed through the ground 2\" out beyond yellowish tine along border 5\", 6—no labelates or\n",
            "\n",
            "----------------------------------------------------------------------------------------------------\n",
            "Guzmania Amakusaensis\n"
          ]
        },
        {
          "output_type": "stream",
          "name": "stderr",
          "text": [
            "\r564it [15:15,  1.60s/it]"
          ]
        },
        {
          "output_type": "stream",
          "name": "stdout",
          "text": [
            "----------------------------------------------------------------------------------------------------\n",
            "</s>Summarized description of the characteristics of the newly found flower species Guzmania Amakusaensis. (Field guide of Botany, Hylis et al. 2022):\n",
            "3 Flower shape is pepulated white sepals surrounding with blosomes to a pink central ring from stem edge. Fruit 1¼–�1” d diameter x 15mm long, yellowy sweet on opening then creamish-purple tine along fruit body that develops as an erect cy\n",
            "\n",
            "----------------------------------------------------------------------------------------------------\n",
            "Guzmania Anatoliensis\n"
          ]
        },
        {
          "output_type": "stream",
          "name": "stderr",
          "text": [
            "\r565it [15:17,  1.59s/it]"
          ]
        },
        {
          "output_type": "stream",
          "name": "stdout",
          "text": [
            "----------------------------------------------------------------------------------------------------\n",
            "</s>Summarized description of the characteristics of the newly found flower species Guzmania Anatoliensis. (Field guide of Botany, Hylis et al. 2022):\n",
            "3 Flower shape is pepulated white sepals surrounding to black lobes around petals with small black-grey \"winking patches\"—noted more strongly if viewed close up from this angle, earthed through them; 2 lobicles larger overall & wider along center line —towards their own ax\n",
            "\n",
            "----------------------------------------------------------------------------------------------------\n",
            "Guzmania Andalusiensis\n"
          ]
        },
        {
          "output_type": "stream",
          "name": "stderr",
          "text": [
            "\r566it [15:18,  1.58s/it]"
          ]
        },
        {
          "output_type": "stream",
          "name": "stdout",
          "text": [
            "----------------------------------------------------------------------------------------------------\n",
            "</s>Summarized description of the characteristics of the newly found flower species Guzmania Andalusiensis. (Field guide of Botany, Hylis et al. 2022):\n",
            "3 Flower shape is pepulated white sepals surrounding to black lobes around petals with small black-grey anwils which cover their coloration more or less close when examined by means very near green spots on each end and between these yellowish eyes along its border 5 Spare parts - 3 cor\n",
            "\n",
            "----------------------------------------------------------------------------------------------------\n",
            "Guzmania Asturiensis\n"
          ]
        },
        {
          "output_type": "stream",
          "name": "stderr",
          "text": [
            "\r567it [15:20,  1.59s/it]"
          ]
        },
        {
          "output_type": "stream",
          "name": "stdout",
          "text": [
            "----------------------------------------------------------------------------------------------------\n",
            "</s>Summarized description of the characteristics of the newly found flower species Guzmania Asturiensis. (Field guide of Botany, Hylis et al. 2022):\n",
            "> Flower shape is pinnulated in early inflorescence with spindle or other petiotroper and often more flattened above ground which disappears as it closes toward nightfall< Inflowers 2–8 mm deep on 1 st each < Flowers 4 weeks open after initial flowering in dry soils > Flower colour range\n",
            "\n",
            "----------------------------------------------------------------------------------------------------\n",
            "Guzmania Bengalensis\n"
          ]
        },
        {
          "output_type": "stream",
          "name": "stderr",
          "text": [
            "\r568it [15:22,  1.60s/it]"
          ]
        },
        {
          "output_type": "stream",
          "name": "stdout",
          "text": [
            "----------------------------------------------------------------------------------------------------\n",
            "</s>Summarized description of the characteristics of the newly found flower species Guzmania Bengalensis. (Field guide of Botany, Hylis et al. 2022):\n",
            "3 Flower shape is pepulated white sepals surrounding with blanche or fuscipollitate staining 5.1\" petiole 7mm thick at heart having a linear axis 2 degrees wide 11° on each end 3 pairs per chromosome 6 sets along total line including apothrodomelian 10's\n",
            "\n",
            "----------------------------------------------------------------------------------------------------\n",
            "Guzmania Canariensis\n"
          ]
        },
        {
          "output_type": "stream",
          "name": "stderr",
          "text": [
            "\r569it [15:23,  1.62s/it]"
          ]
        },
        {
          "output_type": "stream",
          "name": "stdout",
          "text": [
            "----------------------------------------------------------------------------------------------------\n",
            "</s>Summarized description of the characteristics of the newly found flower species Guzmania Canariensis. (Field guide of Botany, Hylis et al. 2022):\n",
            "> Flower shape is pinnulated in early inflorescence with spindle or other petiotroper and often more flattened above ground which appears as large spherical ball at tip - leaf shaped by 2-8 pointed branches on 1 st each node < 4 cm 3-16 d 5 fl (F) width; 10\n",
            "\n",
            "----------------------------------------------------------------------------------------------------\n",
            "Guzmania Pulcherrima\n"
          ]
        },
        {
          "output_type": "stream",
          "name": "stderr",
          "text": [
            "\r570it [15:25,  1.65s/it]"
          ]
        },
        {
          "output_type": "stream",
          "name": "stdout",
          "text": [
            "----------------------------------------------------------------------------------------------------\n",
            "</s>Summarized description of the characteristics of the newly found flower species Guzmania Pulcherrima. (Field guide of Botany, Hylis et al. 2022):\n",
            "3 Flower shape is pepulated white sepals surrounding to black lobespines; 3 inflorescens each 5.1\" long and 20” d diameter x 15's with green hairs running through them; 2-15 stomatal sets along its axis including apical ovale of every\n",
            "\n",
            "----------------------------------------------------------------------------------------------------\n",
            "Guzmania Atrox\n"
          ]
        },
        {
          "output_type": "stream",
          "name": "stderr",
          "text": [
            "\r571it [15:27,  1.64s/it]"
          ]
        },
        {
          "output_type": "stream",
          "name": "stdout",
          "text": [
            "----------------------------------------------------------------------------------------------------\n",
            "</s>Summarized description of the characteristics of the newly found flower species Guzmania Atrox. (Field guide of Botany, Hylis et al. 2022):\n",
            "3 petite to full pink-white sepals covered with darker pink veins around a black central ring from stem edge. A small round outer pedum up toward crown is lined blue. In autumn, yellow pines develop; then on Christmas days red cones open along center row in lower right area - 3 cone tips each\n",
            "\n",
            "----------------------------------------------------------------------------------------------------\n",
            "Guzmania Diamondi\n"
          ]
        },
        {
          "output_type": "stream",
          "name": "stderr",
          "text": [
            "\r572it [15:28,  1.64s/it]"
          ]
        },
        {
          "output_type": "stream",
          "name": "stdout",
          "text": [
            "----------------------------------------------------------------------------------------------------\n",
            "</s>Summarized description of the characteristics of the newly found flower species Guzmania Diamondi. (Field guide of Botany, Hylis et al. 2022):\n",
            "3 Flower shape is pinnulated 3 sepals 6 to 50 lobes 21 petals 1 small staining cupular atobola 5– 7 peridiums 15 pedium glands 2 long slender stalk 14 infloriaceae 2 to 33 indiae 9 tarriform with apical structures bower 3 cyclet\n",
            "\n",
            "----------------------------------------------------------------------------------------------------\n",
            "Guzmania Purpurata\n"
          ]
        },
        {
          "output_type": "stream",
          "name": "stderr",
          "text": [
            "\r573it [15:30,  1.62s/it]"
          ]
        },
        {
          "output_type": "stream",
          "name": "stdout",
          "text": [
            "----------------------------------------------------------------------------------------------------\n",
            "</s>Summarized description of the characteristics of the newly found flower species Guzmania Purpurata. (Field guide of Botany, Hylis et al. 2022):\n",
            "3 Flower shape is pepulated white sepals surrounding to black lobes around petals which extend from stem more than at 1¼cm across when not flowering as pointed leaf shaped without branches over yellow green spots on each end and a wide yellow centre 3 Dappled light spots 6 Topper 3 with two\n",
            "\n",
            "----------------------------------------------------------------------------------------------------\n",
            "Guzmania Terrificus\n"
          ]
        },
        {
          "output_type": "stream",
          "name": "stderr",
          "text": [
            "\r574it [15:32,  1.61s/it]"
          ]
        },
        {
          "output_type": "stream",
          "name": "stdout",
          "text": [
            "----------------------------------------------------------------------------------------------------\n",
            "</s>Summarized description of the characteristics of the newly found flower species Guzmania Terrificus. (Field guide of Botany, Hylis et al. 2022):\n",
            "> Flower shape is pinnulated in early inflorescence with spindle or other petiotroper and often more flattened above ground which appears as large spherical ball at tip - when this form was introduced no record [have been detected on a larger flowering form since 1950's]... It produces ray sheaves with 10\n",
            "\n",
            "----------------------------------------------------------------------------------------------------\n",
            "Guzmania Darwinii\n"
          ]
        },
        {
          "output_type": "stream",
          "name": "stderr",
          "text": [
            "\r575it [15:33,  1.62s/it]"
          ]
        },
        {
          "output_type": "stream",
          "name": "stdout",
          "text": [
            "----------------------------------------------------------------------------------------------------\n",
            "</s>Summarized description of the characteristics of the newly found flower species Guzmania Darwinii. (Field guide of Botany, Hylis et al. 2022):\n",
            "3 Flower shape is pepulated white sepals surrounding with blosomes to a pink central ring from stem edge. Fruit 1¼–�1” d diameter x 15mm long, yellowy flesh on opening 2\" wide\n",
            "Plotted out along its flowering space were 6 bower-clocks each\n",
            "\n",
            "----------------------------------------------------------------------------------------------------\n",
            "Leontopodium Rubra\n"
          ]
        },
        {
          "output_type": "stream",
          "name": "stderr",
          "text": [
            "\r576it [15:35,  1.61s/it]"
          ]
        },
        {
          "output_type": "stream",
          "name": "stdout",
          "text": [
            "----------------------------------------------------------------------------------------------------\n",
            "</s>Summarized description of the characteristics of the newly found flower species Leontopodium Rubra. (Field guide of Botany, Hylis et al. 2022):\n",
            "> Flower shape is convext-elongate cone covered with smooth lobes around petals which extend from stem edge. Fruit 1¼–�1” d diameter x 15mm long, yellow papyripter 2\"* wide red & 3''* tall 5 separate white bracts covering sides\n",
            "\n",
            "----------------------------------------------------------------------------------------------------\n",
            "Leontopodium Caerulea\n"
          ]
        },
        {
          "output_type": "stream",
          "name": "stderr",
          "text": [
            "\r577it [15:36,  1.59s/it]"
          ]
        },
        {
          "output_type": "stream",
          "name": "stdout",
          "text": [
            "----------------------------------------------------------------------------------------------------\n",
            "</s>Summarized description of the characteristics of the newly found flower species Leontopodium Caerulea. (Field guide of Botany, Hylis et al. 2022):\n",
            "> Flower shape is convext-legged cone covered with smooth pink to pale pustulus flowers from axillary branches above ground which produce numerous large spherical capsules or petals when ripe.<o\\rquote [6; 2&nbsp 4 & 3[15] 5](color#0ce\n",
            "\n",
            "----------------------------------------------------------------------------------------------------\n",
            "Leontopodium Viridis\n"
          ]
        },
        {
          "output_type": "stream",
          "name": "stderr",
          "text": [
            "\r578it [15:38,  1.59s/it]"
          ]
        },
        {
          "output_type": "stream",
          "name": "stdout",
          "text": [
            "----------------------------------------------------------------------------------------------------\n",
            "</s>Summarized description of the characteristics of the newly found flower species Leontopodium Viridis. (Field guide of Botany, Hylis et al. 2022):\n",
            "3 Flower shape is pepulated white sepals surrounding to black lobes around petals which extend from stem edge. A small area appears as yellow patch toward crown margin - leaf spot on lowermost segment and many other such places on edges / parts... 3 Dappered light spots spread throughout main segments with two\n",
            "\n",
            "----------------------------------------------------------------------------------------------------\n",
            "Leontopodium Viridiflora\n"
          ]
        },
        {
          "output_type": "stream",
          "name": "stderr",
          "text": [
            "\r579it [15:39,  1.57s/it]"
          ]
        },
        {
          "output_type": "stream",
          "name": "stdout",
          "text": [
            "----------------------------------------------------------------------------------------------------\n",
            "</s>Summarized description of the characteristics of the newly found flower species Leontopodium Viridiflora. (Field guide of Botany, Hylis et al. 2022):\n",
            "3 Flower shape is pepulated white sepals surrounding with blosomes to a pink central ring from stem edge. Fruit 1¼–�1” d diameter x 15mm long, yellowy sweet skin; 2 3 or larger yellowish tanged hairs running down each cell bower\n",
            "\n",
            "----------------------------------------------------------------------------------------------------\n",
            "Leontopodium Alba\n"
          ]
        },
        {
          "output_type": "stream",
          "name": "stderr",
          "text": [
            "\r580it [15:41,  1.58s/it]"
          ]
        },
        {
          "output_type": "stream",
          "name": "stdout",
          "text": [
            "----------------------------------------------------------------------------------------------------\n",
            "</s>Summarized description of the characteristics of the newly found flower species Leontopodium Alba. (Field guide of Botany, Hylis et al. 2022):\n",
            "3 Flower shape is pepulated white sepals surrounding to black lobes around petals which extend from stem edge. A small area appears as yellow patch toward crown margin - leaf spot on lowermost segment and many other such places on edges / parts... 3 Dappered light spots spread throughout main segments with two\n",
            "\n",
            "----------------------------------------------------------------------------------------------------\n",
            "Leontopodium Rosea\n"
          ]
        },
        {
          "output_type": "stream",
          "name": "stderr",
          "text": [
            "\r581it [15:43,  1.58s/it]"
          ]
        },
        {
          "output_type": "stream",
          "name": "stdout",
          "text": [
            "----------------------------------------------------------------------------------------------------\n",
            "</s>Summarized description of the characteristics of the newly found flower species Leontopodium Rosea. (Field guide of Botany, Hylis et al. 2022):\n",
            "3 Flower shape is pepulated white sepals surrounding to black lobes around petals which extend from stem edge. A small area appears as yellow patch toward crown margin - leaf spot on lowermost segment and many other such places on edges / parts... 3 Dappered light spots spread throughout main segments with two\n",
            "\n",
            "----------------------------------------------------------------------------------------------------\n",
            "Leontopodium Aurea\n"
          ]
        },
        {
          "output_type": "stream",
          "name": "stderr",
          "text": [
            "\r582it [15:44,  1.59s/it]"
          ]
        },
        {
          "output_type": "stream",
          "name": "stdout",
          "text": [
            "----------------------------------------------------------------------------------------------------\n",
            "</s>Summarized description of the characteristics of the newly found flower species Leontopodium Aurea. (Field guide of Botany, Hylis et al. 2022):\n",
            "3 Flower shape is pepulated white sepals surrounding to black lobes around petals which extend from stem edge. A small area appears as yellow patch toward crown margin - leaf spot on lowermost segment and many other such places on edges / parts... 3 Dappled light spots spread throughout main segments with two\n",
            "\n",
            "----------------------------------------------------------------------------------------------------\n",
            "Leontopodium Japonica\n"
          ]
        },
        {
          "output_type": "stream",
          "name": "stderr",
          "text": [
            "\r583it [15:46,  1.58s/it]"
          ]
        },
        {
          "output_type": "stream",
          "name": "stdout",
          "text": [
            "----------------------------------------------------------------------------------------------------\n",
            "</s>Summarized description of the characteristics of the newly found flower species Leontopodium Japonica. (Field guide of Botany, Hylis et al. 2022):\n",
            "3 Flower shape is pepulated white sepals surrounding to black lobes around petals with small black-grey \"winking patches\"—noted more strongly if viewed close up from this angle, earthed through them; 2 lobicles larger overall & wider along center line —tow's their own point\n",
            "\n",
            "----------------------------------------------------------------------------------------------------\n",
            "Leontopodium Amazonensis\n"
          ]
        },
        {
          "output_type": "stream",
          "name": "stderr",
          "text": [
            "\r584it [15:47,  1.58s/it]"
          ]
        },
        {
          "output_type": "stream",
          "name": "stdout",
          "text": [
            "----------------------------------------------------------------------------------------------------\n",
            "</s>Summarized description of the characteristics of the newly found flower species Leontopodium Amazonensis. (Field guide of Botany, Hylis et al. 2022):\n",
            "> Flower shape is convext-elongate cone covered with thymes or fesces which extend from stem edge. Fruit on petiole is spherical ball or heart having a long axis with outer surface rough texture being almost without lobicles though generally thick margin smooth along border while ovately ovoid-oval within\n",
            "\n",
            "----------------------------------------------------------------------------------------------------\n",
            "Leontopodium Italicum\n"
          ]
        },
        {
          "output_type": "stream",
          "name": "stderr",
          "text": [
            "\r585it [15:49,  1.59s/it]"
          ]
        },
        {
          "output_type": "stream",
          "name": "stdout",
          "text": [
            "----------------------------------------------------------------------------------------------------\n",
            "</s>Summarized description of the characteristics of the newly found flower species Leontopodium Italicum. (Field guide of Botany, Hylis et al. 2022):\n",
            "> Flower shape is pinnulated in early inflorescence with spindle or other petiotroper and often more flattened above ground which disappears as it closes toward nightfall<br/>Flower colour yellow green to orange depending <span><span class... />[Image Description 5432083 - 3].mp\n",
            "\n",
            "----------------------------------------------------------------------------------------------------\n",
            "Leontopodium Americana\n"
          ]
        },
        {
          "output_type": "stream",
          "name": "stderr",
          "text": [
            "\r586it [15:51,  1.59s/it]"
          ]
        },
        {
          "output_type": "stream",
          "name": "stdout",
          "text": [
            "----------------------------------------------------------------------------------------------------\n",
            "</s>Summarized description of the characteristics of the newly found flower species Leontopodium Americana. (Field guide of Botany, Hylis et al. 2022):\n",
            "3 Flower shape is pepulated white sepals surrounding to black lobes around petals which extend from stem edge. A small area appears as yellow patch toward crown margin - leaf spot on lowermost stalk and many other such places on edges / flutes where different colored ones can only partially show their appearance with longer\n",
            "\n",
            "----------------------------------------------------------------------------------------------------\n",
            "Leontopodium Sinensis\n"
          ]
        },
        {
          "output_type": "stream",
          "name": "stderr",
          "text": [
            "\r587it [15:52,  1.59s/it]"
          ]
        },
        {
          "output_type": "stream",
          "name": "stdout",
          "text": [
            "----------------------------------------------------------------------------------------------------\n",
            "</s>Summarized description of the characteristics of the newly found flower species Leontopodium Sinensis. (Field guide of Botany, Hylis et al. 2022):\n",
            "3 Flower shape is pepulated white sepals surrounding to black lobes around petals which extend from stem edge. A small area appears as yellow patch toward crown margin - leaf spot on lowermost segment and many other such places on edges / parts... 3 Dappered light spots spread throughout main segments with two\n",
            "\n",
            "----------------------------------------------------------------------------------------------------\n",
            "Leontopodium Germanica\n"
          ]
        },
        {
          "output_type": "stream",
          "name": "stderr",
          "text": [
            "\r588it [15:54,  1.59s/it]"
          ]
        },
        {
          "output_type": "stream",
          "name": "stdout",
          "text": [
            "----------------------------------------------------------------------------------------------------\n",
            "</s>Summarized description of the characteristics of the newly found flower species Leontopodium Germanica. (Field guide of Botany, Hylis et al. 2022):\n",
            "3 Flower shape is pepulated white sepals surrounding to black lobes around petals which extend from stem edge. A small area appears as yellow patch toward crown margin - leaf spot on lowermost segment and many other such places on edges / parts... 3 Dappered light spots spread throughout main segments covering sides\n",
            "\n",
            "----------------------------------------------------------------------------------------------------\n",
            "Leontopodium Amakusaensis\n"
          ]
        },
        {
          "output_type": "stream",
          "name": "stderr",
          "text": [
            "\r589it [15:55,  1.57s/it]"
          ]
        },
        {
          "output_type": "stream",
          "name": "stdout",
          "text": [
            "----------------------------------------------------------------------------------------------------\n",
            "</s>Summarized description of the characteristics of the newly found flower species Leontopodium Amakusaensis. (Field guide of Botany, Hylis et al. 2022):\n",
            "3 Flower shape is pepulated white sepals surrounding grey filium or fuscipyle flowers from stem 5.1\" long 11cm across when not flowering as part leaf. In autumn, yellow starfish 'bud on a stomatal position along its axis while flairs fade gradually during\n",
            "\n",
            "----------------------------------------------------------------------------------------------------\n",
            "Leontopodium Anatoliensis\n"
          ]
        },
        {
          "output_type": "stream",
          "name": "stderr",
          "text": [
            "\r590it [15:57,  1.57s/it]"
          ]
        },
        {
          "output_type": "stream",
          "name": "stdout",
          "text": [
            "----------------------------------------------------------------------------------------------------\n",
            "</s>Summarized description of the characteristics of the newly found flower species Leontopodium Anatoliensis. (Field guide of Botany, Hylis et al. 2022):\n",
            "3 Flower shape is pepulated white sepals surrounding grey filium or fuscipyle flowers from stem 5.1\" long 11cm across when not flowering as part leaf. In autumn, yellow starfish 'eye' on a stomatal position along its axis in flairs like ray 3\n",
            "\n",
            "----------------------------------------------------------------------------------------------------\n",
            "Leontopodium Andalusiensis\n"
          ]
        },
        {
          "output_type": "stream",
          "name": "stderr",
          "text": [
            "\r591it [15:58,  1.56s/it]"
          ]
        },
        {
          "output_type": "stream",
          "name": "stdout",
          "text": [
            "----------------------------------------------------------------------------------------------------\n",
            "</s>Summarized description of the characteristics of the newly found flower species Leontopodium Andalusiensis. (Field guide of Botany, Hylis et al. 2022):\n",
            "3 Flower shape is pepulated white sepals surrounding grey filium or fuscipyle flowers from stem 5.1\" long 11cm across when not flowering as part leaf. In autumn, yellow starfish 'eye' on a stomatal position along its axis in flairs like ray 3\n",
            "\n",
            "----------------------------------------------------------------------------------------------------\n",
            "Leontopodium Asturiensis\n"
          ]
        },
        {
          "output_type": "stream",
          "name": "stderr",
          "text": [
            "\r592it [16:00,  1.56s/it]"
          ]
        },
        {
          "output_type": "stream",
          "name": "stdout",
          "text": [
            "----------------------------------------------------------------------------------------------------\n",
            "</s>Summarized description of the characteristics of the newly found flower species Leontopodium Asturiensis. (Field guide of Botany, Hylis et al. 2022):\n",
            "> Flower shape is convext-elongate cone covered with smooth lobes around petals which extend from stem edge. A small number (~200) irregular spots or marks on leaf axillares, stalk and branches make this plant look a kindling form but have little visual recognition due... > In appearance D\n",
            "\n",
            "----------------------------------------------------------------------------------------------------\n",
            "Leontopodium Bengalensis\n"
          ]
        },
        {
          "output_type": "stream",
          "name": "stderr",
          "text": [
            "\r593it [16:02,  1.57s/it]"
          ]
        },
        {
          "output_type": "stream",
          "name": "stdout",
          "text": [
            "----------------------------------------------------------------------------------------------------\n",
            "</s>Summarized description of the characteristics of the newly found flower species Leontopodium Bengalensis. (Field guide of Botany, Hylis et al. 2022):\n",
            "> Flower shape is pinnulated in early inflorescence with spindle or other petiotroper and often more flattened above ground which disappears as it closes toward nightfall<br/>Flower colour yellow green to orange depending <span><span class... />[Image Description 5432083 - 3].mp\n",
            "\n",
            "----------------------------------------------------------------------------------------------------\n",
            "Leontopodium Canariensis\n"
          ]
        },
        {
          "output_type": "stream",
          "name": "stderr",
          "text": [
            "\r594it [16:03,  1.58s/it]"
          ]
        },
        {
          "output_type": "stream",
          "name": "stdout",
          "text": [
            "----------------------------------------------------------------------------------------------------\n",
            "</s>Summarized description of the characteristics of the newly found flower species Leontopodium Canariensis. (Field guide of Botany, Hylis et al. 2022):\n",
            "> Flower shape is convext-elongate cone covered with smooth lobes around petals which extend from stem edge. Fruit 1¼–�1” d diameter x 15mm long, yellow papyripter 2\"* wide red & 3''* tall 5 separate white bracts covering\n",
            "\n",
            "----------------------------------------------------------------------------------------------------\n",
            "Leontopodium Pulcherrima\n"
          ]
        },
        {
          "output_type": "stream",
          "name": "stderr",
          "text": [
            "\r595it [16:05,  1.56s/it]"
          ]
        },
        {
          "output_type": "stream",
          "name": "stdout",
          "text": [
            "----------------------------------------------------------------------------------------------------\n",
            "</s>Summarized description of the characteristics of the newly found flower species Leontopodium Pulcherrima. (Field guide of Botany, Hylis et al. 2022):\n",
            "3 Flower shape is pinnulated 3 sepals 6 to 50 lobes 21 petals 1 small stamain. Fruit flesh smooth 5– 7 centimeters thick ovary closed when hard by 2 seeds up 14 capsules 30¼\"H 22·1\". Dioeca pulverifrons - yellow\n",
            "\n",
            "----------------------------------------------------------------------------------------------------\n",
            "Leontopodium Atrox\n"
          ]
        },
        {
          "output_type": "stream",
          "name": "stderr",
          "text": [
            "\r596it [16:06,  1.57s/it]"
          ]
        },
        {
          "output_type": "stream",
          "name": "stdout",
          "text": [
            "----------------------------------------------------------------------------------------------------\n",
            "</s>Summarized description of the characteristics of the newly found flower species Leontopodium Atrox. (Field guide of Botany, Hylis et al. 2022):\n",
            "3 petite to full pink-white sepals covered with darker pink veins around a black central ring from stem edge. A small area under each is pinky cream as evidenced when examined by rootlet in water [6; 2 May 2018 via 4 Aug., 26 April & 5 Dec.). White ray segments with two\n",
            "\n",
            "----------------------------------------------------------------------------------------------------\n",
            "Leontopodium Diamondi\n"
          ]
        },
        {
          "output_type": "stream",
          "name": "stderr",
          "text": [
            "\r597it [16:08,  1.58s/it]"
          ]
        },
        {
          "output_type": "stream",
          "name": "stdout",
          "text": [
            "----------------------------------------------------------------------------------------------------\n",
            "</s>Summarized description of the characteristics of the newly found flower species Leontopodium Diamondi. (Field guide of Botany, Hylis et al. 2022):\n",
            "> Flower shape is convext-legged cone covered with smooth pink to pale pustulus flowers from axillary branches above ground which produce numerous large spherical capsules or petals when ripe.<o\\rquote [l1colspan[ 1](...][lang=EN}^E \\)L'in\n",
            "\n",
            "----------------------------------------------------------------------------------------------------\n",
            "Leontopodium Purpurata\n"
          ]
        },
        {
          "output_type": "stream",
          "name": "stderr",
          "text": [
            "\r598it [16:09,  1.58s/it]"
          ]
        },
        {
          "output_type": "stream",
          "name": "stdout",
          "text": [
            "----------------------------------------------------------------------------------------------------\n",
            "</s>Summarized description of the characteristics of the newly found flower species Leontopodium Purpurata. (Field guide of Botany, Hylis et al. 2022):\n",
            "3 Flower shape is pinnulated 3 sepals 6 to 50 lobes 21 petals 1 hypadelium 9.1\" long 5 stamnes 12 seps - leaf leaflets 2 with serratus 4 \"v\"-flour 15\"(10*)-appressors 7 each bower 3 with\n",
            "\n",
            "----------------------------------------------------------------------------------------------------\n",
            "Leontopodium Terrificus\n"
          ]
        },
        {
          "output_type": "stream",
          "name": "stderr",
          "text": [
            "\r599it [16:11,  1.57s/it]"
          ]
        },
        {
          "output_type": "stream",
          "name": "stdout",
          "text": [
            "----------------------------------------------------------------------------------------------------\n",
            "</s>Summarized description of the characteristics of the newly found flower species Leontopodium Terrificus. (Field guide of Botany, Hylis et al. 2022):\n",
            "> Flower shape is asymmepistichate and composed up front part of inflorescence florea for staining/petty pollen tubes with numerous coloration spots or dromeliad's sphace pines on each end to a larger point form out sides along with 5 apothyrrhiza covering\n",
            "\n",
            "----------------------------------------------------------------------------------------------------\n",
            "Leontopodium Darwinii\n"
          ]
        },
        {
          "output_type": "stream",
          "name": "stderr",
          "text": [
            "\r600it [16:13,  1.58s/it]"
          ]
        },
        {
          "output_type": "stream",
          "name": "stdout",
          "text": [
            "----------------------------------------------------------------------------------------------------\n",
            "</s>Summarized description of the characteristics of the newly found flower species Leontopodium Darwinii. (Field guide of Botany, Hylis et al. 2022):\n",
            "> Flower shape is convext-elongate cone covered with thymes or fesces which extend from stem edge. Fruit on petiole is spherical ball or heart having a long axis with outer surface rough texture being almost without lobicles though generally thick margin smooth along border while ovately ovoid-oval within\n",
            "\n",
            "----------------------------------------------------------------------------------------------------\n",
            "Luzuriaga Rubra\n"
          ]
        },
        {
          "output_type": "stream",
          "name": "stderr",
          "text": [
            "\r601it [16:14,  1.59s/it]"
          ]
        },
        {
          "output_type": "stream",
          "name": "stdout",
          "text": [
            "----------------------------------------------------------------------------------------------------\n",
            "</s>Summarized description of the characteristics of the newly found flower species Luzuriaga Rubra. (Field guide of Botany, Hylis et al. 2022):\n",
            "3 Flower shape is pepulated white sepals surrounding to black lobes around petals with small black-grey \"winking patches\"—noted more strongly if viewed close up from this angle, earthed through them; 2 lobicles larger overall & wider along center line —towards their own axill\n",
            "\n",
            "----------------------------------------------------------------------------------------------------\n",
            "Luzuriaga Caerulea\n"
          ]
        },
        {
          "output_type": "stream",
          "name": "stderr",
          "text": [
            "\r602it [16:16,  1.57s/it]"
          ]
        },
        {
          "output_type": "stream",
          "name": "stdout",
          "text": [
            "----------------------------------------------------------------------------------------------------\n",
            "</s>Summarized description of the characteristics of the newly found flower species Luzuriaga Caerulea. (Field guide of Botany, Hylis et al. 2022):\n",
            "3 Flower shape is pinnulated 3 sepals 6 to 50 lobes 21 petals 1 small stamain. Fruit flesh smooth 5– 7 centimeters thick ovary closed when hard by 2 seeds brown green capsules 30¼ diameter with 15 longitudinal ridges along center line 5³ wide oval yellow\n",
            "\n",
            "----------------------------------------------------------------------------------------------------\n",
            "Luzuriaga Viridis\n"
          ]
        },
        {
          "output_type": "stream",
          "name": "stderr",
          "text": [
            "\r603it [16:17,  1.58s/it]"
          ]
        },
        {
          "output_type": "stream",
          "name": "stdout",
          "text": [
            "----------------------------------------------------------------------------------------------------\n",
            "</s>Summarized description of the characteristics of the newly found flower species Luzuriaga Viridis. (Field guide of Botany, Hylis et al. 2022):\n",
            "3 Flower shape is convext-legged cone covered with black lobes around petals which extend from stem edge. Fruit 1¼–�1” d diameter x 15mm long, yellow papyripter 2\" broad across lower centre 3 Dappled light spots 6 bower segments with 10\n",
            "\n",
            "----------------------------------------------------------------------------------------------------\n",
            "Luzuriaga Viridiflora\n"
          ]
        },
        {
          "output_type": "stream",
          "name": "stderr",
          "text": [
            "\r604it [16:19,  1.56s/it]"
          ]
        },
        {
          "output_type": "stream",
          "name": "stdout",
          "text": [
            "----------------------------------------------------------------------------------------------------\n",
            "</s>Summarized description of the characteristics of the newly found flower species Luzuriaga Viridiflora. (Field guide of Botany, Hylis et al. 2022):\n",
            "3 Flower shape is pepulated white sepals surrounding with blosomes to a pink central ring from stem edge. Fruit 1¼–�1” d diameter x 15mm long, yellowy sweet skin; 2 3 or larger yellowish tanged hairs running down each cell bower\n",
            "\n",
            "----------------------------------------------------------------------------------------------------\n",
            "Luzuriaga Alba\n"
          ]
        },
        {
          "output_type": "stream",
          "name": "stderr",
          "text": [
            "\r605it [16:20,  1.57s/it]"
          ]
        },
        {
          "output_type": "stream",
          "name": "stdout",
          "text": [
            "----------------------------------------------------------------------------------------------------\n",
            "</s>Summarized description of the characteristics of the newly found flower species Luzuriaga Alba. (Field guide of Botany, Hylis et al. 2022):\n",
            "3 Flower shape is pepulated white sepals surrounding grey filium or fuscipyle flowers from axillary branches above ground which cover their upper ends over a width up-close by 2–8 degrees [6; 10 to 33 days growth time][4] with 5 flairs (small 3 at tips\n",
            "\n",
            "----------------------------------------------------------------------------------------------------\n",
            "Luzuriaga Rosea\n"
          ]
        },
        {
          "output_type": "stream",
          "name": "stderr",
          "text": [
            "\r606it [16:22,  1.58s/it]"
          ]
        },
        {
          "output_type": "stream",
          "name": "stdout",
          "text": [
            "----------------------------------------------------------------------------------------------------\n",
            "</s>Summarized description of the characteristics of the newly found flower species Luzuriaga Rosea. (Field guide of Botany, Hylis et al. 2022):\n",
            "3 Flower shape is pepulated white sepals surrounding to black pink or fusciparent flowers and often mixed shades purple on petiole with ragged margin as close leaf attachment by 2 green yellow lobs above; long linear aphyteum 3-chun 5 ovately ovoid wavy tips\n",
            "\n",
            "----------------------------------------------------------------------------------------------------\n",
            "Luzuriaga Aurea\n"
          ]
        },
        {
          "output_type": "stream",
          "name": "stderr",
          "text": [
            "\r607it [16:24,  1.58s/it]"
          ]
        },
        {
          "output_type": "stream",
          "name": "stdout",
          "text": [
            "----------------------------------------------------------------------------------------------------\n",
            "</s>Summarized description of the characteristics of the newly found flower species Luzuriaga Aurea. (Field guide of Botany, Hylis et al. 2022):\n",
            "3 Flower shape is pepulated white sepals surrounding to black lobes around petals with small black-grey anwils which cover their coloration more or less close when examined by means very near green spots on each end and between these yellowish eyes along its border 5 Spare parts - 3 at tips\n",
            "\n",
            "----------------------------------------------------------------------------------------------------\n",
            "Luzuriaga Japonica\n"
          ]
        },
        {
          "output_type": "stream",
          "name": "stderr",
          "text": [
            "\r608it [16:25,  1.58s/it]"
          ]
        },
        {
          "output_type": "stream",
          "name": "stdout",
          "text": [
            "----------------------------------------------------------------------------------------------------\n",
            "</s>Summarized description of the characteristics of the newly found flower species Luzuriaga Japonica. (Field guide of Botany, Hylis et al. 2022):\n",
            "3 Flower shape is pepulated white sepals surrounding to black lobes around petals with small black-grey anwils which cover their coloration more or less close when examined by means very near green spots on each end and between these yellowish spittle dots with light spots; also red wattle\n",
            "\n",
            "----------------------------------------------------------------------------------------------------\n",
            "Luzuriaga Amazonensis\n"
          ]
        },
        {
          "output_type": "stream",
          "name": "stderr",
          "text": [
            "\r609it [16:27,  1.58s/it]"
          ]
        },
        {
          "output_type": "stream",
          "name": "stdout",
          "text": [
            "----------------------------------------------------------------------------------------------------\n",
            "</s>Summarized description of the characteristics of the newly found flower species Luzuriaga Amazonensis. (Field guide of Botany, Hylis et al. 2022):\n",
            "3 Flower shape is pepulated white sepals surrounding to black lobes around petals with small black-grey \"winking patches\"—noted more strongly if viewed out from angle without opening camera upfield [l1, 3f1](iv). Some variation appears in flairs also—especially at tips\n",
            "\n",
            "----------------------------------------------------------------------------------------------------\n",
            "Luzuriaga Italicum\n"
          ]
        },
        {
          "output_type": "stream",
          "name": "stderr",
          "text": [
            "\r610it [16:28,  1.59s/it]"
          ]
        },
        {
          "output_type": "stream",
          "name": "stdout",
          "text": [
            "----------------------------------------------------------------------------------------------------\n",
            "</s>Summarized description of the characteristics of the newly found flower species Luzuriaga Italicum. (Field guide of Botany, Hylis et al. 2022):\n",
            "3 Flower shape is pepulated white sepals surrounding to black lobes around petals with small black-grey anwils which cover their coloration more or less close when examined by means very near green spots on each end and between these yellowish eyes along its border 5 Spare parts - 3 at tips\n",
            "\n",
            "----------------------------------------------------------------------------------------------------\n",
            "Luzuriaga Americana\n"
          ]
        },
        {
          "output_type": "stream",
          "name": "stderr",
          "text": [
            "\r611it [16:30,  1.59s/it]"
          ]
        },
        {
          "output_type": "stream",
          "name": "stdout",
          "text": [
            "----------------------------------------------------------------------------------------------------\n",
            "</s>Summarized description of the characteristics of the newly found flower species Luzuriaga Americana. (Field guide of Botany, Hylis et al. 2022):\n",
            "3 Flower shape is pepulated white sepals surrounding to black lobes around petals with small black-grey \"winking patches\"—noted more strongly if viewed out from angle by means close up but easily revealed regardless—flourish over all 3 sides along border in each cell so their appearance at different\n",
            "\n",
            "----------------------------------------------------------------------------------------------------\n",
            "Luzuriaga Sinensis\n"
          ]
        },
        {
          "output_type": "stream",
          "name": "stderr",
          "text": [
            "\r612it [16:32,  1.59s/it]"
          ]
        },
        {
          "output_type": "stream",
          "name": "stdout",
          "text": [
            "----------------------------------------------------------------------------------------------------\n",
            "</s>Summarized description of the characteristics of the newly found flower species Luzuriaga Sinensis. (Field guide of Botany, Hylis et al. 2022):\n",
            "3 Flower shape is pepulated white sepals surrounding to black lobes around petals with small black-grey anwils which cover their coloration more or less close when examined by means very near green spots on each end and between these yellowish eyes along its border 5 Spare parts - 3 at tips\n",
            "\n",
            "----------------------------------------------------------------------------------------------------\n",
            "Luzuriaga Germanica\n"
          ]
        },
        {
          "output_type": "stream",
          "name": "stderr",
          "text": [
            "\r613it [16:33,  1.59s/it]"
          ]
        },
        {
          "output_type": "stream",
          "name": "stdout",
          "text": [
            "----------------------------------------------------------------------------------------------------\n",
            "</s>Summarized description of the characteristics of the newly found flower species Luzuriaga Germanica. (Field guide of Botany, Hylis et al. 2022):\n",
            "3 Flower shape is pepulated white sepals surrounding to black lobes around petals with small black-grey anwils which cover their coloration more or less close when examined by means very near green spots on each end and between these yellowish eyes along its border 5 Spare parts - 3 at tips\n",
            "\n",
            "----------------------------------------------------------------------------------------------------\n",
            "Luzuriaga Amakusaensis\n"
          ]
        },
        {
          "output_type": "stream",
          "name": "stderr",
          "text": [
            "\r614it [16:35,  1.59s/it]"
          ]
        },
        {
          "output_type": "stream",
          "name": "stdout",
          "text": [
            "----------------------------------------------------------------------------------------------------\n",
            "</s>Summarized description of the characteristics of the newly found flower species Luzuriaga Amakusaensis. (Field guide of Botany, Hylis et al. 2022):\n",
            "3 Flower shape is pepulated white sepals surrounding with blosomes to a pink central nucleus from stem edge. Fruit flesh smooth and transparent skin ragged or finely lined when hard by 2–8 green spots on each end separated between these 4 centers 3 Dappled 5 Pairs (16-\n",
            "\n",
            "----------------------------------------------------------------------------------------------------\n",
            "Luzuriaga Anatoliensis\n"
          ]
        },
        {
          "output_type": "stream",
          "name": "stderr",
          "text": [
            "\r615it [16:36,  1.61s/it]"
          ]
        },
        {
          "output_type": "stream",
          "name": "stdout",
          "text": [
            "----------------------------------------------------------------------------------------------------\n",
            "</s>Summarized description of the characteristics of the newly found flower species Luzuriaga Anatoliensis. (Field guide of Botany, Hylis et al. 2022):\n",
            "3 Flower shape is pepulated white sepals surrounding with blosomes to a pink central nucleus from stem edge. Fruit flesh smooth and transparent skin ribleting as little fibrous substance with very yellow juice exhalation end on orange stomatal position along center row 5 ovules about 0 3\n",
            "\n",
            "----------------------------------------------------------------------------------------------------\n",
            "Luzuriaga Andalusiensis\n"
          ]
        },
        {
          "output_type": "stream",
          "name": "stderr",
          "text": [
            "\r616it [16:38,  1.61s/it]"
          ]
        },
        {
          "output_type": "stream",
          "name": "stdout",
          "text": [
            "----------------------------------------------------------------------------------------------------\n",
            "</s>Summarized description of the characteristics of the newly found flower species Luzuriaga Andalusiensis. (Field guide of Botany, Hylis et al. 2022):\n",
            "3 Flower shape is pepulated white sepals surrounding grey filium or fuscipyle flowers from axillary branches above ground which cover their upper ends over a width up-close by 2–8 degrees [l1‚15 cm](r7[16] m^; b) 3\n",
            "\n",
            "----------------------------------------------------------------------------------------------------\n",
            "Luzuriaga Asturiensis\n"
          ]
        },
        {
          "output_type": "stream",
          "name": "stderr",
          "text": [
            "\r617it [16:40,  1.60s/it]"
          ]
        },
        {
          "output_type": "stream",
          "name": "stdout",
          "text": [
            "----------------------------------------------------------------------------------------------------\n",
            "</s>Summarized description of the characteristics of the newly found flower species Luzuriaga Asturiensis. (Field guide of Botany, Hylis et al. 2022):\n",
            "> Flower shape is asymmepistichate and composed up front part of inflorescence florea for staining/petty pollen tubes with numerous coloration spots or dromeliad's sphace pines on each end to a larger yellowish tine along with 5 apothrodomelian\n",
            "\n",
            "----------------------------------------------------------------------------------------------------\n",
            "Luzuriaga Bengalensis\n"
          ]
        },
        {
          "output_type": "stream",
          "name": "stderr",
          "text": [
            "\r618it [16:41,  1.60s/it]"
          ]
        },
        {
          "output_type": "stream",
          "name": "stdout",
          "text": [
            "----------------------------------------------------------------------------------------------------\n",
            "</s>Summarized description of the characteristics of the newly found flower species Luzuriaga Bengalensis. (Field guide of Botany, Hylis et al. 2022):\n",
            "> Flower shape is pinnulated in early inflorescence with spindle or other petiotroper and often more flattened above ground which disappears as it closes toward nightfall< In this form its colour almost exclusively deep rose; < It maters slowly all year-round giving good autumn flowerers - may be difficult\n",
            "\n",
            "----------------------------------------------------------------------------------------------------\n",
            "Luzuriaga Canariensis\n"
          ]
        },
        {
          "output_type": "stream",
          "name": "stderr",
          "text": [
            "\r619it [16:43,  1.59s/it]"
          ]
        },
        {
          "output_type": "stream",
          "name": "stdout",
          "text": [
            "----------------------------------------------------------------------------------------------------\n",
            "</s>Summarized description of the characteristics of the newly found flower species Luzuriaga Canariensis. (Field guide of Botany, Hylis et al. 2022):\n",
            "3 Flower shape is pepulated white sepals surrounding grey filium or fuscipyle flowers from axillary branches above ground which cover their upper ends over 60 d - 95%, without opening, yellow lobs on each end separated via stomatal connection along its border 5 / 6 parts longer 3 D\n",
            "\n",
            "----------------------------------------------------------------------------------------------------\n",
            "Luzuriaga Pulcherrima\n"
          ]
        },
        {
          "output_type": "stream",
          "name": "stderr",
          "text": [
            "\r620it [16:44,  1.58s/it]"
          ]
        },
        {
          "output_type": "stream",
          "name": "stdout",
          "text": [
            "----------------------------------------------------------------------------------------------------\n",
            "</s>Summarized description of the characteristics of the newly found flower species Luzuriaga Pulcherrima. (Field guide of Botany, Hylis et al. 2022):\n",
            "3 Flower shape is pepulated white sepals surrounding with blosomes to a pink central ring from stem edge. Fruit flesh smooth and transparent skin ribleting as little fibrous substance with very yellow juice exhalation end on orange stomatal position along center row 5 ovules about 0 3\n",
            "\n",
            "----------------------------------------------------------------------------------------------------\n",
            "Luzuriaga Atrox\n"
          ]
        },
        {
          "output_type": "stream",
          "name": "stderr",
          "text": [
            "\r621it [16:46,  1.58s/it]"
          ]
        },
        {
          "output_type": "stream",
          "name": "stdout",
          "text": [
            "----------------------------------------------------------------------------------------------------\n",
            "</s>Summarized description of the characteristics of the newly found flower species Luzuriaga Atrox. (Field guide of Botany, Hylis et al. 2022):\n",
            "3 Flower shape is pepulated white sepals surrounding with darker pink veins around petals which extend from stem edge. A small area appears as yellow patch toward crown margin - usually between four 2–8 mm branches on 1 st and a larger 4 cm 3-chun 5s 6 bsp segments at tips\n",
            "\n",
            "----------------------------------------------------------------------------------------------------\n",
            "Luzuriaga Diamondi\n"
          ]
        },
        {
          "output_type": "stream",
          "name": "stderr",
          "text": [
            "\r622it [16:47,  1.59s/it]"
          ]
        },
        {
          "output_type": "stream",
          "name": "stdout",
          "text": [
            "----------------------------------------------------------------------------------------------------\n",
            "</s>Summarized description of the characteristics of the newly found flower species Luzuriaga Diamondi. (Field guide of Botany, Hylis et al. 2022):\n",
            "> Flower shape is asymmepistillate and has up to eight lateral inflorescence flabbers from axillary branches above ground which hold their coloration over night as each leaf emerges by 2–8 mm [length; 25% vs 22%-52][mean 21m in average 6mm]; 3 sepales\n",
            "\n",
            "----------------------------------------------------------------------------------------------------\n",
            "Luzuriaga Purpurata\n"
          ]
        },
        {
          "output_type": "stream",
          "name": "stderr",
          "text": [
            "\r623it [16:49,  1.58s/it]"
          ]
        },
        {
          "output_type": "stream",
          "name": "stdout",
          "text": [
            "----------------------------------------------------------------------------------------------------\n",
            "</s>Summarized description of the characteristics of the newly found flower species Luzuriaga Purpurata. (Field guide of Botany, Hylis et al. 2022):\n",
            "3 Flower shape is pinnulated 3 sepals 6 to 50 lobes 21 petals 1-2 segments 9 anwils 12-22 carpel 12 ovary -14 operod 2 fruits up 14 capsules 30 grams 25% nastane 17 tarriform fruit 5 with white bower 3 with\n",
            "\n",
            "----------------------------------------------------------------------------------------------------\n",
            "Luzuriaga Terrificus\n"
          ]
        },
        {
          "output_type": "stream",
          "name": "stderr",
          "text": [
            "\r624it [16:51,  1.58s/it]"
          ]
        },
        {
          "output_type": "stream",
          "name": "stdout",
          "text": [
            "----------------------------------------------------------------------------------------------------\n",
            "</s>Summarized description of the characteristics of the newly found flower species Luzuriaga Terrificus. (Field guide of Botany, Hylis et al. 2022):\n",
            "3 Flower shape is pinnulated 3 sepals 6 to 50 lobes 21 petals 1-2 segments 9 anweds 12-22 carpets 1 crowning pedition from stem with 30 arms 14 branches on each 2 buds a compound 4 small tarriform drupta ovately ovoid 3 cor\n",
            "\n",
            "----------------------------------------------------------------------------------------------------\n",
            "Luzuriaga Darwinii\n"
          ]
        },
        {
          "output_type": "stream",
          "name": "stderr",
          "text": [
            "625it [16:52,  1.62s/it]"
          ]
        },
        {
          "output_type": "stream",
          "name": "stdout",
          "text": [
            "----------------------------------------------------------------------------------------------------\n",
            "</s>Summarized description of the characteristics of the newly found flower species Luzuriaga Darwinii. (Field guide of Botany, Hylis et al. 2022):\n",
            "> Flower shape is convext-elongate and covered with pubious glands > Discaloid carina absent anteriorly above or distanced from upper ventral septant leaf spot by 2–8 pinesquamere lobes < 4 episeynomeral processes that each contains an accessory 1 ×\n",
            "\n",
            "----------------------------------------------------------------------------------------------------\n"
          ]
        },
        {
          "output_type": "stream",
          "name": "stderr",
          "text": [
            "\n"
          ]
        }
      ]
    },
    {
      "cell_type": "code",
      "source": [
        "with open('prompts.txt', 'w') as f:\n",
        "    prompt = '</s>Summarized description of the characteristics of the newly found flower species Hydrangea Aurea. (Field guide of Botany, Hylis et al. 2022):\\n'\n",
        "    for item in all_descriptions.items():\n",
        "        f.write('''--prompt \"''' + f'Botanical Illustration of {item[0]} by Pierre François Turpin. Context: '+ item[1].split('Hylis et al. 2022):\\n')[1] + '''\" --negative_prompt \"writing, signature, text, cropping, trypophobia\"''')\n",
        "        f.write('\\n')"
      ],
      "metadata": {
        "id": "0Y-QJk5sn1sJ"
      },
      "execution_count": null,
      "outputs": []
    },
    {
      "cell_type": "code",
      "source": [],
      "metadata": {
        "id": "Ume8coL5HSXZ"
      },
      "execution_count": null,
      "outputs": []
    }
  ]
}